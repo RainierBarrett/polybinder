{
 "cells": [
  {
   "cell_type": "code",
   "execution_count": 2,
   "metadata": {},
   "outputs": [],
   "source": [
    "import hoomd\n",
    "import mbuild as mb\n",
    "from mbuild.formats.hoomd_simulation import create_hoomd_simulation\n",
    "import foyer\n",
    "from foyer import Forcefield\n",
    "#import utils\n",
    "from utils import smiles_utils\n",
    "from utils import polysmiles"
   ]
  },
  {
   "cell_type": "code",
   "execution_count": 3,
   "metadata": {
    "scrolled": true
   },
   "outputs": [
    {
     "name": "stderr",
     "output_type": "stream",
     "text": [
      "/home/chris/miniconda3/envs/uli/lib/python3.7/site-packages/ipykernel/ipkernel.py:287: DeprecationWarning: `should_run_async` will not call `transform_cell` automatically in the future. Please pass the result to `transformed_cell` argument and any exception that happen during thetransform in `preprocessing_exc_tuple` in IPython 7.17 and above.\n",
      "  and should_run_async(code)\n"
     ]
    },
    {
     "data": {
      "text/plain": [
       "'\\nDEEPSMILES:\\nPEEK-para = \"occccoccccC=O)cccccc6)))))))cc6)))))))cc6\"\\nPEEK-meta = \"occcoccccC=O)cccccc6)))))))cc6)))))))ccc6\"\\nPEKK-para = \"ccccoccccC=o)ccccC=o))cc6)))))))cc6)))))))cc6\"\\nPEKK-meta = \"ccccoccccC=o)cccC=o))ccc6)))))))cc6)))))))cc6\"\\n\\nSMILES:\\nPEEK-para = \"oc3ccc(oc2ccc(C(=O)c1ccccc1)cc2)cc3\"\\nPEEK-meta = \"oc3cc(oc2ccc(C(=O)c1ccccc1)cc2)ccc3\"\\nPEKK-para = \"c3ccc(oc2ccc(C(=o)c1ccc(C=o)cc1)cc2)cc3\"\\nPEKK-meta = \"c3ccc(oc2ccc(C(=o)c1cc(C=o)ccc1)cc2)cc3\"\\n'"
      ]
     },
     "execution_count": 3,
     "metadata": {},
     "output_type": "execute_result"
    }
   ],
   "source": [
    "'''\n",
    "DEEPSMILES:\n",
    "PEEK-para = \"occccoccccC=O)cccccc6)))))))cc6)))))))cc6\"\n",
    "PEEK-meta = \"occcoccccC=O)cccccc6)))))))cc6)))))))ccc6\"\n",
    "PEKK-para = \"ccccoccccC=o)ccccC=o))cc6)))))))cc6)))))))cc6\"\n",
    "PEKK-meta = \"ccccoccccC=o)cccC=o))ccc6)))))))cc6)))))))cc6\"\n",
    "\n",
    "SMILES:\n",
    "PEEK-para = \"oc3ccc(oc2ccc(C(=O)c1ccccc1)cc2)cc3\"\n",
    "PEEK-meta = \"oc3cc(oc2ccc(C(=O)c1ccccc1)cc2)ccc3\"\n",
    "PEKK-para = \"c3ccc(oc2ccc(C(=o)c1ccc(C=o)cc1)cc2)cc3\"\n",
    "PEKK-meta = \"c3ccc(oc2ccc(C(=o)c1cc(C=o)ccc1)cc2)cc3\"\n",
    "'''\n",
    "\n",
    "\n",
    "# DeepSMILES with bonded atom indicated\n",
    "'''\n",
    "PEEK Para Bonded:\n",
    "\"occccoccccC=O)cc*c*ccc6)))))))cc6)))))))cc6\"\n",
    "\"occccoccccC=O)ccc*c*cc6)))))))cc6)))))))cc6\"\n",
    "\"occccoccccC=O)cccc*c*c6)))))))cc6)))))))cc6\"\n",
    "\n",
    "PEEK Meta Bonded:\n",
    "\"occcoccccC=O)ccc*c*cc6)))))))cc6)))))))ccc6\"\n",
    "\"occcoccccC=O)cc*c*ccc6)))))))cc6)))))))ccc6\"\n",
    "\"occcoccccC=O)cccc*c*c6)))))))cc6)))))))ccc6\"\n",
    "\n",
    "PEKK Para Bonded\n",
    "\"ccccoccccC=o)cccc*C*=o))cc6)))))))cc6)))))))cc6\"\n",
    "PEKK Meta Bonded\n",
    "\"ccccoccccC=o)ccc*C*=o))ccc6)))))))cc6)))))))cc6\"\n",
    "'''"
   ]
  },
  {
   "cell_type": "code",
   "execution_count": 35,
   "metadata": {},
   "outputs": [
    {
     "name": "stderr",
     "output_type": "stream",
     "text": [
      "/home/chris/miniconda3/envs/uli/lib/python3.7/site-packages/ipykernel/ipkernel.py:287: DeprecationWarning: `should_run_async` will not call `transform_cell` automatically in the future. Please pass the result to `transformed_cell` argument and any exception that happen during thetransform in `preprocessing_exc_tuple` in IPython 7.17 and above.\n",
      "  and should_run_async(code)\n"
     ]
    }
   ],
   "source": [
    "PEEK_dict = {}\n",
    "\n",
    "PEEK_dict['para_deep_smiles'] = \"occccoccccC=O)cccccc6)))))))cc6)))))))cc6\"\n",
    "PEEK_dict['meta_deep_smiles'] = \"occcoccccC=O)cccccc6)))))))cc6)))))))ccc6\"\n",
    "PEEK_dict['para_smiles'] = \"oc3ccc(oc2ccc(C(=O)c1ccccc1)cc2)cc3\"\n",
    "PEEK_dict['meta_smiles'] = \"oc3cc(oc2ccc(C(=O)c1ccccc1)cc2)ccc3\"\n",
    "PEEK_dict['para_template'] = \"occccoccccC=O)ccc{}{}ccc6)))))))cc6)))))))cc6\"\n",
    "PEEK_dict['meta_template'] = \"occcoccccC=O)cccc{}{}cc6)))))))cc6)))))))ccc6\"\n",
    "PEEK_dict['monomer_mass'] = 288.302"
   ]
  },
  {
   "cell_type": "code",
   "execution_count": 9,
   "metadata": {},
   "outputs": [
    {
     "name": "stderr",
     "output_type": "stream",
     "text": [
      "/home/chris/miniconda3/envs/uli/lib/python3.7/site-packages/ipykernel/ipkernel.py:287: DeprecationWarning: `should_run_async` will not call `transform_cell` automatically in the future. Please pass the result to `transformed_cell` argument and any exception that happen during thetransform in `preprocessing_exc_tuple` in IPython 7.17 and above.\n",
      "  and should_run_async(code)\n"
     ]
    }
   ],
   "source": [
    "peekpara = \"occccoccccC=O)cccccc6)))))))cc6)))))))cc6\"\n",
    "brackets = polysmiles.count_brackets(peekpara)"
   ]
  },
  {
   "cell_type": "code",
   "execution_count": 12,
   "metadata": {},
   "outputs": [
    {
     "name": "stderr",
     "output_type": "stream",
     "text": [
      "/home/chris/miniconda3/envs/uli/lib/python3.7/site-packages/ipykernel/ipkernel.py:287: DeprecationWarning: `should_run_async` will not call `transform_cell` automatically in the future. Please pass the result to `transformed_cell` argument and any exception that happen during thetransform in `preprocessing_exc_tuple` in IPython 7.17 and above.\n",
      "  and should_run_async(code)\n"
     ]
    }
   ],
   "source": [
    "para_meta_2mer = \"occcoccccC=O)cccc{}{}cc6)))))))cc6)))))))ccc6\".format(peekpara, brackets)"
   ]
  },
  {
   "cell_type": "code",
   "execution_count": 13,
   "metadata": {},
   "outputs": [
    {
     "name": "stderr",
     "output_type": "stream",
     "text": [
      "/home/chris/miniconda3/envs/uli/lib/python3.7/site-packages/ipykernel/ipkernel.py:287: DeprecationWarning: `should_run_async` will not call `transform_cell` automatically in the future. Please pass the result to `transformed_cell` argument and any exception that happen during thetransform in `preprocessing_exc_tuple` in IPython 7.17 and above.\n",
      "  and should_run_async(code)\n",
      "/home/chris/cme/forks/mbuild/mbuild/conversion.py:687: UserWarning: No unitcell detected for pybel.Molecule O=C1C=C(Oc2ccc(C(=O)c3ccc(Oc4ccc(Oc5ccc(C(=O)c6ccccc6)cc5)cc4)cc3)cc2)C=C[CH]1\t\n",
      "\n",
      "  warn(\"No unitcell detected for pybel.Molecule {}\".format(pybel_mol))\n"
     ]
    },
    {
     "data": {
      "application/3dmoljs_load.v0": "<div id=\"3dmolviewer_16019329934558995\"  style=\"position: relative; width: 640px; height: 480px\">\n        <p id=\"3dmolwarning_16019329934558995\" style=\"background-color:#ffcccc;color:black\">You appear to be running in JupyterLab (or JavaScript failed to load for some other reason).  You need to install the 3dmol extension: <br>\n        <tt>jupyter labextension install jupyterlab_3dmol</tt></p>\n        </div>\n<script>\n\nvar loadScriptAsync = function(uri){\n  return new Promise((resolve, reject) => {\n    var tag = document.createElement('script');\n    tag.src = uri;\n    tag.async = true;\n    tag.onload = () => {\n      resolve();\n    };\n  var firstScriptTag = document.getElementsByTagName('script')[0];\n  firstScriptTag.parentNode.insertBefore(tag, firstScriptTag);\n});\n};\n\nif(typeof $3Dmolpromise === 'undefined') {\n$3Dmolpromise = null;\n  $3Dmolpromise = loadScriptAsync('https://3dmol.csb.pitt.edu/build/3Dmol.js');\n}\n\nvar viewer_16019329934558995 = null;\nvar warn = document.getElementById(\"3dmolwarning_16019329934558995\");\nif(warn) {\n    warn.parentNode.removeChild(warn);\n}\n$3Dmolpromise.then(function() {\nviewer_16019329934558995 = $3Dmol.createViewer($(\"#3dmolviewer_16019329934558995\"),{backgroundColor:\"white\"});\n\tviewer_16019329934558995.addModel(\"@<TRIPOS>MOLECULE\\nRES\\n69 74 1 0 1\\nSMALL\\nNO_CHARGES\\n@<TRIPOS>CRYSIN\\n   22.0611    18.3550    19.0613    90.0000    90.0000    90.0000  1  1\\n@<TRIPOS>ATOM\\n       1 O            0.9794     0.0047     0.0721 O             1 RES     \\n       2 C            2.2116     0.0154     0.0522 C             1 RES     \\n       3 C            3.0039    -1.2284     0.0913 C             1 RES     \\n       4 C            4.3462    -1.1827     0.0490 C             1 RES     \\n       5 O            5.0380    -2.3901    -0.0507 O             1 RES     \\n       6 C            6.4019    -2.4423     0.0640 C             1 RES     \\n       7 C            7.1077    -3.1194    -0.9288 C             1 RES     \\n       8 C            8.4940    -3.2560    -0.8232 C             1 RES     \\n       9 C            9.1848    -2.6254     0.2210 C             1 RES     \\n      10 C           10.6778    -2.6363     0.2021 C             1 RES     \\n      11 O           11.2893    -3.1640    -0.7218 O             1 RES     \\n      12 C           11.4625    -2.0286     1.2962 C             1 RES     \\n      13 C           12.4847    -1.1103     1.0342 C             1 RES     \\n      14 C           13.2986    -0.6668     2.0873 C             1 RES     \\n      15 C           13.0226    -1.0545     3.4061 C             1 RES     \\n      16 O           13.7811    -0.4584     4.3961 O             1 RES     \\n      17 C           13.6337    -0.8724     5.7019 C             1 RES     \\n      18 C           13.4140     0.0886     6.6909 C             1 RES     \\n      19 C           13.3637    -0.2941     8.0412 C             1 RES     \\n      20 C           13.4220    -1.6482     8.3945 C             1 RES     \\n      21 O           13.2090    -1.9512     9.7273 O             1 RES     \\n      22 C           13.3163    -3.2614    10.1410 C             1 RES     \\n      23 C           12.2431    -3.8482    10.8147 C             1 RES     \\n      24 C           12.3579    -5.1576    11.3057 C             1 RES     \\n      25 C           13.5088    -5.9151    11.0386 C             1 RES     \\n      26 C           13.5387    -7.3599    11.4159 C             1 RES     \\n      27 O           12.5679    -7.8863    11.9517 O             1 RES     \\n      28 C           14.7196    -8.2040    11.1199 C             1 RES     \\n      29 C           14.5692    -9.3628    10.3509 C             1 RES     \\n      30 C           15.6641   -10.2095    10.1620 C             1 RES     \\n      31 C           16.9161    -9.8598    10.6721 C             1 RES     \\n      32 C           17.0691    -8.6895    11.4146 C             1 RES     \\n      33 C           15.9667    -7.8739    11.6608 C             1 RES     \\n      34 C           14.5734    -5.3135    10.3599 C             1 RES     \\n      35 C           14.4968    -3.9817     9.9613 C             1 RES     \\n      36 C           13.6253    -2.5968     7.3903 C             1 RES     \\n      37 C           13.7858    -2.2084     6.0647 C             1 RES     \\n      38 C           11.9754    -1.9471     3.6462 C             1 RES     \\n      39 C           11.2268    -2.4616     2.5981 C             1 RES     \\n      40 C            8.4588    -1.9521     1.2125 C             1 RES     \\n      41 C            7.0701    -1.9079     1.1626 C             1 RES     \\n      42 C            5.0546     0.0922     0.0336 C             1 RES     \\n      43 C            4.4034     1.2605     0.0194 C             1 RES     \\n      44 C            2.9715     1.2712    -0.0935 C             1 RES     \\n      45 H            2.4498    -2.1583     0.0850 H             1 RES     \\n      46 H            6.5848    -3.5252    -1.7914 H             1 RES     \\n      47 H            9.0329    -3.8389    -1.5685 H             1 RES     \\n      48 H           12.6513    -0.7413     0.0237 H             1 RES     \\n      49 H           14.1481    -0.0203     1.8738 H             1 RES     \\n      50 H           13.2716     1.1315     6.4179 H             1 RES     \\n      51 H           13.2701     0.4686     8.8120 H             1 RES     \\n      52 H           11.3113    -3.3034    10.9469 H             1 RES     \\n      53 H           11.5401    -5.5902    11.8817 H             1 RES     \\n      54 H           13.6080    -9.6128     9.9071 H             1 RES     \\n      55 H           15.5409   -11.1514     9.6323 H             1 RES     \\n      56 H           17.7731   -10.5067    10.4994 H             1 RES     \\n      57 H           18.0405    -8.4246    11.8237 H             1 RES     \\n      58 H           16.0852    -6.9819    12.2699 H             1 RES     \\n      59 H           15.4811    -5.8535    10.1154 H             1 RES     \\n      60 H           15.3437    -3.5338     9.4493 H             1 RES     \\n      61 H           13.6721    -3.6585     7.6004 H             1 RES     \\n      62 H           13.9704    -2.9727     5.3158 H             1 RES     \\n      63 H           11.7187    -2.2855     4.6428 H             1 RES     \\n      64 H           10.4489    -3.1870     2.8171 H             1 RES     \\n      65 H            8.9395    -1.4431     2.0407 H             1 RES     \\n      66 H            6.5251    -1.3968     1.9517 H             1 RES     \\n      67 H            6.1374     0.1241     0.0217 H             1 RES     \\n      68 H            4.9401     2.2036     0.0173 H             1 RES     \\n      69 H            2.5041     2.0367    -0.6986 H             1 RES     \\n@<TRIPOS>BOND\\n       1       52       23 1\\n       2       11       10 1\\n       3       59       34 1\\n       4       63       38 1\\n       5       55       30 1\\n       6       67       42 1\\n       7       45        3 1\\n       8       23       24 1\\n       9       15       16 1\\n      10        3        4 1\\n      11       40       41 1\\n      12       24       25 1\\n      13       26       27 1\\n      14       42       43 1\\n      15       53       24 1\\n      16       32       33 1\\n      17       34       35 1\\n      18       19       20 1\\n      19        9        8 1\\n      20       47        8 1\\n      21       15       14 1\\n      22       50       18 1\\n      23       16       17 1\\n      24       15       38 1\\n      25       68       43 1\\n      26       60       35 1\\n      27       61       36 1\\n      28       51       19 1\\n      29        6        7 1\\n      30       69       44 1\\n      31        2        3 1\\n      32        9       10 1\\n      33       20       21 1\\n      34       25       34 1\\n      35       43       44 1\\n      36       20       36 1\\n      37       31       32 1\\n      38        6       41 1\\n      39       22       35 1\\n      40       62       37 1\\n      41       66       41 1\\n      42       58       33 1\\n      43       49       14 1\\n      44        9       40 1\\n      45       37       17 1\\n      46        2        1 1\\n      47       26       28 1\\n      48       46        7 1\\n      49       12       39 1\\n      50       36       37 1\\n      51       21       22 1\\n      52       28       29 1\\n      53       38       39 1\\n      54       30       31 1\\n      55        4       42 1\\n      56        5        6 1\\n      57       12       10 1\\n      58       65       40 1\\n      59       56       31 1\\n      60       57       32 1\\n      61        5        4 1\\n      62       18       17 1\\n      63       64       39 1\\n      64       12       13 1\\n      65        7        8 1\\n      66       14       13 1\\n      67       54       29 1\\n      68       22       23 1\\n      69       48       13 1\\n      70       25       26 1\\n      71       28       33 1\\n      72       29       30 1\\n      73       18       19 1\\n      74        2       44 1\\n@<TRIPOS>SUBSTRUCTURE\\n       1 RES             1 RESIDUE    0 **** ROOT      0\\n\",\"mol2\");\n\tviewer_16019329934558995.setStyle({\"stick\": {\"radius\": 0.2, \"color\": \"grey\"}, \"sphere\": {\"scale\": 0.3, \"colorscheme\": {}}});\n\tviewer_16019329934558995.zoomTo();\nviewer_16019329934558995.render();\n});\n</script>",
      "text/html": [
       "<div id=\"3dmolviewer_16019329934558995\"  style=\"position: relative; width: 640px; height: 480px\">\n",
       "        <p id=\"3dmolwarning_16019329934558995\" style=\"background-color:#ffcccc;color:black\">You appear to be running in JupyterLab (or JavaScript failed to load for some other reason).  You need to install the 3dmol extension: <br>\n",
       "        <tt>jupyter labextension install jupyterlab_3dmol</tt></p>\n",
       "        </div>\n",
       "<script>\n",
       "\n",
       "var loadScriptAsync = function(uri){\n",
       "  return new Promise((resolve, reject) => {\n",
       "    var tag = document.createElement('script');\n",
       "    tag.src = uri;\n",
       "    tag.async = true;\n",
       "    tag.onload = () => {\n",
       "      resolve();\n",
       "    };\n",
       "  var firstScriptTag = document.getElementsByTagName('script')[0];\n",
       "  firstScriptTag.parentNode.insertBefore(tag, firstScriptTag);\n",
       "});\n",
       "};\n",
       "\n",
       "if(typeof $3Dmolpromise === 'undefined') {\n",
       "$3Dmolpromise = null;\n",
       "  $3Dmolpromise = loadScriptAsync('https://3dmol.csb.pitt.edu/build/3Dmol.js');\n",
       "}\n",
       "\n",
       "var viewer_16019329934558995 = null;\n",
       "var warn = document.getElementById(\"3dmolwarning_16019329934558995\");\n",
       "if(warn) {\n",
       "    warn.parentNode.removeChild(warn);\n",
       "}\n",
       "$3Dmolpromise.then(function() {\n",
       "viewer_16019329934558995 = $3Dmol.createViewer($(\"#3dmolviewer_16019329934558995\"),{backgroundColor:\"white\"});\n",
       "\tviewer_16019329934558995.addModel(\"@<TRIPOS>MOLECULE\\nRES\\n69 74 1 0 1\\nSMALL\\nNO_CHARGES\\n@<TRIPOS>CRYSIN\\n   22.0611    18.3550    19.0613    90.0000    90.0000    90.0000  1  1\\n@<TRIPOS>ATOM\\n       1 O            0.9794     0.0047     0.0721 O             1 RES     \\n       2 C            2.2116     0.0154     0.0522 C             1 RES     \\n       3 C            3.0039    -1.2284     0.0913 C             1 RES     \\n       4 C            4.3462    -1.1827     0.0490 C             1 RES     \\n       5 O            5.0380    -2.3901    -0.0507 O             1 RES     \\n       6 C            6.4019    -2.4423     0.0640 C             1 RES     \\n       7 C            7.1077    -3.1194    -0.9288 C             1 RES     \\n       8 C            8.4940    -3.2560    -0.8232 C             1 RES     \\n       9 C            9.1848    -2.6254     0.2210 C             1 RES     \\n      10 C           10.6778    -2.6363     0.2021 C             1 RES     \\n      11 O           11.2893    -3.1640    -0.7218 O             1 RES     \\n      12 C           11.4625    -2.0286     1.2962 C             1 RES     \\n      13 C           12.4847    -1.1103     1.0342 C             1 RES     \\n      14 C           13.2986    -0.6668     2.0873 C             1 RES     \\n      15 C           13.0226    -1.0545     3.4061 C             1 RES     \\n      16 O           13.7811    -0.4584     4.3961 O             1 RES     \\n      17 C           13.6337    -0.8724     5.7019 C             1 RES     \\n      18 C           13.4140     0.0886     6.6909 C             1 RES     \\n      19 C           13.3637    -0.2941     8.0412 C             1 RES     \\n      20 C           13.4220    -1.6482     8.3945 C             1 RES     \\n      21 O           13.2090    -1.9512     9.7273 O             1 RES     \\n      22 C           13.3163    -3.2614    10.1410 C             1 RES     \\n      23 C           12.2431    -3.8482    10.8147 C             1 RES     \\n      24 C           12.3579    -5.1576    11.3057 C             1 RES     \\n      25 C           13.5088    -5.9151    11.0386 C             1 RES     \\n      26 C           13.5387    -7.3599    11.4159 C             1 RES     \\n      27 O           12.5679    -7.8863    11.9517 O             1 RES     \\n      28 C           14.7196    -8.2040    11.1199 C             1 RES     \\n      29 C           14.5692    -9.3628    10.3509 C             1 RES     \\n      30 C           15.6641   -10.2095    10.1620 C             1 RES     \\n      31 C           16.9161    -9.8598    10.6721 C             1 RES     \\n      32 C           17.0691    -8.6895    11.4146 C             1 RES     \\n      33 C           15.9667    -7.8739    11.6608 C             1 RES     \\n      34 C           14.5734    -5.3135    10.3599 C             1 RES     \\n      35 C           14.4968    -3.9817     9.9613 C             1 RES     \\n      36 C           13.6253    -2.5968     7.3903 C             1 RES     \\n      37 C           13.7858    -2.2084     6.0647 C             1 RES     \\n      38 C           11.9754    -1.9471     3.6462 C             1 RES     \\n      39 C           11.2268    -2.4616     2.5981 C             1 RES     \\n      40 C            8.4588    -1.9521     1.2125 C             1 RES     \\n      41 C            7.0701    -1.9079     1.1626 C             1 RES     \\n      42 C            5.0546     0.0922     0.0336 C             1 RES     \\n      43 C            4.4034     1.2605     0.0194 C             1 RES     \\n      44 C            2.9715     1.2712    -0.0935 C             1 RES     \\n      45 H            2.4498    -2.1583     0.0850 H             1 RES     \\n      46 H            6.5848    -3.5252    -1.7914 H             1 RES     \\n      47 H            9.0329    -3.8389    -1.5685 H             1 RES     \\n      48 H           12.6513    -0.7413     0.0237 H             1 RES     \\n      49 H           14.1481    -0.0203     1.8738 H             1 RES     \\n      50 H           13.2716     1.1315     6.4179 H             1 RES     \\n      51 H           13.2701     0.4686     8.8120 H             1 RES     \\n      52 H           11.3113    -3.3034    10.9469 H             1 RES     \\n      53 H           11.5401    -5.5902    11.8817 H             1 RES     \\n      54 H           13.6080    -9.6128     9.9071 H             1 RES     \\n      55 H           15.5409   -11.1514     9.6323 H             1 RES     \\n      56 H           17.7731   -10.5067    10.4994 H             1 RES     \\n      57 H           18.0405    -8.4246    11.8237 H             1 RES     \\n      58 H           16.0852    -6.9819    12.2699 H             1 RES     \\n      59 H           15.4811    -5.8535    10.1154 H             1 RES     \\n      60 H           15.3437    -3.5338     9.4493 H             1 RES     \\n      61 H           13.6721    -3.6585     7.6004 H             1 RES     \\n      62 H           13.9704    -2.9727     5.3158 H             1 RES     \\n      63 H           11.7187    -2.2855     4.6428 H             1 RES     \\n      64 H           10.4489    -3.1870     2.8171 H             1 RES     \\n      65 H            8.9395    -1.4431     2.0407 H             1 RES     \\n      66 H            6.5251    -1.3968     1.9517 H             1 RES     \\n      67 H            6.1374     0.1241     0.0217 H             1 RES     \\n      68 H            4.9401     2.2036     0.0173 H             1 RES     \\n      69 H            2.5041     2.0367    -0.6986 H             1 RES     \\n@<TRIPOS>BOND\\n       1       52       23 1\\n       2       11       10 1\\n       3       59       34 1\\n       4       63       38 1\\n       5       55       30 1\\n       6       67       42 1\\n       7       45        3 1\\n       8       23       24 1\\n       9       15       16 1\\n      10        3        4 1\\n      11       40       41 1\\n      12       24       25 1\\n      13       26       27 1\\n      14       42       43 1\\n      15       53       24 1\\n      16       32       33 1\\n      17       34       35 1\\n      18       19       20 1\\n      19        9        8 1\\n      20       47        8 1\\n      21       15       14 1\\n      22       50       18 1\\n      23       16       17 1\\n      24       15       38 1\\n      25       68       43 1\\n      26       60       35 1\\n      27       61       36 1\\n      28       51       19 1\\n      29        6        7 1\\n      30       69       44 1\\n      31        2        3 1\\n      32        9       10 1\\n      33       20       21 1\\n      34       25       34 1\\n      35       43       44 1\\n      36       20       36 1\\n      37       31       32 1\\n      38        6       41 1\\n      39       22       35 1\\n      40       62       37 1\\n      41       66       41 1\\n      42       58       33 1\\n      43       49       14 1\\n      44        9       40 1\\n      45       37       17 1\\n      46        2        1 1\\n      47       26       28 1\\n      48       46        7 1\\n      49       12       39 1\\n      50       36       37 1\\n      51       21       22 1\\n      52       28       29 1\\n      53       38       39 1\\n      54       30       31 1\\n      55        4       42 1\\n      56        5        6 1\\n      57       12       10 1\\n      58       65       40 1\\n      59       56       31 1\\n      60       57       32 1\\n      61        5        4 1\\n      62       18       17 1\\n      63       64       39 1\\n      64       12       13 1\\n      65        7        8 1\\n      66       14       13 1\\n      67       54       29 1\\n      68       22       23 1\\n      69       48       13 1\\n      70       25       26 1\\n      71       28       33 1\\n      72       29       30 1\\n      73       18       19 1\\n      74        2       44 1\\n@<TRIPOS>SUBSTRUCTURE\\n       1 RES             1 RESIDUE    0 **** ROOT      0\\n\",\"mol2\");\n",
       "\tviewer_16019329934558995.setStyle({\"stick\": {\"radius\": 0.2, \"color\": \"grey\"}, \"sphere\": {\"scale\": 0.3, \"colorscheme\": {}}});\n",
       "\tviewer_16019329934558995.zoomTo();\n",
       "viewer_16019329934558995.render();\n",
       "});\n",
       "</script>"
      ]
     },
     "metadata": {},
     "output_type": "display_data"
    }
   ],
   "source": [
    "smiles_utils.viz(para_meta_2mer, deep=True)"
   ]
  },
  {
   "cell_type": "code",
   "execution_count": null,
   "metadata": {},
   "outputs": [],
   "source": []
  },
  {
   "cell_type": "code",
   "execution_count": 37,
   "metadata": {},
   "outputs": [
    {
     "name": "stderr",
     "output_type": "stream",
     "text": [
      "/home/chris/miniconda3/envs/uli/lib/python3.7/site-packages/ipykernel/ipkernel.py:287: DeprecationWarning: `should_run_async` will not call `transform_cell` automatically in the future. Please pass the result to `transformed_cell` argument and any exception that happen during thetransform in `preprocessing_exc_tuple` in IPython 7.17 and above.\n",
      "  and should_run_async(code)\n"
     ]
    }
   ],
   "source": [
    "import random\n",
    "\n",
    "def random_sequence(para_weight=0.5, length=10):\n",
    "    meta_weight = 1 - para_weight\n",
    "    options = ['p', 'm']\n",
    "    probability = [para_weight, meta_weight]\n",
    "    return random.choices(options, weights=probability, k=length)"
   ]
  },
  {
   "cell_type": "code",
   "execution_count": 25,
   "metadata": {},
   "outputs": [
    {
     "name": "stdout",
     "output_type": "stream",
     "text": [
      "['p', 'm', 'm', 'm', 'm', 'm', 'p', 'm', 'p', 'm']\n"
     ]
    },
    {
     "name": "stderr",
     "output_type": "stream",
     "text": [
      "/home/chris/miniconda3/envs/uli/lib/python3.7/site-packages/ipykernel/ipkernel.py:287: DeprecationWarning: `should_run_async` will not call `transform_cell` automatically in the future. Please pass the result to `transformed_cell` argument and any exception that happen during thetransform in `preprocessing_exc_tuple` in IPython 7.17 and above.\n",
      "  and should_run_async(code)\n"
     ]
    }
   ],
   "source": [
    "print(random_sequence())"
   ]
  },
  {
   "cell_type": "code",
   "execution_count": 61,
   "metadata": {},
   "outputs": [
    {
     "name": "stderr",
     "output_type": "stream",
     "text": [
      "/home/chris/miniconda3/envs/uli/lib/python3.7/site-packages/ipykernel/ipkernel.py:287: DeprecationWarning: `should_run_async` will not call `transform_cell` automatically in the future. Please pass the result to `transformed_cell` argument and any exception that happen during thetransform in `preprocessing_exc_tuple` in IPython 7.17 and above.\n",
      "  and should_run_async(code)\n"
     ]
    }
   ],
   "source": [
    "def build_molecule(length, para_weight):\n",
    "    \n",
    "    monomer_sequence = \n",
    "    molecule_string = '{}'\n",
    "\n",
    "    for idx, config in enumerate(random_sequence(para_weight, length)):\n",
    "        if idx == 0: # append template, but no brackets\n",
    "            if config == 'p':\n",
    "                monomer_string = PEEK_dict['para_template']  #cccccccc{}{}cccccccccc\n",
    "            elif config == 'm':\n",
    "                monomer_string = PEEK_dict['meta_template']\n",
    "            molecule_string = molecule_string.format(monomer_string)\n",
    "\n",
    "        elif idx == length-1: #ccccccccccc{}{}ccccccccccccccc # Don't use template for last iteration\n",
    "            if config == 'p':\n",
    "                brackets = polysmiles.count_brackets(PEEK_dict['para_deep_smiles'])\n",
    "                monomer_string = PEEK_dict['para_deep_smiles']\n",
    "            elif config == 'm':\n",
    "                brackets = polysmiles.count_brackets(PEEK_dict['meta_deep_smiles'])\n",
    "                monomer_string = PEEK_dict['meta_deep_smiles']\n",
    "            molecule_string = molecule_string.format(monomer_string, brackets)\n",
    "\n",
    "        else: # Continue using template plus brackets\n",
    "            if config == 'p':\n",
    "                brackets = polysmiles.count_brackets(PEEK_dict['para_deep_smiles'])\n",
    "                monomer_string = PEEK_dict['para_template']\n",
    "            elif config == 'm':\n",
    "                brackets = polysmiles.count_brackets(PEEK_dict['meta_deep_smiles'])\n",
    "                monomer_string = PEEK_dict['meta_template']\n",
    "            molecule_string = molecule_string.format(monomer_string, brackets)\n",
    "            \n",
    "    return molecule_string"
   ]
  },
  {
   "cell_type": "code",
   "execution_count": 62,
   "metadata": {},
   "outputs": [
    {
     "name": "stderr",
     "output_type": "stream",
     "text": [
      "/home/chris/miniconda3/envs/uli/lib/python3.7/site-packages/ipykernel/ipkernel.py:287: DeprecationWarning: `should_run_async` will not call `transform_cell` automatically in the future. Please pass the result to `transformed_cell` argument and any exception that happen during thetransform in `preprocessing_exc_tuple` in IPython 7.17 and above.\n",
      "  and should_run_async(code)\n"
     ]
    }
   ],
   "source": [
    "poly_string = build_molecule(length=3, para_weight=0.70)"
   ]
  },
  {
   "cell_type": "code",
   "execution_count": 63,
   "metadata": {},
   "outputs": [
    {
     "name": "stdout",
     "output_type": "stream",
     "text": [
      "occccoccccC=O)cccocccoccccC=O)ccccoccccoccccC=O)cccccc6)))))))cc6)))))))cc6)))))))cc6)))))))cc6)))))))ccc6)))))))ccc6)))))))cc6)))))))cc6\n"
     ]
    },
    {
     "name": "stderr",
     "output_type": "stream",
     "text": [
      "/home/chris/miniconda3/envs/uli/lib/python3.7/site-packages/ipykernel/ipkernel.py:287: DeprecationWarning: `should_run_async` will not call `transform_cell` automatically in the future. Please pass the result to `transformed_cell` argument and any exception that happen during thetransform in `preprocessing_exc_tuple` in IPython 7.17 and above.\n",
      "  and should_run_async(code)\n"
     ]
    }
   ],
   "source": [
    "print(poly_string)"
   ]
  },
  {
   "cell_type": "code",
   "execution_count": 58,
   "metadata": {},
   "outputs": [
    {
     "name": "stdout",
     "output_type": "stream",
     "text": [
      "occcoccccC=O)ccccocccoccccC=O)ccccoccccoccccC=O)cccoccccoccccC=O)cccccc6)))))))cc6)))))))cc6)))))))ccc6)))))))cc6)))))))cc6)))))))cc6)))))))cc6)))))))ccc6)))))))cc6)))))))cc6)))))))ccc6\n"
     ]
    },
    {
     "name": "stderr",
     "output_type": "stream",
     "text": [
      "/home/chris/miniconda3/envs/uli/lib/python3.7/site-packages/ipykernel/ipkernel.py:287: DeprecationWarning: `should_run_async` will not call `transform_cell` automatically in the future. Please pass the result to `transformed_cell` argument and any exception that happen during thetransform in `preprocessing_exc_tuple` in IPython 7.17 and above.\n",
      "  and should_run_async(code)\n"
     ]
    }
   ],
   "source": [
    "print(molecule_string)"
   ]
  },
  {
   "cell_type": "code",
   "execution_count": 64,
   "metadata": {},
   "outputs": [
    {
     "name": "stderr",
     "output_type": "stream",
     "text": [
      "/home/chris/miniconda3/envs/uli/lib/python3.7/site-packages/ipykernel/ipkernel.py:287: DeprecationWarning: `should_run_async` will not call `transform_cell` automatically in the future. Please pass the result to `transformed_cell` argument and any exception that happen during thetransform in `preprocessing_exc_tuple` in IPython 7.17 and above.\n",
      "  and should_run_async(code)\n",
      "/home/chris/cme/forks/mbuild/mbuild/conversion.py:687: UserWarning: No unitcell detected for pybel.Molecule O=C1C=CC(=C[CH]1)Oc1ccc(C(=O)c2cc(Oc3cc(Oc4ccc(C(=O)c5ccc(Oc6ccc(Oc7ccc(C(=O)c8ccccc8)cc7)cc6)cc5)cc4)ccc3)ccc2)cc1\t\n",
      "\n",
      "  warn(\"No unitcell detected for pybel.Molecule {}\".format(pybel_mol))\n"
     ]
    },
    {
     "data": {
      "application/3dmoljs_load.v0": "<div id=\"3dmolviewer_16019392497292628\"  style=\"position: relative; width: 640px; height: 480px\">\n        <p id=\"3dmolwarning_16019392497292628\" style=\"background-color:#ffcccc;color:black\">You appear to be running in JupyterLab (or JavaScript failed to load for some other reason).  You need to install the 3dmol extension: <br>\n        <tt>jupyter labextension install jupyterlab_3dmol</tt></p>\n        </div>\n<script>\n\nvar loadScriptAsync = function(uri){\n  return new Promise((resolve, reject) => {\n    var tag = document.createElement('script');\n    tag.src = uri;\n    tag.async = true;\n    tag.onload = () => {\n      resolve();\n    };\n  var firstScriptTag = document.getElementsByTagName('script')[0];\n  firstScriptTag.parentNode.insertBefore(tag, firstScriptTag);\n});\n};\n\nif(typeof $3Dmolpromise === 'undefined') {\n$3Dmolpromise = null;\n  $3Dmolpromise = loadScriptAsync('https://3dmol.csb.pitt.edu/build/3Dmol.js');\n}\n\nvar viewer_16019392497292628 = null;\nvar warn = document.getElementById(\"3dmolwarning_16019392497292628\");\nif(warn) {\n    warn.parentNode.removeChild(warn);\n}\n$3Dmolpromise.then(function() {\nviewer_16019392497292628 = $3Dmol.createViewer($(\"#3dmolviewer_16019392497292628\"),{backgroundColor:\"white\"});\n\tviewer_16019392497292628.addModel(\"@<TRIPOS>MOLECULE\\nRES\\n103 111 1 0 1\\nSMALL\\nNO_CHARGES\\n@<TRIPOS>CRYSIN\\n   22.7417    36.7647    17.6135    90.0000    90.0000    90.0000  1  1\\n@<TRIPOS>ATOM\\n       1 O            0.9496    -0.0187    -0.0658 O             1 RES     \\n       2 C            2.1827     0.0127    -0.0938 C             1 RES     \\n       3 C            3.0098    -1.2130    -0.0375 C             1 RES     \\n       4 C            4.3537    -1.1288    -0.0551 C             1 RES     \\n       5 C            5.0522     0.1507    -0.0857 C             1 RES     \\n       6 O            6.4418     0.0623    -0.1261 O             1 RES     \\n       7 C            7.1848     1.2218    -0.0405 C             1 RES     \\n       8 C            8.1107     1.5075    -1.0430 C             1 RES     \\n       9 C            8.9002     2.6646    -0.9532 C             1 RES     \\n      10 C            8.6920     3.5924     0.0814 C             1 RES     \\n      11 C            9.4267     4.8982     0.0547 C             1 RES     \\n      12 O           10.1914     5.1576    -0.8703 O             1 RES     \\n      13 C            9.2829     5.9013     1.1415 C             1 RES     \\n      14 C            9.0196     7.2541     0.8595 C             1 RES     \\n      15 C            9.0792     8.1970     1.8992 C             1 RES     \\n      16 O            8.9551     9.5355     1.5765 O             1 RES     \\n      17 C            9.3986    10.5027     2.4675 C             1 RES     \\n      18 C            8.5982    11.6425     2.5977 C             1 RES     \\n      19 C            9.0185    12.7035     3.4104 C             1 RES     \\n      20 O            8.2558    13.8526     3.4020 O             1 RES     \\n      21 C            8.8277    15.0460     3.7995 C             1 RES     \\n      22 C            8.0200    15.8973     4.5512 C             1 RES     \\n      23 C            8.4945    17.1535     4.9472 C             1 RES     \\n      24 C            9.8195    17.5269     4.6841 C             1 RES     \\n      25 C           10.3378    18.8042     5.2640 C             1 RES     \\n      26 O            9.6217    19.5142     5.9632 O             1 RES     \\n      27 C           11.7272    19.2454     5.0190 C             1 RES     \\n      28 C           12.5944    19.5189     6.0824 C             1 RES     \\n      29 C           13.8834    20.0053     5.8169 C             1 RES     \\n      30 C           14.3355    20.1220     4.4955 C             1 RES     \\n      31 O           15.6681    20.4540     4.3259 O             1 RES     \\n      32 C           16.1495    20.6424     3.0490 C             1 RES     \\n      33 C           17.2511    19.9003     2.6182 C             1 RES     \\n      34 C           17.7938    20.1305     1.3431 C             1 RES     \\n      35 C           17.1766    21.0295     0.4635 C             1 RES     \\n      36 O           17.6946    21.0974    -0.8178 O             1 RES     \\n      37 C           17.0627    21.9030    -1.7396 C             1 RES     \\n      38 C           16.4833    21.3194    -2.8670 C             1 RES     \\n      39 C           15.8650    22.1279    -3.8313 C             1 RES     \\n      40 C           15.7435    23.5107    -3.6239 C             1 RES     \\n      41 C           14.9081    24.3146    -4.5664 C             1 RES     \\n      42 O           14.3295    23.7728    -5.5042 O             1 RES     \\n      43 C           14.7256    25.7728    -4.3840 C             1 RES     \\n      44 C           13.4365    26.3104    -4.2965 C             1 RES     \\n      45 C           13.2713    27.6972    -4.2561 C             1 RES     \\n      46 C           14.3882    28.5348    -4.2245 C             1 RES     \\n      47 C           15.6722    27.9941    -4.2801 C             1 RES     \\n      48 C           15.8414    26.6155    -4.3849 C             1 RES     \\n      49 C           16.3432    24.0821    -2.4956 C             1 RES     \\n      50 C           17.0413    23.2892    -1.5860 C             1 RES     \\n      51 C           16.0736    21.7592     0.9117 C             1 RES     \\n      52 C           15.5979    21.6070     2.2097 C             1 RES     \\n      53 C           13.4534    19.8355     3.4490 C             1 RES     \\n      54 C           12.1479    19.4368     3.7058 C             1 RES     \\n      55 C           10.6301    16.6619     3.9399 C             1 RES     \\n      56 C           10.1221    15.4535     3.4584 C             1 RES     \\n      57 C           10.1622    12.5580     4.1987 C             1 RES     \\n      58 C           10.9753    11.4431     4.0590 C             1 RES     \\n      59 C           10.6132    10.4318     3.1700 C             1 RES     \\n      60 C            9.2539     7.7540     3.2132 C             1 RES     \\n      61 C            9.5180     6.4195     3.4886 C             1 RES     \\n      62 C            9.5531     5.4973     2.4535 C             1 RES     \\n      63 C            7.7528     3.2924     1.0740 C             1 RES     \\n      64 C            7.0420     2.0939     1.0399 C             1 RES     \\n      65 C            4.3450     1.2927    -0.1524 C             1 RES     \\n      66 C            2.9144     1.2757    -0.2518 C             1 RES     \\n      67 H            2.4704    -2.1517    -0.0302 H             1 RES     \\n      68 H            4.9468    -2.0391    -0.0595 H             1 RES     \\n      69 H            8.2048     0.8540    -1.9071 H             1 RES     \\n      70 H            9.6658     2.8477    -1.7068 H             1 RES     \\n      71 H            8.7899     7.5662    -0.1584 H             1 RES     \\n      72 H            7.6524    11.6949     2.0645 H             1 RES     \\n      73 H            7.0251    15.5748     4.8466 H             1 RES     \\n      74 H            7.8274    17.8312     5.4770 H             1 RES     \\n      75 H           12.2780    19.3457     7.1093 H             1 RES     \\n      76 H           14.5337    20.2835     6.6444 H             1 RES     \\n      77 H           17.6817    19.1357     3.2604 H             1 RES     \\n      78 H           18.6912    19.5963     1.0367 H             1 RES     \\n      79 H           16.4873    20.2393    -2.9903 H             1 RES     \\n      80 H           15.4569    21.6720    -4.7330 H             1 RES     \\n      81 H           12.5641    25.6608    -4.2721 H             1 RES     \\n      82 H           12.2732    28.1294    -4.2698 H             1 RES     \\n      83 H           14.2579    29.6130    -4.1685 H             1 RES     \\n      84 H           16.5416    28.6459    -4.2719 H             1 RES     \\n      85 H           16.8431    26.2035    -4.4701 H             1 RES     \\n      86 H           16.2741    25.1432    -2.2828 H             1 RES     \\n      87 H           17.5016    23.7529    -0.7178 H             1 RES     \\n      88 H           15.5505    22.4639     0.2772 H             1 RES     \\n      89 H           14.7500    22.2036     2.5322 H             1 RES     \\n      90 H           13.7457    19.9164     2.4086 H             1 RES     \\n      91 H           11.4809    19.2483     2.8695 H             1 RES     \\n      92 H           11.6665    16.8936     3.7156 H             1 RES     \\n      93 H           10.7786    14.8201     2.8665 H             1 RES     \\n      94 H           10.4573    13.3296     4.9035 H             1 RES     \\n      95 H           11.8952    11.3836     4.6342 H             1 RES     \\n      96 H           11.2744     9.5749     3.0761 H             1 RES     \\n      97 H            9.2290     8.4501     4.0454 H             1 RES     \\n      98 H            9.7317     6.1146     4.5077 H             1 RES     \\n      99 H            9.7952     4.4633     2.6802 H             1 RES     \\n     100 H            7.5385     3.9734     1.8903 H             1 RES     \\n     101 H            6.3226     1.8853     1.8274 H             1 RES     \\n     102 H            4.8060     2.2706    -0.2079 H             1 RES     \\n     103 H            2.4385     2.0427    -0.8470 H             1 RES     \\n@<TRIPOS>BOND\\n       1        3        2 1\\n       2       65       66 1\\n       3       62       99 1\\n       4       18       19 1\\n       5       22       23 1\\n       6       85       48 1\\n       7       70        9 1\\n       8       40       41 1\\n       9       60       61 1\\n      10       61       62 1\\n      11       33       34 1\\n      12       72       18 1\\n      13       54       27 1\\n      14        3        4 1\\n      15        1        2 1\\n      16       18       17 1\\n      17       51       35 1\\n      18       58       95 1\\n      19       71       14 1\\n      20       25       26 1\\n      21       78       34 1\\n      22       49       50 1\\n      23       59       96 1\\n      24       75       28 1\\n      25       36       37 1\\n      26       31       30 1\\n      27       37       50 1\\n      28       54       91 1\\n      29       64      101 1\\n      30       90       53 1\\n      31       25       27 1\\n      32       35       34 1\\n      33       73       22 1\\n      34       80       39 1\\n      35       56       55 1\\n      36       10       11 1\\n      37       16       17 1\\n      38       56       93 1\\n      39       33       32 1\\n      40       60       15 1\\n      41       20       19 1\\n      42       66        2 1\\n      43       57       94 1\\n      44       55       24 1\\n      45       68        4 1\\n      46       86       49 1\\n      47       61       98 1\\n      48       64       63 1\\n      49       24       25 1\\n      50       15       16 1\\n      51       59       58 1\\n      52       42       41 1\\n      53       45       46 1\\n      54       60       97 1\\n      55       67        3 1\\n      56       43       44 1\\n      57       55       92 1\\n      58       48       43 1\\n      59       89       52 1\\n      60       57       19 1\\n      61       76       29 1\\n      62        8       69 1\\n      63       47       46 1\\n      64       63      100 1\\n      65       11       12 1\\n      66       81       44 1\\n      67       87       50 1\\n      68       48       47 1\\n      69       53       30 1\\n      70       54       53 1\\n      71        7       64 1\\n      72       10        9 1\\n      73       43       41 1\\n      74       88       51 1\\n      75       20       21 1\\n      76       79       38 1\\n      77       65      102 1\\n      78        6        7 1\\n      79        7        8 1\\n      80       31       32 1\\n      81       38       39 1\\n      82       82       45 1\\n      83       77       33 1\\n      84        8        9 1\\n      85       27       28 1\\n      86       52       51 1\\n      87       83       46 1\\n      88       66      103 1\\n      89       14       13 1\\n      90       38       37 1\\n      91       59       17 1\\n      92       57       58 1\\n      93       84       47 1\\n      94        6        5 1\\n      95       40       49 1\\n      96       15       14 1\\n      97        5        4 1\\n      98       74       23 1\\n      99       24       23 1\\n     100        5       65 1\\n     101       52       32 1\\n     102       29       30 1\\n     103       45       44 1\\n     104       35       36 1\\n     105       29       28 1\\n     106       11       13 1\\n     107       39       40 1\\n     108       62       13 1\\n     109       63       10 1\\n     110       21       22 1\\n     111       56       21 1\\n@<TRIPOS>SUBSTRUCTURE\\n       1 RES             1 RESIDUE    0 **** ROOT      0\\n\",\"mol2\");\n\tviewer_16019392497292628.setStyle({\"stick\": {\"radius\": 0.2, \"color\": \"grey\"}, \"sphere\": {\"scale\": 0.3, \"colorscheme\": {}}});\n\tviewer_16019392497292628.zoomTo();\nviewer_16019392497292628.render();\n});\n</script>",
      "text/html": [
       "<div id=\"3dmolviewer_16019392497292628\"  style=\"position: relative; width: 640px; height: 480px\">\n",
       "        <p id=\"3dmolwarning_16019392497292628\" style=\"background-color:#ffcccc;color:black\">You appear to be running in JupyterLab (or JavaScript failed to load for some other reason).  You need to install the 3dmol extension: <br>\n",
       "        <tt>jupyter labextension install jupyterlab_3dmol</tt></p>\n",
       "        </div>\n",
       "<script>\n",
       "\n",
       "var loadScriptAsync = function(uri){\n",
       "  return new Promise((resolve, reject) => {\n",
       "    var tag = document.createElement('script');\n",
       "    tag.src = uri;\n",
       "    tag.async = true;\n",
       "    tag.onload = () => {\n",
       "      resolve();\n",
       "    };\n",
       "  var firstScriptTag = document.getElementsByTagName('script')[0];\n",
       "  firstScriptTag.parentNode.insertBefore(tag, firstScriptTag);\n",
       "});\n",
       "};\n",
       "\n",
       "if(typeof $3Dmolpromise === 'undefined') {\n",
       "$3Dmolpromise = null;\n",
       "  $3Dmolpromise = loadScriptAsync('https://3dmol.csb.pitt.edu/build/3Dmol.js');\n",
       "}\n",
       "\n",
       "var viewer_16019392497292628 = null;\n",
       "var warn = document.getElementById(\"3dmolwarning_16019392497292628\");\n",
       "if(warn) {\n",
       "    warn.parentNode.removeChild(warn);\n",
       "}\n",
       "$3Dmolpromise.then(function() {\n",
       "viewer_16019392497292628 = $3Dmol.createViewer($(\"#3dmolviewer_16019392497292628\"),{backgroundColor:\"white\"});\n",
       "\tviewer_16019392497292628.addModel(\"@<TRIPOS>MOLECULE\\nRES\\n103 111 1 0 1\\nSMALL\\nNO_CHARGES\\n@<TRIPOS>CRYSIN\\n   22.7417    36.7647    17.6135    90.0000    90.0000    90.0000  1  1\\n@<TRIPOS>ATOM\\n       1 O            0.9496    -0.0187    -0.0658 O             1 RES     \\n       2 C            2.1827     0.0127    -0.0938 C             1 RES     \\n       3 C            3.0098    -1.2130    -0.0375 C             1 RES     \\n       4 C            4.3537    -1.1288    -0.0551 C             1 RES     \\n       5 C            5.0522     0.1507    -0.0857 C             1 RES     \\n       6 O            6.4418     0.0623    -0.1261 O             1 RES     \\n       7 C            7.1848     1.2218    -0.0405 C             1 RES     \\n       8 C            8.1107     1.5075    -1.0430 C             1 RES     \\n       9 C            8.9002     2.6646    -0.9532 C             1 RES     \\n      10 C            8.6920     3.5924     0.0814 C             1 RES     \\n      11 C            9.4267     4.8982     0.0547 C             1 RES     \\n      12 O           10.1914     5.1576    -0.8703 O             1 RES     \\n      13 C            9.2829     5.9013     1.1415 C             1 RES     \\n      14 C            9.0196     7.2541     0.8595 C             1 RES     \\n      15 C            9.0792     8.1970     1.8992 C             1 RES     \\n      16 O            8.9551     9.5355     1.5765 O             1 RES     \\n      17 C            9.3986    10.5027     2.4675 C             1 RES     \\n      18 C            8.5982    11.6425     2.5977 C             1 RES     \\n      19 C            9.0185    12.7035     3.4104 C             1 RES     \\n      20 O            8.2558    13.8526     3.4020 O             1 RES     \\n      21 C            8.8277    15.0460     3.7995 C             1 RES     \\n      22 C            8.0200    15.8973     4.5512 C             1 RES     \\n      23 C            8.4945    17.1535     4.9472 C             1 RES     \\n      24 C            9.8195    17.5269     4.6841 C             1 RES     \\n      25 C           10.3378    18.8042     5.2640 C             1 RES     \\n      26 O            9.6217    19.5142     5.9632 O             1 RES     \\n      27 C           11.7272    19.2454     5.0190 C             1 RES     \\n      28 C           12.5944    19.5189     6.0824 C             1 RES     \\n      29 C           13.8834    20.0053     5.8169 C             1 RES     \\n      30 C           14.3355    20.1220     4.4955 C             1 RES     \\n      31 O           15.6681    20.4540     4.3259 O             1 RES     \\n      32 C           16.1495    20.6424     3.0490 C             1 RES     \\n      33 C           17.2511    19.9003     2.6182 C             1 RES     \\n      34 C           17.7938    20.1305     1.3431 C             1 RES     \\n      35 C           17.1766    21.0295     0.4635 C             1 RES     \\n      36 O           17.6946    21.0974    -0.8178 O             1 RES     \\n      37 C           17.0627    21.9030    -1.7396 C             1 RES     \\n      38 C           16.4833    21.3194    -2.8670 C             1 RES     \\n      39 C           15.8650    22.1279    -3.8313 C             1 RES     \\n      40 C           15.7435    23.5107    -3.6239 C             1 RES     \\n      41 C           14.9081    24.3146    -4.5664 C             1 RES     \\n      42 O           14.3295    23.7728    -5.5042 O             1 RES     \\n      43 C           14.7256    25.7728    -4.3840 C             1 RES     \\n      44 C           13.4365    26.3104    -4.2965 C             1 RES     \\n      45 C           13.2713    27.6972    -4.2561 C             1 RES     \\n      46 C           14.3882    28.5348    -4.2245 C             1 RES     \\n      47 C           15.6722    27.9941    -4.2801 C             1 RES     \\n      48 C           15.8414    26.6155    -4.3849 C             1 RES     \\n      49 C           16.3432    24.0821    -2.4956 C             1 RES     \\n      50 C           17.0413    23.2892    -1.5860 C             1 RES     \\n      51 C           16.0736    21.7592     0.9117 C             1 RES     \\n      52 C           15.5979    21.6070     2.2097 C             1 RES     \\n      53 C           13.4534    19.8355     3.4490 C             1 RES     \\n      54 C           12.1479    19.4368     3.7058 C             1 RES     \\n      55 C           10.6301    16.6619     3.9399 C             1 RES     \\n      56 C           10.1221    15.4535     3.4584 C             1 RES     \\n      57 C           10.1622    12.5580     4.1987 C             1 RES     \\n      58 C           10.9753    11.4431     4.0590 C             1 RES     \\n      59 C           10.6132    10.4318     3.1700 C             1 RES     \\n      60 C            9.2539     7.7540     3.2132 C             1 RES     \\n      61 C            9.5180     6.4195     3.4886 C             1 RES     \\n      62 C            9.5531     5.4973     2.4535 C             1 RES     \\n      63 C            7.7528     3.2924     1.0740 C             1 RES     \\n      64 C            7.0420     2.0939     1.0399 C             1 RES     \\n      65 C            4.3450     1.2927    -0.1524 C             1 RES     \\n      66 C            2.9144     1.2757    -0.2518 C             1 RES     \\n      67 H            2.4704    -2.1517    -0.0302 H             1 RES     \\n      68 H            4.9468    -2.0391    -0.0595 H             1 RES     \\n      69 H            8.2048     0.8540    -1.9071 H             1 RES     \\n      70 H            9.6658     2.8477    -1.7068 H             1 RES     \\n      71 H            8.7899     7.5662    -0.1584 H             1 RES     \\n      72 H            7.6524    11.6949     2.0645 H             1 RES     \\n      73 H            7.0251    15.5748     4.8466 H             1 RES     \\n      74 H            7.8274    17.8312     5.4770 H             1 RES     \\n      75 H           12.2780    19.3457     7.1093 H             1 RES     \\n      76 H           14.5337    20.2835     6.6444 H             1 RES     \\n      77 H           17.6817    19.1357     3.2604 H             1 RES     \\n      78 H           18.6912    19.5963     1.0367 H             1 RES     \\n      79 H           16.4873    20.2393    -2.9903 H             1 RES     \\n      80 H           15.4569    21.6720    -4.7330 H             1 RES     \\n      81 H           12.5641    25.6608    -4.2721 H             1 RES     \\n      82 H           12.2732    28.1294    -4.2698 H             1 RES     \\n      83 H           14.2579    29.6130    -4.1685 H             1 RES     \\n      84 H           16.5416    28.6459    -4.2719 H             1 RES     \\n      85 H           16.8431    26.2035    -4.4701 H             1 RES     \\n      86 H           16.2741    25.1432    -2.2828 H             1 RES     \\n      87 H           17.5016    23.7529    -0.7178 H             1 RES     \\n      88 H           15.5505    22.4639     0.2772 H             1 RES     \\n      89 H           14.7500    22.2036     2.5322 H             1 RES     \\n      90 H           13.7457    19.9164     2.4086 H             1 RES     \\n      91 H           11.4809    19.2483     2.8695 H             1 RES     \\n      92 H           11.6665    16.8936     3.7156 H             1 RES     \\n      93 H           10.7786    14.8201     2.8665 H             1 RES     \\n      94 H           10.4573    13.3296     4.9035 H             1 RES     \\n      95 H           11.8952    11.3836     4.6342 H             1 RES     \\n      96 H           11.2744     9.5749     3.0761 H             1 RES     \\n      97 H            9.2290     8.4501     4.0454 H             1 RES     \\n      98 H            9.7317     6.1146     4.5077 H             1 RES     \\n      99 H            9.7952     4.4633     2.6802 H             1 RES     \\n     100 H            7.5385     3.9734     1.8903 H             1 RES     \\n     101 H            6.3226     1.8853     1.8274 H             1 RES     \\n     102 H            4.8060     2.2706    -0.2079 H             1 RES     \\n     103 H            2.4385     2.0427    -0.8470 H             1 RES     \\n@<TRIPOS>BOND\\n       1        3        2 1\\n       2       65       66 1\\n       3       62       99 1\\n       4       18       19 1\\n       5       22       23 1\\n       6       85       48 1\\n       7       70        9 1\\n       8       40       41 1\\n       9       60       61 1\\n      10       61       62 1\\n      11       33       34 1\\n      12       72       18 1\\n      13       54       27 1\\n      14        3        4 1\\n      15        1        2 1\\n      16       18       17 1\\n      17       51       35 1\\n      18       58       95 1\\n      19       71       14 1\\n      20       25       26 1\\n      21       78       34 1\\n      22       49       50 1\\n      23       59       96 1\\n      24       75       28 1\\n      25       36       37 1\\n      26       31       30 1\\n      27       37       50 1\\n      28       54       91 1\\n      29       64      101 1\\n      30       90       53 1\\n      31       25       27 1\\n      32       35       34 1\\n      33       73       22 1\\n      34       80       39 1\\n      35       56       55 1\\n      36       10       11 1\\n      37       16       17 1\\n      38       56       93 1\\n      39       33       32 1\\n      40       60       15 1\\n      41       20       19 1\\n      42       66        2 1\\n      43       57       94 1\\n      44       55       24 1\\n      45       68        4 1\\n      46       86       49 1\\n      47       61       98 1\\n      48       64       63 1\\n      49       24       25 1\\n      50       15       16 1\\n      51       59       58 1\\n      52       42       41 1\\n      53       45       46 1\\n      54       60       97 1\\n      55       67        3 1\\n      56       43       44 1\\n      57       55       92 1\\n      58       48       43 1\\n      59       89       52 1\\n      60       57       19 1\\n      61       76       29 1\\n      62        8       69 1\\n      63       47       46 1\\n      64       63      100 1\\n      65       11       12 1\\n      66       81       44 1\\n      67       87       50 1\\n      68       48       47 1\\n      69       53       30 1\\n      70       54       53 1\\n      71        7       64 1\\n      72       10        9 1\\n      73       43       41 1\\n      74       88       51 1\\n      75       20       21 1\\n      76       79       38 1\\n      77       65      102 1\\n      78        6        7 1\\n      79        7        8 1\\n      80       31       32 1\\n      81       38       39 1\\n      82       82       45 1\\n      83       77       33 1\\n      84        8        9 1\\n      85       27       28 1\\n      86       52       51 1\\n      87       83       46 1\\n      88       66      103 1\\n      89       14       13 1\\n      90       38       37 1\\n      91       59       17 1\\n      92       57       58 1\\n      93       84       47 1\\n      94        6        5 1\\n      95       40       49 1\\n      96       15       14 1\\n      97        5        4 1\\n      98       74       23 1\\n      99       24       23 1\\n     100        5       65 1\\n     101       52       32 1\\n     102       29       30 1\\n     103       45       44 1\\n     104       35       36 1\\n     105       29       28 1\\n     106       11       13 1\\n     107       39       40 1\\n     108       62       13 1\\n     109       63       10 1\\n     110       21       22 1\\n     111       56       21 1\\n@<TRIPOS>SUBSTRUCTURE\\n       1 RES             1 RESIDUE    0 **** ROOT      0\\n\",\"mol2\");\n",
       "\tviewer_16019392497292628.setStyle({\"stick\": {\"radius\": 0.2, \"color\": \"grey\"}, \"sphere\": {\"scale\": 0.3, \"colorscheme\": {}}});\n",
       "\tviewer_16019392497292628.zoomTo();\n",
       "viewer_16019392497292628.render();\n",
       "});\n",
       "</script>"
      ]
     },
     "metadata": {},
     "output_type": "display_data"
    }
   ],
   "source": [
    "smiles_utils.viz(poly_string, deep=True)"
   ]
  },
  {
   "cell_type": "code",
   "execution_count": null,
   "metadata": {},
   "outputs": [],
   "source": []
  },
  {
   "cell_type": "code",
   "execution_count": 24,
   "metadata": {},
   "outputs": [
    {
     "name": "stderr",
     "output_type": "stream",
     "text": [
      "/home/chris/miniconda3/envs/uli/lib/python3.7/site-packages/ipykernel/ipkernel.py:287: DeprecationWarning: `should_run_async` will not call `transform_cell` automatically in the future. Please pass the result to `transformed_cell` argument and any exception that happen during thetransform in `preprocessing_exc_tuple` in IPython 7.17 and above.\n",
      "  and should_run_async(code)\n"
     ]
    }
   ],
   "source": [
    "def build_system(packing='bcc'):\n",
    "    '''\n",
    "    Generate a simple LJ particle system using hoomd's create_lattice function\n",
    "    packing \n",
    "    '''\n",
    "    hoomd.context.initialize(\"\")\n",
    "    if packing == 'fcc':\n",
    "        system = hoomd.init.create_lattice(unitcell=(hoomd.lattice.fcc(a=1.58)), n=6)\n",
    "    elif packing == 'bcc':\n",
    "        system = hoomd.init.create_lattice(unitcell=(hoomd.lattice.bcc(a=1.29)), n=6)\n",
    "    hoomd.dump.gsd('{}_system.gsd'.format(packing), group = hoomd.group.all(), period=None, overwrite=True)\n",
    "    return system\n",
    "\n",
    "def hoomd_simulation(system, temp, tau):  \n",
    "    nl = hoomd.md.nlist.cell()\n",
    "    lj = hoomd.md.pair.lj(r_cut=2.5, nlist=nl)\n",
    "    lj.pair_coeff.set('A', 'A', alpha=1.0, epsilon=1.0, sigma=1.0)\n",
    "    hoomd.md.integrate.mode_standard(dt=0.001)\n",
    "    _all = hoomd.group.all()\n",
    "    nvt = hoomd.md.integrate.nvt(group=_all, kT=temp, tau=tau)\n",
    "    nvt.randomize_velocities(seed=23)\n",
    "    hoomd.analyze.log(filename='{}-tau_out.log'.format(tau),\n",
    "                      quantities=[\"time\", \"temperature\", \"potential_energy\"],\n",
    "                      period=100,\n",
    "                      overwrite=True\n",
    "                     )\n",
    "    #hoomd.dump.gsd('tau-trajectory.gsd', period=5e3, group=_all, overwrite=True)\n",
    "    hoomd.run(3e5)"
   ]
  },
  {
   "cell_type": "markdown",
   "metadata": {},
   "source": [
    "# --------------------------------------------------------\n",
    "\n",
    "PEEK:  \n",
    "1 amu = 1.66054e-24 g  \n",
    "1.32 g/cm^3  \n",
    "1.32 g/nm^3  \n",
    "C19H12O3  \n",
    "monomer_amu = 288.302  "
   ]
  },
  {
   "cell_type": "code",
   "execution_count": 6,
   "metadata": {},
   "outputs": [],
   "source": [
    "def build_peek_system(num_mols, poly_length, density):\n",
    "    '''\n",
    "    This function uses mBuild's packing functionality to create a very low dense system of molecules\n",
    "    to allow for easier packing. A short simulation is then ran using HoomD to shrink the system to the\n",
    "    desired starting density.\n",
    "    '''\n",
    "    peek_poly_smi = polysmiles.poly_smiles('occccC=O)ccccOcc*c*ccc6)))))))cc6)))))))cc6',\n",
    "                                      length=poly_length)\n",
    "    peek_poly = mb.load(peek_poly_smi, smiles=True)\n",
    "    \n",
    "    mol_amu = poly_length * 288.302\n",
    "    mol_grams = mol_amu * 1.66054e-24\n",
    "    system_mass = mol_grams * num_mols\n",
    "    edge_cm = (system_mass / density)**(1/3)\n",
    "    edge_nm = edge_cm * 1e7\n",
    "\n",
    "    init_box = mb.Box([edge_nm*5]*3)\n",
    "    print(init_box)\n",
    "    system = mb.fill_box(peek_poly, num_mols, init_box)\n",
    "    \n",
    "    gaff = Forcefield(forcefield_files='files/gaff.xml')\n",
    "    system_pmd = gaff.apply(system)\n",
    "    create_hoomd_simulation(system_pmd, r_cut=1.2, auto_scale=True)\n",
    "    forces = [f for f in hoomd.context.current.forces \n",
    "                if not isinstance(f, hoomd.md.charge.pppm)]\n",
    "    \n",
    "    hoomd.context.current.forces = forces\n",
    "    _all = hoomd.group.all()\n",
    "    hoomd.md.integrate.mode_standard(dt=0.0001)\n",
    "    integrator = hoomd.md.integrate.nvt(group=_all, kT=2.0, tau=0.1)\n",
    "    hoomd.dump.gsd(\"trajectories/start-shrink.gsd\", period=None, group=_all, overwrite=True)\n",
    "    hoomd.dump.gsd(\"trajectories/traj-shrink.gsd\", period=1e5, group=_all, phase=0, overwrite=True)\n",
    "    integrator.randomize_velocities(seed=42);\n",
    "\n",
    "    hoomd.update.box_resize(L = hoomd.variant.linear_interp([(0,edge_nm*50), (1e6,edge_nm*10)], zero=0))\n",
    "    hoomd.run(1e6)\n",
    "    gsd_restart = hoomd.dump.gsd(\"trajectories/out-shrink.gsd\", period=None, group=_all, overwrite=True)\n",
    "    gsd_restart.write_restart()"
   ]
  },
  {
   "cell_type": "code",
   "execution_count": 7,
   "metadata": {},
   "outputs": [
    {
     "name": "stdout",
     "output_type": "stream",
     "text": [
      "Box(mins=[0. 0. 0.], maxs=[23.18757104 23.18757104 23.18757104], angles=[90. 90. 90.])\n"
     ]
    },
    {
     "name": "stderr",
     "output_type": "stream",
     "text": [
      "/home/chris/cme/forks/foyer/foyer/forcefield.py:449: UserWarning: No force field version number found in force field XML file.\n",
      "  'No force field version number found in force field XML file.'\n",
      "/home/chris/cme/forks/foyer/foyer/forcefield.py:461: UserWarning: No force field name found in force field XML file.\n",
      "  'No force field name found in force field XML file.'\n",
      "/home/chris/cme/forks/foyer/foyer/validator.py:132: ValidationWarning: You have empty smart definition(s)\n",
      "  warn(\"You have empty smart definition(s)\", ValidationWarning)\n"
     ]
    },
    {
     "name": "stdout",
     "output_type": "stream",
     "text": [
      "HOOMD-blue v2.9.0-16-g08515af02 CUDA (10.1) DOUBLE HPMC_MIXED MPI SSE SSE2 SSE3 SSE4_1 SSE4_2 AVX AVX2 \n",
      "Compiled: 05/12/2020\n",
      "Copyright (c) 2009-2019 The Regents of the University of Michigan.\n",
      "-----\n",
      "You are using HOOMD-blue. Please cite the following:\n",
      "* J A Anderson, C D Lorenz, and A Travesset. \"General purpose molecular dynamics\n",
      "  simulations fully implemented on graphics processing units\", Journal of\n",
      "  Computational Physics 227 (2008) 5342--5359\n",
      "* J Glaser, T D Nguyen, J A Anderson, P Lui, F Spiga, J A Millan, D C Morse, and\n",
      "  S C Glotzer. \"Strong scaling of general-purpose molecular dynamics simulations\n",
      "  on GPUs\", Computer Physics Communications 192 (2015) 97--107\n",
      "-----\n",
      "HOOMD-blue is running on the following GPU(s):\n",
      " [0]      GeForce RTX 2070  36 SM_7.5 @ 1.44 GHz, 7982 MiB DRAM, DIS, MNG\n"
     ]
    },
    {
     "name": "stderr",
     "output_type": "stream",
     "text": [
      "/home/chris/cme/forks/foyer/foyer/forcefield.py:267: UserWarning: Parameters have not been assigned to all impropers. Total system impropers: 4750, Parameterized impropers: 3350. Note that if your system contains torsions of Ryckaert-Bellemans functional form, all of these torsions are processed as propers\n",
      "  warnings.warn(msg)\n"
     ]
    },
    {
     "name": "stdout",
     "output_type": "stream",
     "text": [
      "notice(2): Group \"all\" created containing 8550 particles\n",
      "notice(2): -- Neighborlist exclusion statistics -- :\n",
      "notice(2): Particles with 3 exclusions             : 3350\n",
      "notice(2): Particles with 6 exclusions             : 450\n",
      "notice(2): Particles with 7 exclusions             : 3350\n",
      "notice(2): Particles with 8 exclusions             : 900\n",
      "notice(2): Particles with 9 exclusions             : 500\n",
      "notice(2): Neighbors included by diameter          : no\n",
      "notice(2): Neighbors excluded when in the same body: no\n",
      "Processing LJ and QQ\n",
      "notice(2): Group \"charged\" created containing 0 particles\n",
      "No charged groups found, ignoring electrostatics\n",
      "Processing 1-4 interactions, adjusting neighborlist exclusions\n",
      "Processing harmonic bonds\n",
      "Processing harmonic angles\n",
      "Processing periodic torsions\n",
      "HOOMD SimulationContext updated from ParmEd Structure\n",
      "** starting run **\n",
      "Time 00:00:10 | Step 8002 / 1000000 | TPS 800.187 | ETA 00:20:39\n",
      "Time 00:00:20 | Step 16281 / 1000000 | TPS 827.894 | ETA 00:19:48\n",
      "Time 00:00:30 | Step 24502 / 1000000 | TPS 822.042 | ETA 00:19:46\n",
      "Time 00:00:40 | Step 32749 / 1000000 | TPS 824.637 | ETA 00:19:32\n",
      "Time 00:00:50 | Step 40970 / 1000000 | TPS 822.079 | ETA 00:19:26\n",
      "Time 00:01:00 | Step 48703 / 1000000 | TPS 773.292 | ETA 00:20:30\n",
      "Time 00:01:10 | Step 56858 / 1000000 | TPS 815.421 | ETA 00:19:16\n",
      "Time 00:01:20 | Step 65075 / 1000000 | TPS 821.67 | ETA 00:18:57\n",
      "Time 00:01:30 | Step 73259 / 1000000 | TPS 818.339 | ETA 00:18:52\n",
      "Time 00:01:40 | Step 81442 / 1000000 | TPS 818.248 | ETA 00:18:42\n",
      "Time 00:01:50 | Step 89622 / 1000000 | TPS 817.929 | ETA 00:18:33\n",
      "Time 00:02:01 | Step 96745 / 1000000 | TPS 647.332 | ETA 00:23:15\n",
      "Time 00:02:12 | Step 103615 / 1000000 | TPS 625.262 | ETA 00:23:53\n",
      "Time 00:02:22 | Step 111601 / 1000000 | TPS 796.13 | ETA 00:18:35\n",
      "Time 00:02:32 | Step 119489 / 1000000 | TPS 788.737 | ETA 00:18:36\n",
      "Time 00:02:42 | Step 127077 / 1000000 | TPS 758.752 | ETA 00:19:10\n",
      "Time 00:02:52 | Step 134889 / 1000000 | TPS 781.18 | ETA 00:18:27\n",
      "Time 00:03:02 | Step 142955 / 1000000 | TPS 806.548 | ETA 00:17:42\n",
      "Time 00:03:12 | Step 151049 / 1000000 | TPS 809.327 | ETA 00:17:28\n",
      "Time 00:03:22 | Step 159152 / 1000000 | TPS 810.251 | ETA 00:17:17\n",
      "Time 00:03:32 | Step 167285 / 1000000 | TPS 813.275 | ETA 00:17:03\n",
      "Time 00:03:42 | Step 175456 / 1000000 | TPS 817.068 | ETA 00:16:49\n",
      "Time 00:03:52 | Step 183632 / 1000000 | TPS 817.537 | ETA 00:16:38\n",
      "Time 00:04:02 | Step 191841 / 1000000 | TPS 820.813 | ETA 00:16:24\n",
      "Time 00:04:12 | Step 200064 / 1000000 | TPS 822.268 | ETA 00:16:12\n",
      "Time 00:04:22 | Step 208075 / 1000000 | TPS 801.035 | ETA 00:16:28\n",
      "Time 00:04:32 | Step 216198 / 1000000 | TPS 812.289 | ETA 00:16:04\n",
      "Time 00:04:42 | Step 224358 / 1000000 | TPS 815.952 | ETA 00:15:50\n",
      "Time 00:04:52 | Step 232554 / 1000000 | TPS 819.536 | ETA 00:15:36\n",
      "Time 00:05:02 | Step 240901 / 1000000 | TPS 822.037 | ETA 00:15:23\n",
      "Time 00:05:13 | Step 249601 / 1000000 | TPS 827.4 | ETA 00:15:06\n",
      "Time 00:05:23 | Step 258197 / 1000000 | TPS 827.818 | ETA 00:14:56\n",
      "Time 00:05:34 | Step 266875 / 1000000 | TPS 829.587 | ETA 00:14:43\n",
      "Time 00:05:44 | Step 275388 / 1000000 | TPS 825.89 | ETA 00:14:37\n",
      "Time 00:05:54 | Step 284101 / 1000000 | TPS 831.044 | ETA 00:14:21\n",
      "Time 00:06:05 | Step 292634 / 1000000 | TPS 832.318 | ETA 00:14:09\n",
      "Time 00:06:15 | Step 301431 / 1000000 | TPS 853.39 | ETA 00:13:38\n",
      "Time 00:06:25 | Step 311825 / 1000000 | TPS 1039.36 | ETA 00:11:02\n",
      "Time 00:06:35 | Step 322201 / 1000000 | TPS 1037.46 | ETA 00:10:53\n",
      "Time 00:06:45 | Step 332636 / 1000000 | TPS 1043.43 | ETA 00:10:39\n",
      "Time 00:06:55 | Step 343116 / 1000000 | TPS 1047.99 | ETA 00:10:26\n",
      "Time 00:07:05 | Step 353008 / 1000000 | TPS 988.789 | ETA 00:10:54\n",
      "Time 00:07:15 | Step 363498 / 1000000 | TPS 1048.98 | ETA 00:10:06\n",
      "Time 00:07:25 | Step 374031 / 1000000 | TPS 1053.26 | ETA 00:09:54\n",
      "Time 00:07:35 | Step 384594 / 1000000 | TPS 1056.27 | ETA 00:09:42\n",
      "Time 00:07:45 | Step 395174 / 1000000 | TPS 1057.94 | ETA 00:09:31\n",
      "Time 00:07:55 | Step 405246 / 1000000 | TPS 1007.17 | ETA 00:09:50\n",
      "Time 00:08:05 | Step 415868 / 1000000 | TPS 1062.13 | ETA 00:09:09\n",
      "Time 00:08:15 | Step 426509 / 1000000 | TPS 1064.02 | ETA 00:08:58\n",
      "Time 00:08:25 | Step 437170 / 1000000 | TPS 1066.06 | ETA 00:08:47\n",
      "Time 00:08:35 | Step 447804 / 1000000 | TPS 1063.31 | ETA 00:08:39\n",
      "Time 00:08:45 | Step 458078 / 1000000 | TPS 1027.35 | ETA 00:08:47\n",
      "Time 00:08:55 | Step 468785 / 1000000 | TPS 1070.63 | ETA 00:08:16\n",
      "Time 00:09:05 | Step 479498 / 1000000 | TPS 1071.22 | ETA 00:08:05\n",
      "Time 00:09:15 | Step 490227 / 1000000 | TPS 1072.87 | ETA 00:07:55\n",
      "Time 00:09:25 | Step 500216 / 1000000 | TPS 998.834 | ETA 00:08:20\n",
      "Time 00:09:35 | Step 510916 / 1000000 | TPS 1069.93 | ETA 00:07:37\n",
      "Time 00:09:45 | Step 521694 / 1000000 | TPS 1077.74 | ETA 00:07:23\n",
      "Time 00:09:55 | Step 532488 / 1000000 | TPS 1079.33 | ETA 00:07:13\n",
      "Time 00:10:05 | Step 542987 / 1000000 | TPS 1049.82 | ETA 00:07:15\n",
      "Time 00:10:15 | Step 553817 / 1000000 | TPS 1082.95 | ETA 00:06:52\n",
      "Time 00:10:25 | Step 564637 / 1000000 | TPS 1082 | ETA 00:06:42\n",
      "Time 00:10:35 | Step 575465 / 1000000 | TPS 1082.77 | ETA 00:06:32\n",
      "Time 00:10:45 | Step 586039 / 1000000 | TPS 1057.38 | ETA 00:06:31\n",
      "Time 00:10:55 | Step 596876 / 1000000 | TPS 1083.6 | ETA 00:06:12\n",
      "Time 00:11:05 | Step 607704 / 1000000 | TPS 1082.77 | ETA 00:06:02\n",
      "Time 00:11:15 | Step 618554 / 1000000 | TPS 1084.98 | ETA 00:05:51\n",
      "Time 00:11:25 | Step 629244 / 1000000 | TPS 1068.95 | ETA 00:05:46\n",
      "Time 00:11:35 | Step 640130 / 1000000 | TPS 1088.54 | ETA 00:05:30\n",
      "Time 00:11:45 | Step 651030 / 1000000 | TPS 1089.99 | ETA 00:05:20\n",
      "Time 00:11:55 | Step 661945 / 1000000 | TPS 1091.45 | ETA 00:05:09\n",
      "Time 00:12:05 | Step 672706 / 1000000 | TPS 1076.04 | ETA 00:05:04\n",
      "Time 00:12:15 | Step 683643 / 1000000 | TPS 1093.69 | ETA 00:04:49\n",
      "Time 00:12:25 | Step 694588 / 1000000 | TPS 1094.4 | ETA 00:04:39\n",
      "Time 00:12:35 | Step 705494 / 1000000 | TPS 1090.5 | ETA 00:04:30\n",
      "Time 00:12:45 | Step 716345 / 1000000 | TPS 1085.04 | ETA 00:04:21\n",
      "Time 00:12:55 | Step 727339 / 1000000 | TPS 1099.32 | ETA 00:04:08\n",
      "Time 00:13:05 | Step 738340 / 1000000 | TPS 1100.09 | ETA 00:03:57\n",
      "Time 00:13:15 | Step 749345 / 1000000 | TPS 1100.49 | ETA 00:03:47\n",
      "Time 00:13:25 | Step 760246 / 1000000 | TPS 1090.03 | ETA 00:03:39\n",
      "Time 00:13:35 | Step 771252 / 1000000 | TPS 1100.54 | ETA 00:03:27\n",
      "Time 00:13:45 | Step 782201 / 1000000 | TPS 1094.9 | ETA 00:03:18\n",
      "Time 00:13:55 | Step 793119 / 1000000 | TPS 1091.79 | ETA 00:03:09\n",
      "Time 00:14:05 | Step 804122 / 1000000 | TPS 1100.24 | ETA 00:02:58\n",
      "Time 00:14:15 | Step 815154 / 1000000 | TPS 1103.19 | ETA 00:02:47\n",
      "Time 00:14:25 | Step 826184 / 1000000 | TPS 1102.9 | ETA 00:02:37\n",
      "Time 00:14:35 | Step 837151 / 1000000 | TPS 1096.62 | ETA 00:02:28\n",
      "Time 00:14:45 | Step 848195 / 1000000 | TPS 1104.3 | ETA 00:02:17\n",
      "Time 00:14:55 | Step 859241 / 1000000 | TPS 1104.58 | ETA 00:02:07\n",
      "Time 00:15:05 | Step 870296 / 1000000 | TPS 1105.43 | ETA 00:01:57\n",
      "Time 00:15:15 | Step 881300 / 1000000 | TPS 1100.31 | ETA 00:01:47\n",
      "Time 00:15:25 | Step 892359 / 1000000 | TPS 1105.87 | ETA 00:01:37\n",
      "Time 00:15:35 | Step 903412 / 1000000 | TPS 1105.29 | ETA 00:01:27\n",
      "Time 00:15:45 | Step 914451 / 1000000 | TPS 1103.87 | ETA 00:01:17\n",
      "Time 00:15:55 | Step 925524 / 1000000 | TPS 1107.27 | ETA 00:01:07\n",
      "Time 00:16:05 | Step 936600 / 1000000 | TPS 1107.6 | ETA 00:00:57\n",
      "Time 00:16:15 | Step 947661 / 1000000 | TPS 1106.08 | ETA 00:00:47\n",
      "Time 00:16:25 | Step 958701 / 1000000 | TPS 1103.92 | ETA 00:00:37\n",
      "Time 00:16:35 | Step 969753 / 1000000 | TPS 1105.11 | ETA 00:00:27\n",
      "Time 00:16:45 | Step 980809 / 1000000 | TPS 1105.57 | ETA 00:00:17\n",
      "Time 00:16:55 | Step 991871 / 1000000 | TPS 1106.19 | ETA 00:00:07\n",
      "Time 00:17:02 | Step 1000000 / 1000000 | TPS 1107.16 | ETA 00:00:00\n",
      "Average TPS: 978.207\n",
      "---------\n",
      "-- Neighborlist stats:\n",
      "3511 normal updates / 3334 forced updates / 0 dangerous updates\n",
      "n_neigh_min: 5 / n_neigh_max: 37 / n_neigh_avg: 15.5371\n",
      "shortest rebuild period: 4\n",
      "-- Cell list stats:\n",
      "Dimension: 28, 28, 28\n",
      "n_min    : 0 / n_max: 16 / n_avg: 0.389486\n",
      "** run complete **\n"
     ]
    }
   ],
   "source": [
    "build_peek_system(num_mols=50, poly_length=5, density=1.2)"
   ]
  }
 ],
 "metadata": {
  "kernelspec": {
   "display_name": "Python 3",
   "language": "python",
   "name": "python3"
  },
  "language_info": {
   "codemirror_mode": {
    "name": "ipython",
    "version": 3
   },
   "file_extension": ".py",
   "mimetype": "text/x-python",
   "name": "python",
   "nbconvert_exporter": "python",
   "pygments_lexer": "ipython3",
   "version": "3.7.8"
  }
 },
 "nbformat": 4,
 "nbformat_minor": 4
}
