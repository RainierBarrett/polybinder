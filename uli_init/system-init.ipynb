{
 "cells": [
  {
   "cell_type": "code",
   "execution_count": 1,
   "metadata": {},
   "outputs": [],
   "source": [
    "import json\n",
    "import os\n",
    "import random\n",
    "import numpy as np\n",
    "from utils import smiles_utils\n",
    "from utils import polysmiles\n",
    "from utils import base_units\n",
    "import hoomd\n",
    "import mbuild as mb\n",
    "from mbuild.formats.hoomd_simulation import create_hoomd_simulation\n",
    "import foyer\n",
    "from foyer import Forcefield\n",
    "import py3Dmol\n",
    "import ele\n",
    "import warnings\n",
    "import operator\n",
    "from collections import namedtuple\n",
    "import matplotlib.pyplot as plt\n",
    "\n",
    "warnings.filterwarnings('ignore')\n",
    "units = base_units.base_units()"
   ]
  },
  {
   "cell_type": "markdown",
   "metadata": {},
   "source": [
    "# Recovering Molar Mass Distributions"
   ]
  },
  {
   "cell_type": "markdown",
   "metadata": {},
   "source": [
    "### Assuming Gaussian Distribution\n",
    "In this cell, we assume the molar masses are normally distributed. Our goal is to take in any two of $M_n$, $M_w$, and the $PDI$ ($PDI=\\frac{M_w}{M_n}$)"
   ]
  },
  {
   "cell_type": "code",
   "execution_count": 2,
   "metadata": {},
   "outputs": [
    {
     "name": "stdout",
     "output_type": "stream",
     "text": [
      "M_n: 50.0\n",
      "M_w: 55.803129302993376\n",
      "Recovered sigma: 290.1564651496688\n",
      "Actual sigma: 301.0\n",
      "76.47301319723567\n"
     ]
    },
    {
     "data": {
      "image/png": "[encoded data removed]",
      "text/plain": [
       "<Figure size 432x288 with 1 Axes>"
      ]
     },
     "metadata": {
      "needs_background": "light"
     },
     "output_type": "display_data"
    }
   ],
   "source": [
    "\n",
    "# With numerical integration, we don't recover exact sigma, but the distribution is close\n",
    "x_max = 100\n",
    "N = 1e3\n",
    "sigma = 301.\n",
    "x = np.linspace(0, x_max, round(N)+1)\n",
    "y = N*np.exp(-(x-50.)**2/(2.*sigma))\n",
    "M_n = np.sum(np.multiply(x,y))/np.sum(y)\n",
    "# Notice if we replace the numerical integral with analytical form of M_w, we get exact agreement\n",
    "M_w = np.sum(y*x**2)/np.sum(y*x)# (M_n**2 + sigma)/M_n\n",
    "plt.plot(x, y, label='True Distribution')\n",
    "plt.xlim(0, 100.)\n",
    "plt.vlines(M_n, 0, N, 'C1', label='M_n')\n",
    "plt.vlines(M_w, 0, N, 'C2', label='M_w')\n",
    "\n",
    "def recovered_gauss_sigma(Mn, Mw):\n",
    "    return Mn * (Mw - Mn)\n",
    "\n",
    "def gauss(x, mu, sigma, N=1000):\n",
    "    return N * np.exp(-(x - mu)**2 / (2. * sigma))\n",
    "\n",
    "recovered_sig = recovered_gauss_sigma(M_n, M_w)\n",
    "\n",
    "print(f'M_n: {M_n}\\nM_w: {M_w}\\nRecovered sigma: {recovered_sig}\\nActual sigma: {sigma}')\n",
    "\n",
    "\n",
    "y2 = gauss(x, mu=M_n, sigma=recovered_sig, N=N)\n",
    "#plt.plot(x,y2, ':', lw=3, color='k', label='Recovered Distribution')\n",
    "plt.legend()\n",
    "plt.savefig('gaussian_mass_dist_true.svg')\n",
    "mse = np.mean((y2-y)**2)\n",
    "print(mse)\n",
    "# TODO: Maybe play around with a Weibull distro and see how that compares"
   ]
  },
  {
   "cell_type": "code",
   "execution_count": 3,
   "metadata": {},
   "outputs": [],
   "source": [
    "def weibull_k_expression(x, Mn, Mw):\n",
    "    return (2. * x * gamma(2./x)) / gamma(1./x)**2 - (Mw / Mn)\n",
    "\n",
    "def weibull_lambda_expression(Mn, k):\n",
    "    return(Mn * k / gamma(1./k))\n",
    "\n",
    "def recover_mass_dist(Mn=None, Mw=None, pdi=None, distribution='Gaussian'):\n",
    "    '''This function takes in two of the three quantities [Mn, Mw, PDI],\n",
    "       and fits either a Gaussian or Weibull distribution of molar masses to them.'''\n",
    "    if distribution.lower() != 'gaussian' and distribution.lower() != 'weibull':\n",
    "        raise(ValueError('Distribution must be either \"gaussian\" or \"weibull\".'))\n",
    "    pdi_arg_sum = sum([x is not None for x in [pdi, Mn, Mw]])\n",
    "    assert pdi_arg_sum >= 2, 'At least two of [pdi, M_n, M_w] must be given.'\n",
    "    if pdi_arg_sum == 3:\n",
    "        #special case, make sure that pdi = M_w / M_n\n",
    "        assert pdi - (Mw/Mn) < 1e-5, 'PDI value does not match M_n and M_w values.'\n",
    "    else:\n",
    "        # need to recover one of M_w or M_n or pdi\n",
    "        if Mn is None:\n",
    "            Mn = Mw / pdi\n",
    "        if Mw is None:\n",
    "            Mw = pdi * Mn\n",
    "        if pdi is None:\n",
    "            pdi = Mw / Mn\n",
    "    if distribution.lower() == 'gaussian':\n",
    "        mean = Mn\n",
    "        sigma = Mn * (Mw - Mn)\n",
    "        return lambda x: np.exp(-(x-Mn)**2 / (2. * sigma))\n",
    "    elif distribution.lower() == 'weibull':\n",
    "        # get the shape parameter\n",
    "        a = scipy.optimize.root(f1, args=(weib_M_n, weib_M_w), x0=1.)\n",
    "        recovered_k = a['x']\n",
    "        # get the scale parameter\n",
    "        recovered_lambda = f2(Mn, recovered_k)\n",
    "        return lambda x: ( recovered_k / recovered_lambda * (x / recovered_lambda) ** (recovered_k - 1) * np.exp(- (x / recovered_lambda) ** recovered_k) )"
   ]
  },
  {
   "cell_type": "markdown",
   "metadata": {},
   "source": [
    "Now let's examine how close we actually get, as a function of $N$"
   ]
  },
  {
   "cell_type": "code",
   "execution_count": 4,
   "metadata": {},
   "outputs": [
    {
     "name": "stdout",
     "output_type": "stream",
     "text": [
      "[0.7058724306388201, 0.7358354448644935, 0.746001904047329, 0.7511188580538044, 0.7541998482585397, 0.7603862143493916, 0.7653587607673752, 0.7659817971558542, 0.766480461345451, 0.7665428090638243, 0.7665926895900458, 0.7665989248027029, 0.7666039129962168, 0.7666045365230392]\n"
     ]
    },
    {
     "data": {
      "image/png": "[encoded data removed]",
      "text/plain": [
       "<Figure size 432x288 with 1 Axes>"
      ]
     },
     "metadata": {
      "needs_background": "light"
     },
     "output_type": "display_data"
    }
   ],
   "source": [
    "N_vals = [1e2, 2e2, 3e2, 4e2, 5e2, 1e3, 5e3, 1e4, 5e4, 1e5, 5e5, 1e6, 5e6, 1e7]\n",
    "mse_vals = []\n",
    "sigma = 301.\n",
    "for N in N_vals:\n",
    "    N = round(N)\n",
    "    x = np.linspace(0, x_max, N+1)\n",
    "    y = N * np.exp(-(x - 50.)**2 / (2. * sigma))\n",
    "    M_n = np.sum(np.multiply(x, y)) / np.sum(y)\n",
    "    M_w = np.sum(y * x**2)/np.sum(y * x)# (M_n**2 +  sigma)/M_n\n",
    "    recovered_sigma = M_n * (M_w - M_n)\n",
    "    y2 = N * np.exp(-(x - 50.)**2 / (2. * recovered_sigma))\n",
    "    mse_vals.append(np.mean( (100.*(np.abs(y2 - y)/N)) ))\n",
    "print(mse_vals)\n",
    "plt.plot(np.log(N_vals), mse_vals, 'o')\n",
    "plt.xlabel('log($N$)')\n",
    "plt.ylabel('M%E')\n",
    "plt.savefig('gaussian_mse.svg')"
   ]
  },
  {
   "cell_type": "code",
   "execution_count": 5,
   "metadata": {},
   "outputs": [
    {
     "data": {
      "image/png": "[encoded data removed]",
      "text/plain": [
       "<Figure size 432x288 with 1 Axes>"
      ]
     },
     "metadata": {
      "needs_background": "light"
     },
     "output_type": "display_data"
    }
   ],
   "source": [
    "# try it with Weibull\n",
    "def weib(x, shape=1., scale=1., coeff=1.):\n",
    "    return coeff * ( shape / scale * (x / scale) ** (shape - 1) * np.exp(- (x / scale) ** shape) )\n",
    "x = np.linspace(0., 100., 101)\n",
    "scale = 40.\n",
    "shape = 2.\n",
    "plt.figure()\n",
    "plt.plot(x, weib(x, shape, scale, coeff=2000), label='True Distribution')\n",
    "y = weib(x, shape, scale)\n",
    "weib_M_n = np.sum(x*y) / np.sum(y)\n",
    "plt.axvline(x=weib_M_n, color=\"C1\", label=f'$M_n={weib_M_n:.4}$')\n",
    "weib_M_w = np.sum(x**2 * y) / np.sum(x*y)\n",
    "plt.axvline(x=weib_M_w, color=\"C2\", label=f'$M_w={weib_M_w:.4}$')\n",
    "\n",
    "plt.xlabel('Molar Mass')\n",
    "plt.ylabel('Count')\n",
    "plt.legend()\n",
    "plt.savefig('weibull_mass_dist_true.svg')\n",
    "\n",
    "# now to recover the weibull params.\n",
    "# we know M_n = lambda * Gamma(1+1/k)"
   ]
  },
  {
   "cell_type": "code",
   "execution_count": 6,
   "metadata": {},
   "outputs": [
    {
     "name": "stdout",
     "output_type": "stream",
     "text": [
      "the predicted value of lambda with k=2 is: 39.85564436657072 (should be ~40)\n",
      "[2.02200446]\n",
      "recovered lambda: [39.863006]\n"
     ]
    },
    {
     "data": {
      "image/png": "[encoded data removed]",
      "text/plain": [
       "<Figure size 432x288 with 1 Axes>"
      ]
     },
     "metadata": {
      "needs_background": "light"
     },
     "output_type": "display_data"
    }
   ],
   "source": [
    "from scipy.special import gamma\n",
    "import scipy.optimize\n",
    "# expression for k, the shape factor ('x' here)\n",
    "# the point where this function reaches zero is the correct k value\n",
    "def f1(x, Mn, Mw):\n",
    "    return (2. * x * gamma(2./x)) / gamma(1./x)**2 - (Mw / Mn)\n",
    "\n",
    "def f2(Mn, k):\n",
    "    return(Mn * k / gamma(1./k))\n",
    "\n",
    "# if we *know* the k value, does our expression for lambda hold? (should be ~40)\n",
    "print('the predicted value of lambda with k=2 is:', weib_M_n * 2. / gamma(0.5), '(should be ~40)')\n",
    "# good\n",
    "\n",
    "xrange = np.linspace(0,4,101)\n",
    "plt.figure()\n",
    "plt.plot(xrange,f1(xrange,weib_M_n, weib_M_w), label=r'$\\frac{k^2 \\Gamma(\\frac{2+k}{k})}{\\Gamma(1/k)^2}$')\n",
    "plt.plot(xrange, np.zeros_like(xrange), label='$y=0$')\n",
    "plt.ylim(-0.5,1)\n",
    "plt.legend()\n",
    "plt.xlabel('$k$')\n",
    "plt.ylabel('$f(k)$')\n",
    "\n",
    "# try numeric solver\n",
    "a=scipy.optimize.root(f1, args=(weib_M_n, weib_M_w), x0=1.)\n",
    "recovered_k = a['x']\n",
    "print(recovered_k)\n",
    "# Now that we have the shape factor, plug it in to the other expression to solve for lambda\n",
    "# lambda = M_n * k / Gamma(1/k)\n",
    "recovered_lambda = f2(weib_M_n, recovered_k)\n",
    "print('recovered lambda:', recovered_lambda)\n",
    "plt.scatter(recovered_k, 0, color='k')\n",
    "plt.savefig('k_numerical_solution.svg')"
   ]
  },
  {
   "cell_type": "code",
   "execution_count": 7,
   "metadata": {},
   "outputs": [
    {
     "data": {
      "image/png": "[encoded data removed]",
      "text/plain": [
       "<Figure size 432x288 with 1 Axes>"
      ]
     },
     "metadata": {
      "needs_background": "light"
     },
     "output_type": "display_data"
    }
   ],
   "source": [
    "# plot recovered distro and compare\n",
    "x = np.linspace(0., 100., 101)\n",
    "scale = 40.\n",
    "shape = 2.\n",
    "plt.figure()\n",
    "plt.plot(x, weib(x, shape, scale, coeff=2000), label='True Distribution')\n",
    "plt.plot(x, weib(x, recovered_k, recovered_lambda, coeff=2000), label='Recovered Distribution', ls=':', color='k')\n",
    "y = weib(x, shape, scale)\n",
    "weib_M_n = np.sum(x*y) / np.sum(y)\n",
    "plt.axvline(x=weib_M_n, color=\"C1\", label=f'$M_n={weib_M_n:.4}$')\n",
    "weib_M_w = np.sum(x**2 * y) / np.sum(x*y)\n",
    "plt.axvline(x=weib_M_w, color=\"C2\", label=f'$M_w={weib_M_w:.4}$')\n",
    "\n",
    "plt.xlabel('Molar Mass')\n",
    "plt.ylabel('Count')\n",
    "plt.legend()\n",
    "plt.savefig('weibull_mass_dist_recovered.svg')"
   ]
  },
  {
   "cell_type": "code",
   "execution_count": 8,
   "metadata": {},
   "outputs": [
    {
     "data": {
      "text/plain": [
       "[<matplotlib.lines.Line2D at 0x7f8c3e5c1450>]"
      ]
     },
     "execution_count": 8,
     "metadata": {},
     "output_type": "execute_result"
    },
    {
     "data": {
      "image/png": "[encoded data removed]",
      "text/plain": [
       "<Figure size 432x288 with 1 Axes>"
      ]
     },
     "metadata": {
      "needs_background": "light"
     },
     "output_type": "display_data"
    }
   ],
   "source": [
    "f = recover_mass_dist(Mn=weib_M_n, Mw=weib_M_w, pdi=None, distribution='weibull')\n",
    "plt.plot(x, f(x))"
   ]
  },
  {
   "cell_type": "markdown",
   "metadata": {},
   "source": [
    "## Comparing Distributions on Real Data"
   ]
  },
  {
   "cell_type": "code",
   "execution_count": 11,
   "metadata": {},
   "outputs": [
    {
     "name": "stdout",
     "output_type": "stream",
     "text": [
      "PDI: 1.0346695161194526\n",
      "4.3825173904536125\n",
      "0.665878628721637\n",
      "    fjac: array([[-1.]])\n",
      "     fun: array([4.4408921e-16])\n",
      " message: 'The solution converged.'\n",
      "    nfev: 15\n",
      "     qtf: array([-2.60902411e-12])\n",
      "       r: array([0.01022071])\n",
      "  status: 1\n",
      " success: True\n",
      "       x: array([6.26508615])\n",
      "recovered k: [6.26508615]\n",
      "recovered lambda: [4.7127628]\n"
     ]
    },
    {
     "data": {
      "text/plain": [
       "<matplotlib.legend.Legend at 0x7f8c3e54cfd0>"
      ]
     },
     "execution_count": 11,
     "metadata": {},
     "output_type": "execute_result"
    },
    {
     "data": {
      "image/png": "[encoded data removed]",
      "text/plain": [
       "<Figure size 432x288 with 1 Axes>"
      ]
     },
     "metadata": {
      "needs_background": "light"
     },
     "output_type": "display_data"
    }
   ],
   "source": [
    "#TODO: now that this is working, pacakge this into a function\n",
    "\n",
    "pekk_data_time_0 = np.genfromtxt('PEKK_No_Exposure.csv', delimiter=',')\n",
    "\n",
    "# clean web plot digitizer data a bit\n",
    "\n",
    "#pekk_data_time_0[:,1][np.where(pekk_data_time_0[:,1] < 5e-2 and pekk_data_time_0[:,0] > 1e6)] = 0\n",
    "\n",
    "def filter_y(data_arr, high_cut=1e6, low_cut=5e-3):\n",
    "    indices = np.where(data_arr[:,1] < low_cut)\n",
    "    data_arr[indices, 1] = 0\n",
    "    return data_arr\n",
    "\n",
    "plt.figure()\n",
    "data = filter_y(pekk_data_time_0)\n",
    "\n",
    "x, y = np.log10(data[:,0]), data[:,1]\n",
    "plt.plot(x,y/np.sum(y), label='True Distribution')\n",
    "\n",
    "t0_Mn = np.sum(x*y) / np.sum(y)\n",
    "t0_Mw = np.sum(x*x*y) / np.sum(x*y)\n",
    "t0_pdi = t0_Mw / t0_Mn\n",
    "print('PDI:', t0_pdi)\n",
    "plt.axvline((t0_Mn), color='k', ls='-.', label='$M_n$')\n",
    "plt.axvline((t0_Mw), color='k', ls=':', label='$M_w$')\n",
    "\n",
    "print(t0_Mn)\n",
    "\n",
    "# Now recover the distribution with both methods\n",
    "# Gaussian\n",
    "t0_sig = recovered_gauss_sigma(Mn=(t0_Mn), Mw=(t0_Mw))\n",
    "print(t0_sig)\n",
    "gauss_y = gauss((x), mu=(t0_Mn), sigma=t0_sig, N = 1)\n",
    "plt.plot((x), gauss_y/np.sum(gauss_y), label='Gaussian', ls='--')\n",
    "\n",
    "# Weibull \n",
    "a=scipy.optimize.root(lambda x, y, z: f1((x), y, z), args=((t0_Mn), (t0_Mw)), x0=1.)\n",
    "print(a)\n",
    "recovered_k = a['x']\n",
    "print('recovered k:', recovered_k)\n",
    "# Now that we have the shape factor, plug it in to the other expression to solve for lambda\n",
    "# lambda = M_n * k / Gamma(1/k)\n",
    "recovered_lambda = f2((t0_Mn), recovered_k)\n",
    "print('recovered lambda:', recovered_lambda)\n",
    "weib_y = weib(x, recovered_k, recovered_lambda)\n",
    "plt.plot((x), weib_y/np.sum(weib_y), label='Weibull', ls='--')\n",
    "plt.xlabel('Molar Mass (log scale)')\n",
    "plt.ylabel('Probability')\n",
    "plt.legend()"
   ]
  },
  {
   "cell_type": "code",
   "execution_count": 10,
   "metadata": {},
   "outputs": [
    {
     "data": {
      "text/plain": [
       "<matplotlib.lines.Line2D at 0x7f8c3e454f10>"
      ]
     },
     "execution_count": 10,
     "metadata": {},
     "output_type": "execute_result"
    },
    {
     "data": {
      "image/png": "[encoded data removed]",
      "text/plain": [
       "<Figure size 432x288 with 1 Axes>"
      ]
     },
     "metadata": {
      "needs_background": "light"
     },
     "output_type": "display_data"
    }
   ],
   "source": [
    "# Same as above, but with data after 2 hours of heating\n",
    "pekk_data_time_240 = np.genfromtxt('240_Min.csv', delimiter=',')\n",
    "\n",
    "x, y = np.log10(pekk_data_time_240[:,0]), pekk_data_time_240[:,1]\n",
    "\n",
    "plt.plot(x, y/np.sum(y))\n",
    "\n",
    "t240_Mn = np.sum(x*y) / np.sum(y)\n",
    "t240_Mw = np.sum(x*x*y) / np.sum(x*y)\n",
    "\n",
    "gauss_f = recover_mass_dist(Mn=t240_Mn, Mw=t240_Mw, pdi=None, distribution='gaussian')\n",
    "weib_f = recover_mass_dist(Mn=t240_Mn, Mw=t240_Mw, pdi=None, distribution='weibull')\n",
    "\n",
    "plt.plot(x, gauss_f(x)/np.sum(gauss_f(x)))\n",
    "plt.plot(x, weib_f(x)/np.sum(weib_f(x)))\n",
    "\n",
    "plt.axvline(t240_Mn, ls='-.')\n",
    "plt.axvline(t240_Mw, ls=':')"
   ]
  },
  {
   "cell_type": "code",
   "execution_count": 13,
   "metadata": {},
   "outputs": [],
   "source": [
    "class Simulation():\n",
    "    def __init__(self,\n",
    "                 system,\n",
    "                 target_box=None,\n",
    "                 r_cut = 1.2,\n",
    "                 e_factor = 0.5,\n",
    "                 tau = 0.1,\n",
    "                 dt = 0.0001,\n",
    "                 auto_scale = True,\n",
    "                 ref_units = None,\n",
    "                 mode = \"gpu\",\n",
    "                 gsd_write = 1e4,\n",
    "                 log_write = 1e3,\n",
    "                 seed = 42\n",
    "                 ):\n",
    "        \n",
    "        self.system = system \n",
    "        self.system_pmd = system.system_pmd # Parmed structure\n",
    "        self.r_cut = r_cut\n",
    "        self.e_factor = e_factor\n",
    "        self.tau = tau\n",
    "        self.dt = dt\n",
    "        self.auto_scale = auto_scale\n",
    "        self.ref_units = ref_units\n",
    "        self.mode = mode\n",
    "        self.gsd_write = gsd_write\n",
    "        self.log_write = log_write\n",
    "        self.seed = seed\n",
    "\n",
    "        if ref_units and not auto_scale:\n",
    "            self.ref_energy = ref_units['energy']\n",
    "            self.ref_distance = ref_units['distance']\n",
    "            self.ref_mass = ref_units['mass']           \n",
    "        \n",
    "        elif auto_scale and not ref_units: # Pulled from mBuild hoomd_simulation.py\n",
    "            self.ref_mass = max([atom.mass for atom in self.system_pmd.atoms])\n",
    "            pair_coeffs = list(set((atom.type,\n",
    "                                    atom.epsilon,\n",
    "                                    atom.sigma) for atom in self.system_pmd.atoms))\n",
    "            self.ref_energy = max(pair_coeffs, key=operator.itemgetter(1))[1]\n",
    "            self.ref_distance = max(pair_coeffs, key=operator.itemgetter(2))[2]\n",
    "            \n",
    "        self.reduced_target_L = self.system.target_L / self.ref_distance\n",
    "        self.reduced_init_L = self.system_pmd.box[0] / self.ref_distance\n",
    "        if target_box:\n",
    "            self.target_box = target_box\n",
    "        else:\n",
    "            self.target_box = [self.reduced_target_L]*3\n",
    "            \n",
    "        self.log_quantities = [ \n",
    "        \"temperature\",\n",
    "        \"pressure\",\n",
    "        \"volume\",\n",
    "        \"potential_energy\",\n",
    "        \"kinetic_energy\",\n",
    "        \"pair_lj_energy\",\n",
    "        \"bond_harmonic_energy\",\n",
    "        \"angle_harmonic_energy\"\n",
    "        ]\n",
    "    \n",
    "\n",
    "    def quench(self, kT, n_steps, shrink_kT=10, shrink_steps=1e6):\n",
    "        '''\n",
    "        '''\n",
    "        # Get hoomd stuff set:\n",
    "        create_hoomd_simulation(self.system_pmd, self.ref_distance,\n",
    "                                self.ref_mass, self.ref_energy,\n",
    "                                self.r_cut, self.auto_scale)\n",
    "        _all = hoomd.group.all()\n",
    "        hoomd.md.integrate.mode_standard(dt=self.dt)\n",
    "        integrator = hoomd.md.integrate.nvt(group=_all, kT=shrink_kT, tau=self.tau) # shrink temp\n",
    "        integrator.randomize_velocities(seed=self.seed)\n",
    "        \n",
    "        # Set up shrinking box_updater:\n",
    "        shrink_gsd = hoomd.dump.gsd(\"trajectories/traj-shrink.gsd\",\n",
    "                       period=self.gsd_write, group=_all, phase=0, overwrite=True)\n",
    "        x_variant = hoomd.variant.linear_interp([(0, self.reduced_init_L),\n",
    "                                                 (shrink_steps, self.target_box[0]*10)])\n",
    "        y_variant = hoomd.variant.linear_interp([(0, self.reduced_init_L),\n",
    "                                                 (shrink_steps, self.target_box[1]*10)])\n",
    "        z_variant = hoomd.variant.linear_interp([(0, self.reduced_init_L),\n",
    "                                                 (shrink_steps, self.target_box[2]*10)])\n",
    "        box_updater = hoomd.update.box_resize(Lx = x_variant, Ly = y_variant, Lz = z_variant)\n",
    "        \n",
    "        # Run shrink portion of simulation:\n",
    "        hoomd.run_upto(shrink_steps)\n",
    "        shrink_gsd.disable()\n",
    "        box_updater.disable()\n",
    "        \n",
    "        # Start new log and gsd files:\n",
    "        hoomd.dump.gsd(\"trajectories/sim_traj.gsd\",\n",
    "                       period=self.gsd_write,\n",
    "                       group=_all,\n",
    "                       phase=0,\n",
    "                       overwrite=True)\n",
    "        hoomd.analyze.log(\"logs/sim_traj.log\",\n",
    "                          period=self.log_write,\n",
    "                          quantities = self.log_quantities,\n",
    "                          header_prefix=\"#\",\n",
    "                          overwrite=True, phase=0)\n",
    "        # Run primary simulation:\n",
    "        integrator.set_params(kT=kT)\n",
    "        integrator.randomize_velocities(seed=self.seed)\n",
    "        hoomd.run(n_steps+shrink_steps)\n",
    "        \n",
    "        \n",
    "    def anneal(self,\n",
    "              kT_init=None,\n",
    "              kT_final=None,\n",
    "              step_sequence=None,\n",
    "              schedule=None,\n",
    "              shrink_kT=10,\n",
    "              shrink_steps=1e6\n",
    "              ):\n",
    "        \n",
    "        if not schedule:\n",
    "            temps = np.linspace(kT_init, kT_final, len(step_sequence))\n",
    "            temps = [np.round(t, 1) for t in temps]\n",
    "            schedule = dict(zip(temps, step_sequence))          \n",
    "        \n",
    "        # Get hoomd stuff set:\n",
    "        create_hoomd_simulation(self.system_pmd, self.ref_distance,\n",
    "                                self.ref_mass, self.ref_energy,\n",
    "                                self.r_cut, self.auto_scale)\n",
    "        _all = hoomd.group.all()\n",
    "        hoomd.md.integrate.mode_standard(dt=self.dt)\n",
    "        integrator = hoomd.md.integrate.nvt(group=_all, kT=shrink_kT, tau=self.tau) # shrink temp\n",
    "        integrator.randomize_velocities(seed=self.seed)\n",
    "        \n",
    "        # Set up shrinking box_updater:\n",
    "        shrink_gsd = hoomd.dump.gsd(\"trajectories/traj-shrink.gsd\",\n",
    "                       period=self.gsd_write, group=_all, phase=0, overwrite=True)\n",
    "        x_variant = hoomd.variant.linear_interp([(0, self.reduced_init_L),\n",
    "                                                 (shrink_steps, self.target_box[0]*10)])\n",
    "        y_variant = hoomd.variant.linear_interp([(0, self.reduced_init_L),\n",
    "                                                 (shrink_steps, self.target_box[1]*10)])\n",
    "        z_variant = hoomd.variant.linear_interp([(0, self.reduced_init_L),\n",
    "                                                 (shrink_steps, self.target_box[2]*10)])\n",
    "        box_updater = hoomd.update.box_resize(Lx = x_variant, Ly = y_variant, Lz = z_variant)\n",
    "        \n",
    "        hoomd.run_upto(shrink_steps)\n",
    "        print('Shrink step finished.')\n",
    "        self.shrink_gsd.disable()\n",
    "        box_updater.disable()\n",
    "        print('Anneal Schedule:')\n",
    "        print(schedule)\n",
    "        print('-------------------------------')\n",
    "        \n",
    "        # Start annealing steps:\n",
    "        anneal_gsd = hoomd.dump.gsd(\"trajectories/traj-anneal.gsd\",\n",
    "                                   period=self.gsd_write,\n",
    "                                   group=_all,\n",
    "                                   phase=0,\n",
    "                                   overwrite=True)\n",
    "        \n",
    "        hoomd.analyze.log(\"logs/sim_traj.log\",\n",
    "                          period=self.log_write,\n",
    "                          quantities = self.log_quantities,\n",
    "                          header_prefix=\"#\",\n",
    "                          overwrite=True, phase=0)\n",
    "        \n",
    "        last_time_step = shrink_steps\n",
    "        for kT in schedule:\n",
    "            print('Running @ Temp = {}'.format(kT))\n",
    "            n_steps = schedule[kT]\n",
    "            print('Running for {} steps'.format(n_steps))\n",
    "            integrator.set_params(kT=kT)\n",
    "            integrator.randomize_velocities(seed=self.seed)\n",
    "            hoomd.run(last_time_step + n_steps)\n",
    "            last_time_step += n_steps\n",
    "            print('Current time step = {}'.format(last_time_step))\n",
    "            print('-----------------------------------------------')\n",
    "            print()\n",
    "        \n",
    "\n",
    "class System():\n",
    "    \n",
    "    def __init__(self,\n",
    "                 molecule,\n",
    "                 para_weight,\n",
    "                 density,\n",
    "                 n_compounds=None,\n",
    "                 polymer_lengths=None,\n",
    "                 forcefield=None,\n",
    "                 epsilon=1e-7,\n",
    "                 sample_pdi=False,\n",
    "                 pdi=None,\n",
    "                 Mn=None,\n",
    "                 Mw=None,\n",
    "                 mass_dist_type='weibull',\n",
    "                 remove_hydrogens=False,\n",
    "                 assert_dihedrals=True,\n",
    "                 seed=24\n",
    "                ):\n",
    "        self.molecule = molecule\n",
    "        self.para_weight = para_weight\n",
    "        self.density = density\n",
    "        self.target_L = None\n",
    "        self.remove_hydrogens = remove_hydrogens\n",
    "        self.epsilon = epsilon\n",
    "        self.forcefield = forcefield\n",
    "        self.assert_dihedrals = assert_dihedrals\n",
    "        self.seed = seed\n",
    "        self.system_mass = 0\n",
    "        self.para = 0 # keep track for now to check things are working, maybe keep?\n",
    "        self.meta = 0\n",
    "        \n",
    "        if sample_pdi:\n",
    "            if isinstance(n_compounds, list):\n",
    "                raise TypeError('n_compounds should be an integer when sample_pdi is True.')\n",
    "            pdi_arg_sum = sum([x is not None for x in [pdi, Mn, Mw]])\n",
    "            assert pdi_arg_sum >= 2, 'At least two of [pdi, Mn, Mw] must be given.'\n",
    "            if pdi_arg_sum == 3:\n",
    "                #special case, make sure that pdi = Mw / Mn\n",
    "                assert pdi - (Mw/Mn) < self.epsilon, 'PDI value does not match Mn and Mw values.'\n",
    "            else:\n",
    "                # need to recover one of Mw or Mn or pdi\n",
    "                if Mn is None:\n",
    "                    self.Mn = Mw / pdi\n",
    "                if Mw is None:\n",
    "                    self.Mw = pdi * Mn\n",
    "                if pdi is None:\n",
    "                    self.pdi = Mw / Mn # from here\n",
    "                    \n",
    "            # this returns a numpy.random callable set up with recovered parameters\n",
    "            mass_distribution_dict = self._recover_mass_dist(mass_dist_type)\n",
    "            self.mass_sampler = mass_distribution_dict['sampler']\n",
    "            self.mass_distribution = mass_distribution_dict['functional_form']\n",
    "            # TODO: make sure we don't sample any negative weights\n",
    "            samples = np.round(self.mass_sampler(n_compounds)\n",
    "                              ).astype(int)\n",
    "            # get all unique lengths in increasing order\n",
    "            self.polymer_lengths = sorted(list(set(samples)))\n",
    "            # get count of each length\n",
    "            self.n_compounds = [list(samples).count(x) for x in self.polymer_lengths]\n",
    "            print(f'polymer_lengths: {self.polymer_lengths}, n_compounds: {self.n_compounds}')\n",
    "            \n",
    "        else: # Do some validation, get things in the correct data types\n",
    "            if not isinstance(n_compounds, list):\n",
    "                self.n_compounds = [n_compounds]\n",
    "            else:\n",
    "                self.n_compounds = n_compounds\n",
    "\n",
    "            if not isinstance(polymer_lengths, list):\n",
    "                self.polymer_lengths = [polymer_lengths]\n",
    "            else:\n",
    "                self.polymer_lengths = polymer_lengths\n",
    "        \n",
    "        if len(self.n_compounds) != len(self.polymer_lengths):\n",
    "            raise ValueError('n_compounds and polymer_lengths should be equal length')\n",
    "        \n",
    "        self.system_mb = self._pack() # mBuild object before applying FF\n",
    "        if self.forcefield:\n",
    "            self.system_pmd = self._type_system() # parmed object after applying FF\n",
    "        \n",
    "    def _weibull_k_expression(self, x):\n",
    "        return (2. * x * gamma(2./x)) / gamma(1./x)**2 - (self.Mw / self.Mn)\n",
    "    \n",
    "    def _weibull_lambda_expression(self, k):\n",
    "        return self.Mn * k / gamma(1./k)\n",
    "    \n",
    "    def _recover_mass_dist(self, distribution='Gaussian'):\n",
    "        '''This function takes in two of the three quantities [Mn, Mw, PDI],\n",
    "           and fits either a Gaussian or Weibull distribution of molar masses to them.'''\n",
    "        if distribution.lower() != 'gaussian' and distribution.lower() != 'weibull':\n",
    "            raise(ValueError('Molar mass distribution must be either \"gaussian\" or \"weibull\".'))\n",
    "        if distribution.lower() == 'gaussian':\n",
    "            mean = self.Mn\n",
    "            sigma = self.Mn * (self.Mw - self.Mn)\n",
    "            return {'sampler': lambda N: np.random.normal(loc=mean, scale=sigma, size=N),\n",
    "                    'functional_form': np.exp(-(x-Mn)**2 / (2. * sigma))}\n",
    "        elif distribution.lower() == 'weibull':\n",
    "            # get the shape parameter\n",
    "            a = scipy.optimize.root(self._weibull_k_expression, args=(self.Mn, self.Mw), x0=1.)\n",
    "            recovered_k = a['x']\n",
    "            # get the scale parameter\n",
    "            recovered_lambda = self._weibull_lambda_expression(self.Mn, recovered_k)\n",
    "            return {'sampler': lambda N: recovered_lambda * np.random.weibull(recovered_k, size=N),\n",
    "                    'functional_form': recovered_k / recovered_lambda * (x / recovered_lambda) ** (recovered_k - 1) * np.exp(- (x / recovered_lambda) ** recovered_k)}\n",
    "        \n",
    "    def _pack(self, box_expand_factor=5):\n",
    "        random.seed(self.seed)\n",
    "        mb_compounds = []\n",
    "        for _length, _n in zip(self.polymer_lengths, self.n_compounds):\n",
    "            for i in range(_n):\n",
    "                polymer, sequence = build_molecule(self.molecule, _length,\n",
    "                                        self.para_weight)\n",
    "\n",
    "                mb_compounds.append(polymer)\n",
    "                self.para += sequence.count('para')\n",
    "                self.meta += sequence.count('meta')\n",
    "            mass = _n * np.sum(ele.element_from_symbol(p.name).mass for p in polymer.particles())\n",
    "            self.system_mass += mass # amu\n",
    "        \n",
    "        # Figure out correct box dimensions and expand the box to make the PACKMOL step faster\n",
    "        # Will shrink down to accurate L during simulation\n",
    "        L = self._calculate_L() * box_expand_factor\n",
    "        system = mb.packing.fill_box(\n",
    "            compound = mb_compounds,\n",
    "            n_compounds = [1 for i in mb_compounds],\n",
    "            box=[L, L, L],\n",
    "            overlap=0.2,\n",
    "            edge=0.9,\n",
    "            fix_orientation=True)\n",
    "        system.Box = mb.box.Box([L, L, L])\n",
    "        return system\n",
    "    \n",
    "    \n",
    "    def _type_system(self):\n",
    "        if self.forcefield == 'gaff':\n",
    "            forcefield = foyer.forcefields.load_GAFF()\n",
    "        elif self.forcefield == 'opls':\n",
    "            forcefield = foyer.Forcefield(name='oplsaa')\n",
    "        \n",
    "        typed_system = forcefield.apply(self.system_mb,\n",
    "                                       assert_dihedral_params=self.assert_dihedrals)\n",
    "        if self.remove_hydrogens: # not sure how to do this with Parmed yet\n",
    "            removed_hydrogen_count = 0 # subtract from self.mass\n",
    "            pass    \n",
    "        return typed_system\n",
    "    \n",
    "    def _calculate_L(self):\n",
    "        '''\n",
    "        Calcualte the box length needed for entered density\n",
    "        Right now, assuming cubic box\n",
    "        Return L in nm (mBuild units)\n",
    "        '''\n",
    "        M = self.system_mass * units[\"amu_to_g\"] # grams\n",
    "        L = (M / self.density)**(1/3) # centimeters\n",
    "        L *= units['cm_to_nm'] # convert cm to nm\n",
    "        self.target_L = L # Used during shrink step\n",
    "        return L\n",
    "\n",
    "def build_molecule(molecule, length, para_weight):\n",
    "    '''\n",
    "    `build_molecule` uses SMILES strings to build up a polymer from monomers.\n",
    "    The configuration of each monomer is determined by para_weight and the\n",
    "    random_sequence() function.  \n",
    "    Uses DeepSMILES behind the scenes to build up SMILES string for a polymer.\n",
    "    \n",
    "    Parameters\n",
    "    ----------\n",
    "    molecule : str\n",
    "        The monomer molecule to be used to build up the polymer.\n",
    "        Available options are limited  to the .json files in the compounds directory\n",
    "        Use the molecule name as seen in the .json file without including .json\n",
    "    length : int\n",
    "        The number of monomer units in the final polymer molecule\n",
    "    para_weight : float, limited to values between 0 and 1\n",
    "        The relative amount of para configurations compared to meta.\n",
    "        Passed into random_sequence() to determine the monomer sequence of the polymer.\n",
    "        A 70/30 para to meta system would require a para_weight = 0.70\n",
    "    \n",
    "    Returns\n",
    "    -------\n",
    "    molecule_string_smiles : str\n",
    "        The complete SMILES string of the polymer molecule\n",
    "    '''\n",
    "    f = open('compounds/{}.json'.format(molecule))\n",
    "    mol_dict = json.load(f)    \n",
    "    f.close()\n",
    "    monomer_sequence = random_sequence(para_weight, length)\n",
    "    molecule_string = '{}'\n",
    "\n",
    "    for idx, config in enumerate(monomer_sequence):\n",
    "        if idx == 0: # append template, but not brackets\n",
    "            monomer_string = mol_dict['{}_template'.format(config)]\n",
    "            if molecule == 'PEEK':\n",
    "                monomer_string = \"O\" + monomer_string[1:]\n",
    "            molecule_string = molecule_string.format(monomer_string)\n",
    "            if len(monomer_sequence) == 1:\n",
    "                molecule_string = molecule_string.replace('{}', '')\n",
    "                continue\n",
    "\n",
    "        elif idx == length - 1: # Don't use template for last iteration\n",
    "            brackets = polysmiles.count_brackets(mol_dict['{}_deep_smiles'.format(config)])\n",
    "            monomer_string = mol_dict['{}_deep_smiles'.format(config)]\n",
    "            molecule_string = molecule_string.format(monomer_string, brackets)\n",
    "\n",
    "        else: # Continue using template plus brackets\n",
    "            brackets = polysmiles.count_brackets(mol_dict['{}_deep_smiles'.format(config)])\n",
    "            monomer_string = mol_dict['{}_template'.format(config)]\n",
    "            molecule_string = molecule_string.format(monomer_string, brackets)\n",
    "    \n",
    "    molecule_string_smiles = smiles_utils.convert_smiles(deep = molecule_string)\n",
    "    compound = mb.load(molecule_string_smiles, smiles=True)\n",
    "    return compound, monomer_sequence\n",
    "\n",
    "\n",
    "def random_sequence(para_weight, length):\n",
    "    '''\n",
    "    random_sequence returns a list containing a random sequence of strings 'para' and 'meta'.\n",
    "    This is used by build_molecule() to create a complete SMILES string of a molecule.\n",
    "    \n",
    "    Parameters:\n",
    "    -----------\n",
    "    para_weight : float, limited to values between 0 and 1\n",
    "        The relative amount of para configurations compared to meta.\n",
    "        Defined in build_molecule()\n",
    "    length : int\n",
    "        The number of elements in the random sequence.\n",
    "        Defined in build_molecule()\n",
    "    '''\n",
    "    meta_weight = 1 - para_weight\n",
    "    options = ['para', 'meta']\n",
    "    probability = [para_weight, meta_weight]\n",
    "    sequence = random.choices(options, weights=probability, k=length)\n",
    "    return sequence"
   ]
  },
  {
   "cell_type": "code",
   "execution_count": 10,
   "metadata": {
    "scrolled": false
   },
   "outputs": [
    {
     "name": "stdout",
     "output_type": "stream",
     "text": [
      "sampling 10 molecular weights...\n",
      "polymer_lengths: [19, 30, 31, 45, 62, 63, 64, 65, 68, 82], n_compounds: [1, 1, 1, 1, 1, 1, 1, 1, 1, 1]\n"
     ]
    },
    {
     "ename": "FoyerError",
     "evalue": "Found multiple types for atom 3631 (6): ['cv', 'ce'].",
     "output_type": "error",
     "traceback": [
      "\u001b[0;31m---------------------------------------------------------------------------\u001b[0m",
      "\u001b[0;31mFoyerError\u001b[0m                                Traceback (most recent call last)",
      "\u001b[0;32m<ipython-input-65-7ad801da21e3>\u001b[0m in \u001b[0;36m<module>\u001b[0;34m\u001b[0m\n\u001b[1;32m      1\u001b[0m test_system = System(molecule=\"PEEK\", para_weight=0.60,\n\u001b[1;32m      2\u001b[0m                     \u001b[0mdensity\u001b[0m\u001b[0;34m=\u001b[0m\u001b[0;36m1\u001b[0m\u001b[0;34m,\u001b[0m \u001b[0mn_compounds\u001b[0m\u001b[0;34m=\u001b[0m\u001b[0;36m10\u001b[0m\u001b[0;34m,\u001b[0m \u001b[0msample_pdi\u001b[0m\u001b[0;34m=\u001b[0m\u001b[0;32mTrue\u001b[0m\u001b[0;34m,\u001b[0m \u001b[0mM_n\u001b[0m\u001b[0;34m=\u001b[0m\u001b[0;36m50.\u001b[0m\u001b[0;34m,\u001b[0m \u001b[0mM_w\u001b[0m\u001b[0;34m=\u001b[0m\u001b[0;36m55.\u001b[0m\u001b[0;34m,\u001b[0m\u001b[0;34m\u001b[0m\u001b[0;34m\u001b[0m\u001b[0m\n\u001b[0;32m----> 3\u001b[0;31m                     forcefield='gaff')\n\u001b[0m",
      "\u001b[0;32m<ipython-input-64-5b9435b53feb>\u001b[0m in \u001b[0;36m__init__\u001b[0;34m(self, molecule, para_weight, density, n_compounds, polymer_lengths, forcefield, remove_hydrogens, epsilon, sample_pdi, pdi, M_n, M_w)\u001b[0m\n\u001b[1;32m    237\u001b[0m         \u001b[0mself\u001b[0m\u001b[0;34m.\u001b[0m\u001b[0msystem_mb\u001b[0m \u001b[0;34m=\u001b[0m \u001b[0mself\u001b[0m\u001b[0;34m.\u001b[0m\u001b[0m_pack\u001b[0m\u001b[0;34m(\u001b[0m\u001b[0;34m)\u001b[0m \u001b[0;31m# mBuild object before applying FF\u001b[0m\u001b[0;34m\u001b[0m\u001b[0;34m\u001b[0m\u001b[0m\n\u001b[1;32m    238\u001b[0m         \u001b[0;32mif\u001b[0m \u001b[0mself\u001b[0m\u001b[0;34m.\u001b[0m\u001b[0mforcefield\u001b[0m\u001b[0;34m:\u001b[0m\u001b[0;34m\u001b[0m\u001b[0;34m\u001b[0m\u001b[0m\n\u001b[0;32m--> 239\u001b[0;31m             \u001b[0mself\u001b[0m\u001b[0;34m.\u001b[0m\u001b[0msystem_pmd\u001b[0m \u001b[0;34m=\u001b[0m \u001b[0mself\u001b[0m\u001b[0;34m.\u001b[0m\u001b[0m_type_system\u001b[0m\u001b[0;34m(\u001b[0m\u001b[0;34m)\u001b[0m \u001b[0;31m# parmed object after applying FF\u001b[0m\u001b[0;34m\u001b[0m\u001b[0;34m\u001b[0m\u001b[0m\n\u001b[0m\u001b[1;32m    240\u001b[0m \u001b[0;34m\u001b[0m\u001b[0m\n\u001b[1;32m    241\u001b[0m \u001b[0;34m\u001b[0m\u001b[0m\n",
      "\u001b[0;32m<ipython-input-64-5b9435b53feb>\u001b[0m in \u001b[0;36m_type_system\u001b[0;34m(self)\u001b[0m\n\u001b[1;32m    273\u001b[0m             \u001b[0mforcefield\u001b[0m \u001b[0;34m=\u001b[0m \u001b[0mfoyer\u001b[0m\u001b[0;34m.\u001b[0m\u001b[0mForcefield\u001b[0m\u001b[0;34m(\u001b[0m\u001b[0mname\u001b[0m\u001b[0;34m=\u001b[0m\u001b[0;34m'oplsaa'\u001b[0m\u001b[0;34m)\u001b[0m\u001b[0;34m\u001b[0m\u001b[0;34m\u001b[0m\u001b[0m\n\u001b[1;32m    274\u001b[0m \u001b[0;34m\u001b[0m\u001b[0m\n\u001b[0;32m--> 275\u001b[0;31m         \u001b[0mtyped_system\u001b[0m \u001b[0;34m=\u001b[0m \u001b[0mforcefield\u001b[0m\u001b[0;34m.\u001b[0m\u001b[0mapply\u001b[0m\u001b[0;34m(\u001b[0m\u001b[0mself\u001b[0m\u001b[0;34m.\u001b[0m\u001b[0msystem_mb\u001b[0m\u001b[0;34m)\u001b[0m\u001b[0;34m\u001b[0m\u001b[0;34m\u001b[0m\u001b[0m\n\u001b[0m\u001b[1;32m    276\u001b[0m         \u001b[0;32mif\u001b[0m \u001b[0mself\u001b[0m\u001b[0;34m.\u001b[0m\u001b[0mremove_hydrogens\u001b[0m\u001b[0;34m:\u001b[0m \u001b[0;31m# not sure how to do this with Parmed yet\u001b[0m\u001b[0;34m\u001b[0m\u001b[0;34m\u001b[0m\u001b[0m\n\u001b[1;32m    277\u001b[0m             \u001b[0mremoved_hydrogen_count\u001b[0m \u001b[0;34m=\u001b[0m \u001b[0;36m0\u001b[0m \u001b[0;31m# subtract from self.mass\u001b[0m\u001b[0;34m\u001b[0m\u001b[0;34m\u001b[0m\u001b[0m\n",
      "\u001b[0;32m~/foyer/foyer/forcefield.py\u001b[0m in \u001b[0;36mapply\u001b[0;34m(self, structure, references_file, use_residue_map, assert_bond_params, assert_angle_params, assert_dihedral_params, assert_improper_params, combining_rule, verbose, *args, **kwargs)\u001b[0m\n\u001b[1;32m    571\u001b[0m                 \u001b[0mstructure\u001b[0m \u001b[0;34m=\u001b[0m \u001b[0mstructure\u001b[0m\u001b[0;34m.\u001b[0m\u001b[0mto_parmed\u001b[0m\u001b[0;34m(\u001b[0m\u001b[0;34m**\u001b[0m\u001b[0mkwargs\u001b[0m\u001b[0;34m)\u001b[0m\u001b[0;34m\u001b[0m\u001b[0;34m\u001b[0m\u001b[0m\n\u001b[1;32m    572\u001b[0m \u001b[0;34m\u001b[0m\u001b[0m\n\u001b[0;32m--> 573\u001b[0;31m         \u001b[0mtypemap\u001b[0m \u001b[0;34m=\u001b[0m \u001b[0mself\u001b[0m\u001b[0;34m.\u001b[0m\u001b[0mrun_atomtyping\u001b[0m\u001b[0;34m(\u001b[0m\u001b[0mstructure\u001b[0m\u001b[0;34m,\u001b[0m \u001b[0muse_residue_map\u001b[0m\u001b[0;34m=\u001b[0m\u001b[0muse_residue_map\u001b[0m\u001b[0;34m,\u001b[0m \u001b[0;34m**\u001b[0m\u001b[0mkwargs\u001b[0m\u001b[0;34m)\u001b[0m\u001b[0;34m\u001b[0m\u001b[0;34m\u001b[0m\u001b[0m\n\u001b[0m\u001b[1;32m    574\u001b[0m \u001b[0;34m\u001b[0m\u001b[0m\n\u001b[1;32m    575\u001b[0m         \u001b[0mself\u001b[0m\u001b[0;34m.\u001b[0m\u001b[0m_apply_typemap\u001b[0m\u001b[0;34m(\u001b[0m\u001b[0mstructure\u001b[0m\u001b[0;34m,\u001b[0m \u001b[0mtypemap\u001b[0m\u001b[0;34m)\u001b[0m\u001b[0;34m\u001b[0m\u001b[0;34m\u001b[0m\u001b[0m\n",
      "\u001b[0;32m~/foyer/foyer/forcefield.py\u001b[0m in \u001b[0;36mrun_atomtyping\u001b[0;34m(self, structure, use_residue_map, **kwargs)\u001b[0m\n\u001b[1;32m    609\u001b[0m                     \u001b[0;32mif\u001b[0m \u001b[0mstructure\u001b[0m\u001b[0;34m.\u001b[0m\u001b[0mresidues\u001b[0m\u001b[0;34m[\u001b[0m\u001b[0mres_id\u001b[0m\u001b[0;34m]\u001b[0m\u001b[0;34m.\u001b[0m\u001b[0mname\u001b[0m \u001b[0;32mnot\u001b[0m \u001b[0;32min\u001b[0m \u001b[0mresidue_map\u001b[0m\u001b[0;34m.\u001b[0m\u001b[0mkeys\u001b[0m\u001b[0;34m(\u001b[0m\u001b[0;34m)\u001b[0m\u001b[0;34m:\u001b[0m\u001b[0;34m\u001b[0m\u001b[0;34m\u001b[0m\u001b[0m\n\u001b[1;32m    610\u001b[0m                         \u001b[0mtmp_res\u001b[0m \u001b[0;34m=\u001b[0m \u001b[0m_structure_from_residue\u001b[0m\u001b[0;34m(\u001b[0m\u001b[0mres\u001b[0m\u001b[0;34m,\u001b[0m \u001b[0mstructure\u001b[0m\u001b[0;34m)\u001b[0m\u001b[0;34m\u001b[0m\u001b[0;34m\u001b[0m\u001b[0m\n\u001b[0;32m--> 611\u001b[0;31m                         \u001b[0mtypemap\u001b[0m \u001b[0;34m=\u001b[0m \u001b[0mfind_atomtypes\u001b[0m\u001b[0;34m(\u001b[0m\u001b[0mtmp_res\u001b[0m\u001b[0;34m,\u001b[0m \u001b[0mforcefield\u001b[0m\u001b[0;34m=\u001b[0m\u001b[0mself\u001b[0m\u001b[0;34m)\u001b[0m\u001b[0;34m\u001b[0m\u001b[0;34m\u001b[0m\u001b[0m\n\u001b[0m\u001b[1;32m    612\u001b[0m                         \u001b[0mresidue_map\u001b[0m\u001b[0;34m[\u001b[0m\u001b[0mres\u001b[0m\u001b[0;34m.\u001b[0m\u001b[0mname\u001b[0m\u001b[0;34m]\u001b[0m \u001b[0;34m=\u001b[0m \u001b[0mtypemap\u001b[0m\u001b[0;34m\u001b[0m\u001b[0;34m\u001b[0m\u001b[0m\n\u001b[1;32m    613\u001b[0m \u001b[0;34m\u001b[0m\u001b[0m\n",
      "\u001b[0;32m~/foyer/foyer/atomtyper.py\u001b[0m in \u001b[0;36mfind_atomtypes\u001b[0;34m(structure, forcefield, max_iter)\u001b[0m\n\u001b[1;32m     63\u001b[0m \u001b[0;34m\u001b[0m\u001b[0m\n\u001b[1;32m     64\u001b[0m     \u001b[0m_iterate_rules\u001b[0m\u001b[0;34m(\u001b[0m\u001b[0mrules\u001b[0m\u001b[0;34m,\u001b[0m \u001b[0mstructure\u001b[0m\u001b[0;34m,\u001b[0m \u001b[0mtypemap\u001b[0m\u001b[0;34m,\u001b[0m \u001b[0mmax_iter\u001b[0m\u001b[0;34m=\u001b[0m\u001b[0mmax_iter\u001b[0m\u001b[0;34m)\u001b[0m\u001b[0;34m\u001b[0m\u001b[0;34m\u001b[0m\u001b[0m\n\u001b[0;32m---> 65\u001b[0;31m     \u001b[0m_resolve_atomtypes\u001b[0m\u001b[0;34m(\u001b[0m\u001b[0mstructure\u001b[0m\u001b[0;34m,\u001b[0m \u001b[0mtypemap\u001b[0m\u001b[0;34m)\u001b[0m\u001b[0;34m\u001b[0m\u001b[0;34m\u001b[0m\u001b[0m\n\u001b[0m\u001b[1;32m     66\u001b[0m \u001b[0;34m\u001b[0m\u001b[0m\n\u001b[1;32m     67\u001b[0m     \u001b[0;32mreturn\u001b[0m \u001b[0mtypemap\u001b[0m\u001b[0;34m\u001b[0m\u001b[0;34m\u001b[0m\u001b[0m\n",
      "\u001b[0;32m~/foyer/foyer/atomtyper.py\u001b[0m in \u001b[0;36m_resolve_atomtypes\u001b[0;34m(structure, typemap)\u001b[0m\n\u001b[1;32m    131\u001b[0m         \u001b[0;32melif\u001b[0m \u001b[0mlen\u001b[0m\u001b[0;34m(\u001b[0m\u001b[0matomtype\u001b[0m\u001b[0;34m)\u001b[0m \u001b[0;34m>\u001b[0m \u001b[0;36m1\u001b[0m\u001b[0;34m:\u001b[0m\u001b[0;34m\u001b[0m\u001b[0;34m\u001b[0m\u001b[0m\n\u001b[1;32m    132\u001b[0m             raise FoyerError(\"Found multiple types for atom {} ({}): {}.\".format(\n\u001b[0;32m--> 133\u001b[0;31m                 atom_id, atoms[atom_id].atomic_number, atomtype))\n\u001b[0m\u001b[1;32m    134\u001b[0m         \u001b[0;32melse\u001b[0m\u001b[0;34m:\u001b[0m\u001b[0;34m\u001b[0m\u001b[0;34m\u001b[0m\u001b[0m\n\u001b[1;32m    135\u001b[0m             raise FoyerError(\"Found no types for atom {} ({}).\".format(\n",
      "\u001b[0;31mFoyerError\u001b[0m: Found multiple types for atom 3631 (6): ['cv', 'ce']."
     ]
    }
   ],
   "source": [
    "test_system = System(molecule=\"PEEK\", para_weight=0.60,\n",
    "                    density=1, n_compounds=[5], polymer_lengths=[5],\n",
    "                    forcefield='gaff', assert_dihedrals=True)"
   ]
  },
  {
   "cell_type": "code",
   "execution_count": 12,
   "metadata": {},
   "outputs": [],
   "source": [
    "simulation = Simulation(system=test_system)"
   ]
  },
  {
   "cell_type": "code",
   "execution_count": null,
   "metadata": {},
   "outputs": [
    {
     "name": "stdout",
     "output_type": "stream",
     "text": [
      "HOOMD-blue v2.9.2-15-g8c1194a45 CUDA (10.1) SINGLE SSE SSE2 SSE3 SSE4_1 SSE4_2 AVX AVX2 \n",
      "Compiled: 10/11/2020\n",
      "Copyright (c) 2009-2019 The Regents of the University of Michigan.\n",
      "-----\n",
      "You are using HOOMD-blue. Please cite the following:\n",
      "* J A Anderson, J Glaser, and S C Glotzer. \"HOOMD-blue: A Python package for\n",
      "  high-performance molecular dynamics and hard particle Monte Carlo\n",
      "  simulations\", Computational Materials Science 173 (2020) 109363\n",
      "-----\n",
      "no CUDA-capable device is detected\n",
      "HOOMD-blue is running on the CPU\n",
      "notice(2): Group \"all\" created containing 1710 particles\n",
      "notice(2): -- Neighborlist exclusion statistics -- :\n",
      "notice(2): Particles with 3 exclusions             : 670\n",
      "notice(2): Particles with 6 exclusions             : 90\n",
      "notice(2): Particles with 7 exclusions             : 670\n",
      "notice(2): Particles with 8 exclusions             : 180\n",
      "notice(2): Particles with 9 exclusions             : 100\n",
      "notice(2): Neighbors included by diameter          : no\n",
      "notice(2): Neighbors excluded when in the same body: no\n",
      "Processing LJ and QQ\n",
      "notice(2): Group \"charged\" created containing 0 particles\n",
      "No charged groups found, ignoring electrostatics\n",
      "Processing 1-4 interactions, adjusting neighborlist exclusions\n",
      "Processing harmonic bonds\n",
      "Processing harmonic angles\n",
      "Processing periodic torsions\n",
      "HOOMD SimulationContext updated from ParmEd Structure\n",
      "** starting run **\n",
      "Time 00:00:10 | Step 8756 / 1000000 | TPS 875.57 | ETA 00:18:52\n",
      "Time 00:00:20 | Step 17489 / 1000000 | TPS 873.289 | ETA 00:18:45\n"
     ]
    }
   ],
   "source": [
    "simulation.quench(kT=1.5, n_steps=1e6)"
   ]
  },
  {
   "cell_type": "code",
   "execution_count": null,
   "metadata": {},
   "outputs": [],
   "source": [
    "hoomd.dump.gsd()"
   ]
  },
  {
   "cell_type": "code",
   "execution_count": null,
   "metadata": {
    "scrolled": false
   },
   "outputs": [],
   "source": [
    "simulation.anneal(kT_init=2, kT_final=1, step_sequence=[1e5, 1e5, 1e5, 1e5])"
   ]
  },
  {
   "cell_type": "code",
   "execution_count": null,
   "metadata": {},
   "outputs": [],
   "source": []
  },
  {
   "cell_type": "code",
   "execution_count": null,
   "metadata": {},
   "outputs": [],
   "source": []
  },
  {
   "cell_type": "code",
   "execution_count": null,
   "metadata": {},
   "outputs": [],
   "source": []
  },
  {
   "cell_type": "code",
   "execution_count": null,
   "metadata": {},
   "outputs": [],
   "source": []
  },
  {
   "cell_type": "code",
   "execution_count": null,
   "metadata": {},
   "outputs": [],
   "source": []
  },
  {
   "cell_type": "code",
   "execution_count": null,
   "metadata": {},
   "outputs": [],
   "source": []
  },
  {
   "cell_type": "code",
   "execution_count": null,
   "metadata": {},
   "outputs": [],
   "source": [
    "##############################################\n",
    "##OLD STUFF\n",
    "##############################################"
   ]
  },
  {
   "cell_type": "code",
   "execution_count": null,
   "metadata": {},
   "outputs": [],
   "source": [
    "def build_system(packing='bcc'):\n",
    "    '''\n",
    "    Generate a simple LJ particle system using hoomd's create_lattice function\n",
    "    packing \n",
    "    '''\n",
    "    hoomd.context.initialize(\"\")\n",
    "    if packing == 'fcc':\n",
    "        system = hoomd.init.create_lattice(unitcell=(hoomd.lattice.fcc(a=1.58)), n=6)\n",
    "    elif packing == 'bcc':\n",
    "        system = hoomd.init.create_lattice(unitcell=(hoomd.lattice.bcc(a=1.29)), n=6)\n",
    "    hoomd.dump.gsd('{}_system.gsd'.format(packing), group = hoomd.group.all(), period=None, overwrite=True)\n",
    "    return system\n",
    "\n",
    "def hoomd_simulation(system, temp, tau):  \n",
    "    nl = hoomd.md.nlist.cell()\n",
    "    lj = hoomd.md.pair.lj(r_cut=2.5, nlist=nl)\n",
    "    lj.pair_coeff.set('A', 'A', alpha=1.0, epsilon=1.0, sigma=1.0)\n",
    "    hoomd.md.integrate.mode_standard(dt=0.001)\n",
    "    _all = hoomd.group.all()\n",
    "    nvt = hoomd.md.integrate.nvt(group=_all, kT=temp, tau=tau)\n",
    "    nvt.randomize_velocities(seed=23)\n",
    "    hoomd.analyze.log(filename='{}-tau_out.log'.format(tau),\n",
    "                      quantities=[\"time\", \"temperature\", \"potential_energy\"],\n",
    "                      period=100,\n",
    "                      overwrite=True\n",
    "                     )\n",
    "    #hoomd.dump.gsd('tau-trajectory.gsd', period=5e3, group=_all, overwrite=True)\n",
    "    hoomd.run(3e5)"
   ]
  },
  {
   "cell_type": "markdown",
   "metadata": {},
   "source": [
    "# --------------------------------------------------------\n",
    "\n",
    "PEEK:  \n",
    "1 amu = 1.66054e-24 g  \n",
    "1.32 g/cm^3  \n",
    "1.32 g/nm^3  \n",
    "C19H12O3  \n",
    "monomer_amu = 288.302  "
   ]
  },
  {
   "cell_type": "code",
   "execution_count": null,
   "metadata": {},
   "outputs": [],
   "source": [
    "def build_peek_system(num_mols, poly_length, density):\n",
    "    '''\n",
    "    This function uses mBuild's packing functionality to create a very low dense system of molecules\n",
    "    to allow for easier packing. A short simulation is then ran using HoomD to shrink the system to the\n",
    "    desired starting density.\n",
    "    '''\n",
    "    peek_poly_smi = polysmiles.poly_smiles('occccC=O)ccccOcc*c*ccc6)))))))cc6)))))))cc6',\n",
    "                                      length=poly_length)\n",
    "    peek_poly = mb.load(peek_poly_smi, smiles=True)\n",
    "    \n",
    "    mol_amu = poly_length * 288.302\n",
    "    mol_grams = mol_amu * 1.66054e-24\n",
    "    system_mass = mol_grams * num_mols\n",
    "    edge_cm = (system_mass / density)**(1/3)\n",
    "    edge_nm = edge_cm * 1e7\n",
    "\n",
    "    init_box = mb.Box([edge_nm*5]*3)\n",
    "    system = mb.fill_box(peek_poly, num_mols, init_box)\n",
    "    \n",
    "    GAFF = foyer.forcefields.load_GAFF()\n",
    "    system_pmd = GAFF.apply(system)\n",
    "    create_hoomd_simulation(system_pmd, r_cut=1.2, auto_scale=True)\n",
    "    forces = [f for f in hoomd.context.current.forces \n",
    "                if not isinstance(f, hoomd.md.charge.pppm)]\n",
    "    \n",
    "    hoomd.context.current.forces = forces\n",
    "    _all = hoomd.group.all()\n",
    "    hoomd.md.integrate.mode_standard(dt=0.0001)\n",
    "    integrator = hoomd.md.integrate.nvt(group=_all, kT=2.0, tau=0.1)\n",
    "    hoomd.dump.gsd(\"trajectories/start-shrink.gsd\", period=None, group=_all, overwrite=True)\n",
    "    hoomd.dump.gsd(\"trajectories/traj-shrink.gsd\", period=1e5, group=_all, phase=0, overwrite=True)\n",
    "    integrator.randomize_velocities(seed=42);\n",
    "\n",
    "    hoomd.update.box_resize(L = hoomd.variant.linear_interp([(0,edge_nm*50), (1e6,edge_nm*10)], zero=0))\n",
    "    hoomd.run(1e6)\n",
    "    gsd_restart = hoomd.dump.gsd(\"trajectories/out-shrink.gsd\", period=None, group=_all, overwrite=True)\n",
    "    gsd_restart.write_restart()"
   ]
  },
  {
   "cell_type": "code",
   "execution_count": null,
   "metadata": {
    "scrolled": false
   },
   "outputs": [],
   "source": [
    "build_peek_system(num_mols=20, poly_length=5, density=1.2)"
   ]
  },
  {
   "cell_type": "markdown",
   "metadata": {},
   "source": [
    "# -------------------------------------------------------------------------"
   ]
  },
  {
   "cell_type": "code",
   "execution_count": null,
   "metadata": {},
   "outputs": [],
   "source": [
    "# Smiles Strings\n",
    "'''\n",
    "DEEPSMILES:\n",
    "PEEK-para = \"occccoccccC=O)cccccc6)))))))cc6)))))))cc6\"\n",
    "PEEK-meta = \"occcoccccC=O)cccccc6)))))))cc6)))))))ccc6\"\n",
    "PEKK-para = \"ccccoccccC=o)ccccC=o))cc6)))))))cc6)))))))cc6\"\n",
    "PEKK-meta = \"ccccoccccC=o)cccC=o))ccc6)))))))cc6)))))))cc6\"\n",
    "\n",
    "SMILES:\n",
    "PEEK-para = \"oc3ccc(oc2ccc(C(=O)c1ccccc1)cc2)cc3\"\n",
    "PEEK-meta = \"oc3cc(oc2ccc(C(=O)c1ccccc1)cc2)ccc3\"\n",
    "PEKK-para = \"c3ccc(oc2ccc(C(=o)c1ccc(C=o)cc1)cc2)cc3\"\n",
    "PEKK-meta = \"c3ccc(oc2ccc(C(=o)c1cc(C=o)ccc1)cc2)cc3\"\n",
    "'''\n",
    "\n",
    "\n",
    "# DeepSMILES with bonded atom indicated\n",
    "'''\n",
    "PEEK Para Bonded:\n",
    "\"occccoccccC=O)cc*c*ccc6)))))))cc6)))))))cc6\"\n",
    "\"occccoccccC=O)ccc*c*cc6)))))))cc6)))))))cc6\"\n",
    "\"occccoccccC=O)cccc*c*c6)))))))cc6)))))))cc6\"\n",
    "\n",
    "PEEK Meta Bonded:\n",
    "\"occcoccccC=O)ccc*c*cc6)))))))cc6)))))))ccc6\"\n",
    "\"occcoccccC=O)cc*c*ccc6)))))))cc6)))))))ccc6\"\n",
    "\"occcoccccC=O)cccc*c*c6)))))))cc6)))))))ccc6\"\n",
    "\n",
    "PEKK Para Bonded\n",
    "\"ccccoccccC=o)cccc*C*=o))cc6)))))))cc6)))))))cc6\"\n",
    "PEKK Meta Bonded\n",
    "\"ccccoccccC=o)ccc*C*=o))ccc6)))))))cc6)))))))cc6\"\n",
    "'''\n",
    "\n",
    "\n",
    "# Build up dicts and save to json file\n",
    "'''\n",
    "PEKK_dict = {}\n",
    "\n",
    "PEKK_dict['para_deep_smiles'] = \"ccccoccccC=o)ccccC=o))cc6)))))))cc6)))))))cc6\"\n",
    "PEKK_dict['meta_deep_smiles'] = \"ccccoccccC=o)cccC=o))ccc6)))))))cc6)))))))cc6\"\n",
    "PEKK_dict['para_smiles'] = \"c3ccc(oc2ccc(C(=o)c1ccc(C=o)cc1)cc2)cc3\"\n",
    "PEKK_dict['meta_smiles'] = \"c3ccc(oc2ccc(C(=o)c1cc(C=o)ccc1)cc2)cc3\"\n",
    "PEKK_dict['para_template'] = \"ccccoccccC=o)cccc*C*=o))cc6)))))))cc6)))))))cc6\"\n",
    "PEKK_dict['meta_template'] = \"ccccoccccC=o)ccc*C*=o))ccc6)))))))cc6)))))))cc6\"\n",
    "PEKK_dict['monomer_mass'] = 302.329\n",
    "\n",
    "\n",
    "PEEK_dict = {}\n",
    "\n",
    "PEEK_dict['para_deep_smiles'] = \"occccoccccC=O)cccccc6)))))))cc6)))))))cc6\"\n",
    "PEEK_dict['meta_deep_smiles'] = \"occcoccccC=O)cccccc6)))))))cc6)))))))ccc6\"\n",
    "PEEK_dict['para_smiles'] = \"oc3ccc(oc2ccc(C(=O)c1ccccc1)cc2)cc3\"\n",
    "PEEK_dict['meta_smiles'] = \"oc3cc(oc2ccc(C(=O)c1ccccc1)cc2)ccc3\"\n",
    "PEEK_dict['para_template'] = \"occccoccccC=O)ccc{}{}ccc6)))))))cc6)))))))cc6\"\n",
    "PEEK_dict['meta_template'] = \"occcoccccC=O)cccc{}{}cc6)))))))cc6)))))))ccc6\"\n",
    "PEEK_dict['monomer_mass'] = 288.302\n",
    "\n",
    "\n",
    "\n",
    "file_name = 'compounds/PEKK.json'\n",
    "with open(file_name, 'w') as fp:\n",
    "    json.dump(PEKK_dict, fp)\n",
    "'''"
   ]
  }
 ],
 "metadata": {
  "kernelspec": {
   "display_name": "uli-conda-env",
   "language": "python",
   "name": "uli-conda-env"
  },
  "language_info": {
   "codemirror_mode": {
    "name": "ipython",
    "version": 3
   },
   "file_extension": ".py",
   "mimetype": "text/x-python",
   "name": "python",
   "nbconvert_exporter": "python",
   "pygments_lexer": "ipython3",
   "version": "3.7.9"
  }
 },
 "nbformat": 4,
 "nbformat_minor": 4
}
