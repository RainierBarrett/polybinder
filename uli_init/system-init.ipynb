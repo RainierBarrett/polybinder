{
 "cells": [
  {
   "cell_type": "code",
   "execution_count": 1,
   "metadata": {},
   "outputs": [],
   "source": [
    "import json\n",
    "import os\n",
    "import random\n",
    "import numpy as np\n",
    "from utils import smiles_utils\n",
    "from utils import polysmiles\n",
    "import hoomd\n",
    "import mbuild as mb\n",
    "from mbuild.formats.hoomd_simulation import create_hoomd_simulation\n",
    "import foyer\n",
    "from foyer import Forcefield\n",
    "import py3Dmol\n",
    "import ele\n",
    "import warnings\n",
    "warnings.filterwarnings('ignore')"
   ]
  },
  {
   "cell_type": "code",
   "execution_count": 2,
   "metadata": {},
   "outputs": [],
   "source": [
    "class Simulation():\n",
    "    def __init__(self,\n",
    "                 system,\n",
    "                 target_box,\n",
    "                 r_cut = 1.2,\n",
    "                 e_factor = 0.5,\n",
    "                 tau = 1,\n",
    "                 dt = 0.001,\n",
    "                 auto_scale = True,\n",
    "                 ref_units = None,\n",
    "                 mode = \"gpu\",\n",
    "                 gsd_write = 1e4,\n",
    "                 log_write = 1e3\n",
    "                 ):\n",
    "        \n",
    "        self.system = system # Parmed structure\n",
    "        self.r_cut = r_cut\n",
    "        self.e_factor = e_factor\n",
    "        self.tau = tau\n",
    "        self.dt = dt\n",
    "        self.auto_scale = auto_scale\n",
    "        self.ref_units = ref_units\n",
    "        self.target_box = target_box\n",
    "        self.mode = mode\n",
    "        self.gsd_write = gsd_write\n",
    "        self.log_write = log_write\n",
    "        \n",
    "        if ref_units and not auto_scale:\n",
    "            self.ref_energy = ref_units['energy']\n",
    "            self.ref_distance = ref_units['distance']\n",
    "            self.ref_mass = ref_units['mass']           \n",
    "        \n",
    "        elif auto_scale and not ref_units:\n",
    "            self.ref_energy = 1\n",
    "            self.ref_distance = 1\n",
    "            self.ref_mass = 1\n",
    "    \n",
    "    def quench(self, kT, n_steps, shrink_kT, shrink_n_steps):\n",
    "        \n",
    "        # Get hoomd stuff set\n",
    "        create_hoomd_simulation(self.system, self.ref_distance,\n",
    "                                self.ref_mass, self.ref_energy,\n",
    "                                self.r_cut, self.auto_scale)\n",
    "        _all = hoomd.group.all()\n",
    "        hoomd.md.integrate.mode_standard(dt=self.dt)\n",
    "        integrator = hoomd.md.integrate.nvt(group=_all, kT=shrink_kT, tau=self.tau) # shrink temp\n",
    "        integrator.randomize_velocities(seed=42)\n",
    "        \n",
    "        # Run shrinking step\n",
    "        hoomd.dump.gsd(\"trajectories/traj-shrink.gsd\",\n",
    "                       period=self.gsd_write, group=_all, phase=0, overwrite=True)\n",
    "        x_variant = hoomd.variant.linear_interp([(0, self.system.box[0]),\n",
    "                                                 (shrink_n_steps, self.target_box[0]*10)])\n",
    "        y_variant = hoomd.variant.linear_interp([(0, self.system.box[1]),\n",
    "                                                 (shrink_n_steps, self.target_box[1]*10)])\n",
    "        z_variant = hoomd.variant.linear_interp([(0, self.system.box[2]),\n",
    "                                                 (shrink_n_steps, self.target_box[2]*10)])\n",
    "        box_resize = hoomd.update.box_resize(Lx = x_variant, Ly = y_variant, Lz = z_variant)\n",
    "        hoomd.run_upto(1e6)\n",
    "        hoomd.dump.gsd.disable()\n",
    "        box_resize.disable()\n",
    "        \n",
    "        # Run primary simulation\n",
    "        hoomd.dump.gsd(\"trajectories/sim_traj.gsd\",\n",
    "                       period=self.gsd_write, group=_all, phase=0, overwrite=True)\n",
    "        hoomd.analyze.log(\"logs/sim_traj.log\",\n",
    "                          period=self.log_write, group=_all, header_prefix=\"#\",\n",
    "                          overwrite=True, phase=0)\n",
    "        \n",
    "        integrator.set_params(kT=kT)\n",
    "        integrator.randomize_velocities(seed=42)\n",
    "        hoomd.run(n_steps+shrink_n_steps)\n",
    "        \n",
    "    def anneal(self,\n",
    "              kT_init,\n",
    "              kT_final,\n",
    "              step_sequence):\n",
    "        pass\n",
    "\n",
    "class System():\n",
    "    def __init__(self,\n",
    "                 molecule,\n",
    "                 para_weight,\n",
    "                 density,\n",
    "                 n_compounds,\n",
    "                 polymer_lengths,\n",
    "                 forcefield=None,\n",
    "                 pdi=None,\n",
    "                 M_n=None,\n",
    "                 remove_hydrogens=False\n",
    "                ):\n",
    "        self.molecule = molecule\n",
    "        self.para_weight = para_weight\n",
    "        self.density = density\n",
    "        self.remove_hydrogens = remove_hydrogens\n",
    "        self.pdi = pdi\n",
    "        self.forcefield = forcefield\n",
    "        self.system_mass = 0\n",
    "        self.para = 0 # keep track for now to check things are working, maybe keep?\n",
    "        self.meta = 0\n",
    "        \n",
    "        if self.pdi:\n",
    "            pass\n",
    "            '''\n",
    "            Here, call a function that samples from some distribution\n",
    "            pass in pdi, n_compounds, M_n?\n",
    "            self.polymer_lengths and self.n_compounds defined from that function\n",
    "            '''\n",
    "        else: # Do some validation, get things in the correct data types\n",
    "            if not isinstance(n_compounds, list):\n",
    "                self.n_compounds = [n_compounds]\n",
    "            else:\n",
    "                self.n_compounds = n_compounds\n",
    "\n",
    "            if not isinstance(polymer_lengths, list):\n",
    "                self.polymer_lengths = [polymer_lengths]\n",
    "            else:\n",
    "                self.polymer_lengths = polymer_lengths\n",
    "        \n",
    "        if len(self.n_compounds) != len(self.polymer_lengths):\n",
    "            raise ValueError('n_compounds and polymer_lengths should be equal length')\n",
    "        \n",
    "        self.system = self.pack() # mBuild object before applying FF\n",
    "        if self.forcefield:\n",
    "            self.system = self.type_system() # parmed object after applying FF\n",
    "        \n",
    "        \n",
    "    def pack(self, box_expand_factor=5):\n",
    "        mb_compounds = []\n",
    "        for _length, _n in zip(self.polymer_lengths, self.n_compounds):\n",
    "            for i in range(_n):\n",
    "                polymer, sequence = build_molecule(self.molecule, _length,\n",
    "                                        self.para_weight)\n",
    "\n",
    "                mb_compounds.append(polymer)\n",
    "                self.para += sequence.count('para')\n",
    "                self.meta += sequence.count('meta')\n",
    "            mass = _n * np.sum(ele.element_from_symbol(p.name).mass for p in polymer.particles())\n",
    "            self.system_mass += mass\n",
    "        \n",
    "        # Figure out correct box dimensions and expand the box to make the PACKMOL step faster\n",
    "        # Will shrink down to accurate L during simulation\n",
    "        L = self._calculate_L() * box_expand_factor\n",
    "    \n",
    "        system = mb.packing.fill_box(\n",
    "            compound = mb_compounds,\n",
    "            n_compounds = [1 for i in mb_compounds],\n",
    "            box=[L, L, L],\n",
    "            edge=0.5,\n",
    "            fix_orientation=True)\n",
    "        return system\n",
    "    \n",
    "    \n",
    "    def type_system(self):\n",
    "        if self.forcefield == 'gaff':\n",
    "            forcefield = foyer.forcefields.load_GAFF()\n",
    "        elif self.forcefield == 'opls':\n",
    "            forcefield = foyer.Forcefield(name='oplsaa')\n",
    "        \n",
    "        typed_system = forcefield.apply(self.system)\n",
    "        if self.remove_hydrogens: # not sure how to do this with Parmed yet\n",
    "            removed_hydrogen_count = 0 # subtract from self.mass\n",
    "            pass    \n",
    "        return typed_system\n",
    "    \n",
    "    def _calculate_L(self):\n",
    "        # Conversion from (amu/(g/cm^3)) to ang\n",
    "        L = (self.system_mass / self.density) ** (1/3) * 1.841763\n",
    "        L /= 10 # convert ang to nm\n",
    "        return L\n",
    "        \n",
    "\n",
    "def build_molecule(molecule, length, para_weight):\n",
    "    '''\n",
    "    `build_molecule` uses SMILES strings to build up a polymer from monomers.\n",
    "    The configuration of each monomer is determined by para_weight and the\n",
    "    random_sequence() function.  \n",
    "    Uses DeepSMILES behind the scenes to build up SMILES string for a polymer.\n",
    "    \n",
    "    Parameters\n",
    "    ----------\n",
    "    molecule : str\n",
    "        The monomer molecule to be used to build up the polymer.\n",
    "        Available options are limited  to the .json files in the compounds directory\n",
    "        Use the molecule name as seen in the .json file without including .json\n",
    "    length : int\n",
    "        The number of monomer units in the final polymer molecule\n",
    "    para_weight : float, limited to values between 0 and 1\n",
    "        The relative amount of para configurations compared to meta.\n",
    "        Passed into random_sequence() to determine the monomer sequence of the polymer.\n",
    "        A 70/30 para to meta system would require a para_weight = 0.70\n",
    "    \n",
    "    Returns\n",
    "    -------\n",
    "    molecule_string_smiles : str\n",
    "        The complete SMILES string of the polymer molecule\n",
    "    '''\n",
    "    f = open('compounds/{}.json'.format(molecule))\n",
    "    mol_dict = json.load(f)    \n",
    "    f.close()\n",
    "    monomer_sequence = random_sequence(para_weight, length)\n",
    "    molecule_string = '{}'\n",
    "\n",
    "    for idx, config in enumerate(monomer_sequence):\n",
    "        if idx == 0: # append template, but not brackets\n",
    "            monomer_string = mol_dict['{}_template'.format(config)]\n",
    "            molecule_string = molecule_string.format(monomer_string)\n",
    "            if len(monomer_sequence) == 1:\n",
    "                molecule_string = molecule_string.replace('{}', '')\n",
    "                continue\n",
    "\n",
    "        elif idx == length - 1: # Don't use template for last iteration\n",
    "            brackets = polysmiles.count_brackets(mol_dict['{}_deep_smiles'.format(config)])\n",
    "            monomer_string = mol_dict['{}_deep_smiles'.format(config)]\n",
    "            molecule_string = molecule_string.format(monomer_string, brackets)\n",
    "\n",
    "        else: # Continue using template plus brackets\n",
    "            brackets = polysmiles.count_brackets(mol_dict['{}_deep_smiles'.format(config)])\n",
    "            monomer_string = mol_dict['{}_template'.format(config)]\n",
    "            molecule_string = molecule_string.format(monomer_string, brackets)\n",
    "    \n",
    "    molecule_string_smiles = smiles_utils.convert_smiles(deep = molecule_string)\n",
    "    compound = mb.load(molecule_string_smiles, smiles=True)\n",
    "    return compound, monomer_sequence\n",
    "\n",
    "\n",
    "def random_sequence(para_weight, length):\n",
    "    '''\n",
    "    random_sequence returns a list containing a random sequence of strings 'para' and 'meta'.\n",
    "    This is used by build_molecule() to create a complete SMILES string of a molecule.\n",
    "    \n",
    "    Parameters:\n",
    "    -----------\n",
    "    para_weight : float, limited to values between 0 and 1\n",
    "        The relative amount of para configurations compared to meta.\n",
    "        Defined in build_molecule()\n",
    "    length : int\n",
    "        The number of elements in the random sequence.\n",
    "        Defined in build_molecule()\n",
    "    '''\n",
    "    meta_weight = 1 - para_weight\n",
    "    options = ['para', 'meta']\n",
    "    probability = [para_weight, meta_weight]\n",
    "    sequence = random.choices(options, weights=probability, k=length)\n",
    "    return sequence"
   ]
  },
  {
   "cell_type": "code",
   "execution_count": 3,
   "metadata": {
    "scrolled": false
   },
   "outputs": [
    {
     "name": "stdout",
     "output_type": "stream",
     "text": [
      "done\n"
     ]
    }
   ],
   "source": [
    "test_system = System(molecule=\"PEEK\", para_weight=0.60,\n",
    "                    density=1.30, n_compounds=[10], polymer_lengths=[4],\n",
    "                    forcefield='gaff')\n",
    "print('done')"
   ]
  },
  {
   "cell_type": "code",
   "execution_count": 4,
   "metadata": {},
   "outputs": [
    {
     "name": "stdout",
     "output_type": "stream",
     "text": [
      "HOOMD-blue v2.9.2-15-g8c1194a45 CUDA (10.1) SINGLE SSE SSE2 SSE3 SSE4_1 SSE4_2 AVX AVX2 \n",
      "Compiled: 10/07/2020\n",
      "Copyright (c) 2009-2019 The Regents of the University of Michigan.\n",
      "-----\n",
      "You are using HOOMD-blue. Please cite the following:\n",
      "* J A Anderson, J Glaser, and S C Glotzer. \"HOOMD-blue: A Python package for\n",
      "  high-performance molecular dynamics and hard particle Monte Carlo\n",
      "  simulations\", Computational Materials Science 173 (2020) 109363\n",
      "-----\n",
      "HOOMD-blue is running on the following GPU(s):\n",
      " [0]   GeForce GTX 1660 Ti  24 SM_7.5 @ 1.83 GHz, 5941 MiB DRAM, DIS, MNG\n"
     ]
    },
    {
     "name": "stderr",
     "output_type": "stream",
     "text": [
      "*Warning*: pos 376:-22.0352783203 -20.0463237762 -28.0467014313\n",
      "*Warning*: fractional pos :0.107140824199 0.142601191998 -3.47195600625e-05\n",
      "*Warning*: lo: -28.0447540283 -28.0447540283 -28.0447540283\n",
      "*Warning*: hi: 28.0447540283 28.0447540283 28.0447540283\n",
      "*Warning*: Not all particles were found inside the given box\n"
     ]
    },
    {
     "ename": "RuntimeError",
     "evalue": "Error initializing ParticleData",
     "output_type": "error",
     "traceback": [
      "\u001b[0;31m---------------------------------------------------------------------------\u001b[0m",
      "\u001b[0;31mRuntimeError\u001b[0m                              Traceback (most recent call last)",
      "\u001b[0;32m<ipython-input-4-00bf0c3fa519>\u001b[0m in \u001b[0;36m<module>\u001b[0;34m\u001b[0m\n\u001b[0;32m----> 1\u001b[0;31m \u001b[0mcreate_hoomd_simulation\u001b[0m\u001b[0;34m(\u001b[0m\u001b[0mtest_system\u001b[0m\u001b[0;34m.\u001b[0m\u001b[0msystem\u001b[0m\u001b[0;34m,\u001b[0m \u001b[0mr_cut\u001b[0m\u001b[0;34m=\u001b[0m\u001b[0;36m1.2\u001b[0m\u001b[0;34m,\u001b[0m \u001b[0mauto_scale\u001b[0m\u001b[0;34m=\u001b[0m\u001b[0;32mTrue\u001b[0m\u001b[0;34m)\u001b[0m\u001b[0;34m\u001b[0m\u001b[0;34m\u001b[0m\u001b[0m\n\u001b[0m",
      "\u001b[0;32m~/miniconda3/envs/uli/lib/python3.7/site-packages/mbuild/formats/hoomd_simulation.py\u001b[0m in \u001b[0;36mcreate_hoomd_simulation\u001b[0;34m(structure, ref_distance, ref_mass, ref_energy, r_cut, auto_scale, snapshot_kwargs, pppm_kwargs)\u001b[0m\n\u001b[1;32m    110\u001b[0m             ref_mass=ref_mass, ref_energy=ref_energy, **snapshot_kwargs)\n\u001b[1;32m    111\u001b[0m     \u001b[0mhoomd_objects\u001b[0m\u001b[0;34m.\u001b[0m\u001b[0mappend\u001b[0m\u001b[0;34m(\u001b[0m\u001b[0msnapshot\u001b[0m\u001b[0;34m)\u001b[0m\u001b[0;34m\u001b[0m\u001b[0;34m\u001b[0m\u001b[0m\n\u001b[0;32m--> 112\u001b[0;31m     \u001b[0mhoomd\u001b[0m\u001b[0;34m.\u001b[0m\u001b[0minit\u001b[0m\u001b[0;34m.\u001b[0m\u001b[0mread_snapshot\u001b[0m\u001b[0;34m(\u001b[0m\u001b[0msnapshot\u001b[0m\u001b[0;34m)\u001b[0m\u001b[0;34m\u001b[0m\u001b[0;34m\u001b[0m\u001b[0m\n\u001b[0m\u001b[1;32m    113\u001b[0m \u001b[0;34m\u001b[0m\u001b[0m\n\u001b[1;32m    114\u001b[0m     \u001b[0mnl\u001b[0m \u001b[0;34m=\u001b[0m \u001b[0mhoomd\u001b[0m\u001b[0;34m.\u001b[0m\u001b[0mmd\u001b[0m\u001b[0;34m.\u001b[0m\u001b[0mnlist\u001b[0m\u001b[0;34m.\u001b[0m\u001b[0mcell\u001b[0m\u001b[0;34m(\u001b[0m\u001b[0;34m)\u001b[0m\u001b[0;34m\u001b[0m\u001b[0;34m\u001b[0m\u001b[0m\n",
      "\u001b[0;32m~/bin/hoomd-blue/build/hoomd/init.py\u001b[0m in \u001b[0;36mread_snapshot\u001b[0;34m(snapshot)\u001b[0m\n\u001b[1;32m    243\u001b[0m         \u001b[0mhoomd\u001b[0m\u001b[0;34m.\u001b[0m\u001b[0mcontext\u001b[0m\u001b[0;34m.\u001b[0m\u001b[0mcurrent\u001b[0m\u001b[0;34m.\u001b[0m\u001b[0msystem_definition\u001b[0m \u001b[0;34m=\u001b[0m \u001b[0m_hoomd\u001b[0m\u001b[0;34m.\u001b[0m\u001b[0mSystemDefinition\u001b[0m\u001b[0;34m(\u001b[0m\u001b[0msnapshot\u001b[0m\u001b[0;34m,\u001b[0m \u001b[0mhoomd\u001b[0m\u001b[0;34m.\u001b[0m\u001b[0mcontext\u001b[0m\u001b[0;34m.\u001b[0m\u001b[0mexec_conf\u001b[0m\u001b[0;34m,\u001b[0m \u001b[0mmy_domain_decomposition\u001b[0m\u001b[0;34m)\u001b[0m\u001b[0;34m;\u001b[0m\u001b[0;34m\u001b[0m\u001b[0;34m\u001b[0m\u001b[0m\n\u001b[1;32m    244\u001b[0m     \u001b[0;32melse\u001b[0m\u001b[0;34m:\u001b[0m\u001b[0;34m\u001b[0m\u001b[0;34m\u001b[0m\u001b[0m\n\u001b[0;32m--> 245\u001b[0;31m         \u001b[0mhoomd\u001b[0m\u001b[0;34m.\u001b[0m\u001b[0mcontext\u001b[0m\u001b[0;34m.\u001b[0m\u001b[0mcurrent\u001b[0m\u001b[0;34m.\u001b[0m\u001b[0msystem_definition\u001b[0m \u001b[0;34m=\u001b[0m \u001b[0m_hoomd\u001b[0m\u001b[0;34m.\u001b[0m\u001b[0mSystemDefinition\u001b[0m\u001b[0;34m(\u001b[0m\u001b[0msnapshot\u001b[0m\u001b[0;34m,\u001b[0m \u001b[0mhoomd\u001b[0m\u001b[0;34m.\u001b[0m\u001b[0mcontext\u001b[0m\u001b[0;34m.\u001b[0m\u001b[0mexec_conf\u001b[0m\u001b[0;34m)\u001b[0m\u001b[0;34m;\u001b[0m\u001b[0;34m\u001b[0m\u001b[0;34m\u001b[0m\u001b[0m\n\u001b[0m\u001b[1;32m    246\u001b[0m \u001b[0;34m\u001b[0m\u001b[0m\n\u001b[1;32m    247\u001b[0m     \u001b[0;31m# initialize the system\u001b[0m\u001b[0;34m\u001b[0m\u001b[0;34m\u001b[0m\u001b[0;34m\u001b[0m\u001b[0m\n",
      "\u001b[0;31mRuntimeError\u001b[0m: Error initializing ParticleData"
     ]
    }
   ],
   "source": [
    "create_hoomd_simulation(test_system.system, r_cut=1.2, auto_scale=True)"
   ]
  },
  {
   "cell_type": "code",
   "execution_count": 5,
   "metadata": {},
   "outputs": [],
   "source": [
    "_all = hoomd.group.all()\n",
    "hoomd.md.integrate.mode_standard(dt=0.0001)\n",
    "integrator = hoomd.md.integrate.nvt(group=_all, kT=1, tau=1)\n",
    "hoomd.dump.gsd('hoomd-test.gsd', period=500, group=_all, phase=0, overwrite=True)\n",
    "integrator.randomize_velocities(seed=42)"
   ]
  },
  {
   "cell_type": "code",
   "execution_count": null,
   "metadata": {},
   "outputs": [],
   "source": []
  },
  {
   "cell_type": "code",
   "execution_count": null,
   "metadata": {},
   "outputs": [],
   "source": [
    "'''\n",
    "_all = hoomd.group.all()\n",
    "hoomd.md.integrate.mode_standard(dt=0.0001)\n",
    "integrator = hoomd.md.integrate.nvt(group=_all, kT=1.0, tau=0.1)\n",
    "hoomd.dump.gsd(\"trajectories/start-shrink.gsd\", period=None, group=_all, overwrite=True)\n",
    "hoomd.dump.gsd(\"trajectories/traj-shrink.gsd\", period=1e5, group=_all, phase=0, overwrite=True)\n",
    "integrator.randomize_velocities(seed=42);\n",
    "\n",
    "hoomd.update.box_resize(L = hoomd.variant.linear_interp([(0,100), (1e6,20)], zero=0));\n",
    "'''"
   ]
  },
  {
   "cell_type": "code",
   "execution_count": null,
   "metadata": {},
   "outputs": [],
   "source": []
  },
  {
   "cell_type": "code",
   "execution_count": 6,
   "metadata": {},
   "outputs": [
    {
     "data": {
      "text/plain": [
       "<hoomd.update.box_resize at 0x7f64b4746990>"
      ]
     },
     "execution_count": 6,
     "metadata": {},
     "output_type": "execute_result"
    }
   ],
   "source": [
    "x_variant = hoomd.variant.linear_interp([(0, test_system.system.box[0]),\n",
    "                                         (1e5, test_system.system.box[0]/3)], zero=0)\n",
    "\n",
    "y_variant = hoomd.variant.linear_interp([(0, test_system.system.box[1]),\n",
    "                                         (1e5, test_system.system.box[1]/3)], zero=0)\n",
    "\n",
    "z_variant = hoomd.variant.linear_interp([(0, test_system.system.box[2]),\n",
    "                                         (1e5, test_system.system.box[2]/3)], zero=0)\n",
    "\n",
    "hoomd.update.box_resize(Lx = x_variant, Ly = y_variant, Lz = z_variant)"
   ]
  },
  {
   "cell_type": "code",
   "execution_count": 7,
   "metadata": {},
   "outputs": [],
   "source": [
    "#hoomd.update.box_resize(L = hoomd.variant.linear_interp([(0,test_system.system.box[0]), (1e5,100)], zero=0));"
   ]
  },
  {
   "cell_type": "code",
   "execution_count": 8,
   "metadata": {},
   "outputs": [],
   "source": [
    "#hoomd.update.box_resize(L = hoomd.variant.linear_interp([(0,190.6857872), (1e5,150.0)], zero=0));"
   ]
  },
  {
   "cell_type": "code",
   "execution_count": 9,
   "metadata": {},
   "outputs": [
    {
     "name": "stdout",
     "output_type": "stream",
     "text": [
      "** starting run **\n"
     ]
    },
    {
     "name": "stderr",
     "output_type": "stream",
     "text": [
      "**ERROR**: Particle with unique tag 1068 is no longer in the simulation box.\n",
      "\n",
      "Cartesian coordinates: \n",
      "x: 147.211 y: -375.689 z: -122.747\n",
      "Fractional coordinates: \n",
      "f.x: 1.27275 f.y: -1.47209 f.z: -0.144331\n",
      "Local box lo: (-95.2514, -95.2514, -95.2514)\n",
      "          hi: (95.2514, 95.2514, 95.2514)\n"
     ]
    },
    {
     "ename": "RuntimeError",
     "evalue": "Error computing cell list",
     "output_type": "error",
     "traceback": [
      "\u001b[0;31m---------------------------------------------------------------------------\u001b[0m",
      "\u001b[0;31mRuntimeError\u001b[0m                              Traceback (most recent call last)",
      "\u001b[0;32m<ipython-input-9-5579323fddea>\u001b[0m in \u001b[0;36m<module>\u001b[0;34m\u001b[0m\n\u001b[0;32m----> 1\u001b[0;31m \u001b[0mhoomd\u001b[0m\u001b[0;34m.\u001b[0m\u001b[0mrun_upto\u001b[0m\u001b[0;34m(\u001b[0m\u001b[0;36m1e5\u001b[0m\u001b[0;34m)\u001b[0m\u001b[0;34m\u001b[0m\u001b[0;34m\u001b[0m\u001b[0m\n\u001b[0m",
      "\u001b[0;32m~/bin/hoomd-blue/build/hoomd/__init__.py\u001b[0m in \u001b[0;36mrun_upto\u001b[0;34m(step, **keywords)\u001b[0m\n\u001b[1;32m    240\u001b[0m \u001b[0;34m\u001b[0m\u001b[0m\n\u001b[1;32m    241\u001b[0m     \u001b[0mutil\u001b[0m\u001b[0;34m.\u001b[0m\u001b[0mquiet_status\u001b[0m\u001b[0;34m(\u001b[0m\u001b[0;34m)\u001b[0m\u001b[0;34m;\u001b[0m\u001b[0;34m\u001b[0m\u001b[0;34m\u001b[0m\u001b[0m\n\u001b[0;32m--> 242\u001b[0;31m     \u001b[0mrun\u001b[0m\u001b[0;34m(\u001b[0m\u001b[0mn_steps\u001b[0m\u001b[0;34m,\u001b[0m \u001b[0;34m**\u001b[0m\u001b[0mkeywords\u001b[0m\u001b[0;34m)\u001b[0m\u001b[0;34m;\u001b[0m\u001b[0;34m\u001b[0m\u001b[0;34m\u001b[0m\u001b[0m\n\u001b[0m\u001b[1;32m    243\u001b[0m     \u001b[0mutil\u001b[0m\u001b[0;34m.\u001b[0m\u001b[0munquiet_status\u001b[0m\u001b[0;34m(\u001b[0m\u001b[0;34m)\u001b[0m\u001b[0;34m;\u001b[0m\u001b[0;34m\u001b[0m\u001b[0;34m\u001b[0m\u001b[0m\n\u001b[1;32m    244\u001b[0m \u001b[0;34m\u001b[0m\u001b[0m\n",
      "\u001b[0;32m~/bin/hoomd-blue/build/hoomd/__init__.py\u001b[0m in \u001b[0;36mrun\u001b[0;34m(tsteps, profile, limit_hours, limit_multiple, callback_period, callback, quiet)\u001b[0m\n\u001b[1;32m    199\u001b[0m     \u001b[0;32mif\u001b[0m \u001b[0;32mnot\u001b[0m \u001b[0mquiet\u001b[0m\u001b[0;34m:\u001b[0m\u001b[0;34m\u001b[0m\u001b[0;34m\u001b[0m\u001b[0m\n\u001b[1;32m    200\u001b[0m         \u001b[0mcontext\u001b[0m\u001b[0;34m.\u001b[0m\u001b[0mmsg\u001b[0m\u001b[0;34m.\u001b[0m\u001b[0mnotice\u001b[0m\u001b[0;34m(\u001b[0m\u001b[0;36m1\u001b[0m\u001b[0;34m,\u001b[0m \u001b[0;34m\"** starting run **\\n\"\u001b[0m\u001b[0;34m)\u001b[0m\u001b[0;34m;\u001b[0m\u001b[0;34m\u001b[0m\u001b[0;34m\u001b[0m\u001b[0m\n\u001b[0;32m--> 201\u001b[0;31m     \u001b[0mcontext\u001b[0m\u001b[0;34m.\u001b[0m\u001b[0mcurrent\u001b[0m\u001b[0;34m.\u001b[0m\u001b[0msystem\u001b[0m\u001b[0;34m.\u001b[0m\u001b[0mrun\u001b[0m\u001b[0;34m(\u001b[0m\u001b[0mint\u001b[0m\u001b[0;34m(\u001b[0m\u001b[0mtsteps\u001b[0m\u001b[0;34m)\u001b[0m\u001b[0;34m,\u001b[0m \u001b[0mcallback_period\u001b[0m\u001b[0;34m,\u001b[0m \u001b[0mcallback\u001b[0m\u001b[0;34m,\u001b[0m \u001b[0mlimit_hours\u001b[0m\u001b[0;34m,\u001b[0m \u001b[0mint\u001b[0m\u001b[0;34m(\u001b[0m\u001b[0mlimit_multiple\u001b[0m\u001b[0;34m)\u001b[0m\u001b[0;34m)\u001b[0m\u001b[0;34m;\u001b[0m\u001b[0;34m\u001b[0m\u001b[0;34m\u001b[0m\u001b[0m\n\u001b[0m\u001b[1;32m    202\u001b[0m     \u001b[0;32mif\u001b[0m \u001b[0;32mnot\u001b[0m \u001b[0mquiet\u001b[0m\u001b[0;34m:\u001b[0m\u001b[0;34m\u001b[0m\u001b[0;34m\u001b[0m\u001b[0m\n\u001b[1;32m    203\u001b[0m         \u001b[0mcontext\u001b[0m\u001b[0;34m.\u001b[0m\u001b[0mmsg\u001b[0m\u001b[0;34m.\u001b[0m\u001b[0mnotice\u001b[0m\u001b[0;34m(\u001b[0m\u001b[0;36m1\u001b[0m\u001b[0;34m,\u001b[0m \u001b[0;34m\"** run complete **\\n\"\u001b[0m\u001b[0;34m)\u001b[0m\u001b[0;34m;\u001b[0m\u001b[0;34m\u001b[0m\u001b[0;34m\u001b[0m\u001b[0m\n",
      "\u001b[0;31mRuntimeError\u001b[0m: Error computing cell list"
     ]
    }
   ],
   "source": [
    "hoomd.run_upto(1e5)"
   ]
  },
  {
   "cell_type": "code",
   "execution_count": null,
   "metadata": {},
   "outputs": [],
   "source": []
  },
  {
   "cell_type": "code",
   "execution_count": null,
   "metadata": {},
   "outputs": [],
   "source": []
  },
  {
   "cell_type": "code",
   "execution_count": null,
   "metadata": {},
   "outputs": [],
   "source": []
  },
  {
   "cell_type": "code",
   "execution_count": null,
   "metadata": {},
   "outputs": [],
   "source": []
  },
  {
   "cell_type": "code",
   "execution_count": null,
   "metadata": {},
   "outputs": [],
   "source": []
  },
  {
   "cell_type": "code",
   "execution_count": null,
   "metadata": {},
   "outputs": [],
   "source": [
    "simulation = Simulation(system=test_system.system,\n",
    "                        target_box=[10,10,10])"
   ]
  },
  {
   "cell_type": "code",
   "execution_count": null,
   "metadata": {},
   "outputs": [],
   "source": [
    "simulation.quench(kT=1.5, n_steps=1e6, shrink_kT=1, shrink_n_steps=1e4)"
   ]
  },
  {
   "cell_type": "code",
   "execution_count": null,
   "metadata": {},
   "outputs": [],
   "source": [
    "'''\n",
    "<Type name=\"opls_280\" class=\"C_2\" element=\"C\" mass=\"12.01100\" def=\"[C;X3]([O;X1])(C)C\"\n",
    "    desc=\"C in ketone\" doi=\"10.1021/ja9621760\"/>\n",
    "\n",
    "<Type name=\"opls_145\" class=\"CA\" element=\"C\" mass=\"12.01100\" def=\"[C;X3;r6]1[C;X3;r6][C;X3;r6][C;X3;r6][C;X3;r6][C;X3;r6]1\"\n",
    "overrides=\"opls_141,opls_142\" doi=\"10.1021/ja9621760\"/>\n",
    "\n",
    "Only save the atom types we need\n",
    "\n",
    "'''\n",
    "\n"
   ]
  },
  {
   "cell_type": "code",
   "execution_count": null,
   "metadata": {},
   "outputs": [],
   "source": []
  },
  {
   "cell_type": "code",
   "execution_count": null,
   "metadata": {},
   "outputs": [],
   "source": []
  },
  {
   "cell_type": "code",
   "execution_count": null,
   "metadata": {},
   "outputs": [],
   "source": []
  },
  {
   "cell_type": "code",
   "execution_count": null,
   "metadata": {},
   "outputs": [],
   "source": []
  },
  {
   "cell_type": "code",
   "execution_count": null,
   "metadata": {},
   "outputs": [],
   "source": []
  },
  {
   "cell_type": "code",
   "execution_count": null,
   "metadata": {},
   "outputs": [],
   "source": []
  },
  {
   "cell_type": "code",
   "execution_count": null,
   "metadata": {},
   "outputs": [],
   "source": [
    "##############################################"
   ]
  },
  {
   "cell_type": "code",
   "execution_count": null,
   "metadata": {},
   "outputs": [],
   "source": [
    "def build_system(packing='bcc'):\n",
    "    '''\n",
    "    Generate a simple LJ particle system using hoomd's create_lattice function\n",
    "    packing \n",
    "    '''\n",
    "    hoomd.context.initialize(\"\")\n",
    "    if packing == 'fcc':\n",
    "        system = hoomd.init.create_lattice(unitcell=(hoomd.lattice.fcc(a=1.58)), n=6)\n",
    "    elif packing == 'bcc':\n",
    "        system = hoomd.init.create_lattice(unitcell=(hoomd.lattice.bcc(a=1.29)), n=6)\n",
    "    hoomd.dump.gsd('{}_system.gsd'.format(packing), group = hoomd.group.all(), period=None, overwrite=True)\n",
    "    return system\n",
    "\n",
    "def hoomd_simulation(system, temp, tau):  \n",
    "    nl = hoomd.md.nlist.cell()\n",
    "    lj = hoomd.md.pair.lj(r_cut=2.5, nlist=nl)\n",
    "    lj.pair_coeff.set('A', 'A', alpha=1.0, epsilon=1.0, sigma=1.0)\n",
    "    hoomd.md.integrate.mode_standard(dt=0.001)\n",
    "    _all = hoomd.group.all()\n",
    "    nvt = hoomd.md.integrate.nvt(group=_all, kT=temp, tau=tau)\n",
    "    nvt.randomize_velocities(seed=23)\n",
    "    hoomd.analyze.log(filename='{}-tau_out.log'.format(tau),\n",
    "                      quantities=[\"time\", \"temperature\", \"potential_energy\"],\n",
    "                      period=100,\n",
    "                      overwrite=True\n",
    "                     )\n",
    "    #hoomd.dump.gsd('tau-trajectory.gsd', period=5e3, group=_all, overwrite=True)\n",
    "    hoomd.run(3e5)"
   ]
  },
  {
   "cell_type": "markdown",
   "metadata": {},
   "source": [
    "# --------------------------------------------------------\n",
    "\n",
    "PEEK:  \n",
    "1 amu = 1.66054e-24 g  \n",
    "1.32 g/cm^3  \n",
    "1.32 g/nm^3  \n",
    "C19H12O3  \n",
    "monomer_amu = 288.302  "
   ]
  },
  {
   "cell_type": "code",
   "execution_count": null,
   "metadata": {},
   "outputs": [],
   "source": [
    "def build_peek_system(num_mols, poly_length, density):\n",
    "    '''\n",
    "    This function uses mBuild's packing functionality to create a very low dense system of molecules\n",
    "    to allow for easier packing. A short simulation is then ran using HoomD to shrink the system to the\n",
    "    desired starting density.\n",
    "    '''\n",
    "    peek_poly_smi = polysmiles.poly_smiles('occccC=O)ccccOcc*c*ccc6)))))))cc6)))))))cc6',\n",
    "                                      length=poly_length)\n",
    "    peek_poly = mb.load(peek_poly_smi, smiles=True)\n",
    "    \n",
    "    mol_amu = poly_length * 288.302\n",
    "    mol_grams = mol_amu * 1.66054e-24\n",
    "    system_mass = mol_grams * num_mols\n",
    "    edge_cm = (system_mass / density)**(1/3)\n",
    "    edge_nm = edge_cm * 1e7\n",
    "\n",
    "    init_box = mb.Box([edge_nm*5]*3)\n",
    "    system = mb.fill_box(peek_poly, num_mols, init_box)\n",
    "    \n",
    "    GAFF = foyer.forcefields.load_GAFF()\n",
    "    system_pmd = GAFF.apply(system)\n",
    "    create_hoomd_simulation(system_pmd, r_cut=1.2, auto_scale=True)\n",
    "    forces = [f for f in hoomd.context.current.forces \n",
    "                if not isinstance(f, hoomd.md.charge.pppm)]\n",
    "    \n",
    "    hoomd.context.current.forces = forces\n",
    "    _all = hoomd.group.all()\n",
    "    hoomd.md.integrate.mode_standard(dt=0.0001)\n",
    "    integrator = hoomd.md.integrate.nvt(group=_all, kT=2.0, tau=0.1)\n",
    "    hoomd.dump.gsd(\"trajectories/start-shrink.gsd\", period=None, group=_all, overwrite=True)\n",
    "    hoomd.dump.gsd(\"trajectories/traj-shrink.gsd\", period=1e5, group=_all, phase=0, overwrite=True)\n",
    "    integrator.randomize_velocities(seed=42);\n",
    "\n",
    "    hoomd.update.box_resize(L = hoomd.variant.linear_interp([(0,edge_nm*50), (1e6,edge_nm*10)], zero=0))\n",
    "    hoomd.run(1e6)\n",
    "    gsd_restart = hoomd.dump.gsd(\"trajectories/out-shrink.gsd\", period=None, group=_all, overwrite=True)\n",
    "    gsd_restart.write_restart()"
   ]
  },
  {
   "cell_type": "code",
   "execution_count": null,
   "metadata": {
    "scrolled": false
   },
   "outputs": [],
   "source": [
    "build_peek_system(num_mols=20, poly_length=5, density=1.2)"
   ]
  },
  {
   "cell_type": "markdown",
   "metadata": {},
   "source": [
    "# -------------------------------------------------------------------------"
   ]
  },
  {
   "cell_type": "code",
   "execution_count": null,
   "metadata": {},
   "outputs": [],
   "source": [
    "# Smiles Strings\n",
    "'''\n",
    "DEEPSMILES:\n",
    "PEEK-para = \"occccoccccC=O)cccccc6)))))))cc6)))))))cc6\"\n",
    "PEEK-meta = \"occcoccccC=O)cccccc6)))))))cc6)))))))ccc6\"\n",
    "PEKK-para = \"ccccoccccC=o)ccccC=o))cc6)))))))cc6)))))))cc6\"\n",
    "PEKK-meta = \"ccccoccccC=o)cccC=o))ccc6)))))))cc6)))))))cc6\"\n",
    "\n",
    "SMILES:\n",
    "PEEK-para = \"oc3ccc(oc2ccc(C(=O)c1ccccc1)cc2)cc3\"\n",
    "PEEK-meta = \"oc3cc(oc2ccc(C(=O)c1ccccc1)cc2)ccc3\"\n",
    "PEKK-para = \"c3ccc(oc2ccc(C(=o)c1ccc(C=o)cc1)cc2)cc3\"\n",
    "PEKK-meta = \"c3ccc(oc2ccc(C(=o)c1cc(C=o)ccc1)cc2)cc3\"\n",
    "'''\n",
    "\n",
    "\n",
    "# DeepSMILES with bonded atom indicated\n",
    "'''\n",
    "PEEK Para Bonded:\n",
    "\"occccoccccC=O)cc*c*ccc6)))))))cc6)))))))cc6\"\n",
    "\"occccoccccC=O)ccc*c*cc6)))))))cc6)))))))cc6\"\n",
    "\"occccoccccC=O)cccc*c*c6)))))))cc6)))))))cc6\"\n",
    "\n",
    "PEEK Meta Bonded:\n",
    "\"occcoccccC=O)ccc*c*cc6)))))))cc6)))))))ccc6\"\n",
    "\"occcoccccC=O)cc*c*ccc6)))))))cc6)))))))ccc6\"\n",
    "\"occcoccccC=O)cccc*c*c6)))))))cc6)))))))ccc6\"\n",
    "\n",
    "PEKK Para Bonded\n",
    "\"ccccoccccC=o)cccc*C*=o))cc6)))))))cc6)))))))cc6\"\n",
    "PEKK Meta Bonded\n",
    "\"ccccoccccC=o)ccc*C*=o))ccc6)))))))cc6)))))))cc6\"\n",
    "'''\n",
    "\n",
    "\n",
    "# Build up dicts and save to json file\n",
    "'''\n",
    "PEKK_dict = {}\n",
    "\n",
    "PEKK_dict['para_deep_smiles'] = \"ccccoccccC=o)ccccC=o))cc6)))))))cc6)))))))cc6\"\n",
    "PEKK_dict['meta_deep_smiles'] = \"ccccoccccC=o)cccC=o))ccc6)))))))cc6)))))))cc6\"\n",
    "PEKK_dict['para_smiles'] = \"c3ccc(oc2ccc(C(=o)c1ccc(C=o)cc1)cc2)cc3\"\n",
    "PEKK_dict['meta_smiles'] = \"c3ccc(oc2ccc(C(=o)c1cc(C=o)ccc1)cc2)cc3\"\n",
    "PEKK_dict['para_template'] = \"ccccoccccC=o)cccc*C*=o))cc6)))))))cc6)))))))cc6\"\n",
    "PEKK_dict['meta_template'] = \"ccccoccccC=o)ccc*C*=o))ccc6)))))))cc6)))))))cc6\"\n",
    "PEKK_dict['monomer_mass'] = 302.329\n",
    "\n",
    "\n",
    "PEEK_dict = {}\n",
    "\n",
    "PEEK_dict['para_deep_smiles'] = \"occccoccccC=O)cccccc6)))))))cc6)))))))cc6\"\n",
    "PEEK_dict['meta_deep_smiles'] = \"occcoccccC=O)cccccc6)))))))cc6)))))))ccc6\"\n",
    "PEEK_dict['para_smiles'] = \"oc3ccc(oc2ccc(C(=O)c1ccccc1)cc2)cc3\"\n",
    "PEEK_dict['meta_smiles'] = \"oc3cc(oc2ccc(C(=O)c1ccccc1)cc2)ccc3\"\n",
    "PEEK_dict['para_template'] = \"occccoccccC=O)ccc{}{}ccc6)))))))cc6)))))))cc6\"\n",
    "PEEK_dict['meta_template'] = \"occcoccccC=O)cccc{}{}cc6)))))))cc6)))))))ccc6\"\n",
    "PEEK_dict['monomer_mass'] = 288.302\n",
    "\n",
    "\n",
    "\n",
    "file_name = 'compounds/PEKK.json'\n",
    "with open(file_name, 'w') as fp:\n",
    "    json.dump(PEKK_dict, fp)\n",
    "'''"
   ]
  }
 ],
 "metadata": {
  "kernelspec": {
   "display_name": "Python 3",
   "language": "python",
   "name": "python3"
  },
  "language_info": {
   "codemirror_mode": {
    "name": "ipython",
    "version": 3
   },
   "file_extension": ".py",
   "mimetype": "text/x-python",
   "name": "python",
   "nbconvert_exporter": "python",
   "pygments_lexer": "ipython3",
   "version": "3.7.8"
  }
 },
 "nbformat": 4,
 "nbformat_minor": 4
}
