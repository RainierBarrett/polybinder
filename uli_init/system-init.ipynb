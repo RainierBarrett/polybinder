{
 "cells": [
  {
   "cell_type": "code",
   "execution_count": 88,
   "metadata": {},
   "outputs": [
    {
     "name": "stderr",
     "output_type": "stream",
     "text": [
      "/home/chris/miniconda3/envs/uli/lib/python3.7/site-packages/ipykernel/ipkernel.py:287: DeprecationWarning: `should_run_async` will not call `transform_cell` automatically in the future. Please pass the result to `transformed_cell` argument and any exception that happen during thetransform in `preprocessing_exc_tuple` in IPython 7.17 and above.\n",
      "  and should_run_async(code)\n"
     ]
    }
   ],
   "source": [
    "import json\n",
    "import os\n",
    "import random\n",
    "from utils import smiles_utils\n",
    "from utils import polysmiles\n",
    "import hoomd\n",
    "import mbuild as mb\n",
    "from mbuild.formats.hoomd_simulation import create_hoomd_simulation\n",
    "import foyer\n",
    "from foyer import Forcefield"
   ]
  },
  {
   "cell_type": "code",
   "execution_count": 90,
   "metadata": {},
   "outputs": [
    {
     "name": "stderr",
     "output_type": "stream",
     "text": [
      "/home/chris/miniconda3/envs/uli/lib/python3.7/site-packages/ipykernel/ipkernel.py:287: DeprecationWarning: `should_run_async` will not call `transform_cell` automatically in the future. Please pass the result to `transformed_cell` argument and any exception that happen during thetransform in `preprocessing_exc_tuple` in IPython 7.17 and above.\n",
      "  and should_run_async(code)\n"
     ]
    }
   ],
   "source": [
    "def build_molecule(molecule, length, para_weight):\n",
    "    '''\n",
    "    `build_molecule` uses SMILES strings to build up a polymer from monomers.\n",
    "    The configuration of each monomer is determined by para_weight and the\n",
    "    random_sequence() function.  \n",
    "    Uses DeepSMILES behind the scenes to build up SMILES string for a polymer.\n",
    "        \n",
    "    Parameters\n",
    "    ----------\n",
    "    molecule : str\n",
    "        The monomer molecule to be used to build up the polymer.\n",
    "        Available options are limited  to the .json files in the compounds directory\n",
    "        Use the molecule name as seen in the .json file without including .json\n",
    "    length : int\n",
    "        The number of monomer units in the final polymer molecule\n",
    "    para_weight : float, limited to values between 0 and 1\n",
    "        The relative amount of para configurations compared to meta.\n",
    "        Passed into random_sequence() to determine the monomer sequence of the polymer.\n",
    "        A 70/30 para to meta system would require a para_weight = 0.70\n",
    "    \n",
    "    Returns\n",
    "    -------\n",
    "    molecule_string : str\n",
    "        The complete SMILES string of the polymer molecule\n",
    "    '''\n",
    "    f = open('compounds/{}.json'.format(molecule))\n",
    "    mol_dict = json.load(f)    \n",
    "    \n",
    "    monomer_sequence = random_sequence(para_weight, length)\n",
    "    molecule_string = '{}'\n",
    "\n",
    "    for idx, config in enumerate(monomer_sequence):\n",
    "        if idx == 0: # append template, but no brackets\n",
    "            if config == 'p':\n",
    "                monomer_string = mol_dict['para_template']  #cccccccc{}{}cccccccccc\n",
    "            elif config == 'm':\n",
    "                monomer_string = mol_dict['meta_template']\n",
    "            molecule_string = molecule_string.format(monomer_string)\n",
    "\n",
    "        elif idx == length-1: #ccccccccccc{}{}ccccccccccccccc # Don't use template for last iteration\n",
    "            if config == 'p':\n",
    "                brackets = polysmiles.count_brackets(mol_dict['para_deep_smiles'])\n",
    "                monomer_string = mol_dict['para_deep_smiles']\n",
    "            elif config == 'm':\n",
    "                brackets = polysmiles.count_brackets(mol_dict['meta_deep_smiles'])\n",
    "                monomer_string = mol_dict['meta_deep_smiles']\n",
    "            molecule_string = molecule_string.format(monomer_string, brackets)\n",
    "\n",
    "        else: # Continue using template plus brackets\n",
    "            if config == 'p':\n",
    "                brackets = polysmiles.count_brackets(mol_dict['para_deep_smiles'])\n",
    "                monomer_string = mol_dict['para_template']\n",
    "            elif config == 'm':\n",
    "                brackets = polysmiles.count_brackets(mol_dict['meta_deep_smiles'])\n",
    "                monomer_string = mol_dict['meta_template']\n",
    "            molecule_string = molecule_string.format(monomer_string, brackets)\n",
    "    \n",
    "    f.close()\n",
    "    return molecule_string\n",
    "\n",
    "def random_sequence(para_weight=0.5, length=10):\n",
    "    meta_weight = 1 - para_weight\n",
    "    options = ['p', 'm']\n",
    "    probability = [para_weight, meta_weight]\n",
    "    return random.choices(options, weights=probability, k=length)"
   ]
  },
  {
   "cell_type": "code",
   "execution_count": 100,
   "metadata": {},
   "outputs": [
    {
     "name": "stdout",
     "output_type": "stream",
     "text": [
      "ccccoccccC=o)cccC=o)ccccoccccC=o)ccccC=o))cc6)))))))cc6)))))))cc6)))))))ccc6)))))))cc6)))))))cc6\n"
     ]
    },
    {
     "name": "stderr",
     "output_type": "stream",
     "text": [
      "/home/chris/miniconda3/envs/uli/lib/python3.7/site-packages/ipykernel/ipkernel.py:287: DeprecationWarning: `should_run_async` will not call `transform_cell` automatically in the future. Please pass the result to `transformed_cell` argument and any exception that happen during thetransform in `preprocessing_exc_tuple` in IPython 7.17 and above.\n",
      "  and should_run_async(code)\n"
     ]
    }
   ],
   "source": [
    "poly_string = build_molecule(molecule='PEKK', length=2, para_weight=0.70)\n",
    "print(poly_string)"
   ]
  },
  {
   "cell_type": "code",
   "execution_count": 101,
   "metadata": {},
   "outputs": [
    {
     "name": "stderr",
     "output_type": "stream",
     "text": [
      "/home/chris/miniconda3/envs/uli/lib/python3.7/site-packages/ipykernel/ipkernel.py:287: DeprecationWarning: `should_run_async` will not call `transform_cell` automatically in the future. Please pass the result to `transformed_cell` argument and any exception that happen during thetransform in `preprocessing_exc_tuple` in IPython 7.17 and above.\n",
      "  and should_run_async(code)\n",
      "/home/chris/cme/forks/mbuild/mbuild/conversion.py:687: UserWarning: No unitcell detected for pybel.Molecule c1ccc(Oc2ccc(C(=O)c3cc(C(=O)c4ccc(Oc5ccc(C(=O)c6ccc(C=O)cc6)cc5)cc4)ccc3)cc2)cc1\t\n",
      "\n",
      "  warn(\"No unitcell detected for pybel.Molecule {}\".format(pybel_mol))\n"
     ]
    },
    {
     "data": {
      "application/3dmoljs_load.v0": "<div id=\"3dmolviewer_16019419129766881\"  style=\"position: relative; width: 640px; height: 480px\">\n        <p id=\"3dmolwarning_16019419129766881\" style=\"background-color:#ffcccc;color:black\">You appear to be running in JupyterLab (or JavaScript failed to load for some other reason).  You need to install the 3dmol extension: <br>\n        <tt>jupyter labextension install jupyterlab_3dmol</tt></p>\n        </div>\n<script>\n\nvar loadScriptAsync = function(uri){\n  return new Promise((resolve, reject) => {\n    var tag = document.createElement('script');\n    tag.src = uri;\n    tag.async = true;\n    tag.onload = () => {\n      resolve();\n    };\n  var firstScriptTag = document.getElementsByTagName('script')[0];\n  firstScriptTag.parentNode.insertBefore(tag, firstScriptTag);\n});\n};\n\nif(typeof $3Dmolpromise === 'undefined') {\n$3Dmolpromise = null;\n  $3Dmolpromise = loadScriptAsync('https://3dmol.csb.pitt.edu/build/3Dmol.js');\n}\n\nvar viewer_16019419129766881 = null;\nvar warn = document.getElementById(\"3dmolwarning_16019419129766881\");\nif(warn) {\n    warn.parentNode.removeChild(warn);\n}\n$3Dmolpromise.then(function() {\nviewer_16019419129766881 = $3Dmol.createViewer($(\"#3dmolviewer_16019419129766881\"),{backgroundColor:\"white\"});\n\tviewer_16019419129766881.addModel(\"@<TRIPOS>MOLECULE\\nRES\\n72 77 1 0 1\\nSMALL\\nNO_CHARGES\\n@<TRIPOS>CRYSIN\\n   26.4717    21.2871    15.3050    90.0000    90.0000    90.0000  1  1\\n@<TRIPOS>ATOM\\n       1 C            1.3902    -0.2032     0.0189 C             1 RES     \\n       2 C            0.8505     1.0823     0.0071 C             1 RES     \\n       3 C           -0.5365     1.2615     0.0028 C             1 RES     \\n       4 C           -1.3883     0.1551    -0.0806 C             1 RES     \\n       5 O           -2.7313     0.4414    -0.2423 O             1 RES     \\n       6 C           -3.6354    -0.5934    -0.2915 C             1 RES     \\n       7 C           -4.4771    -0.7036    -1.4001 C             1 RES     \\n       8 C           -5.4524    -1.7098    -1.4379 C             1 RES     \\n       9 C           -5.5282    -2.6590    -0.4072 C             1 RES     \\n      10 C           -6.4599    -3.8159    -0.5447 C             1 RES     \\n      11 O           -7.1691    -3.9369    -1.5451 O             1 RES     \\n      12 C           -6.5486    -4.8594     0.5002 C             1 RES     \\n      13 C           -6.3503    -6.2041     0.1662 C             1 RES     \\n      14 C           -6.5628    -7.1902     1.1400 C             1 RES     \\n      15 C           -6.6014    -8.6232     0.7338 C             1 RES     \\n      16 O           -6.2908    -8.9563    -0.4113 O             1 RES     \\n      17 C           -7.1030    -9.6767     1.6460 C             1 RES     \\n      18 C           -6.3886   -10.8687     1.7842 C             1 RES     \\n      19 C           -6.9351   -11.9233     2.5265 C             1 RES     \\n      20 C           -8.1473   -11.7579     3.2097 C             1 RES     \\n      21 O           -8.5464   -12.8167     4.0033 O             1 RES     \\n      22 C           -9.7577   -12.7500     4.6529 C             1 RES     \\n      23 C           -9.7841   -12.9185     6.0383 C             1 RES     \\n      24 C          -11.0105   -12.9218     6.7186 C             1 RES     \\n      25 C          -12.2058   -12.6716     6.0261 C             1 RES     \\n      26 C          -13.4785   -12.5154     6.7918 C             1 RES     \\n      27 O          -13.4839   -12.5871     8.0217 O             1 RES     \\n      28 C          -14.7609   -12.2285     6.1090 C             1 RES     \\n      29 C          -15.4991   -11.0891     6.4579 C             1 RES     \\n      30 C          -16.7442   -10.8562     5.8605 C             1 RES     \\n      31 C          -17.2079   -11.7261     4.8669 C             1 RES     \\n      32 C          -18.4606   -11.4210     4.1491 C             1 RES     \\n      33 O          -18.8673   -12.1310     3.2289 O             1 RES     \\n      34 C          -16.4696   -12.8617     4.5200 C             1 RES     \\n      35 C          -15.2572   -13.1241     5.1560 C             1 RES     \\n      36 C          -12.1612   -12.5063     4.6369 C             1 RES     \\n      37 C          -10.9520   -12.5953     3.9506 C             1 RES     \\n      38 C           -8.8328   -10.5460     3.0921 C             1 RES     \\n      39 C           -8.3350    -9.5251     2.2877 C             1 RES     \\n      40 C           -6.8276    -6.8086     2.4634 C             1 RES     \\n      41 C           -7.0318    -5.4715     2.7876 C             1 RES     \\n      42 C           -6.9220    -4.4996     1.8009 C             1 RES     \\n      43 C           -4.6781    -2.5314     0.6976 C             1 RES     \\n      44 C           -3.7738    -1.4767     0.7769 C             1 RES     \\n      45 C           -0.8337    -1.1288    -0.0697 C             1 RES     \\n      46 C            0.5465    -1.3082     0.0024 C             1 RES     \\n      47 H            2.4670    -0.3473     0.0356 H             1 RES     \\n      48 H            1.5120     1.9446    -0.0164 H             1 RES     \\n      49 H           -0.9462     2.2681     0.0408 H             1 RES     \\n      50 H           -4.3686    -0.0246    -2.2426 H             1 RES     \\n      51 H           -6.1382    -1.7622    -2.2833 H             1 RES     \\n      52 H           -6.0668    -6.4809    -0.8493 H             1 RES     \\n      53 H           -5.4160   -10.9794     1.3091 H             1 RES     \\n      54 H           -6.4112   -12.8762     2.5628 H             1 RES     \\n      55 H           -8.8566   -13.0331     6.5945 H             1 RES     \\n      56 H          -11.0265   -13.1044     7.7929 H             1 RES     \\n      57 H          -15.1071   -10.3825     7.1877 H             1 RES     \\n      58 H          -17.3382   -10.0013     6.1754 H             1 RES     \\n      59 H          -19.0048   -10.5141     4.4518 H             1 RES     \\n      60 H          -16.8387   -13.5468     3.7590 H             1 RES     \\n      61 H          -14.6989   -14.0190     4.8933 H             1 RES     \\n      62 H          -13.0498   -12.2999     4.0513 H             1 RES     \\n      63 H          -10.9458   -12.4843     2.8696 H             1 RES     \\n      64 H           -9.7751   -10.3660     3.5973 H             1 RES     \\n      65 H           -8.9227    -8.6173     2.1804 H             1 RES     \\n      66 H           -6.9262    -7.5435     3.2571 H             1 RES     \\n      67 H           -7.3131    -5.1978     3.8009 H             1 RES     \\n      68 H           -7.1208    -3.4613     2.0532 H             1 RES     \\n      69 H           -4.6829    -3.2409     1.5166 H             1 RES     \\n      70 H           -3.1346    -1.3863     1.6506 H             1 RES     \\n      71 H           -1.4487    -2.0194    -0.1284 H             1 RES     \\n      72 H            0.9547    -2.3150     0.0142 H             1 RES     \\n@<TRIPOS>BOND\\n       1       14       15 1\\n       2       19       20 1\\n       3       21       22 1\\n       4       13       14 1\\n       5       56       24 1\\n       6       44        6 1\\n       7        4        5 1\\n       8       30       31 1\\n       9       38       39 1\\n      10       15       17 1\\n      11       52       13 1\\n      12        1        2 1\\n      13       41       42 1\\n      14       25       26 1\\n      15       67       41 1\\n      16       24       25 1\\n      17       20       21 1\\n      18       55       23 1\\n      19       10       11 1\\n      20       59       32 1\\n      21       50        7 1\\n      22       70       44 1\\n      23       72       46 1\\n      24       53       18 1\\n      25       26       27 1\\n      26        3        2 1\\n      27       66       40 1\\n      28       23       24 1\\n      29       25       36 1\\n      30       71       45 1\\n      31        5        6 1\\n      32       43        9 1\\n      33        8        9 1\\n      34       62       36 1\\n      35       64       38 1\\n      36       12       10 1\\n      37       51        8 1\\n      38       15       16 1\\n      39        8        7 1\\n      40       65       39 1\\n      41       12       42 1\\n      42       54       19 1\\n      43       22       23 1\\n      44       17       39 1\\n      45       47        1 1\\n      46       60       34 1\\n      47       68       42 1\\n      48       45        4 1\\n      49       48        2 1\\n      50       63       37 1\\n      51       17       18 1\\n      52       49        3 1\\n      53       40       41 1\\n      54       36       37 1\\n      55       22       37 1\\n      56       29       30 1\\n      57       45       46 1\\n      58       43       44 1\\n      59       58       30 1\\n      60        7        6 1\\n      61       26       28 1\\n      62       28       35 1\\n      63       69       43 1\\n      64       61       35 1\\n      65       14       40 1\\n      66       34       35 1\\n      67       12       13 1\\n      68       18       19 1\\n      69       31       34 1\\n      70        3        4 1\\n      71       46        1 1\\n      72       31       32 1\\n      73       20       38 1\\n      74       10        9 1\\n      75       32       33 1\\n      76       28       29 1\\n      77       57       29 1\\n@<TRIPOS>SUBSTRUCTURE\\n       1 RES             1 RESIDUE    0 **** ROOT      0\\n\",\"mol2\");\n\tviewer_16019419129766881.setStyle({\"stick\": {\"radius\": 0.2, \"color\": \"grey\"}, \"sphere\": {\"scale\": 0.3, \"colorscheme\": {}}});\n\tviewer_16019419129766881.zoomTo();\nviewer_16019419129766881.render();\n});\n</script>",
      "text/html": [
       "<div id=\"3dmolviewer_16019419129766881\"  style=\"position: relative; width: 640px; height: 480px\">\n",
       "        <p id=\"3dmolwarning_16019419129766881\" style=\"background-color:#ffcccc;color:black\">You appear to be running in JupyterLab (or JavaScript failed to load for some other reason).  You need to install the 3dmol extension: <br>\n",
       "        <tt>jupyter labextension install jupyterlab_3dmol</tt></p>\n",
       "        </div>\n",
       "<script>\n",
       "\n",
       "var loadScriptAsync = function(uri){\n",
       "  return new Promise((resolve, reject) => {\n",
       "    var tag = document.createElement('script');\n",
       "    tag.src = uri;\n",
       "    tag.async = true;\n",
       "    tag.onload = () => {\n",
       "      resolve();\n",
       "    };\n",
       "  var firstScriptTag = document.getElementsByTagName('script')[0];\n",
       "  firstScriptTag.parentNode.insertBefore(tag, firstScriptTag);\n",
       "});\n",
       "};\n",
       "\n",
       "if(typeof $3Dmolpromise === 'undefined') {\n",
       "$3Dmolpromise = null;\n",
       "  $3Dmolpromise = loadScriptAsync('https://3dmol.csb.pitt.edu/build/3Dmol.js');\n",
       "}\n",
       "\n",
       "var viewer_16019419129766881 = null;\n",
       "var warn = document.getElementById(\"3dmolwarning_16019419129766881\");\n",
       "if(warn) {\n",
       "    warn.parentNode.removeChild(warn);\n",
       "}\n",
       "$3Dmolpromise.then(function() {\n",
       "viewer_16019419129766881 = $3Dmol.createViewer($(\"#3dmolviewer_16019419129766881\"),{backgroundColor:\"white\"});\n",
       "\tviewer_16019419129766881.addModel(\"@<TRIPOS>MOLECULE\\nRES\\n72 77 1 0 1\\nSMALL\\nNO_CHARGES\\n@<TRIPOS>CRYSIN\\n   26.4717    21.2871    15.3050    90.0000    90.0000    90.0000  1  1\\n@<TRIPOS>ATOM\\n       1 C            1.3902    -0.2032     0.0189 C             1 RES     \\n       2 C            0.8505     1.0823     0.0071 C             1 RES     \\n       3 C           -0.5365     1.2615     0.0028 C             1 RES     \\n       4 C           -1.3883     0.1551    -0.0806 C             1 RES     \\n       5 O           -2.7313     0.4414    -0.2423 O             1 RES     \\n       6 C           -3.6354    -0.5934    -0.2915 C             1 RES     \\n       7 C           -4.4771    -0.7036    -1.4001 C             1 RES     \\n       8 C           -5.4524    -1.7098    -1.4379 C             1 RES     \\n       9 C           -5.5282    -2.6590    -0.4072 C             1 RES     \\n      10 C           -6.4599    -3.8159    -0.5447 C             1 RES     \\n      11 O           -7.1691    -3.9369    -1.5451 O             1 RES     \\n      12 C           -6.5486    -4.8594     0.5002 C             1 RES     \\n      13 C           -6.3503    -6.2041     0.1662 C             1 RES     \\n      14 C           -6.5628    -7.1902     1.1400 C             1 RES     \\n      15 C           -6.6014    -8.6232     0.7338 C             1 RES     \\n      16 O           -6.2908    -8.9563    -0.4113 O             1 RES     \\n      17 C           -7.1030    -9.6767     1.6460 C             1 RES     \\n      18 C           -6.3886   -10.8687     1.7842 C             1 RES     \\n      19 C           -6.9351   -11.9233     2.5265 C             1 RES     \\n      20 C           -8.1473   -11.7579     3.2097 C             1 RES     \\n      21 O           -8.5464   -12.8167     4.0033 O             1 RES     \\n      22 C           -9.7577   -12.7500     4.6529 C             1 RES     \\n      23 C           -9.7841   -12.9185     6.0383 C             1 RES     \\n      24 C          -11.0105   -12.9218     6.7186 C             1 RES     \\n      25 C          -12.2058   -12.6716     6.0261 C             1 RES     \\n      26 C          -13.4785   -12.5154     6.7918 C             1 RES     \\n      27 O          -13.4839   -12.5871     8.0217 O             1 RES     \\n      28 C          -14.7609   -12.2285     6.1090 C             1 RES     \\n      29 C          -15.4991   -11.0891     6.4579 C             1 RES     \\n      30 C          -16.7442   -10.8562     5.8605 C             1 RES     \\n      31 C          -17.2079   -11.7261     4.8669 C             1 RES     \\n      32 C          -18.4606   -11.4210     4.1491 C             1 RES     \\n      33 O          -18.8673   -12.1310     3.2289 O             1 RES     \\n      34 C          -16.4696   -12.8617     4.5200 C             1 RES     \\n      35 C          -15.2572   -13.1241     5.1560 C             1 RES     \\n      36 C          -12.1612   -12.5063     4.6369 C             1 RES     \\n      37 C          -10.9520   -12.5953     3.9506 C             1 RES     \\n      38 C           -8.8328   -10.5460     3.0921 C             1 RES     \\n      39 C           -8.3350    -9.5251     2.2877 C             1 RES     \\n      40 C           -6.8276    -6.8086     2.4634 C             1 RES     \\n      41 C           -7.0318    -5.4715     2.7876 C             1 RES     \\n      42 C           -6.9220    -4.4996     1.8009 C             1 RES     \\n      43 C           -4.6781    -2.5314     0.6976 C             1 RES     \\n      44 C           -3.7738    -1.4767     0.7769 C             1 RES     \\n      45 C           -0.8337    -1.1288    -0.0697 C             1 RES     \\n      46 C            0.5465    -1.3082     0.0024 C             1 RES     \\n      47 H            2.4670    -0.3473     0.0356 H             1 RES     \\n      48 H            1.5120     1.9446    -0.0164 H             1 RES     \\n      49 H           -0.9462     2.2681     0.0408 H             1 RES     \\n      50 H           -4.3686    -0.0246    -2.2426 H             1 RES     \\n      51 H           -6.1382    -1.7622    -2.2833 H             1 RES     \\n      52 H           -6.0668    -6.4809    -0.8493 H             1 RES     \\n      53 H           -5.4160   -10.9794     1.3091 H             1 RES     \\n      54 H           -6.4112   -12.8762     2.5628 H             1 RES     \\n      55 H           -8.8566   -13.0331     6.5945 H             1 RES     \\n      56 H          -11.0265   -13.1044     7.7929 H             1 RES     \\n      57 H          -15.1071   -10.3825     7.1877 H             1 RES     \\n      58 H          -17.3382   -10.0013     6.1754 H             1 RES     \\n      59 H          -19.0048   -10.5141     4.4518 H             1 RES     \\n      60 H          -16.8387   -13.5468     3.7590 H             1 RES     \\n      61 H          -14.6989   -14.0190     4.8933 H             1 RES     \\n      62 H          -13.0498   -12.2999     4.0513 H             1 RES     \\n      63 H          -10.9458   -12.4843     2.8696 H             1 RES     \\n      64 H           -9.7751   -10.3660     3.5973 H             1 RES     \\n      65 H           -8.9227    -8.6173     2.1804 H             1 RES     \\n      66 H           -6.9262    -7.5435     3.2571 H             1 RES     \\n      67 H           -7.3131    -5.1978     3.8009 H             1 RES     \\n      68 H           -7.1208    -3.4613     2.0532 H             1 RES     \\n      69 H           -4.6829    -3.2409     1.5166 H             1 RES     \\n      70 H           -3.1346    -1.3863     1.6506 H             1 RES     \\n      71 H           -1.4487    -2.0194    -0.1284 H             1 RES     \\n      72 H            0.9547    -2.3150     0.0142 H             1 RES     \\n@<TRIPOS>BOND\\n       1       14       15 1\\n       2       19       20 1\\n       3       21       22 1\\n       4       13       14 1\\n       5       56       24 1\\n       6       44        6 1\\n       7        4        5 1\\n       8       30       31 1\\n       9       38       39 1\\n      10       15       17 1\\n      11       52       13 1\\n      12        1        2 1\\n      13       41       42 1\\n      14       25       26 1\\n      15       67       41 1\\n      16       24       25 1\\n      17       20       21 1\\n      18       55       23 1\\n      19       10       11 1\\n      20       59       32 1\\n      21       50        7 1\\n      22       70       44 1\\n      23       72       46 1\\n      24       53       18 1\\n      25       26       27 1\\n      26        3        2 1\\n      27       66       40 1\\n      28       23       24 1\\n      29       25       36 1\\n      30       71       45 1\\n      31        5        6 1\\n      32       43        9 1\\n      33        8        9 1\\n      34       62       36 1\\n      35       64       38 1\\n      36       12       10 1\\n      37       51        8 1\\n      38       15       16 1\\n      39        8        7 1\\n      40       65       39 1\\n      41       12       42 1\\n      42       54       19 1\\n      43       22       23 1\\n      44       17       39 1\\n      45       47        1 1\\n      46       60       34 1\\n      47       68       42 1\\n      48       45        4 1\\n      49       48        2 1\\n      50       63       37 1\\n      51       17       18 1\\n      52       49        3 1\\n      53       40       41 1\\n      54       36       37 1\\n      55       22       37 1\\n      56       29       30 1\\n      57       45       46 1\\n      58       43       44 1\\n      59       58       30 1\\n      60        7        6 1\\n      61       26       28 1\\n      62       28       35 1\\n      63       69       43 1\\n      64       61       35 1\\n      65       14       40 1\\n      66       34       35 1\\n      67       12       13 1\\n      68       18       19 1\\n      69       31       34 1\\n      70        3        4 1\\n      71       46        1 1\\n      72       31       32 1\\n      73       20       38 1\\n      74       10        9 1\\n      75       32       33 1\\n      76       28       29 1\\n      77       57       29 1\\n@<TRIPOS>SUBSTRUCTURE\\n       1 RES             1 RESIDUE    0 **** ROOT      0\\n\",\"mol2\");\n",
       "\tviewer_16019419129766881.setStyle({\"stick\": {\"radius\": 0.2, \"color\": \"grey\"}, \"sphere\": {\"scale\": 0.3, \"colorscheme\": {}}});\n",
       "\tviewer_16019419129766881.zoomTo();\n",
       "viewer_16019419129766881.render();\n",
       "});\n",
       "</script>"
      ]
     },
     "metadata": {},
     "output_type": "display_data"
    }
   ],
   "source": [
    "smiles_utils.viz(poly_string, deep=True)"
   ]
  },
  {
   "cell_type": "code",
   "execution_count": 102,
   "metadata": {},
   "outputs": [
    {
     "name": "stderr",
     "output_type": "stream",
     "text": [
      "/home/chris/miniconda3/envs/uli/lib/python3.7/site-packages/ipykernel/ipkernel.py:287: DeprecationWarning: `should_run_async` will not call `transform_cell` automatically in the future. Please pass the result to `transformed_cell` argument and any exception that happen during thetransform in `preprocessing_exc_tuple` in IPython 7.17 and above.\n",
      "  and should_run_async(code)\n"
     ]
    }
   ],
   "source": [
    "##############################################"
   ]
  },
  {
   "cell_type": "code",
   "execution_count": 24,
   "metadata": {},
   "outputs": [
    {
     "name": "stderr",
     "output_type": "stream",
     "text": [
      "/home/chris/miniconda3/envs/uli/lib/python3.7/site-packages/ipykernel/ipkernel.py:287: DeprecationWarning: `should_run_async` will not call `transform_cell` automatically in the future. Please pass the result to `transformed_cell` argument and any exception that happen during thetransform in `preprocessing_exc_tuple` in IPython 7.17 and above.\n",
      "  and should_run_async(code)\n"
     ]
    }
   ],
   "source": [
    "def build_system(packing='bcc'):\n",
    "    '''\n",
    "    Generate a simple LJ particle system using hoomd's create_lattice function\n",
    "    packing \n",
    "    '''\n",
    "    hoomd.context.initialize(\"\")\n",
    "    if packing == 'fcc':\n",
    "        system = hoomd.init.create_lattice(unitcell=(hoomd.lattice.fcc(a=1.58)), n=6)\n",
    "    elif packing == 'bcc':\n",
    "        system = hoomd.init.create_lattice(unitcell=(hoomd.lattice.bcc(a=1.29)), n=6)\n",
    "    hoomd.dump.gsd('{}_system.gsd'.format(packing), group = hoomd.group.all(), period=None, overwrite=True)\n",
    "    return system\n",
    "\n",
    "def hoomd_simulation(system, temp, tau):  \n",
    "    nl = hoomd.md.nlist.cell()\n",
    "    lj = hoomd.md.pair.lj(r_cut=2.5, nlist=nl)\n",
    "    lj.pair_coeff.set('A', 'A', alpha=1.0, epsilon=1.0, sigma=1.0)\n",
    "    hoomd.md.integrate.mode_standard(dt=0.001)\n",
    "    _all = hoomd.group.all()\n",
    "    nvt = hoomd.md.integrate.nvt(group=_all, kT=temp, tau=tau)\n",
    "    nvt.randomize_velocities(seed=23)\n",
    "    hoomd.analyze.log(filename='{}-tau_out.log'.format(tau),\n",
    "                      quantities=[\"time\", \"temperature\", \"potential_energy\"],\n",
    "                      period=100,\n",
    "                      overwrite=True\n",
    "                     )\n",
    "    #hoomd.dump.gsd('tau-trajectory.gsd', period=5e3, group=_all, overwrite=True)\n",
    "    hoomd.run(3e5)"
   ]
  },
  {
   "cell_type": "markdown",
   "metadata": {},
   "source": [
    "# --------------------------------------------------------\n",
    "\n",
    "PEEK:  \n",
    "1 amu = 1.66054e-24 g  \n",
    "1.32 g/cm^3  \n",
    "1.32 g/nm^3  \n",
    "C19H12O3  \n",
    "monomer_amu = 288.302  "
   ]
  },
  {
   "cell_type": "code",
   "execution_count": 6,
   "metadata": {},
   "outputs": [],
   "source": [
    "def build_peek_system(num_mols, poly_length, density):\n",
    "    '''\n",
    "    This function uses mBuild's packing functionality to create a very low dense system of molecules\n",
    "    to allow for easier packing. A short simulation is then ran using HoomD to shrink the system to the\n",
    "    desired starting density.\n",
    "    '''\n",
    "    peek_poly_smi = polysmiles.poly_smiles('occccC=O)ccccOcc*c*ccc6)))))))cc6)))))))cc6',\n",
    "                                      length=poly_length)\n",
    "    peek_poly = mb.load(peek_poly_smi, smiles=True)\n",
    "    \n",
    "    mol_amu = poly_length * 288.302\n",
    "    mol_grams = mol_amu * 1.66054e-24\n",
    "    system_mass = mol_grams * num_mols\n",
    "    edge_cm = (system_mass / density)**(1/3)\n",
    "    edge_nm = edge_cm * 1e7\n",
    "\n",
    "    init_box = mb.Box([edge_nm*5]*3)\n",
    "    print(init_box)\n",
    "    system = mb.fill_box(peek_poly, num_mols, init_box)\n",
    "    \n",
    "    gaff = Forcefield(forcefield_files='files/gaff.xml')\n",
    "    system_pmd = gaff.apply(system)\n",
    "    create_hoomd_simulation(system_pmd, r_cut=1.2, auto_scale=True)\n",
    "    forces = [f for f in hoomd.context.current.forces \n",
    "                if not isinstance(f, hoomd.md.charge.pppm)]\n",
    "    \n",
    "    hoomd.context.current.forces = forces\n",
    "    _all = hoomd.group.all()\n",
    "    hoomd.md.integrate.mode_standard(dt=0.0001)\n",
    "    integrator = hoomd.md.integrate.nvt(group=_all, kT=2.0, tau=0.1)\n",
    "    hoomd.dump.gsd(\"trajectories/start-shrink.gsd\", period=None, group=_all, overwrite=True)\n",
    "    hoomd.dump.gsd(\"trajectories/traj-shrink.gsd\", period=1e5, group=_all, phase=0, overwrite=True)\n",
    "    integrator.randomize_velocities(seed=42);\n",
    "\n",
    "    hoomd.update.box_resize(L = hoomd.variant.linear_interp([(0,edge_nm*50), (1e6,edge_nm*10)], zero=0))\n",
    "    hoomd.run(1e6)\n",
    "    gsd_restart = hoomd.dump.gsd(\"trajectories/out-shrink.gsd\", period=None, group=_all, overwrite=True)\n",
    "    gsd_restart.write_restart()"
   ]
  },
  {
   "cell_type": "code",
   "execution_count": 7,
   "metadata": {
    "scrolled": true
   },
   "outputs": [
    {
     "name": "stdout",
     "output_type": "stream",
     "text": [
      "Box(mins=[0. 0. 0.], maxs=[23.18757104 23.18757104 23.18757104], angles=[90. 90. 90.])\n"
     ]
    },
    {
     "name": "stderr",
     "output_type": "stream",
     "text": [
      "/home/chris/cme/forks/foyer/foyer/forcefield.py:449: UserWarning: No force field version number found in force field XML file.\n",
      "  'No force field version number found in force field XML file.'\n",
      "/home/chris/cme/forks/foyer/foyer/forcefield.py:461: UserWarning: No force field name found in force field XML file.\n",
      "  'No force field name found in force field XML file.'\n",
      "/home/chris/cme/forks/foyer/foyer/validator.py:132: ValidationWarning: You have empty smart definition(s)\n",
      "  warn(\"You have empty smart definition(s)\", ValidationWarning)\n"
     ]
    },
    {
     "name": "stdout",
     "output_type": "stream",
     "text": [
      "HOOMD-blue v2.9.0-16-g08515af02 CUDA (10.1) DOUBLE HPMC_MIXED MPI SSE SSE2 SSE3 SSE4_1 SSE4_2 AVX AVX2 \n",
      "Compiled: 05/12/2020\n",
      "Copyright (c) 2009-2019 The Regents of the University of Michigan.\n",
      "-----\n",
      "You are using HOOMD-blue. Please cite the following:\n",
      "* J A Anderson, C D Lorenz, and A Travesset. \"General purpose molecular dynamics\n",
      "  simulations fully implemented on graphics processing units\", Journal of\n",
      "  Computational Physics 227 (2008) 5342--5359\n",
      "* J Glaser, T D Nguyen, J A Anderson, P Lui, F Spiga, J A Millan, D C Morse, and\n",
      "  S C Glotzer. \"Strong scaling of general-purpose molecular dynamics simulations\n",
      "  on GPUs\", Computer Physics Communications 192 (2015) 97--107\n",
      "-----\n",
      "HOOMD-blue is running on the following GPU(s):\n",
      " [0]      GeForce RTX 2070  36 SM_7.5 @ 1.44 GHz, 7982 MiB DRAM, DIS, MNG\n"
     ]
    },
    {
     "name": "stderr",
     "output_type": "stream",
     "text": [
      "/home/chris/cme/forks/foyer/foyer/forcefield.py:267: UserWarning: Parameters have not been assigned to all impropers. Total system impropers: 4750, Parameterized impropers: 3350. Note that if your system contains torsions of Ryckaert-Bellemans functional form, all of these torsions are processed as propers\n",
      "  warnings.warn(msg)\n"
     ]
    },
    {
     "name": "stdout",
     "output_type": "stream",
     "text": [
      "notice(2): Group \"all\" created containing 8550 particles\n",
      "notice(2): -- Neighborlist exclusion statistics -- :\n",
      "notice(2): Particles with 3 exclusions             : 3350\n",
      "notice(2): Particles with 6 exclusions             : 450\n",
      "notice(2): Particles with 7 exclusions             : 3350\n",
      "notice(2): Particles with 8 exclusions             : 900\n",
      "notice(2): Particles with 9 exclusions             : 500\n",
      "notice(2): Neighbors included by diameter          : no\n",
      "notice(2): Neighbors excluded when in the same body: no\n",
      "Processing LJ and QQ\n",
      "notice(2): Group \"charged\" created containing 0 particles\n",
      "No charged groups found, ignoring electrostatics\n",
      "Processing 1-4 interactions, adjusting neighborlist exclusions\n",
      "Processing harmonic bonds\n",
      "Processing harmonic angles\n",
      "Processing periodic torsions\n",
      "HOOMD SimulationContext updated from ParmEd Structure\n",
      "** starting run **\n",
      "Time 00:00:10 | Step 8002 / 1000000 | TPS 800.187 | ETA 00:20:39\n",
      "Time 00:00:20 | Step 16281 / 1000000 | TPS 827.894 | ETA 00:19:48\n",
      "Time 00:00:30 | Step 24502 / 1000000 | TPS 822.042 | ETA 00:19:46\n",
      "Time 00:00:40 | Step 32749 / 1000000 | TPS 824.637 | ETA 00:19:32\n",
      "Time 00:00:50 | Step 40970 / 1000000 | TPS 822.079 | ETA 00:19:26\n",
      "Time 00:01:00 | Step 48703 / 1000000 | TPS 773.292 | ETA 00:20:30\n",
      "Time 00:01:10 | Step 56858 / 1000000 | TPS 815.421 | ETA 00:19:16\n",
      "Time 00:01:20 | Step 65075 / 1000000 | TPS 821.67 | ETA 00:18:57\n",
      "Time 00:01:30 | Step 73259 / 1000000 | TPS 818.339 | ETA 00:18:52\n",
      "Time 00:01:40 | Step 81442 / 1000000 | TPS 818.248 | ETA 00:18:42\n",
      "Time 00:01:50 | Step 89622 / 1000000 | TPS 817.929 | ETA 00:18:33\n",
      "Time 00:02:01 | Step 96745 / 1000000 | TPS 647.332 | ETA 00:23:15\n",
      "Time 00:02:12 | Step 103615 / 1000000 | TPS 625.262 | ETA 00:23:53\n",
      "Time 00:02:22 | Step 111601 / 1000000 | TPS 796.13 | ETA 00:18:35\n",
      "Time 00:02:32 | Step 119489 / 1000000 | TPS 788.737 | ETA 00:18:36\n",
      "Time 00:02:42 | Step 127077 / 1000000 | TPS 758.752 | ETA 00:19:10\n",
      "Time 00:02:52 | Step 134889 / 1000000 | TPS 781.18 | ETA 00:18:27\n",
      "Time 00:03:02 | Step 142955 / 1000000 | TPS 806.548 | ETA 00:17:42\n",
      "Time 00:03:12 | Step 151049 / 1000000 | TPS 809.327 | ETA 00:17:28\n",
      "Time 00:03:22 | Step 159152 / 1000000 | TPS 810.251 | ETA 00:17:17\n",
      "Time 00:03:32 | Step 167285 / 1000000 | TPS 813.275 | ETA 00:17:03\n",
      "Time 00:03:42 | Step 175456 / 1000000 | TPS 817.068 | ETA 00:16:49\n",
      "Time 00:03:52 | Step 183632 / 1000000 | TPS 817.537 | ETA 00:16:38\n",
      "Time 00:04:02 | Step 191841 / 1000000 | TPS 820.813 | ETA 00:16:24\n",
      "Time 00:04:12 | Step 200064 / 1000000 | TPS 822.268 | ETA 00:16:12\n",
      "Time 00:04:22 | Step 208075 / 1000000 | TPS 801.035 | ETA 00:16:28\n",
      "Time 00:04:32 | Step 216198 / 1000000 | TPS 812.289 | ETA 00:16:04\n",
      "Time 00:04:42 | Step 224358 / 1000000 | TPS 815.952 | ETA 00:15:50\n",
      "Time 00:04:52 | Step 232554 / 1000000 | TPS 819.536 | ETA 00:15:36\n",
      "Time 00:05:02 | Step 240901 / 1000000 | TPS 822.037 | ETA 00:15:23\n",
      "Time 00:05:13 | Step 249601 / 1000000 | TPS 827.4 | ETA 00:15:06\n",
      "Time 00:05:23 | Step 258197 / 1000000 | TPS 827.818 | ETA 00:14:56\n",
      "Time 00:05:34 | Step 266875 / 1000000 | TPS 829.587 | ETA 00:14:43\n",
      "Time 00:05:44 | Step 275388 / 1000000 | TPS 825.89 | ETA 00:14:37\n",
      "Time 00:05:54 | Step 284101 / 1000000 | TPS 831.044 | ETA 00:14:21\n",
      "Time 00:06:05 | Step 292634 / 1000000 | TPS 832.318 | ETA 00:14:09\n",
      "Time 00:06:15 | Step 301431 / 1000000 | TPS 853.39 | ETA 00:13:38\n",
      "Time 00:06:25 | Step 311825 / 1000000 | TPS 1039.36 | ETA 00:11:02\n",
      "Time 00:06:35 | Step 322201 / 1000000 | TPS 1037.46 | ETA 00:10:53\n",
      "Time 00:06:45 | Step 332636 / 1000000 | TPS 1043.43 | ETA 00:10:39\n",
      "Time 00:06:55 | Step 343116 / 1000000 | TPS 1047.99 | ETA 00:10:26\n",
      "Time 00:07:05 | Step 353008 / 1000000 | TPS 988.789 | ETA 00:10:54\n",
      "Time 00:07:15 | Step 363498 / 1000000 | TPS 1048.98 | ETA 00:10:06\n",
      "Time 00:07:25 | Step 374031 / 1000000 | TPS 1053.26 | ETA 00:09:54\n",
      "Time 00:07:35 | Step 384594 / 1000000 | TPS 1056.27 | ETA 00:09:42\n",
      "Time 00:07:45 | Step 395174 / 1000000 | TPS 1057.94 | ETA 00:09:31\n",
      "Time 00:07:55 | Step 405246 / 1000000 | TPS 1007.17 | ETA 00:09:50\n",
      "Time 00:08:05 | Step 415868 / 1000000 | TPS 1062.13 | ETA 00:09:09\n",
      "Time 00:08:15 | Step 426509 / 1000000 | TPS 1064.02 | ETA 00:08:58\n",
      "Time 00:08:25 | Step 437170 / 1000000 | TPS 1066.06 | ETA 00:08:47\n",
      "Time 00:08:35 | Step 447804 / 1000000 | TPS 1063.31 | ETA 00:08:39\n",
      "Time 00:08:45 | Step 458078 / 1000000 | TPS 1027.35 | ETA 00:08:47\n",
      "Time 00:08:55 | Step 468785 / 1000000 | TPS 1070.63 | ETA 00:08:16\n",
      "Time 00:09:05 | Step 479498 / 1000000 | TPS 1071.22 | ETA 00:08:05\n",
      "Time 00:09:15 | Step 490227 / 1000000 | TPS 1072.87 | ETA 00:07:55\n",
      "Time 00:09:25 | Step 500216 / 1000000 | TPS 998.834 | ETA 00:08:20\n",
      "Time 00:09:35 | Step 510916 / 1000000 | TPS 1069.93 | ETA 00:07:37\n",
      "Time 00:09:45 | Step 521694 / 1000000 | TPS 1077.74 | ETA 00:07:23\n",
      "Time 00:09:55 | Step 532488 / 1000000 | TPS 1079.33 | ETA 00:07:13\n",
      "Time 00:10:05 | Step 542987 / 1000000 | TPS 1049.82 | ETA 00:07:15\n",
      "Time 00:10:15 | Step 553817 / 1000000 | TPS 1082.95 | ETA 00:06:52\n",
      "Time 00:10:25 | Step 564637 / 1000000 | TPS 1082 | ETA 00:06:42\n",
      "Time 00:10:35 | Step 575465 / 1000000 | TPS 1082.77 | ETA 00:06:32\n",
      "Time 00:10:45 | Step 586039 / 1000000 | TPS 1057.38 | ETA 00:06:31\n",
      "Time 00:10:55 | Step 596876 / 1000000 | TPS 1083.6 | ETA 00:06:12\n",
      "Time 00:11:05 | Step 607704 / 1000000 | TPS 1082.77 | ETA 00:06:02\n",
      "Time 00:11:15 | Step 618554 / 1000000 | TPS 1084.98 | ETA 00:05:51\n",
      "Time 00:11:25 | Step 629244 / 1000000 | TPS 1068.95 | ETA 00:05:46\n",
      "Time 00:11:35 | Step 640130 / 1000000 | TPS 1088.54 | ETA 00:05:30\n",
      "Time 00:11:45 | Step 651030 / 1000000 | TPS 1089.99 | ETA 00:05:20\n",
      "Time 00:11:55 | Step 661945 / 1000000 | TPS 1091.45 | ETA 00:05:09\n",
      "Time 00:12:05 | Step 672706 / 1000000 | TPS 1076.04 | ETA 00:05:04\n",
      "Time 00:12:15 | Step 683643 / 1000000 | TPS 1093.69 | ETA 00:04:49\n",
      "Time 00:12:25 | Step 694588 / 1000000 | TPS 1094.4 | ETA 00:04:39\n",
      "Time 00:12:35 | Step 705494 / 1000000 | TPS 1090.5 | ETA 00:04:30\n",
      "Time 00:12:45 | Step 716345 / 1000000 | TPS 1085.04 | ETA 00:04:21\n",
      "Time 00:12:55 | Step 727339 / 1000000 | TPS 1099.32 | ETA 00:04:08\n",
      "Time 00:13:05 | Step 738340 / 1000000 | TPS 1100.09 | ETA 00:03:57\n",
      "Time 00:13:15 | Step 749345 / 1000000 | TPS 1100.49 | ETA 00:03:47\n",
      "Time 00:13:25 | Step 760246 / 1000000 | TPS 1090.03 | ETA 00:03:39\n",
      "Time 00:13:35 | Step 771252 / 1000000 | TPS 1100.54 | ETA 00:03:27\n",
      "Time 00:13:45 | Step 782201 / 1000000 | TPS 1094.9 | ETA 00:03:18\n",
      "Time 00:13:55 | Step 793119 / 1000000 | TPS 1091.79 | ETA 00:03:09\n",
      "Time 00:14:05 | Step 804122 / 1000000 | TPS 1100.24 | ETA 00:02:58\n",
      "Time 00:14:15 | Step 815154 / 1000000 | TPS 1103.19 | ETA 00:02:47\n",
      "Time 00:14:25 | Step 826184 / 1000000 | TPS 1102.9 | ETA 00:02:37\n",
      "Time 00:14:35 | Step 837151 / 1000000 | TPS 1096.62 | ETA 00:02:28\n",
      "Time 00:14:45 | Step 848195 / 1000000 | TPS 1104.3 | ETA 00:02:17\n",
      "Time 00:14:55 | Step 859241 / 1000000 | TPS 1104.58 | ETA 00:02:07\n",
      "Time 00:15:05 | Step 870296 / 1000000 | TPS 1105.43 | ETA 00:01:57\n",
      "Time 00:15:15 | Step 881300 / 1000000 | TPS 1100.31 | ETA 00:01:47\n",
      "Time 00:15:25 | Step 892359 / 1000000 | TPS 1105.87 | ETA 00:01:37\n",
      "Time 00:15:35 | Step 903412 / 1000000 | TPS 1105.29 | ETA 00:01:27\n",
      "Time 00:15:45 | Step 914451 / 1000000 | TPS 1103.87 | ETA 00:01:17\n",
      "Time 00:15:55 | Step 925524 / 1000000 | TPS 1107.27 | ETA 00:01:07\n",
      "Time 00:16:05 | Step 936600 / 1000000 | TPS 1107.6 | ETA 00:00:57\n",
      "Time 00:16:15 | Step 947661 / 1000000 | TPS 1106.08 | ETA 00:00:47\n",
      "Time 00:16:25 | Step 958701 / 1000000 | TPS 1103.92 | ETA 00:00:37\n",
      "Time 00:16:35 | Step 969753 / 1000000 | TPS 1105.11 | ETA 00:00:27\n",
      "Time 00:16:45 | Step 980809 / 1000000 | TPS 1105.57 | ETA 00:00:17\n",
      "Time 00:16:55 | Step 991871 / 1000000 | TPS 1106.19 | ETA 00:00:07\n",
      "Time 00:17:02 | Step 1000000 / 1000000 | TPS 1107.16 | ETA 00:00:00\n",
      "Average TPS: 978.207\n",
      "---------\n",
      "-- Neighborlist stats:\n",
      "3511 normal updates / 3334 forced updates / 0 dangerous updates\n",
      "n_neigh_min: 5 / n_neigh_max: 37 / n_neigh_avg: 15.5371\n",
      "shortest rebuild period: 4\n",
      "-- Cell list stats:\n",
      "Dimension: 28, 28, 28\n",
      "n_min    : 0 / n_max: 16 / n_avg: 0.389486\n",
      "** run complete **\n"
     ]
    }
   ],
   "source": [
    "build_peek_system(num_mols=50, poly_length=5, density=1.2)"
   ]
  },
  {
   "cell_type": "markdown",
   "metadata": {},
   "source": [
    "# -------------------------------------------------------------------------"
   ]
  },
  {
   "cell_type": "code",
   "execution_count": null,
   "metadata": {},
   "outputs": [],
   "source": [
    "# Smiles Strings\n",
    "'''\n",
    "DEEPSMILES:\n",
    "PEEK-para = \"occccoccccC=O)cccccc6)))))))cc6)))))))cc6\"\n",
    "PEEK-meta = \"occcoccccC=O)cccccc6)))))))cc6)))))))ccc6\"\n",
    "PEKK-para = \"ccccoccccC=o)ccccC=o))cc6)))))))cc6)))))))cc6\"\n",
    "PEKK-meta = \"ccccoccccC=o)cccC=o))ccc6)))))))cc6)))))))cc6\"\n",
    "\n",
    "SMILES:\n",
    "PEEK-para = \"oc3ccc(oc2ccc(C(=O)c1ccccc1)cc2)cc3\"\n",
    "PEEK-meta = \"oc3cc(oc2ccc(C(=O)c1ccccc1)cc2)ccc3\"\n",
    "PEKK-para = \"c3ccc(oc2ccc(C(=o)c1ccc(C=o)cc1)cc2)cc3\"\n",
    "PEKK-meta = \"c3ccc(oc2ccc(C(=o)c1cc(C=o)ccc1)cc2)cc3\"\n",
    "'''\n",
    "\n",
    "\n",
    "# DeepSMILES with bonded atom indicated\n",
    "'''\n",
    "PEEK Para Bonded:\n",
    "\"occccoccccC=O)cc*c*ccc6)))))))cc6)))))))cc6\"\n",
    "\"occccoccccC=O)ccc*c*cc6)))))))cc6)))))))cc6\"\n",
    "\"occccoccccC=O)cccc*c*c6)))))))cc6)))))))cc6\"\n",
    "\n",
    "PEEK Meta Bonded:\n",
    "\"occcoccccC=O)ccc*c*cc6)))))))cc6)))))))ccc6\"\n",
    "\"occcoccccC=O)cc*c*ccc6)))))))cc6)))))))ccc6\"\n",
    "\"occcoccccC=O)cccc*c*c6)))))))cc6)))))))ccc6\"\n",
    "\n",
    "PEKK Para Bonded\n",
    "\"ccccoccccC=o)cccc*C*=o))cc6)))))))cc6)))))))cc6\"\n",
    "PEKK Meta Bonded\n",
    "\"ccccoccccC=o)ccc*C*=o))ccc6)))))))cc6)))))))cc6\"\n",
    "'''\n",
    "\n",
    "\n",
    "# Build up dicts and save to json file\n",
    "'''\n",
    "PEKK_dict = {}\n",
    "\n",
    "PEKK_dict['para_deep_smiles'] = \"ccccoccccC=o)ccccC=o))cc6)))))))cc6)))))))cc6\"\n",
    "PEKK_dict['meta_deep_smiles'] = \"ccccoccccC=o)cccC=o))ccc6)))))))cc6)))))))cc6\"\n",
    "PEKK_dict['para_smiles'] = \"c3ccc(oc2ccc(C(=o)c1ccc(C=o)cc1)cc2)cc3\"\n",
    "PEKK_dict['meta_smiles'] = \"c3ccc(oc2ccc(C(=o)c1cc(C=o)ccc1)cc2)cc3\"\n",
    "PEKK_dict['para_template'] = \"ccccoccccC=o)cccc*C*=o))cc6)))))))cc6)))))))cc6\"\n",
    "PEKK_dict['meta_template'] = \"ccccoccccC=o)ccc*C*=o))ccc6)))))))cc6)))))))cc6\"\n",
    "PEKK_dict['monomer_mass'] = 302.329\n",
    "\n",
    "\n",
    "PEEK_dict = {}\n",
    "\n",
    "PEEK_dict['para_deep_smiles'] = \"occccoccccC=O)cccccc6)))))))cc6)))))))cc6\"\n",
    "PEEK_dict['meta_deep_smiles'] = \"occcoccccC=O)cccccc6)))))))cc6)))))))ccc6\"\n",
    "PEEK_dict['para_smiles'] = \"oc3ccc(oc2ccc(C(=O)c1ccccc1)cc2)cc3\"\n",
    "PEEK_dict['meta_smiles'] = \"oc3cc(oc2ccc(C(=O)c1ccccc1)cc2)ccc3\"\n",
    "PEEK_dict['para_template'] = \"occccoccccC=O)ccc{}{}ccc6)))))))cc6)))))))cc6\"\n",
    "PEEK_dict['meta_template'] = \"occcoccccC=O)cccc{}{}cc6)))))))cc6)))))))ccc6\"\n",
    "PEEK_dict['monomer_mass'] = 288.302\n",
    "\n",
    "\n",
    "\n",
    "file_name = 'compounds/PEKK.json'\n",
    "with open(file_name, 'w') as fp:\n",
    "    json.dump(PEKK_dict, fp)\n",
    "'''"
   ]
  }
 ],
 "metadata": {
  "kernelspec": {
   "display_name": "Python 3",
   "language": "python",
   "name": "python3"
  },
  "language_info": {
   "codemirror_mode": {
    "name": "ipython",
    "version": 3
   },
   "file_extension": ".py",
   "mimetype": "text/x-python",
   "name": "python",
   "nbconvert_exporter": "python",
   "pygments_lexer": "ipython3",
   "version": "3.7.8"
  }
 },
 "nbformat": 4,
 "nbformat_minor": 4
}
