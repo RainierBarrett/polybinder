{
 "cells": [
  {
   "cell_type": "code",
   "execution_count": 1,
   "metadata": {},
   "outputs": [],
   "source": [
    "import hoomd\n",
    "import mbuild as mb\n",
    "from mbuild.formats.hoomd_simulation import create_hoomd_simulation\n",
    "import foyer\n",
    "from foyer import Forcefield\n",
    "#import utils\n",
    "from utils import smiles_utils\n",
    "from utils import polysmiles"
   ]
  },
  {
   "cell_type": "code",
   "execution_count": 2,
   "metadata": {},
   "outputs": [
    {
     "name": "stderr",
     "output_type": "stream",
     "text": [
      "/home/chris/miniconda3/envs/uli/lib/python3.7/site-packages/ipykernel/ipkernel.py:287: DeprecationWarning: `should_run_async` will not call `transform_cell` automatically in the future. Please pass the result to `transformed_cell` argument and any exception that happen during thetransform in `preprocessing_exc_tuple` in IPython 7.17 and above.\n",
      "  and should_run_async(code)\n"
     ]
    },
    {
     "data": {
      "text/plain": [
       "'\\nDEEPSMILES:\\nPEEK-para = \"occccoccccC=O)cccccc6)))))))cc6)))))))cc6\"\\nPEEK-para-bond = \\nPEEK-meta = \"occcoccccC=O)cccccc6)))))))cc6)))))))ccc6\"\\nPEKK-para = \"ccccoccccC=o)ccccC=o))cc6)))))))cc6)))))))cc6\"\\nPEKK-meta = \"ccccoccccC=o)cccC=o))ccc6)))))))cc6)))))))cc6\"\\n\\nSMILES:\\nPEEK-para = \"oc3ccc(oc2ccc(C(=O)c1ccccc1)cc2)cc3\"\\nPEEK-meta = \"oc3cc(oc2ccc(C(=O)c1ccccc1)cc2)ccc3\"\\n\\nPEKK-para = \"c3ccc(oc2ccc(C(=o)c1ccc(C=o)cc1)cc2)cc3\"\\nPEKK-meta = \"c3ccc(oc2ccc(C(=o)c1cc(C=o)ccc1)cc2)cc3\"\\n'"
      ]
     },
     "execution_count": 2,
     "metadata": {},
     "output_type": "execute_result"
    }
   ],
   "source": [
    "'''\n",
    "DEEPSMILES:\n",
    "PEEK-para = \"occccoccccC=O)cccccc6)))))))cc6)))))))cc6\"\n",
    "PEEK-meta = \"occcoccccC=O)cccccc6)))))))cc6)))))))ccc6\"\n",
    "PEKK-para = \"ccccoccccC=o)ccccC=o))cc6)))))))cc6)))))))cc6\"\n",
    "PEKK-meta = \"ccccoccccC=o)cccC=o))ccc6)))))))cc6)))))))cc6\"\n",
    "\n",
    "SMILES:\n",
    "PEEK-para = \"oc3ccc(oc2ccc(C(=O)c1ccccc1)cc2)cc3\"\n",
    "PEEK-meta = \"oc3cc(oc2ccc(C(=O)c1ccccc1)cc2)ccc3\"\n",
    "PEKK-para = \"c3ccc(oc2ccc(C(=o)c1ccc(C=o)cc1)cc2)cc3\"\n",
    "PEKK-meta = \"c3ccc(oc2ccc(C(=o)c1cc(C=o)ccc1)cc2)cc3\"\n",
    "'''"
   ]
  },
  {
   "cell_type": "code",
   "execution_count": 22,
   "metadata": {},
   "outputs": [
    {
     "name": "stderr",
     "output_type": "stream",
     "text": [
      "/home/chris/miniconda3/envs/uli/lib/python3.7/site-packages/ipykernel/ipkernel.py:287: DeprecationWarning: `should_run_async` will not call `transform_cell` automatically in the future. Please pass the result to `transformed_cell` argument and any exception that happen during thetransform in `preprocessing_exc_tuple` in IPython 7.17 and above.\n",
      "  and should_run_async(code)\n",
      "/home/chris/cme/forks/mbuild/mbuild/conversion.py:687: UserWarning: No unitcell detected for pybel.Molecule O=C1C=C(Oc2ccc(C(=O)c3ccccc3)cc2)C=C[CH]1\t\n",
      "\n",
      "  warn(\"No unitcell detected for pybel.Molecule {}\".format(pybel_mol))\n"
     ]
    },
    {
     "data": {
      "application/3dmoljs_load.v0": "<div id=\"3dmolviewer_16019212414988048\"  style=\"position: relative; width: 640px; height: 480px\">\n        <p id=\"3dmolwarning_16019212414988048\" style=\"background-color:#ffcccc;color:black\">You appear to be running in JupyterLab (or JavaScript failed to load for some other reason).  You need to install the 3dmol extension: <br>\n        <tt>jupyter labextension install jupyterlab_3dmol</tt></p>\n        </div>\n<script>\n\nvar loadScriptAsync = function(uri){\n  return new Promise((resolve, reject) => {\n    var tag = document.createElement('script');\n    tag.src = uri;\n    tag.async = true;\n    tag.onload = () => {\n      resolve();\n    };\n  var firstScriptTag = document.getElementsByTagName('script')[0];\n  firstScriptTag.parentNode.insertBefore(tag, firstScriptTag);\n});\n};\n\nif(typeof $3Dmolpromise === 'undefined') {\n$3Dmolpromise = null;\n  $3Dmolpromise = loadScriptAsync('https://3dmol.csb.pitt.edu/build/3Dmol.js');\n}\n\nvar viewer_16019212414988048 = null;\nvar warn = document.getElementById(\"3dmolwarning_16019212414988048\");\nif(warn) {\n    warn.parentNode.removeChild(warn);\n}\n$3Dmolpromise.then(function() {\nviewer_16019212414988048 = $3Dmol.createViewer($(\"#3dmolviewer_16019212414988048\"),{backgroundColor:\"white\"});\n\tviewer_16019212414988048.addModel(\"@<TRIPOS>MOLECULE\\nRES\\n35 37 1 0 1\\nSMALL\\nNO_CHARGES\\n@<TRIPOS>CRYSIN\\n   18.1849    11.0443    11.4621    90.0000    90.0000    90.0000  1  1\\n@<TRIPOS>ATOM\\n       1 O            0.9689    -0.0017     0.0853 O             1 RES     \\n       2 C            2.1980     0.0087     0.0656 C             1 RES     \\n       3 C            2.9918    -1.2353     0.1042 C             1 RES     \\n       4 C            4.3337    -1.1893     0.0621 C             1 RES     \\n       5 O            5.0258    -2.3964    -0.0384 O             1 RES     \\n       6 C            6.3897    -2.4483     0.0768 C             1 RES     \\n       7 C            7.0957    -3.1253    -0.9159 C             1 RES     \\n       8 C            8.4811    -3.2647    -0.8065 C             1 RES     \\n       9 C            9.1700    -2.6373     0.2420 C             1 RES     \\n      10 C           10.6603    -2.6484     0.2316 C             1 RES     \\n      11 O           11.2716    -3.1743    -0.6942 O             1 RES     \\n      12 C           11.4435    -2.0285     1.3230 C             1 RES     \\n      13 C           12.4554    -1.1092     1.0275 C             1 RES     \\n      14 C           13.3038    -0.6751     2.0487 C             1 RES     \\n      15 C           13.0862    -1.0890     3.3650 C             1 RES     \\n      16 C           12.0453    -1.9668     3.6620 C             1 RES     \\n      17 C           11.2393    -2.4553     2.6388 C             1 RES     \\n      18 C            8.4450    -1.9616     1.2306 C             1 RES     \\n      19 C            7.0570    -1.9141     1.1764 C             1 RES     \\n      20 C            5.0427     0.0853     0.0472 C             1 RES     \\n      21 C            4.3915     1.2537     0.0335 C             1 RES     \\n      22 C            2.9599     1.2645    -0.0798 C             1 RES     \\n      23 H            2.4374    -2.1650     0.0972 H             1 RES     \\n      24 H            6.5736    -3.5290    -1.7800 H             1 RES     \\n      25 H            9.0209    -3.8476    -1.5513 H             1 RES     \\n      26 H           12.6010    -0.7480     0.0115 H             1 RES     \\n      27 H           14.1538    -0.0369     1.8181 H             1 RES     \\n      28 H           13.7392    -0.7388     4.1606 H             1 RES     \\n      29 H           11.8831    -2.3034     4.6821 H             1 RES     \\n      30 H           10.4617    -3.1778     2.8705 H             1 RES     \\n      31 H            8.9279    -1.4539     2.0580 H             1 RES     \\n      32 H            6.5121    -1.4011     1.9641 H             1 RES     \\n      33 H            6.1254     0.1170     0.0347 H             1 RES     \\n      34 H            4.9285     2.1966     0.0312 H             1 RES     \\n      35 H            2.4940     2.0276    -0.6892 H             1 RES     \\n@<TRIPOS>BOND\\n       1       16       15 1\\n       2       34       21 1\\n       3        9       10 1\\n       4       18       31 1\\n       5       19       18 1\\n       6        4        3 1\\n       7       10       12 1\\n       8       11       10 1\\n       9       16       17 1\\n      10       33       20 1\\n      11        6       19 1\\n      12       12       17 1\\n      13       21       20 1\\n      14        2       22 1\\n      15        7       24 1\\n      16       28       15 1\\n      17       13       14 1\\n      18        1        2 1\\n      19        5        6 1\\n      20        8        9 1\\n      21       13       12 1\\n      22        3        2 1\\n      23       35       22 1\\n      24       13       26 1\\n      25       14       27 1\\n      26       14       15 1\\n      27       17       30 1\\n      28        8       25 1\\n      29        6        7 1\\n      30        9       18 1\\n      31        4       20 1\\n      32        8        7 1\\n      33       21       22 1\\n      34        3       23 1\\n      35       29       16 1\\n      36        4        5 1\\n      37       19       32 1\\n@<TRIPOS>SUBSTRUCTURE\\n       1 RES             1 RESIDUE    0 **** ROOT      0\\n\",\"mol2\");\n\tviewer_16019212414988048.setStyle({\"stick\": {\"radius\": 0.2, \"color\": \"grey\"}, \"sphere\": {\"scale\": 0.3, \"colorscheme\": {}}});\n\tviewer_16019212414988048.zoomTo();\nviewer_16019212414988048.render();\n});\n</script>",
      "text/html": [
       "<div id=\"3dmolviewer_16019212414988048\"  style=\"position: relative; width: 640px; height: 480px\">\n",
       "        <p id=\"3dmolwarning_16019212414988048\" style=\"background-color:#ffcccc;color:black\">You appear to be running in JupyterLab (or JavaScript failed to load for some other reason).  You need to install the 3dmol extension: <br>\n",
       "        <tt>jupyter labextension install jupyterlab_3dmol</tt></p>\n",
       "        </div>\n",
       "<script>\n",
       "\n",
       "var loadScriptAsync = function(uri){\n",
       "  return new Promise((resolve, reject) => {\n",
       "    var tag = document.createElement('script');\n",
       "    tag.src = uri;\n",
       "    tag.async = true;\n",
       "    tag.onload = () => {\n",
       "      resolve();\n",
       "    };\n",
       "  var firstScriptTag = document.getElementsByTagName('script')[0];\n",
       "  firstScriptTag.parentNode.insertBefore(tag, firstScriptTag);\n",
       "});\n",
       "};\n",
       "\n",
       "if(typeof $3Dmolpromise === 'undefined') {\n",
       "$3Dmolpromise = null;\n",
       "  $3Dmolpromise = loadScriptAsync('https://3dmol.csb.pitt.edu/build/3Dmol.js');\n",
       "}\n",
       "\n",
       "var viewer_16019212414988048 = null;\n",
       "var warn = document.getElementById(\"3dmolwarning_16019212414988048\");\n",
       "if(warn) {\n",
       "    warn.parentNode.removeChild(warn);\n",
       "}\n",
       "$3Dmolpromise.then(function() {\n",
       "viewer_16019212414988048 = $3Dmol.createViewer($(\"#3dmolviewer_16019212414988048\"),{backgroundColor:\"white\"});\n",
       "\tviewer_16019212414988048.addModel(\"@<TRIPOS>MOLECULE\\nRES\\n35 37 1 0 1\\nSMALL\\nNO_CHARGES\\n@<TRIPOS>CRYSIN\\n   18.1849    11.0443    11.4621    90.0000    90.0000    90.0000  1  1\\n@<TRIPOS>ATOM\\n       1 O            0.9689    -0.0017     0.0853 O             1 RES     \\n       2 C            2.1980     0.0087     0.0656 C             1 RES     \\n       3 C            2.9918    -1.2353     0.1042 C             1 RES     \\n       4 C            4.3337    -1.1893     0.0621 C             1 RES     \\n       5 O            5.0258    -2.3964    -0.0384 O             1 RES     \\n       6 C            6.3897    -2.4483     0.0768 C             1 RES     \\n       7 C            7.0957    -3.1253    -0.9159 C             1 RES     \\n       8 C            8.4811    -3.2647    -0.8065 C             1 RES     \\n       9 C            9.1700    -2.6373     0.2420 C             1 RES     \\n      10 C           10.6603    -2.6484     0.2316 C             1 RES     \\n      11 O           11.2716    -3.1743    -0.6942 O             1 RES     \\n      12 C           11.4435    -2.0285     1.3230 C             1 RES     \\n      13 C           12.4554    -1.1092     1.0275 C             1 RES     \\n      14 C           13.3038    -0.6751     2.0487 C             1 RES     \\n      15 C           13.0862    -1.0890     3.3650 C             1 RES     \\n      16 C           12.0453    -1.9668     3.6620 C             1 RES     \\n      17 C           11.2393    -2.4553     2.6388 C             1 RES     \\n      18 C            8.4450    -1.9616     1.2306 C             1 RES     \\n      19 C            7.0570    -1.9141     1.1764 C             1 RES     \\n      20 C            5.0427     0.0853     0.0472 C             1 RES     \\n      21 C            4.3915     1.2537     0.0335 C             1 RES     \\n      22 C            2.9599     1.2645    -0.0798 C             1 RES     \\n      23 H            2.4374    -2.1650     0.0972 H             1 RES     \\n      24 H            6.5736    -3.5290    -1.7800 H             1 RES     \\n      25 H            9.0209    -3.8476    -1.5513 H             1 RES     \\n      26 H           12.6010    -0.7480     0.0115 H             1 RES     \\n      27 H           14.1538    -0.0369     1.8181 H             1 RES     \\n      28 H           13.7392    -0.7388     4.1606 H             1 RES     \\n      29 H           11.8831    -2.3034     4.6821 H             1 RES     \\n      30 H           10.4617    -3.1778     2.8705 H             1 RES     \\n      31 H            8.9279    -1.4539     2.0580 H             1 RES     \\n      32 H            6.5121    -1.4011     1.9641 H             1 RES     \\n      33 H            6.1254     0.1170     0.0347 H             1 RES     \\n      34 H            4.9285     2.1966     0.0312 H             1 RES     \\n      35 H            2.4940     2.0276    -0.6892 H             1 RES     \\n@<TRIPOS>BOND\\n       1       16       15 1\\n       2       34       21 1\\n       3        9       10 1\\n       4       18       31 1\\n       5       19       18 1\\n       6        4        3 1\\n       7       10       12 1\\n       8       11       10 1\\n       9       16       17 1\\n      10       33       20 1\\n      11        6       19 1\\n      12       12       17 1\\n      13       21       20 1\\n      14        2       22 1\\n      15        7       24 1\\n      16       28       15 1\\n      17       13       14 1\\n      18        1        2 1\\n      19        5        6 1\\n      20        8        9 1\\n      21       13       12 1\\n      22        3        2 1\\n      23       35       22 1\\n      24       13       26 1\\n      25       14       27 1\\n      26       14       15 1\\n      27       17       30 1\\n      28        8       25 1\\n      29        6        7 1\\n      30        9       18 1\\n      31        4       20 1\\n      32        8        7 1\\n      33       21       22 1\\n      34        3       23 1\\n      35       29       16 1\\n      36        4        5 1\\n      37       19       32 1\\n@<TRIPOS>SUBSTRUCTURE\\n       1 RES             1 RESIDUE    0 **** ROOT      0\\n\",\"mol2\");\n",
       "\tviewer_16019212414988048.setStyle({\"stick\": {\"radius\": 0.2, \"color\": \"grey\"}, \"sphere\": {\"scale\": 0.3, \"colorscheme\": {}}});\n",
       "\tviewer_16019212414988048.zoomTo();\n",
       "viewer_16019212414988048.render();\n",
       "});\n",
       "</script>"
      ]
     },
     "metadata": {},
     "output_type": "display_data"
    }
   ],
   "source": [
    "smiles_utils.viz(\"occcoccccC=O)cccccc6)))))))cc6)))))))ccc6\", deep=True)"
   ]
  },
  {
   "cell_type": "code",
   "execution_count": 35,
   "metadata": {},
   "outputs": [
    {
     "name": "stderr",
     "output_type": "stream",
     "text": [
      "/home/chris/miniconda3/envs/uli/lib/python3.7/site-packages/ipykernel/ipkernel.py:287: DeprecationWarning: `should_run_async` will not call `transform_cell` automatically in the future. Please pass the result to `transformed_cell` argument and any exception that happen during thetransform in `preprocessing_exc_tuple` in IPython 7.17 and above.\n",
      "  and should_run_async(code)\n"
     ]
    },
    {
     "data": {
      "application/3dmoljs_load.v0": "<div id=\"3dmolviewer_16019220754900663\"  style=\"position: relative; width: 640px; height: 480px\">\n        <p id=\"3dmolwarning_16019220754900663\" style=\"background-color:#ffcccc;color:black\">You appear to be running in JupyterLab (or JavaScript failed to load for some other reason).  You need to install the 3dmol extension: <br>\n        <tt>jupyter labextension install jupyterlab_3dmol</tt></p>\n        </div>\n<script>\n\nvar loadScriptAsync = function(uri){\n  return new Promise((resolve, reject) => {\n    var tag = document.createElement('script');\n    tag.src = uri;\n    tag.async = true;\n    tag.onload = () => {\n      resolve();\n    };\n  var firstScriptTag = document.getElementsByTagName('script')[0];\n  firstScriptTag.parentNode.insertBefore(tag, firstScriptTag);\n});\n};\n\nif(typeof $3Dmolpromise === 'undefined') {\n$3Dmolpromise = null;\n  $3Dmolpromise = loadScriptAsync('https://3dmol.csb.pitt.edu/build/3Dmol.js');\n}\n\nvar viewer_16019220754900663 = null;\nvar warn = document.getElementById(\"3dmolwarning_16019220754900663\");\nif(warn) {\n    warn.parentNode.removeChild(warn);\n}\n$3Dmolpromise.then(function() {\nviewer_16019220754900663 = $3Dmol.createViewer($(\"#3dmolviewer_16019220754900663\"),{backgroundColor:\"white\"});\n\tviewer_16019220754900663.addModel(\"@<TRIPOS>MOLECULE\\nRES\\n37 39 1 0 1\\nSMALL\\nNO_CHARGES\\n@<TRIPOS>CRYSIN\\n   14.7992    16.7666    11.0765    90.0000    90.0000    90.0000  1  1\\n@<TRIPOS>ATOM\\n       1 C            1.3900    -0.2032     0.0185 C             1 RES     \\n       2 C            0.8502     1.0823     0.0065 C             1 RES     \\n       3 C           -0.5369     1.2614     0.0028 C             1 RES     \\n       4 C           -1.3887     0.1550    -0.0806 C             1 RES     \\n       5 O           -2.7319     0.4403    -0.2431 O             1 RES     \\n       6 C           -3.6358    -0.5949    -0.2917 C             1 RES     \\n       7 C           -4.4783    -0.7059    -1.3996 C             1 RES     \\n       8 C           -5.4546    -1.7119    -1.4356 C             1 RES     \\n       9 C           -5.5306    -2.6601    -0.4033 C             1 RES     \\n      10 C           -6.4558    -3.8223    -0.5413 C             1 RES     \\n      11 O           -7.1486    -3.9591    -1.5504 O             1 RES     \\n      12 C           -6.5428    -4.8700     0.5015 C             1 RES     \\n      13 C           -6.3502    -6.2129     0.1525 C             1 RES     \\n      14 C           -6.5855    -7.1981     1.1166 C             1 RES     \\n      15 C           -6.6457    -8.6190     0.7232 C             1 RES     \\n      16 O           -6.9441    -9.4984     1.5318 O             1 RES     \\n      17 C           -6.8849    -6.8461     2.4377 C             1 RES     \\n      18 C           -7.0505    -5.5070     2.7814 C             1 RES     \\n      19 C           -6.9156    -4.5216     1.8062 C             1 RES     \\n      20 C           -4.6799    -2.5316     0.7003 C             1 RES     \\n      21 C           -3.7744    -1.4775     0.7773 C             1 RES     \\n      22 C           -0.8338    -1.1289    -0.0694 C             1 RES     \\n      23 C            0.5464    -1.3083     0.0024 C             1 RES     \\n      24 H            2.4668    -0.3473     0.0359 H             1 RES     \\n      25 H            1.5118     1.9445    -0.0171 H             1 RES     \\n      26 H           -0.9463     2.2681     0.0420 H             1 RES     \\n      27 H           -4.3698    -0.0269    -2.2424 H             1 RES     \\n      28 H           -6.1410    -1.7632    -2.2806 H             1 RES     \\n      29 H           -6.0596    -6.4759    -0.8621 H             1 RES     \\n      30 H           -6.4612    -8.8580    -0.3344 H             1 RES     \\n      31 H           -7.0335    -7.6190     3.1902 H             1 RES     \\n      32 H           -7.3324    -5.2376     3.7960 H             1 RES     \\n      33 H           -7.1082    -3.4840     2.0682 H             1 RES     \\n      34 H           -4.6850    -3.2394     1.5208 H             1 RES     \\n      35 H           -3.1350    -1.3866     1.6508 H             1 RES     \\n      36 H           -1.4489    -2.0193    -0.1266 H             1 RES     \\n      37 H            0.9547    -2.3149     0.0150 H             1 RES     \\n@<TRIPOS>BOND\\n       1       33       19 1\\n       2        7        8 1\\n       3        6       21 1\\n       4        4       22 1\\n       5       12       19 1\\n       6       17       18 1\\n       7        1        2 1\\n       8        9       10 1\\n       9       34       20 1\\n      10        4        5 1\\n      11        2        3 1\\n      12       18       19 1\\n      13       14       15 1\\n      14       22       23 1\\n      15       10       11 1\\n      16       31       17 1\\n      17        1       24 1\\n      18       35       21 1\\n      19       30       15 1\\n      20       36       22 1\\n      21        5        6 1\\n      22        1       23 1\\n      23       10       12 1\\n      24       27        7 1\\n      25        3        4 1\\n      26       13       14 1\\n      27       14       17 1\\n      28       32       18 1\\n      29        6        7 1\\n      30        8        9 1\\n      31       12       13 1\\n      32       20       21 1\\n      33       28        8 1\\n      34       26        3 1\\n      35       15       16 1\\n      36       25        2 1\\n      37       23       37 1\\n      38       29       13 1\\n      39        9       20 1\\n@<TRIPOS>SUBSTRUCTURE\\n       1 RES             1 RESIDUE    0 **** ROOT      0\\n\",\"mol2\");\n\tviewer_16019220754900663.setStyle({\"stick\": {\"radius\": 0.2, \"color\": \"grey\"}, \"sphere\": {\"scale\": 0.3, \"colorscheme\": {}}});\n\tviewer_16019220754900663.zoomTo();\nviewer_16019220754900663.render();\n});\n</script>",
      "text/html": [
       "<div id=\"3dmolviewer_16019220754900663\"  style=\"position: relative; width: 640px; height: 480px\">\n",
       "        <p id=\"3dmolwarning_16019220754900663\" style=\"background-color:#ffcccc;color:black\">You appear to be running in JupyterLab (or JavaScript failed to load for some other reason).  You need to install the 3dmol extension: <br>\n",
       "        <tt>jupyter labextension install jupyterlab_3dmol</tt></p>\n",
       "        </div>\n",
       "<script>\n",
       "\n",
       "var loadScriptAsync = function(uri){\n",
       "  return new Promise((resolve, reject) => {\n",
       "    var tag = document.createElement('script');\n",
       "    tag.src = uri;\n",
       "    tag.async = true;\n",
       "    tag.onload = () => {\n",
       "      resolve();\n",
       "    };\n",
       "  var firstScriptTag = document.getElementsByTagName('script')[0];\n",
       "  firstScriptTag.parentNode.insertBefore(tag, firstScriptTag);\n",
       "});\n",
       "};\n",
       "\n",
       "if(typeof $3Dmolpromise === 'undefined') {\n",
       "$3Dmolpromise = null;\n",
       "  $3Dmolpromise = loadScriptAsync('https://3dmol.csb.pitt.edu/build/3Dmol.js');\n",
       "}\n",
       "\n",
       "var viewer_16019220754900663 = null;\n",
       "var warn = document.getElementById(\"3dmolwarning_16019220754900663\");\n",
       "if(warn) {\n",
       "    warn.parentNode.removeChild(warn);\n",
       "}\n",
       "$3Dmolpromise.then(function() {\n",
       "viewer_16019220754900663 = $3Dmol.createViewer($(\"#3dmolviewer_16019220754900663\"),{backgroundColor:\"white\"});\n",
       "\tviewer_16019220754900663.addModel(\"@<TRIPOS>MOLECULE\\nRES\\n37 39 1 0 1\\nSMALL\\nNO_CHARGES\\n@<TRIPOS>CRYSIN\\n   14.7992    16.7666    11.0765    90.0000    90.0000    90.0000  1  1\\n@<TRIPOS>ATOM\\n       1 C            1.3900    -0.2032     0.0185 C             1 RES     \\n       2 C            0.8502     1.0823     0.0065 C             1 RES     \\n       3 C           -0.5369     1.2614     0.0028 C             1 RES     \\n       4 C           -1.3887     0.1550    -0.0806 C             1 RES     \\n       5 O           -2.7319     0.4403    -0.2431 O             1 RES     \\n       6 C           -3.6358    -0.5949    -0.2917 C             1 RES     \\n       7 C           -4.4783    -0.7059    -1.3996 C             1 RES     \\n       8 C           -5.4546    -1.7119    -1.4356 C             1 RES     \\n       9 C           -5.5306    -2.6601    -0.4033 C             1 RES     \\n      10 C           -6.4558    -3.8223    -0.5413 C             1 RES     \\n      11 O           -7.1486    -3.9591    -1.5504 O             1 RES     \\n      12 C           -6.5428    -4.8700     0.5015 C             1 RES     \\n      13 C           -6.3502    -6.2129     0.1525 C             1 RES     \\n      14 C           -6.5855    -7.1981     1.1166 C             1 RES     \\n      15 C           -6.6457    -8.6190     0.7232 C             1 RES     \\n      16 O           -6.9441    -9.4984     1.5318 O             1 RES     \\n      17 C           -6.8849    -6.8461     2.4377 C             1 RES     \\n      18 C           -7.0505    -5.5070     2.7814 C             1 RES     \\n      19 C           -6.9156    -4.5216     1.8062 C             1 RES     \\n      20 C           -4.6799    -2.5316     0.7003 C             1 RES     \\n      21 C           -3.7744    -1.4775     0.7773 C             1 RES     \\n      22 C           -0.8338    -1.1289    -0.0694 C             1 RES     \\n      23 C            0.5464    -1.3083     0.0024 C             1 RES     \\n      24 H            2.4668    -0.3473     0.0359 H             1 RES     \\n      25 H            1.5118     1.9445    -0.0171 H             1 RES     \\n      26 H           -0.9463     2.2681     0.0420 H             1 RES     \\n      27 H           -4.3698    -0.0269    -2.2424 H             1 RES     \\n      28 H           -6.1410    -1.7632    -2.2806 H             1 RES     \\n      29 H           -6.0596    -6.4759    -0.8621 H             1 RES     \\n      30 H           -6.4612    -8.8580    -0.3344 H             1 RES     \\n      31 H           -7.0335    -7.6190     3.1902 H             1 RES     \\n      32 H           -7.3324    -5.2376     3.7960 H             1 RES     \\n      33 H           -7.1082    -3.4840     2.0682 H             1 RES     \\n      34 H           -4.6850    -3.2394     1.5208 H             1 RES     \\n      35 H           -3.1350    -1.3866     1.6508 H             1 RES     \\n      36 H           -1.4489    -2.0193    -0.1266 H             1 RES     \\n      37 H            0.9547    -2.3149     0.0150 H             1 RES     \\n@<TRIPOS>BOND\\n       1       33       19 1\\n       2        7        8 1\\n       3        6       21 1\\n       4        4       22 1\\n       5       12       19 1\\n       6       17       18 1\\n       7        1        2 1\\n       8        9       10 1\\n       9       34       20 1\\n      10        4        5 1\\n      11        2        3 1\\n      12       18       19 1\\n      13       14       15 1\\n      14       22       23 1\\n      15       10       11 1\\n      16       31       17 1\\n      17        1       24 1\\n      18       35       21 1\\n      19       30       15 1\\n      20       36       22 1\\n      21        5        6 1\\n      22        1       23 1\\n      23       10       12 1\\n      24       27        7 1\\n      25        3        4 1\\n      26       13       14 1\\n      27       14       17 1\\n      28       32       18 1\\n      29        6        7 1\\n      30        8        9 1\\n      31       12       13 1\\n      32       20       21 1\\n      33       28        8 1\\n      34       26        3 1\\n      35       15       16 1\\n      36       25        2 1\\n      37       23       37 1\\n      38       29       13 1\\n      39        9       20 1\\n@<TRIPOS>SUBSTRUCTURE\\n       1 RES             1 RESIDUE    0 **** ROOT      0\\n\",\"mol2\");\n",
       "\tviewer_16019220754900663.setStyle({\"stick\": {\"radius\": 0.2, \"color\": \"grey\"}, \"sphere\": {\"scale\": 0.3, \"colorscheme\": {}}});\n",
       "\tviewer_16019220754900663.zoomTo();\n",
       "viewer_16019220754900663.render();\n",
       "});\n",
       "</script>"
      ]
     },
     "metadata": {},
     "output_type": "display_data"
    }
   ],
   "source": [
    "pekk_meta = polysmiles.convert_smiles(deep = \"ccccoccccC=o)cccC=o))ccc6)))))))cc6)))))))cc6\")\n",
    "mb.load(pekk_meta, smiles=True).visualize().show()"
   ]
  },
  {
   "cell_type": "code",
   "execution_count": null,
   "metadata": {},
   "outputs": [],
   "source": [
    "'''\n",
    "PEEK Para Bonded:\n",
    "\"occccoccccC=O)cc*c*ccc6)))))))cc6)))))))cc6\"\n",
    "\"occccoccccC=O)ccc*c*cc6)))))))cc6)))))))cc6\"\n",
    "\"occccoccccC=O)cccc*c*c6)))))))cc6)))))))cc6\"\n",
    "\n",
    "PEEK Meta Bonded:\n",
    "\"occcoccccC=O)ccc*c*cc6)))))))cc6)))))))ccc6\"\n",
    "\"occcoccccC=O)cc*c*ccc6)))))))cc6)))))))ccc6\"\n",
    "\"occcoccccC=O)cccc*c*c6)))))))cc6)))))))ccc6\"\n",
    "\n",
    "PEKK Para Bonded\n",
    "ccccoccccC=o)cccc*C*=o))cc6)))))))cc6)))))))cc6\n",
    "\n",
    "'''"
   ]
  },
  {
   "cell_type": "code",
   "execution_count": 36,
   "metadata": {},
   "outputs": [
    {
     "name": "stderr",
     "output_type": "stream",
     "text": [
      "/home/chris/miniconda3/envs/uli/lib/python3.7/site-packages/ipykernel/ipkernel.py:287: DeprecationWarning: `should_run_async` will not call `transform_cell` automatically in the future. Please pass the result to `transformed_cell` argument and any exception that happen during thetransform in `preprocessing_exc_tuple` in IPython 7.17 and above.\n",
      "  and should_run_async(code)\n",
      "/home/chris/cme/forks/mbuild/mbuild/conversion.py:687: UserWarning: No unitcell detected for pybel.Molecule c1ccc(Oc2ccc(C(=O)c3cc(C(=O)c4ccc(Oc5ccc(C(=O)c6cc(C=O)ccc6)cc5)cc4)ccc3)cc2)cc1\t\n",
      "\n",
      "  warn(\"No unitcell detected for pybel.Molecule {}\".format(pybel_mol))\n"
     ]
    },
    {
     "data": {
      "application/3dmoljs_load.v0": "<div id=\"3dmolviewer_16019221371373374\"  style=\"position: relative; width: 640px; height: 480px\">\n        <p id=\"3dmolwarning_16019221371373374\" style=\"background-color:#ffcccc;color:black\">You appear to be running in JupyterLab (or JavaScript failed to load for some other reason).  You need to install the 3dmol extension: <br>\n        <tt>jupyter labextension install jupyterlab_3dmol</tt></p>\n        </div>\n<script>\n\nvar loadScriptAsync = function(uri){\n  return new Promise((resolve, reject) => {\n    var tag = document.createElement('script');\n    tag.src = uri;\n    tag.async = true;\n    tag.onload = () => {\n      resolve();\n    };\n  var firstScriptTag = document.getElementsByTagName('script')[0];\n  firstScriptTag.parentNode.insertBefore(tag, firstScriptTag);\n});\n};\n\nif(typeof $3Dmolpromise === 'undefined') {\n$3Dmolpromise = null;\n  $3Dmolpromise = loadScriptAsync('https://3dmol.csb.pitt.edu/build/3Dmol.js');\n}\n\nvar viewer_16019221371373374 = null;\nvar warn = document.getElementById(\"3dmolwarning_16019221371373374\");\nif(warn) {\n    warn.parentNode.removeChild(warn);\n}\n$3Dmolpromise.then(function() {\nviewer_16019221371373374 = $3Dmol.createViewer($(\"#3dmolviewer_16019221371373374\"),{backgroundColor:\"white\"});\n\tviewer_16019221371373374.addModel(\"@<TRIPOS>MOLECULE\\nRES\\n72 77 1 0 1\\nSMALL\\nNO_CHARGES\\n@<TRIPOS>CRYSIN\\n   18.4785    19.7349    16.9535    90.0000    90.0000    90.0000  1  1\\n@<TRIPOS>ATOM\\n       1 C            1.3904    -0.2034     0.0184 C             1 RES     \\n       2 C            0.8511     1.0824     0.0061 C             1 RES     \\n       3 C           -0.5356     1.2621     0.0034 C             1 RES     \\n       4 C           -1.3872     0.1559    -0.0803 C             1 RES     \\n       5 O           -2.7296     0.4425    -0.2437 O             1 RES     \\n       6 C           -3.6334    -0.5922    -0.2930 C             1 RES     \\n       7 C           -4.4748    -0.7018    -1.4020 C             1 RES     \\n       8 C           -5.4546    -1.7024    -1.4361 C             1 RES     \\n       9 C           -5.5350    -2.6435    -0.3990 C             1 RES     \\n      10 C           -6.4719    -3.7916    -0.5277 C             1 RES     \\n      11 O           -7.1550    -3.9373    -1.5416 O             1 RES     \\n      12 C           -6.5623    -4.8291     0.5214 C             1 RES     \\n      13 C           -6.3707    -6.1616     0.1563 C             1 RES     \\n      14 C           -6.5981    -7.1770     1.0949 C             1 RES     \\n      15 C           -6.6977    -8.6091     0.6988 C             1 RES     \\n      16 C           -6.4488    -9.0174    -0.6897 C             1 RES     \\n      17 C           -7.4587    -9.6077    -1.4547 C             1 RES     \\n      18 C           -7.1851    -9.9842    -2.7745 C             1 RES     \\n      19 C           -5.9420    -9.6841    -3.3487 C             1 RES     \\n      20 O           -5.8139    -9.9502    -4.6997 O             1 RES     \\n      21 C           -4.5998    -9.7278    -5.3086 C             1 RES     \\n      22 C           -4.5458    -8.8841    -6.4191 C             1 RES     \\n      23 C           -3.3288    -8.6898    -7.0887 C             1 RES     \\n      24 C           -2.1488    -9.2668    -6.5935 C             1 RES     \\n      25 C           -0.8392    -8.9077    -7.2129 C             1 RES     \\n      26 O           -0.7829    -8.1077    -8.1467 O             1 RES     \\n      27 C            0.4355    -9.4659    -6.7049 C             1 RES     \\n      28 C            1.4755    -8.6030    -6.3355 C             1 RES     \\n      29 C            2.7196    -9.1522    -6.0082 C             1 RES     \\n      30 C            3.9022    -8.2801    -5.8690 C             1 RES     \\n      31 O            5.0247    -8.7445    -5.6745 O             1 RES     \\n      32 C            2.8879   -10.5393    -5.9275 C             1 RES     \\n      33 C            1.8406   -11.3893    -6.2721 C             1 RES     \\n      34 C            0.6271   -10.8536    -6.6958 C             1 RES     \\n      35 C           -2.2221   -10.1108    -5.4800 C             1 RES     \\n      36 C           -3.4463   -10.3798    -4.8752 C             1 RES     \\n      37 C           -4.9509    -9.0856    -2.5625 C             1 RES     \\n      38 C           -5.1863    -8.7891    -1.2284 C             1 RES     \\n      39 O           -7.0404    -9.4722     1.5107 O             1 RES     \\n      40 C           -6.8846    -6.8387     2.4235 C             1 RES     \\n      41 C           -7.0502    -5.5028     2.7876 C             1 RES     \\n      42 C           -6.9247    -4.4996     1.8289 C             1 RES     \\n      43 C           -4.6803    -2.5233     0.7019 C             1 RES     \\n      44 C           -3.7716    -1.4740     0.7768 C             1 RES     \\n      45 C           -0.8333    -1.1283    -0.0690 C             1 RES     \\n      46 C            0.5466    -1.3083     0.0026 C             1 RES     \\n      47 H            2.4671    -0.3475     0.0361 H             1 RES     \\n      48 H            1.5128     1.9445    -0.0183 H             1 RES     \\n      49 H           -0.9451     2.2687     0.0433 H             1 RES     \\n      50 H           -4.3647    -0.0244    -2.2456 H             1 RES     \\n      51 H           -6.1419    -1.7550    -2.2803 H             1 RES     \\n      52 H           -6.0921    -6.3734    -0.8720 H             1 RES     \\n      53 H           -8.4538    -9.7516    -1.0378 H             1 RES     \\n      54 H           -7.9510   -10.4921    -3.3574 H             1 RES     \\n      55 H           -5.4387    -8.3628    -6.7570 H             1 RES     \\n      56 H           -3.3038    -8.0716    -7.9859 H             1 RES     \\n      57 H            1.3200    -7.5265    -6.3432 H             1 RES     \\n      58 H            3.7484    -7.1980    -5.9945 H             1 RES     \\n      59 H            3.8508   -10.9587    -5.6397 H             1 RES     \\n      60 H            1.9877   -12.4662    -6.2585 H             1 RES     \\n      61 H           -0.1642   -11.5233    -7.0240 H             1 RES     \\n      62 H           -1.3439   -10.5744    -5.0461 H             1 RES     \\n      63 H           -3.4808   -11.0502    -4.0208 H             1 RES     \\n      64 H           -3.9764    -8.8259    -2.9578 H             1 RES     \\n      65 H           -4.3981    -8.3361    -0.6346 H             1 RES     \\n      66 H           -7.0310    -7.6206     3.1680 H             1 RES     \\n      67 H           -7.3301    -5.2495     3.8068 H             1 RES     \\n      68 H           -7.1168    -3.4661     2.1030 H             1 RES     \\n      69 H           -4.6870    -3.2325     1.5212 H             1 RES     \\n      70 H           -3.1315    -1.3849     1.6498 H             1 RES     \\n      71 H           -1.4489    -2.0183    -0.1257 H             1 RES     \\n      72 H            0.9547    -2.3149     0.0156 H             1 RES     \\n@<TRIPOS>BOND\\n       1       14       40 1\\n       2       44       70 1\\n       3       12       13 1\\n       4       10       11 1\\n       5       54       18 1\\n       6       57       28 1\\n       7       42       12 1\\n       8       51        8 1\\n       9       49        3 1\\n      10       29       30 1\\n      11       21       22 1\\n      12       32       33 1\\n      13       16       17 1\\n      14        2        3 1\\n      15       50        7 1\\n      16       46       72 1\\n      17       66       40 1\\n      18       42       68 1\\n      19       43       44 1\\n      20       15       16 1\\n      21       63       36 1\\n      22       25       27 1\\n      23       43       69 1\\n      24       48        2 1\\n      25       55       22 1\\n      26       46        1 1\\n      27       17       18 1\\n      28       59       32 1\\n      29        7        8 1\\n      30       14       15 1\\n      31        8        9 1\\n      32       29       32 1\\n      33       16       38 1\\n      34       33       34 1\\n      35        2        1 1\\n      36       24       35 1\\n      37       28       29 1\\n      38       62       35 1\\n      39       10       12 1\\n      40       60       33 1\\n      41        6        7 1\\n      42       13       14 1\\n      43       45       46 1\\n      44       56       23 1\\n      45       52       13 1\\n      46       44        6 1\\n      47       27       34 1\\n      48       38       37 1\\n      49       24       25 1\\n      50       41       67 1\\n      51       58       30 1\\n      52       47        1 1\\n      53       61       34 1\\n      54       41       40 1\\n      55       27       28 1\\n      56       45        4 1\\n      57       53       17 1\\n      58        3        4 1\\n      59       18       19 1\\n      60       64       37 1\\n      61        5        6 1\\n      62       20       21 1\\n      63       36       35 1\\n      64       25       26 1\\n      65       41       42 1\\n      66        9       10 1\\n      67       19       37 1\\n      68       65       38 1\\n      69       22       23 1\\n      70       30       31 1\\n      71       15       39 1\\n      72       45       71 1\\n      73       21       36 1\\n      74        4        5 1\\n      75       19       20 1\\n      76       23       24 1\\n      77       43        9 1\\n@<TRIPOS>SUBSTRUCTURE\\n       1 RES             1 RESIDUE    0 **** ROOT      0\\n\",\"mol2\");\n\tviewer_16019221371373374.setStyle({\"stick\": {\"radius\": 0.2, \"color\": \"grey\"}, \"sphere\": {\"scale\": 0.3, \"colorscheme\": {}}});\n\tviewer_16019221371373374.zoomTo();\nviewer_16019221371373374.render();\n});\n</script>",
      "text/html": [
       "<div id=\"3dmolviewer_16019221371373374\"  style=\"position: relative; width: 640px; height: 480px\">\n",
       "        <p id=\"3dmolwarning_16019221371373374\" style=\"background-color:#ffcccc;color:black\">You appear to be running in JupyterLab (or JavaScript failed to load for some other reason).  You need to install the 3dmol extension: <br>\n",
       "        <tt>jupyter labextension install jupyterlab_3dmol</tt></p>\n",
       "        </div>\n",
       "<script>\n",
       "\n",
       "var loadScriptAsync = function(uri){\n",
       "  return new Promise((resolve, reject) => {\n",
       "    var tag = document.createElement('script');\n",
       "    tag.src = uri;\n",
       "    tag.async = true;\n",
       "    tag.onload = () => {\n",
       "      resolve();\n",
       "    };\n",
       "  var firstScriptTag = document.getElementsByTagName('script')[0];\n",
       "  firstScriptTag.parentNode.insertBefore(tag, firstScriptTag);\n",
       "});\n",
       "};\n",
       "\n",
       "if(typeof $3Dmolpromise === 'undefined') {\n",
       "$3Dmolpromise = null;\n",
       "  $3Dmolpromise = loadScriptAsync('https://3dmol.csb.pitt.edu/build/3Dmol.js');\n",
       "}\n",
       "\n",
       "var viewer_16019221371373374 = null;\n",
       "var warn = document.getElementById(\"3dmolwarning_16019221371373374\");\n",
       "if(warn) {\n",
       "    warn.parentNode.removeChild(warn);\n",
       "}\n",
       "$3Dmolpromise.then(function() {\n",
       "viewer_16019221371373374 = $3Dmol.createViewer($(\"#3dmolviewer_16019221371373374\"),{backgroundColor:\"white\"});\n",
       "\tviewer_16019221371373374.addModel(\"@<TRIPOS>MOLECULE\\nRES\\n72 77 1 0 1\\nSMALL\\nNO_CHARGES\\n@<TRIPOS>CRYSIN\\n   18.4785    19.7349    16.9535    90.0000    90.0000    90.0000  1  1\\n@<TRIPOS>ATOM\\n       1 C            1.3904    -0.2034     0.0184 C             1 RES     \\n       2 C            0.8511     1.0824     0.0061 C             1 RES     \\n       3 C           -0.5356     1.2621     0.0034 C             1 RES     \\n       4 C           -1.3872     0.1559    -0.0803 C             1 RES     \\n       5 O           -2.7296     0.4425    -0.2437 O             1 RES     \\n       6 C           -3.6334    -0.5922    -0.2930 C             1 RES     \\n       7 C           -4.4748    -0.7018    -1.4020 C             1 RES     \\n       8 C           -5.4546    -1.7024    -1.4361 C             1 RES     \\n       9 C           -5.5350    -2.6435    -0.3990 C             1 RES     \\n      10 C           -6.4719    -3.7916    -0.5277 C             1 RES     \\n      11 O           -7.1550    -3.9373    -1.5416 O             1 RES     \\n      12 C           -6.5623    -4.8291     0.5214 C             1 RES     \\n      13 C           -6.3707    -6.1616     0.1563 C             1 RES     \\n      14 C           -6.5981    -7.1770     1.0949 C             1 RES     \\n      15 C           -6.6977    -8.6091     0.6988 C             1 RES     \\n      16 C           -6.4488    -9.0174    -0.6897 C             1 RES     \\n      17 C           -7.4587    -9.6077    -1.4547 C             1 RES     \\n      18 C           -7.1851    -9.9842    -2.7745 C             1 RES     \\n      19 C           -5.9420    -9.6841    -3.3487 C             1 RES     \\n      20 O           -5.8139    -9.9502    -4.6997 O             1 RES     \\n      21 C           -4.5998    -9.7278    -5.3086 C             1 RES     \\n      22 C           -4.5458    -8.8841    -6.4191 C             1 RES     \\n      23 C           -3.3288    -8.6898    -7.0887 C             1 RES     \\n      24 C           -2.1488    -9.2668    -6.5935 C             1 RES     \\n      25 C           -0.8392    -8.9077    -7.2129 C             1 RES     \\n      26 O           -0.7829    -8.1077    -8.1467 O             1 RES     \\n      27 C            0.4355    -9.4659    -6.7049 C             1 RES     \\n      28 C            1.4755    -8.6030    -6.3355 C             1 RES     \\n      29 C            2.7196    -9.1522    -6.0082 C             1 RES     \\n      30 C            3.9022    -8.2801    -5.8690 C             1 RES     \\n      31 O            5.0247    -8.7445    -5.6745 O             1 RES     \\n      32 C            2.8879   -10.5393    -5.9275 C             1 RES     \\n      33 C            1.8406   -11.3893    -6.2721 C             1 RES     \\n      34 C            0.6271   -10.8536    -6.6958 C             1 RES     \\n      35 C           -2.2221   -10.1108    -5.4800 C             1 RES     \\n      36 C           -3.4463   -10.3798    -4.8752 C             1 RES     \\n      37 C           -4.9509    -9.0856    -2.5625 C             1 RES     \\n      38 C           -5.1863    -8.7891    -1.2284 C             1 RES     \\n      39 O           -7.0404    -9.4722     1.5107 O             1 RES     \\n      40 C           -6.8846    -6.8387     2.4235 C             1 RES     \\n      41 C           -7.0502    -5.5028     2.7876 C             1 RES     \\n      42 C           -6.9247    -4.4996     1.8289 C             1 RES     \\n      43 C           -4.6803    -2.5233     0.7019 C             1 RES     \\n      44 C           -3.7716    -1.4740     0.7768 C             1 RES     \\n      45 C           -0.8333    -1.1283    -0.0690 C             1 RES     \\n      46 C            0.5466    -1.3083     0.0026 C             1 RES     \\n      47 H            2.4671    -0.3475     0.0361 H             1 RES     \\n      48 H            1.5128     1.9445    -0.0183 H             1 RES     \\n      49 H           -0.9451     2.2687     0.0433 H             1 RES     \\n      50 H           -4.3647    -0.0244    -2.2456 H             1 RES     \\n      51 H           -6.1419    -1.7550    -2.2803 H             1 RES     \\n      52 H           -6.0921    -6.3734    -0.8720 H             1 RES     \\n      53 H           -8.4538    -9.7516    -1.0378 H             1 RES     \\n      54 H           -7.9510   -10.4921    -3.3574 H             1 RES     \\n      55 H           -5.4387    -8.3628    -6.7570 H             1 RES     \\n      56 H           -3.3038    -8.0716    -7.9859 H             1 RES     \\n      57 H            1.3200    -7.5265    -6.3432 H             1 RES     \\n      58 H            3.7484    -7.1980    -5.9945 H             1 RES     \\n      59 H            3.8508   -10.9587    -5.6397 H             1 RES     \\n      60 H            1.9877   -12.4662    -6.2585 H             1 RES     \\n      61 H           -0.1642   -11.5233    -7.0240 H             1 RES     \\n      62 H           -1.3439   -10.5744    -5.0461 H             1 RES     \\n      63 H           -3.4808   -11.0502    -4.0208 H             1 RES     \\n      64 H           -3.9764    -8.8259    -2.9578 H             1 RES     \\n      65 H           -4.3981    -8.3361    -0.6346 H             1 RES     \\n      66 H           -7.0310    -7.6206     3.1680 H             1 RES     \\n      67 H           -7.3301    -5.2495     3.8068 H             1 RES     \\n      68 H           -7.1168    -3.4661     2.1030 H             1 RES     \\n      69 H           -4.6870    -3.2325     1.5212 H             1 RES     \\n      70 H           -3.1315    -1.3849     1.6498 H             1 RES     \\n      71 H           -1.4489    -2.0183    -0.1257 H             1 RES     \\n      72 H            0.9547    -2.3149     0.0156 H             1 RES     \\n@<TRIPOS>BOND\\n       1       14       40 1\\n       2       44       70 1\\n       3       12       13 1\\n       4       10       11 1\\n       5       54       18 1\\n       6       57       28 1\\n       7       42       12 1\\n       8       51        8 1\\n       9       49        3 1\\n      10       29       30 1\\n      11       21       22 1\\n      12       32       33 1\\n      13       16       17 1\\n      14        2        3 1\\n      15       50        7 1\\n      16       46       72 1\\n      17       66       40 1\\n      18       42       68 1\\n      19       43       44 1\\n      20       15       16 1\\n      21       63       36 1\\n      22       25       27 1\\n      23       43       69 1\\n      24       48        2 1\\n      25       55       22 1\\n      26       46        1 1\\n      27       17       18 1\\n      28       59       32 1\\n      29        7        8 1\\n      30       14       15 1\\n      31        8        9 1\\n      32       29       32 1\\n      33       16       38 1\\n      34       33       34 1\\n      35        2        1 1\\n      36       24       35 1\\n      37       28       29 1\\n      38       62       35 1\\n      39       10       12 1\\n      40       60       33 1\\n      41        6        7 1\\n      42       13       14 1\\n      43       45       46 1\\n      44       56       23 1\\n      45       52       13 1\\n      46       44        6 1\\n      47       27       34 1\\n      48       38       37 1\\n      49       24       25 1\\n      50       41       67 1\\n      51       58       30 1\\n      52       47        1 1\\n      53       61       34 1\\n      54       41       40 1\\n      55       27       28 1\\n      56       45        4 1\\n      57       53       17 1\\n      58        3        4 1\\n      59       18       19 1\\n      60       64       37 1\\n      61        5        6 1\\n      62       20       21 1\\n      63       36       35 1\\n      64       25       26 1\\n      65       41       42 1\\n      66        9       10 1\\n      67       19       37 1\\n      68       65       38 1\\n      69       22       23 1\\n      70       30       31 1\\n      71       15       39 1\\n      72       45       71 1\\n      73       21       36 1\\n      74        4        5 1\\n      75       19       20 1\\n      76       23       24 1\\n      77       43        9 1\\n@<TRIPOS>SUBSTRUCTURE\\n       1 RES             1 RESIDUE    0 **** ROOT      0\\n\",\"mol2\");\n",
       "\tviewer_16019221371373374.setStyle({\"stick\": {\"radius\": 0.2, \"color\": \"grey\"}, \"sphere\": {\"scale\": 0.3, \"colorscheme\": {}}});\n",
       "\tviewer_16019221371373374.zoomTo();\n",
       "viewer_16019221371373374.render();\n",
       "});\n",
       "</script>"
      ]
     },
     "metadata": {},
     "output_type": "display_data"
    },
    {
     "data": {
      "text/plain": [
       "<py3Dmol.view at 0x7f7219b49c90>"
      ]
     },
     "execution_count": 36,
     "metadata": {},
     "output_type": "execute_result"
    }
   ],
   "source": [
    "test = polysmiles.poly_smiles(\"ccccoccccC=o)ccc*C*=o))ccc6)))))))cc6)))))))cc6\", length=2)\n",
    "mb.load(test, smiles=True).visualize()"
   ]
  },
  {
   "cell_type": "code",
   "execution_count": 2,
   "metadata": {},
   "outputs": [
    {
     "name": "stderr",
     "output_type": "stream",
     "text": [
      "/home/chris/miniconda3/envs/uli/lib/python3.7/site-packages/ipykernel/ipkernel.py:287: DeprecationWarning: `should_run_async` will not call `transform_cell` automatically in the future. Please pass the result to `transformed_cell` argument and any exception that happen during thetransform in `preprocessing_exc_tuple` in IPython 7.17 and above.\n",
      "  and should_run_async(code)\n",
      "/home/chris/cme/forks/mbuild/mbuild/conversion.py:687: UserWarning: No unitcell detected for pybel.Molecule O=C1C=CC(=C[CH]1)Oc1ccc(C(=O)c2ccccc2)cc1\t\n",
      "\n",
      "  warn(\"No unitcell detected for pybel.Molecule {}\".format(pybel_mol))\n"
     ]
    },
    {
     "data": {
      "application/3dmoljs_load.v0": "<div id=\"3dmolviewer_16017063261613905\"  style=\"position: relative; width: 640px; height: 480px\">\n        <p id=\"3dmolwarning_16017063261613905\" style=\"background-color:#ffcccc;color:black\">You appear to be running in JupyterLab (or JavaScript failed to load for some other reason).  You need to install the 3dmol extension: <br>\n        <tt>jupyter labextension install jupyterlab_3dmol</tt></p>\n        </div>\n<script>\n\nvar loadScriptAsync = function(uri){\n  return new Promise((resolve, reject) => {\n    var tag = document.createElement('script');\n    tag.src = uri;\n    tag.async = true;\n    tag.onload = () => {\n      resolve();\n    };\n  var firstScriptTag = document.getElementsByTagName('script')[0];\n  firstScriptTag.parentNode.insertBefore(tag, firstScriptTag);\n});\n};\n\nif(typeof $3Dmolpromise === 'undefined') {\n$3Dmolpromise = null;\n  $3Dmolpromise = loadScriptAsync('https://3dmol.csb.pitt.edu/build/3Dmol.js');\n}\n\nvar viewer_16017063261613905 = null;\nvar warn = document.getElementById(\"3dmolwarning_16017063261613905\");\nif(warn) {\n    warn.parentNode.removeChild(warn);\n}\n$3Dmolpromise.then(function() {\nviewer_16017063261613905 = $3Dmol.createViewer($(\"#3dmolviewer_16017063261613905\"),{backgroundColor:\"white\"});\n\tviewer_16017063261613905.addModel(\"@<TRIPOS>MOLECULE\\nRES\\n35 37 1 0 1\\nSMALL\\nNO_CHARGES\\n@<TRIPOS>CRYSIN\\n   14.2448    16.3859    11.4019    90.0000    90.0000    90.0000  1  1\\n@<TRIPOS>ATOM\\n       1 O            0.9665    -0.0632    -0.0709 O             1 RES     \\n       2 C            2.1949    -0.0329    -0.0979 C             1 RES     \\n       3 C            3.0238    -1.2594    -0.0427 C             1 RES     \\n       4 C            4.3672    -1.1761    -0.0603 C             1 RES     \\n       5 C            5.0663     0.1028    -0.0901 C             1 RES     \\n       6 O            6.4550     0.0134    -0.1320 O             1 RES     \\n       7 C            7.1981     1.1726    -0.0471 C             1 RES     \\n       8 C            8.1231     1.4562    -1.0512 C             1 RES     \\n       9 C            8.9168     2.6078    -0.9594 C             1 RES     \\n      10 C            8.7120     3.5309     0.0786 C             1 RES     \\n      11 C            9.4516     4.8272     0.0534 C             1 RES     \\n      12 O           10.2113     5.0892    -0.8753 O             1 RES     \\n      13 C            9.3000     5.8320     1.1312 C             1 RES     \\n      14 C            9.0179     7.1650     0.8121 C             1 RES     \\n      15 C            9.0745     8.1371     1.8140 C             1 RES     \\n      16 C            9.3249     7.7665     3.1371 C             1 RES     \\n      17 C            9.5557     6.4304     3.4594 C             1 RES     \\n      18 C            9.5665     5.4670     2.4546 C             1 RES     \\n      19 C            7.7701     3.2388     1.0699 C             1 RES     \\n      20 C            7.0555     2.0443     1.0340 C             1 RES     \\n      21 C            4.3600     1.2457    -0.1552 C             1 RES     \\n      22 C            2.9300     1.2299    -0.2550 C             1 RES     \\n      23 H            2.4835    -2.1974    -0.0364 H             1 RES     \\n      24 H            4.9601    -2.0867    -0.0654 H             1 RES     \\n      25 H            8.2142     0.8048    -1.9168 H             1 RES     \\n      26 H            9.6834     2.7921    -1.7116 H             1 RES     \\n      27 H            8.7793     7.4544    -0.2093 H             1 RES     \\n      28 H            8.9542     9.1885     1.5624 H             1 RES     \\n      29 H            9.3559     8.5229     3.9176 H             1 RES     \\n      30 H            9.7680     6.1415     4.4851 H             1 RES     \\n      31 H            9.8000     4.4367     2.7074 H             1 RES     \\n      32 H            7.5585     3.9223     1.8849 H             1 RES     \\n      33 H            6.3345     1.8387     1.8206 H             1 RES     \\n      34 H            4.8218     2.2232    -0.2101 H             1 RES     \\n      35 H            2.4569     1.9941    -0.8559 H             1 RES     \\n@<TRIPOS>BOND\\n       1       14       27 1\\n       2        9       26 1\\n       3       11       12 1\\n       4        3        2 1\\n       5       13       18 1\\n       6        4        5 1\\n       7       21       34 1\\n       8       19       32 1\\n       9        8        9 1\\n      10       16       17 1\\n      11        4        3 1\\n      12        8       25 1\\n      13       10       19 1\\n      14       17       30 1\\n      15       19       20 1\\n      16       20       33 1\\n      17       16       29 1\\n      18       18       31 1\\n      19       23        3 1\\n      20        7        8 1\\n      21       15       16 1\\n      22        5       21 1\\n      23        1        2 1\\n      24       11       13 1\\n      25       22        2 1\\n      26       14       15 1\\n      27        4       24 1\\n      28       10       11 1\\n      29        7       20 1\\n      30       15       28 1\\n      31       13       14 1\\n      32        9       10 1\\n      33       17       18 1\\n      34        6        7 1\\n      35       21       22 1\\n      36       22       35 1\\n      37        5        6 1\\n@<TRIPOS>SUBSTRUCTURE\\n       1 RES             1 RESIDUE    0 **** ROOT      0\\n\",\"mol2\");\n\tviewer_16017063261613905.setStyle({\"stick\": {\"radius\": 0.2, \"color\": \"grey\"}, \"sphere\": {\"scale\": 0.3, \"colorscheme\": {}}});\n\tviewer_16017063261613905.zoomTo();\nviewer_16017063261613905.render();\n});\n</script>",
      "text/html": [
       "<div id=\"3dmolviewer_16017063261613905\"  style=\"position: relative; width: 640px; height: 480px\">\n",
       "        <p id=\"3dmolwarning_16017063261613905\" style=\"background-color:#ffcccc;color:black\">You appear to be running in JupyterLab (or JavaScript failed to load for some other reason).  You need to install the 3dmol extension: <br>\n",
       "        <tt>jupyter labextension install jupyterlab_3dmol</tt></p>\n",
       "        </div>\n",
       "<script>\n",
       "\n",
       "var loadScriptAsync = function(uri){\n",
       "  return new Promise((resolve, reject) => {\n",
       "    var tag = document.createElement('script');\n",
       "    tag.src = uri;\n",
       "    tag.async = true;\n",
       "    tag.onload = () => {\n",
       "      resolve();\n",
       "    };\n",
       "  var firstScriptTag = document.getElementsByTagName('script')[0];\n",
       "  firstScriptTag.parentNode.insertBefore(tag, firstScriptTag);\n",
       "});\n",
       "};\n",
       "\n",
       "if(typeof $3Dmolpromise === 'undefined') {\n",
       "$3Dmolpromise = null;\n",
       "  $3Dmolpromise = loadScriptAsync('https://3dmol.csb.pitt.edu/build/3Dmol.js');\n",
       "}\n",
       "\n",
       "var viewer_16017063261613905 = null;\n",
       "var warn = document.getElementById(\"3dmolwarning_16017063261613905\");\n",
       "if(warn) {\n",
       "    warn.parentNode.removeChild(warn);\n",
       "}\n",
       "$3Dmolpromise.then(function() {\n",
       "viewer_16017063261613905 = $3Dmol.createViewer($(\"#3dmolviewer_16017063261613905\"),{backgroundColor:\"white\"});\n",
       "\tviewer_16017063261613905.addModel(\"@<TRIPOS>MOLECULE\\nRES\\n35 37 1 0 1\\nSMALL\\nNO_CHARGES\\n@<TRIPOS>CRYSIN\\n   14.2448    16.3859    11.4019    90.0000    90.0000    90.0000  1  1\\n@<TRIPOS>ATOM\\n       1 O            0.9665    -0.0632    -0.0709 O             1 RES     \\n       2 C            2.1949    -0.0329    -0.0979 C             1 RES     \\n       3 C            3.0238    -1.2594    -0.0427 C             1 RES     \\n       4 C            4.3672    -1.1761    -0.0603 C             1 RES     \\n       5 C            5.0663     0.1028    -0.0901 C             1 RES     \\n       6 O            6.4550     0.0134    -0.1320 O             1 RES     \\n       7 C            7.1981     1.1726    -0.0471 C             1 RES     \\n       8 C            8.1231     1.4562    -1.0512 C             1 RES     \\n       9 C            8.9168     2.6078    -0.9594 C             1 RES     \\n      10 C            8.7120     3.5309     0.0786 C             1 RES     \\n      11 C            9.4516     4.8272     0.0534 C             1 RES     \\n      12 O           10.2113     5.0892    -0.8753 O             1 RES     \\n      13 C            9.3000     5.8320     1.1312 C             1 RES     \\n      14 C            9.0179     7.1650     0.8121 C             1 RES     \\n      15 C            9.0745     8.1371     1.8140 C             1 RES     \\n      16 C            9.3249     7.7665     3.1371 C             1 RES     \\n      17 C            9.5557     6.4304     3.4594 C             1 RES     \\n      18 C            9.5665     5.4670     2.4546 C             1 RES     \\n      19 C            7.7701     3.2388     1.0699 C             1 RES     \\n      20 C            7.0555     2.0443     1.0340 C             1 RES     \\n      21 C            4.3600     1.2457    -0.1552 C             1 RES     \\n      22 C            2.9300     1.2299    -0.2550 C             1 RES     \\n      23 H            2.4835    -2.1974    -0.0364 H             1 RES     \\n      24 H            4.9601    -2.0867    -0.0654 H             1 RES     \\n      25 H            8.2142     0.8048    -1.9168 H             1 RES     \\n      26 H            9.6834     2.7921    -1.7116 H             1 RES     \\n      27 H            8.7793     7.4544    -0.2093 H             1 RES     \\n      28 H            8.9542     9.1885     1.5624 H             1 RES     \\n      29 H            9.3559     8.5229     3.9176 H             1 RES     \\n      30 H            9.7680     6.1415     4.4851 H             1 RES     \\n      31 H            9.8000     4.4367     2.7074 H             1 RES     \\n      32 H            7.5585     3.9223     1.8849 H             1 RES     \\n      33 H            6.3345     1.8387     1.8206 H             1 RES     \\n      34 H            4.8218     2.2232    -0.2101 H             1 RES     \\n      35 H            2.4569     1.9941    -0.8559 H             1 RES     \\n@<TRIPOS>BOND\\n       1       14       27 1\\n       2        9       26 1\\n       3       11       12 1\\n       4        3        2 1\\n       5       13       18 1\\n       6        4        5 1\\n       7       21       34 1\\n       8       19       32 1\\n       9        8        9 1\\n      10       16       17 1\\n      11        4        3 1\\n      12        8       25 1\\n      13       10       19 1\\n      14       17       30 1\\n      15       19       20 1\\n      16       20       33 1\\n      17       16       29 1\\n      18       18       31 1\\n      19       23        3 1\\n      20        7        8 1\\n      21       15       16 1\\n      22        5       21 1\\n      23        1        2 1\\n      24       11       13 1\\n      25       22        2 1\\n      26       14       15 1\\n      27        4       24 1\\n      28       10       11 1\\n      29        7       20 1\\n      30       15       28 1\\n      31       13       14 1\\n      32        9       10 1\\n      33       17       18 1\\n      34        6        7 1\\n      35       21       22 1\\n      36       22       35 1\\n      37        5        6 1\\n@<TRIPOS>SUBSTRUCTURE\\n       1 RES             1 RESIDUE    0 **** ROOT      0\\n\",\"mol2\");\n",
       "\tviewer_16017063261613905.setStyle({\"stick\": {\"radius\": 0.2, \"color\": \"grey\"}, \"sphere\": {\"scale\": 0.3, \"colorscheme\": {}}});\n",
       "\tviewer_16017063261613905.zoomTo();\n",
       "viewer_16017063261613905.render();\n",
       "});\n",
       "</script>"
      ]
     },
     "metadata": {},
     "output_type": "display_data"
    }
   ],
   "source": [
    "comp = \"occccoccccC=O)cccccc6)))))))cc6)))))))cc6\"\n",
    "smiles_utils.viz(smiles_string=comp, deep=True)"
   ]
  },
  {
   "cell_type": "code",
   "execution_count": 9,
   "metadata": {},
   "outputs": [
    {
     "name": "stderr",
     "output_type": "stream",
     "text": [
      "/home/chris/miniconda3/envs/uli/lib/python3.7/site-packages/ipykernel/ipkernel.py:287: DeprecationWarning: `should_run_async` will not call `transform_cell` automatically in the future. Please pass the result to `transformed_cell` argument and any exception that happen during thetransform in `preprocessing_exc_tuple` in IPython 7.17 and above.\n",
      "  and should_run_async(code)\n"
     ]
    },
    {
     "ename": "NameError",
     "evalue": "name 'pekk_deep_meta' is not defined",
     "output_type": "error",
     "traceback": [
      "\u001b[0;31m------------------------------------------------------\u001b[0m",
      "\u001b[0;31mNameError\u001b[0m            Traceback (most recent call last)",
      "\u001b[0;32m<ipython-input-9-cbd1c24a3ed4>\u001b[0m in \u001b[0;36m<module>\u001b[0;34m\u001b[0m\n\u001b[0;32m----> 1\u001b[0;31m \u001b[0mpekk_meta_smiles\u001b[0m \u001b[0;34m=\u001b[0m \u001b[0msmiles_utils\u001b[0m\u001b[0;34m.\u001b[0m\u001b[0mconvert_smiles\u001b[0m\u001b[0;34m(\u001b[0m\u001b[0mdeep\u001b[0m \u001b[0;34m=\u001b[0m \u001b[0mpekk_deep_meta\u001b[0m\u001b[0;34m)\u001b[0m\u001b[0;34m\u001b[0m\u001b[0;34m\u001b[0m\u001b[0m\n\u001b[0m\u001b[1;32m      2\u001b[0m \u001b[0msmiles_utils\u001b[0m\u001b[0;34m.\u001b[0m\u001b[0mviz\u001b[0m\u001b[0;34m(\u001b[0m\u001b[0msmiles_string\u001b[0m\u001b[0;34m=\u001b[0m\u001b[0mpekk_meta_smiles\u001b[0m\u001b[0;34m,\u001b[0m \u001b[0mdeep\u001b[0m\u001b[0;34m=\u001b[0m\u001b[0;32mFalse\u001b[0m\u001b[0;34m)\u001b[0m\u001b[0;34m\u001b[0m\u001b[0;34m\u001b[0m\u001b[0m\n\u001b[1;32m      3\u001b[0m \u001b[0mprint\u001b[0m\u001b[0;34m(\u001b[0m\u001b[0mpekk_meta_smiles\u001b[0m\u001b[0;34m)\u001b[0m\u001b[0;34m\u001b[0m\u001b[0;34m\u001b[0m\u001b[0m\n",
      "\u001b[0;31mNameError\u001b[0m: name 'pekk_deep_meta' is not defined"
     ]
    }
   ],
   "source": [
    "pekk_meta_smiles = smiles_utils.convert_smiles(deep = pekk_deep_meta)\n",
    "smiles_utils.viz(smiles_string=pekk_meta_smiles, deep=False)\n",
    "print(pekk_meta_smiles)"
   ]
  },
  {
   "cell_type": "code",
   "execution_count": 5,
   "metadata": {},
   "outputs": [],
   "source": [
    "def build_system(packing='bcc'):\n",
    "    '''\n",
    "    Generate a simple LJ particle system using hoomd's create_lattice function\n",
    "    packing \n",
    "    '''\n",
    "    hoomd.context.initialize(\"\")\n",
    "    if packing == 'fcc':\n",
    "        system = hoomd.init.create_lattice(unitcell=(hoomd.lattice.fcc(a=1.58)), n=6)\n",
    "    elif packing == 'bcc':\n",
    "        system = hoomd.init.create_lattice(unitcell=(hoomd.lattice.bcc(a=1.29)), n=6)\n",
    "    hoomd.dump.gsd('{}_system.gsd'.format(packing), group = hoomd.group.all(), period=None, overwrite=True)\n",
    "    return system\n",
    "\n",
    "def hoomd_simulation(system, temp, tau):  \n",
    "    nl = hoomd.md.nlist.cell()\n",
    "    lj = hoomd.md.pair.lj(r_cut=2.5, nlist=nl)\n",
    "    lj.pair_coeff.set('A', 'A', alpha=1.0, epsilon=1.0, sigma=1.0)\n",
    "    hoomd.md.integrate.mode_standard(dt=0.001)\n",
    "    _all = hoomd.group.all()\n",
    "    nvt = hoomd.md.integrate.nvt(group=_all, kT=temp, tau=tau)\n",
    "    nvt.randomize_velocities(seed=23)\n",
    "    hoomd.analyze.log(filename='{}-tau_out.log'.format(tau),\n",
    "                      quantities=[\"time\", \"temperature\", \"potential_energy\"],\n",
    "                      period=100,\n",
    "                      overwrite=True\n",
    "                     )\n",
    "    #hoomd.dump.gsd('tau-trajectory.gsd', period=5e3, group=_all, overwrite=True)\n",
    "    hoomd.run(3e5)"
   ]
  },
  {
   "cell_type": "markdown",
   "metadata": {},
   "source": [
    "# --------------------------------------------------------\n",
    "\n",
    "PEEK:  \n",
    "1 amu = 1.66054e-24 g  \n",
    "1.32 g/cm^3  \n",
    "1.32 g/nm^3  \n",
    "C19H12O3  \n",
    "monomer_amu = 288.302  "
   ]
  },
  {
   "cell_type": "code",
   "execution_count": 6,
   "metadata": {},
   "outputs": [],
   "source": [
    "def build_peek_system(num_mols, poly_length, density):\n",
    "    '''\n",
    "    This function uses mBuild's packing functionality to create a very low dense system of molecules\n",
    "    to allow for easier packing. A short simulation is then ran using HoomD to shrink the system to the\n",
    "    desired starting density.\n",
    "    '''\n",
    "    peek_poly_smi = polysmiles.poly_smiles('occccC=O)ccccOcc*c*ccc6)))))))cc6)))))))cc6',\n",
    "                                      length=poly_length)\n",
    "    peek_poly = mb.load(peek_poly_smi, smiles=True)\n",
    "    \n",
    "    mol_amu = poly_length * 288.302\n",
    "    mol_grams = mol_amu * 1.66054e-24\n",
    "    system_mass = mol_grams * num_mols\n",
    "    edge_cm = (system_mass / density)**(1/3)\n",
    "    edge_nm = edge_cm * 1e7\n",
    "\n",
    "    init_box = mb.Box([edge_nm*5]*3)\n",
    "    print(init_box)\n",
    "    system = mb.fill_box(peek_poly, num_mols, init_box)\n",
    "    \n",
    "    gaff = Forcefield(forcefield_files='files/gaff.xml')\n",
    "    system_pmd = gaff.apply(system)\n",
    "    create_hoomd_simulation(system_pmd, r_cut=1.2, auto_scale=True)\n",
    "    forces = [f for f in hoomd.context.current.forces \n",
    "                if not isinstance(f, hoomd.md.charge.pppm)]\n",
    "    \n",
    "    hoomd.context.current.forces = forces\n",
    "    _all = hoomd.group.all()\n",
    "    hoomd.md.integrate.mode_standard(dt=0.0001)\n",
    "    integrator = hoomd.md.integrate.nvt(group=_all, kT=2.0, tau=0.1)\n",
    "    hoomd.dump.gsd(\"trajectories/start-shrink.gsd\", period=None, group=_all, overwrite=True)\n",
    "    hoomd.dump.gsd(\"trajectories/traj-shrink.gsd\", period=1e5, group=_all, phase=0, overwrite=True)\n",
    "    integrator.randomize_velocities(seed=42);\n",
    "\n",
    "    hoomd.update.box_resize(L = hoomd.variant.linear_interp([(0,edge_nm*50), (1e6,edge_nm*10)], zero=0))\n",
    "    hoomd.run(1e6)\n",
    "    gsd_restart = hoomd.dump.gsd(\"trajectories/out-shrink.gsd\", period=None, group=_all, overwrite=True)\n",
    "    gsd_restart.write_restart()"
   ]
  },
  {
   "cell_type": "code",
   "execution_count": 7,
   "metadata": {},
   "outputs": [
    {
     "name": "stdout",
     "output_type": "stream",
     "text": [
      "Box(mins=[0. 0. 0.], maxs=[23.18757104 23.18757104 23.18757104], angles=[90. 90. 90.])\n"
     ]
    },
    {
     "name": "stderr",
     "output_type": "stream",
     "text": [
      "/home/chris/cme/forks/foyer/foyer/forcefield.py:449: UserWarning: No force field version number found in force field XML file.\n",
      "  'No force field version number found in force field XML file.'\n",
      "/home/chris/cme/forks/foyer/foyer/forcefield.py:461: UserWarning: No force field name found in force field XML file.\n",
      "  'No force field name found in force field XML file.'\n",
      "/home/chris/cme/forks/foyer/foyer/validator.py:132: ValidationWarning: You have empty smart definition(s)\n",
      "  warn(\"You have empty smart definition(s)\", ValidationWarning)\n"
     ]
    },
    {
     "name": "stdout",
     "output_type": "stream",
     "text": [
      "HOOMD-blue v2.9.0-16-g08515af02 CUDA (10.1) DOUBLE HPMC_MIXED MPI SSE SSE2 SSE3 SSE4_1 SSE4_2 AVX AVX2 \n",
      "Compiled: 05/12/2020\n",
      "Copyright (c) 2009-2019 The Regents of the University of Michigan.\n",
      "-----\n",
      "You are using HOOMD-blue. Please cite the following:\n",
      "* J A Anderson, C D Lorenz, and A Travesset. \"General purpose molecular dynamics\n",
      "  simulations fully implemented on graphics processing units\", Journal of\n",
      "  Computational Physics 227 (2008) 5342--5359\n",
      "* J Glaser, T D Nguyen, J A Anderson, P Lui, F Spiga, J A Millan, D C Morse, and\n",
      "  S C Glotzer. \"Strong scaling of general-purpose molecular dynamics simulations\n",
      "  on GPUs\", Computer Physics Communications 192 (2015) 97--107\n",
      "-----\n",
      "HOOMD-blue is running on the following GPU(s):\n",
      " [0]      GeForce RTX 2070  36 SM_7.5 @ 1.44 GHz, 7982 MiB DRAM, DIS, MNG\n"
     ]
    },
    {
     "name": "stderr",
     "output_type": "stream",
     "text": [
      "/home/chris/cme/forks/foyer/foyer/forcefield.py:267: UserWarning: Parameters have not been assigned to all impropers. Total system impropers: 4750, Parameterized impropers: 3350. Note that if your system contains torsions of Ryckaert-Bellemans functional form, all of these torsions are processed as propers\n",
      "  warnings.warn(msg)\n"
     ]
    },
    {
     "name": "stdout",
     "output_type": "stream",
     "text": [
      "notice(2): Group \"all\" created containing 8550 particles\n",
      "notice(2): -- Neighborlist exclusion statistics -- :\n",
      "notice(2): Particles with 3 exclusions             : 3350\n",
      "notice(2): Particles with 6 exclusions             : 450\n",
      "notice(2): Particles with 7 exclusions             : 3350\n",
      "notice(2): Particles with 8 exclusions             : 900\n",
      "notice(2): Particles with 9 exclusions             : 500\n",
      "notice(2): Neighbors included by diameter          : no\n",
      "notice(2): Neighbors excluded when in the same body: no\n",
      "Processing LJ and QQ\n",
      "notice(2): Group \"charged\" created containing 0 particles\n",
      "No charged groups found, ignoring electrostatics\n",
      "Processing 1-4 interactions, adjusting neighborlist exclusions\n",
      "Processing harmonic bonds\n",
      "Processing harmonic angles\n",
      "Processing periodic torsions\n",
      "HOOMD SimulationContext updated from ParmEd Structure\n",
      "** starting run **\n",
      "Time 00:00:10 | Step 8002 / 1000000 | TPS 800.187 | ETA 00:20:39\n",
      "Time 00:00:20 | Step 16281 / 1000000 | TPS 827.894 | ETA 00:19:48\n",
      "Time 00:00:30 | Step 24502 / 1000000 | TPS 822.042 | ETA 00:19:46\n",
      "Time 00:00:40 | Step 32749 / 1000000 | TPS 824.637 | ETA 00:19:32\n",
      "Time 00:00:50 | Step 40970 / 1000000 | TPS 822.079 | ETA 00:19:26\n",
      "Time 00:01:00 | Step 48703 / 1000000 | TPS 773.292 | ETA 00:20:30\n",
      "Time 00:01:10 | Step 56858 / 1000000 | TPS 815.421 | ETA 00:19:16\n",
      "Time 00:01:20 | Step 65075 / 1000000 | TPS 821.67 | ETA 00:18:57\n",
      "Time 00:01:30 | Step 73259 / 1000000 | TPS 818.339 | ETA 00:18:52\n",
      "Time 00:01:40 | Step 81442 / 1000000 | TPS 818.248 | ETA 00:18:42\n",
      "Time 00:01:50 | Step 89622 / 1000000 | TPS 817.929 | ETA 00:18:33\n",
      "Time 00:02:01 | Step 96745 / 1000000 | TPS 647.332 | ETA 00:23:15\n",
      "Time 00:02:12 | Step 103615 / 1000000 | TPS 625.262 | ETA 00:23:53\n",
      "Time 00:02:22 | Step 111601 / 1000000 | TPS 796.13 | ETA 00:18:35\n",
      "Time 00:02:32 | Step 119489 / 1000000 | TPS 788.737 | ETA 00:18:36\n",
      "Time 00:02:42 | Step 127077 / 1000000 | TPS 758.752 | ETA 00:19:10\n",
      "Time 00:02:52 | Step 134889 / 1000000 | TPS 781.18 | ETA 00:18:27\n",
      "Time 00:03:02 | Step 142955 / 1000000 | TPS 806.548 | ETA 00:17:42\n",
      "Time 00:03:12 | Step 151049 / 1000000 | TPS 809.327 | ETA 00:17:28\n",
      "Time 00:03:22 | Step 159152 / 1000000 | TPS 810.251 | ETA 00:17:17\n",
      "Time 00:03:32 | Step 167285 / 1000000 | TPS 813.275 | ETA 00:17:03\n",
      "Time 00:03:42 | Step 175456 / 1000000 | TPS 817.068 | ETA 00:16:49\n",
      "Time 00:03:52 | Step 183632 / 1000000 | TPS 817.537 | ETA 00:16:38\n",
      "Time 00:04:02 | Step 191841 / 1000000 | TPS 820.813 | ETA 00:16:24\n",
      "Time 00:04:12 | Step 200064 / 1000000 | TPS 822.268 | ETA 00:16:12\n",
      "Time 00:04:22 | Step 208075 / 1000000 | TPS 801.035 | ETA 00:16:28\n",
      "Time 00:04:32 | Step 216198 / 1000000 | TPS 812.289 | ETA 00:16:04\n",
      "Time 00:04:42 | Step 224358 / 1000000 | TPS 815.952 | ETA 00:15:50\n",
      "Time 00:04:52 | Step 232554 / 1000000 | TPS 819.536 | ETA 00:15:36\n",
      "Time 00:05:02 | Step 240901 / 1000000 | TPS 822.037 | ETA 00:15:23\n",
      "Time 00:05:13 | Step 249601 / 1000000 | TPS 827.4 | ETA 00:15:06\n",
      "Time 00:05:23 | Step 258197 / 1000000 | TPS 827.818 | ETA 00:14:56\n",
      "Time 00:05:34 | Step 266875 / 1000000 | TPS 829.587 | ETA 00:14:43\n",
      "Time 00:05:44 | Step 275388 / 1000000 | TPS 825.89 | ETA 00:14:37\n",
      "Time 00:05:54 | Step 284101 / 1000000 | TPS 831.044 | ETA 00:14:21\n",
      "Time 00:06:05 | Step 292634 / 1000000 | TPS 832.318 | ETA 00:14:09\n",
      "Time 00:06:15 | Step 301431 / 1000000 | TPS 853.39 | ETA 00:13:38\n",
      "Time 00:06:25 | Step 311825 / 1000000 | TPS 1039.36 | ETA 00:11:02\n",
      "Time 00:06:35 | Step 322201 / 1000000 | TPS 1037.46 | ETA 00:10:53\n",
      "Time 00:06:45 | Step 332636 / 1000000 | TPS 1043.43 | ETA 00:10:39\n",
      "Time 00:06:55 | Step 343116 / 1000000 | TPS 1047.99 | ETA 00:10:26\n",
      "Time 00:07:05 | Step 353008 / 1000000 | TPS 988.789 | ETA 00:10:54\n",
      "Time 00:07:15 | Step 363498 / 1000000 | TPS 1048.98 | ETA 00:10:06\n",
      "Time 00:07:25 | Step 374031 / 1000000 | TPS 1053.26 | ETA 00:09:54\n",
      "Time 00:07:35 | Step 384594 / 1000000 | TPS 1056.27 | ETA 00:09:42\n",
      "Time 00:07:45 | Step 395174 / 1000000 | TPS 1057.94 | ETA 00:09:31\n",
      "Time 00:07:55 | Step 405246 / 1000000 | TPS 1007.17 | ETA 00:09:50\n",
      "Time 00:08:05 | Step 415868 / 1000000 | TPS 1062.13 | ETA 00:09:09\n",
      "Time 00:08:15 | Step 426509 / 1000000 | TPS 1064.02 | ETA 00:08:58\n",
      "Time 00:08:25 | Step 437170 / 1000000 | TPS 1066.06 | ETA 00:08:47\n",
      "Time 00:08:35 | Step 447804 / 1000000 | TPS 1063.31 | ETA 00:08:39\n",
      "Time 00:08:45 | Step 458078 / 1000000 | TPS 1027.35 | ETA 00:08:47\n",
      "Time 00:08:55 | Step 468785 / 1000000 | TPS 1070.63 | ETA 00:08:16\n",
      "Time 00:09:05 | Step 479498 / 1000000 | TPS 1071.22 | ETA 00:08:05\n",
      "Time 00:09:15 | Step 490227 / 1000000 | TPS 1072.87 | ETA 00:07:55\n",
      "Time 00:09:25 | Step 500216 / 1000000 | TPS 998.834 | ETA 00:08:20\n",
      "Time 00:09:35 | Step 510916 / 1000000 | TPS 1069.93 | ETA 00:07:37\n",
      "Time 00:09:45 | Step 521694 / 1000000 | TPS 1077.74 | ETA 00:07:23\n",
      "Time 00:09:55 | Step 532488 / 1000000 | TPS 1079.33 | ETA 00:07:13\n",
      "Time 00:10:05 | Step 542987 / 1000000 | TPS 1049.82 | ETA 00:07:15\n",
      "Time 00:10:15 | Step 553817 / 1000000 | TPS 1082.95 | ETA 00:06:52\n",
      "Time 00:10:25 | Step 564637 / 1000000 | TPS 1082 | ETA 00:06:42\n",
      "Time 00:10:35 | Step 575465 / 1000000 | TPS 1082.77 | ETA 00:06:32\n",
      "Time 00:10:45 | Step 586039 / 1000000 | TPS 1057.38 | ETA 00:06:31\n",
      "Time 00:10:55 | Step 596876 / 1000000 | TPS 1083.6 | ETA 00:06:12\n",
      "Time 00:11:05 | Step 607704 / 1000000 | TPS 1082.77 | ETA 00:06:02\n",
      "Time 00:11:15 | Step 618554 / 1000000 | TPS 1084.98 | ETA 00:05:51\n",
      "Time 00:11:25 | Step 629244 / 1000000 | TPS 1068.95 | ETA 00:05:46\n",
      "Time 00:11:35 | Step 640130 / 1000000 | TPS 1088.54 | ETA 00:05:30\n",
      "Time 00:11:45 | Step 651030 / 1000000 | TPS 1089.99 | ETA 00:05:20\n",
      "Time 00:11:55 | Step 661945 / 1000000 | TPS 1091.45 | ETA 00:05:09\n",
      "Time 00:12:05 | Step 672706 / 1000000 | TPS 1076.04 | ETA 00:05:04\n",
      "Time 00:12:15 | Step 683643 / 1000000 | TPS 1093.69 | ETA 00:04:49\n",
      "Time 00:12:25 | Step 694588 / 1000000 | TPS 1094.4 | ETA 00:04:39\n",
      "Time 00:12:35 | Step 705494 / 1000000 | TPS 1090.5 | ETA 00:04:30\n",
      "Time 00:12:45 | Step 716345 / 1000000 | TPS 1085.04 | ETA 00:04:21\n",
      "Time 00:12:55 | Step 727339 / 1000000 | TPS 1099.32 | ETA 00:04:08\n",
      "Time 00:13:05 | Step 738340 / 1000000 | TPS 1100.09 | ETA 00:03:57\n",
      "Time 00:13:15 | Step 749345 / 1000000 | TPS 1100.49 | ETA 00:03:47\n",
      "Time 00:13:25 | Step 760246 / 1000000 | TPS 1090.03 | ETA 00:03:39\n",
      "Time 00:13:35 | Step 771252 / 1000000 | TPS 1100.54 | ETA 00:03:27\n",
      "Time 00:13:45 | Step 782201 / 1000000 | TPS 1094.9 | ETA 00:03:18\n",
      "Time 00:13:55 | Step 793119 / 1000000 | TPS 1091.79 | ETA 00:03:09\n",
      "Time 00:14:05 | Step 804122 / 1000000 | TPS 1100.24 | ETA 00:02:58\n",
      "Time 00:14:15 | Step 815154 / 1000000 | TPS 1103.19 | ETA 00:02:47\n",
      "Time 00:14:25 | Step 826184 / 1000000 | TPS 1102.9 | ETA 00:02:37\n",
      "Time 00:14:35 | Step 837151 / 1000000 | TPS 1096.62 | ETA 00:02:28\n",
      "Time 00:14:45 | Step 848195 / 1000000 | TPS 1104.3 | ETA 00:02:17\n",
      "Time 00:14:55 | Step 859241 / 1000000 | TPS 1104.58 | ETA 00:02:07\n",
      "Time 00:15:05 | Step 870296 / 1000000 | TPS 1105.43 | ETA 00:01:57\n",
      "Time 00:15:15 | Step 881300 / 1000000 | TPS 1100.31 | ETA 00:01:47\n",
      "Time 00:15:25 | Step 892359 / 1000000 | TPS 1105.87 | ETA 00:01:37\n",
      "Time 00:15:35 | Step 903412 / 1000000 | TPS 1105.29 | ETA 00:01:27\n",
      "Time 00:15:45 | Step 914451 / 1000000 | TPS 1103.87 | ETA 00:01:17\n",
      "Time 00:15:55 | Step 925524 / 1000000 | TPS 1107.27 | ETA 00:01:07\n",
      "Time 00:16:05 | Step 936600 / 1000000 | TPS 1107.6 | ETA 00:00:57\n",
      "Time 00:16:15 | Step 947661 / 1000000 | TPS 1106.08 | ETA 00:00:47\n",
      "Time 00:16:25 | Step 958701 / 1000000 | TPS 1103.92 | ETA 00:00:37\n",
      "Time 00:16:35 | Step 969753 / 1000000 | TPS 1105.11 | ETA 00:00:27\n",
      "Time 00:16:45 | Step 980809 / 1000000 | TPS 1105.57 | ETA 00:00:17\n",
      "Time 00:16:55 | Step 991871 / 1000000 | TPS 1106.19 | ETA 00:00:07\n",
      "Time 00:17:02 | Step 1000000 / 1000000 | TPS 1107.16 | ETA 00:00:00\n",
      "Average TPS: 978.207\n",
      "---------\n",
      "-- Neighborlist stats:\n",
      "3511 normal updates / 3334 forced updates / 0 dangerous updates\n",
      "n_neigh_min: 5 / n_neigh_max: 37 / n_neigh_avg: 15.5371\n",
      "shortest rebuild period: 4\n",
      "-- Cell list stats:\n",
      "Dimension: 28, 28, 28\n",
      "n_min    : 0 / n_max: 16 / n_avg: 0.389486\n",
      "** run complete **\n"
     ]
    }
   ],
   "source": [
    "build_peek_system(num_mols=50, poly_length=5, density=1.2)"
   ]
  },
  {
   "cell_type": "code",
   "execution_count": 10,
   "metadata": {},
   "outputs": [
    {
     "name": "stdout",
     "output_type": "stream",
     "text": [
      "3.0\n"
     ]
    }
   ],
   "source": [
    "a = 27**(1/3)\n",
    "print(a)"
   ]
  },
  {
   "cell_type": "code",
   "execution_count": null,
   "metadata": {},
   "outputs": [],
   "source": []
  },
  {
   "cell_type": "code",
   "execution_count": 3,
   "metadata": {},
   "outputs": [
    {
     "ename": "NameError",
     "evalue": "name 'polysmiles' is not defined",
     "output_type": "error",
     "traceback": [
      "\u001b[0;31m---------------------------------------------------------------------------\u001b[0m",
      "\u001b[0;31mNameError\u001b[0m                                 Traceback (most recent call last)",
      "\u001b[0;32m<ipython-input-3-87d2c7d68a89>\u001b[0m in \u001b[0;36m<module>\u001b[0;34m\u001b[0m\n\u001b[1;32m      1\u001b[0m \u001b[0mpoly_length\u001b[0m \u001b[0;34m=\u001b[0m \u001b[0;36m2\u001b[0m\u001b[0;34m\u001b[0m\u001b[0;34m\u001b[0m\u001b[0m\n\u001b[0;32m----> 2\u001b[0;31m peek_poly_smi = polysmiles.poly_smiles('occccC=O)ccccOcc*c*ccc6)))))))cc6)))))))cc6',\n\u001b[0m\u001b[1;32m      3\u001b[0m                                   length=poly_length)\n\u001b[1;32m      4\u001b[0m \u001b[0mpeek_poly\u001b[0m \u001b[0;34m=\u001b[0m \u001b[0mmb\u001b[0m\u001b[0;34m.\u001b[0m\u001b[0mload\u001b[0m\u001b[0;34m(\u001b[0m\u001b[0mpeek_poly_smi\u001b[0m\u001b[0;34m,\u001b[0m \u001b[0msmiles\u001b[0m\u001b[0;34m=\u001b[0m\u001b[0;32mTrue\u001b[0m\u001b[0;34m)\u001b[0m\u001b[0;34m\u001b[0m\u001b[0;34m\u001b[0m\u001b[0m\n",
      "\u001b[0;31mNameError\u001b[0m: name 'polysmiles' is not defined"
     ]
    }
   ],
   "source": [
    "poly_length = 2\n",
    "peek_poly_smi = polysmiles.poly_smiles('occccC=O)ccccOcc*c*ccc6)))))))cc6)))))))cc6',\n",
    "                                  length=poly_length)\n",
    "peek_poly = mb.load(peek_poly_smi, smiles=True)"
   ]
  },
  {
   "cell_type": "code",
   "execution_count": null,
   "metadata": {},
   "outputs": [],
   "source": []
  },
  {
   "cell_type": "code",
   "execution_count": null,
   "metadata": {},
   "outputs": [],
   "source": []
  },
  {
   "cell_type": "code",
   "execution_count": null,
   "metadata": {},
   "outputs": [],
   "source": []
  },
  {
   "cell_type": "code",
   "execution_count": 3,
   "metadata": {},
   "outputs": [
    {
     "name": "stderr",
     "output_type": "stream",
     "text": [
      "/home/chris/cme/forks/foyer/foyer/forcefield.py:449: UserWarning: No force field version number found in force field XML file.\n",
      "  'No force field version number found in force field XML file.'\n",
      "/home/chris/cme/forks/foyer/foyer/forcefield.py:461: UserWarning: No force field name found in force field XML file.\n",
      "  'No force field name found in force field XML file.'\n",
      "/home/chris/cme/forks/foyer/foyer/validator.py:132: ValidationWarning: You have empty smart definition(s)\n",
      "  warn(\"You have empty smart definition(s)\", ValidationWarning)\n"
     ]
    }
   ],
   "source": [
    "opls = Forcefield(name='oplsaa')\n",
    "gaff = Forcefield(forcefield_files='files/gaff.xml')\n",
    "peek = 'oc1ccc(C(=O)c2ccc(Oc3ccccc3)cc2)cc1'\n",
    "peek_deep = smiles_utils.convert_smiles(smiles=peek)\n",
    "mb.load(peek, smiles=True).visualize()\n",
    "peek_poly_smi = polysmiles.poly_smiles('occccC=O)ccccOcc*c*ccc6)))))))cc6)))))))cc6',\n",
    "                                      length=5)\n",
    "peek_poly = mb.load(peek_poly_smi, smiles=True)\n"
   ]
  }
 ],
 "metadata": {
  "kernelspec": {
   "display_name": "Python 3",
   "language": "python",
   "name": "python3"
  },
  "language_info": {
   "codemirror_mode": {
    "name": "ipython",
    "version": 3
   },
   "file_extension": ".py",
   "mimetype": "text/x-python",
   "name": "python",
   "nbconvert_exporter": "python",
   "pygments_lexer": "ipython3",
   "version": "3.7.8"
  }
 },
 "nbformat": 4,
 "nbformat_minor": 4
}
