{
 "cells": [
  {
   "cell_type": "code",
   "execution_count": 23,
   "metadata": {},
   "outputs": [
    {
     "name": "stderr",
     "output_type": "stream",
     "text": [
      "/home/chris/miniconda3/envs/uli/lib/python3.7/site-packages/ipykernel/ipkernel.py:287: DeprecationWarning: `should_run_async` will not call `transform_cell` automatically in the future. Please pass the result to `transformed_cell` argument and any exception that happen during thetransform in `preprocessing_exc_tuple` in IPython 7.17 and above.\n",
      "  and should_run_async(code)\n"
     ]
    }
   ],
   "source": [
    "import json\n",
    "import os\n",
    "import random\n",
    "from utils import smiles_utils\n",
    "from utils import polysmiles\n",
    "import hoomd\n",
    "import mbuild as mb\n",
    "from mbuild.formats.hoomd_simulation import create_hoomd_simulation\n",
    "import foyer\n",
    "from foyer import Forcefield\n",
    "import py3Dmol\n",
    "import ele"
   ]
  },
  {
   "cell_type": "code",
   "execution_count": 17,
   "metadata": {},
   "outputs": [
    {
     "name": "stderr",
     "output_type": "stream",
     "text": [
      "/home/chris/miniconda3/envs/uli/lib/python3.7/site-packages/ipykernel/ipkernel.py:287: DeprecationWarning: `should_run_async` will not call `transform_cell` automatically in the future. Please pass the result to `transformed_cell` argument and any exception that happen during thetransform in `preprocessing_exc_tuple` in IPython 7.17 and above.\n",
      "  and should_run_async(code)\n"
     ]
    }
   ],
   "source": [
    "#pekk_system = System(molecule='PEKK', para_weight=.5, density=1.3,\n",
    "#                    n_compounds=100, polymer_lengths=10)\n",
    "\n",
    "class System():\n",
    "    def __init__(self,\n",
    "                 molecule,\n",
    "                 para_weight,\n",
    "                 density,\n",
    "                 n_compounds,\n",
    "                 polymer_lengths,\n",
    "                 forcefield,\n",
    "                 pdi=None,\n",
    "                 M_n=None,\n",
    "                 remove_hydrogens=False\n",
    "            ):\n",
    "        \n",
    "        self.molecule = molecule\n",
    "        self.para_weight = para_weight\n",
    "        self.density = density\n",
    "        self.remove_hydrogens = remove_hydrogens\n",
    "        self.pdi = pdi\n",
    "        self.system_mass = 0\n",
    "        \n",
    "        if self.pdi:\n",
    "            pass\n",
    "            \"Here, call a function that samples from some distribution\"\n",
    "            \"pass in pdi, n_compounds, M_n?\"\n",
    "            \"self.polymer_lengths defined from that function\"\n",
    "        else: # Do some validation, get things in the correct data types\n",
    "            if not isinstance(n_compounds, list):\n",
    "                self.n_compounds = [n_compounds]\n",
    "            else:\n",
    "                self.n_compounds = n_compounds\n",
    "\n",
    "            if not isinstance(polymer_lengths, list):\n",
    "                self.polymer_lengths = [polymer_lengths]\n",
    "            else:\n",
    "                self.polymer_lengths = polymer_lengths\n",
    "        \n",
    "        if len(self.n_compounds) != len(self.polymer_lengths):\n",
    "            raise ValueError('n_compounds and polymer_lengths should be equal length')\n",
    "    \n",
    "    def pack(self, box_expand_factor=5):\n",
    "        \n",
    "        # Create compounds\n",
    "        mb_compounds = []\n",
    "        mb_n_compounds = []\n",
    "        \n",
    "        # example...lengths = [5, 10, 15]  and  number = [20, 50, 30]\n",
    "        for _length, _n in zip(self.polymer_lengths, self.n_compounds):\n",
    "            polymer = build_molecule(self.molecule, _length,\n",
    "                                    self.para_weight)\n",
    "            mb_compounds.append(polymer)\n",
    "            mb_n_compounds.append(_n)\n",
    "            mass = _n * np.sum(element_from_symbol(p.name).mass for p in polymer.particles())\n",
    "            self.system_mass += mass\n",
    "        \n",
    "        # Figure out correct box dimensions\n",
    "        # Expand the box to make the PACKMOL step faster\n",
    "        # Will shrink down to accurate L during simulation\n",
    "        L = _calculate_L * box_expand_factor\n",
    "        \n",
    "        system = mb.packing.fill_box(\n",
    "            mb_compounds,\n",
    "            mb_n_compounds,\n",
    "            box=[L, L, L],\n",
    "            overalp=0.2,\n",
    "            edge=0.5,\n",
    "            fix_orientation=True)\n",
    "    \n",
    "    def _calculate_L(self):\n",
    "        # Conversion from (amu/(g/cm^3)) to ang\n",
    "        L = (self.system_mass / self.density) ** (1/3) * 1.841763\n",
    "        L /= 10 # convert ang to nm\n",
    "        return L\n",
    "        \n",
    "\n",
    "def build_molecule(molecule, length, para_weight):\n",
    "    '''\n",
    "    `build_molecule` uses SMILES strings to build up a polymer from monomers.\n",
    "    The configuration of each monomer is determined by para_weight and the\n",
    "    random_sequence() function.  \n",
    "    Uses DeepSMILES behind the scenes to build up SMILES string for a polymer.\n",
    "    \n",
    "    Parameters\n",
    "    ----------\n",
    "    molecule : str\n",
    "        The monomer molecule to be used to build up the polymer.\n",
    "        Available options are limited  to the .json files in the compounds directory\n",
    "        Use the molecule name as seen in the .json file without including .json\n",
    "    length : int\n",
    "        The number of monomer units in the final polymer molecule\n",
    "    para_weight : float, limited to values between 0 and 1\n",
    "        The relative amount of para configurations compared to meta.\n",
    "        Passed into random_sequence() to determine the monomer sequence of the polymer.\n",
    "        A 70/30 para to meta system would require a para_weight = 0.70\n",
    "    \n",
    "    Returns\n",
    "    -------\n",
    "    molecule_string_smiles : str\n",
    "        The complete SMILES string of the polymer molecule\n",
    "    '''\n",
    "    f = open('compounds/{}.json'.format(molecule))\n",
    "    mol_dict = json.load(f)    \n",
    "    f.close()\n",
    "    monomer_sequence = random_sequence(para_weight, length)\n",
    "    molecule_string = '{}'\n",
    "\n",
    "    for idx, config in enumerate(monomer_sequence):\n",
    "        if idx == 0: # append template, but not brackets\n",
    "            monomer_string = mol_dict['{}_template'.format(config)]\n",
    "            molecule_string = molecule_string.format(monomer_string)\n",
    "            if len(monomer_sequence) == 1:\n",
    "                molecule_string = molecule_string.replace('{}', '')\n",
    "                continue\n",
    "\n",
    "        elif idx == length - 1: # Don't use template for last iteration\n",
    "            brackets = polysmiles.count_brackets(mol_dict['{}_deep_smiles'.format(config)])\n",
    "            monomer_string = mol_dict['{}_deep_smiles'.format(config)]\n",
    "            molecule_string = molecule_string.format(monomer_string, brackets)\n",
    "\n",
    "        else: # Continue using template plus brackets\n",
    "            brackets = polysmiles.count_brackets(mol_dict['{}_deep_smiles'.format(config)])\n",
    "            monomer_string = mol_dict['{}_template'.format(config)]\n",
    "            molecule_string = molecule_string.format(monomer_string, brackets)\n",
    "    \n",
    "    molecule_string_smiles = smiles_utils.convert_smiles(deep = molecule_string)\n",
    "    compound = mb.load(molecule_string_smiles, smiles=True)\n",
    "    return compound\n",
    "\n",
    "def random_sequence(para_weight=0.5, length=10):\n",
    "    '''\n",
    "    random_sequence returns a list containing a random sequence of strings 'para' and 'meta'.\n",
    "    This is used by build_molecule() to create a complete SMILES string of a molecule.\n",
    "    \n",
    "    Parameters:\n",
    "    -----------\n",
    "    para_weight : float, limited to values between 0 and 1\n",
    "        The relative amount of para configurations compared to meta.\n",
    "        Defined in build_molecule()\n",
    "    length : int\n",
    "        The number of elements in the random sequence.\n",
    "        Defined in build_molecule()\n",
    "    '''\n",
    "    meta_weight = 1 - para_weight\n",
    "    options = ['para', 'meta']\n",
    "    probability = [para_weight, meta_weight]\n",
    "    sequence = random.choices(options, weights=probability, k=length)\n",
    "    return sequence"
   ]
  },
  {
   "cell_type": "code",
   "execution_count": 18,
   "metadata": {},
   "outputs": [
    {
     "name": "stdout",
     "output_type": "stream",
     "text": [
      "< 35 particles, non-periodic, 37 bonds, id: 139740153359888>\n"
     ]
    },
    {
     "name": "stderr",
     "output_type": "stream",
     "text": [
      "/home/chris/miniconda3/envs/uli/lib/python3.7/site-packages/ipykernel/ipkernel.py:287: DeprecationWarning: `should_run_async` will not call `transform_cell` automatically in the future. Please pass the result to `transformed_cell` argument and any exception that happen during thetransform in `preprocessing_exc_tuple` in IPython 7.17 and above.\n",
      "  and should_run_async(code)\n",
      "/home/chris/miniconda3/envs/uli/lib/python3.7/site-packages/mbuild/conversion.py:687: UserWarning: No unitcell detected for pybel.Molecule O=C1C=CC(=C[CH]1)Oc1ccc(C(=O)c2ccccc2)cc1\t\n",
      "\n",
      "  warn(\"No unitcell detected for pybel.Molecule {}\".format(pybel_mol))\n"
     ]
    }
   ],
   "source": [
    "poly_string = build_molecule(molecule='PEEK', length=1, para_weight=0.70)\n",
    "print(poly_string)"
   ]
  },
  {
   "cell_type": "code",
   "execution_count": 24,
   "metadata": {},
   "outputs": [
    {
     "name": "stderr",
     "output_type": "stream",
     "text": [
      "/home/chris/miniconda3/envs/uli/lib/python3.7/site-packages/ipykernel/ipkernel.py:287: DeprecationWarning: `should_run_async` will not call `transform_cell` automatically in the future. Please pass the result to `transformed_cell` argument and any exception that happen during thetransform in `preprocessing_exc_tuple` in IPython 7.17 and above.\n",
      "  and should_run_async(code)\n"
     ]
    },
    {
     "data": {
      "text/plain": [
       "['Elements',\n",
       " '__all__',\n",
       " '__builtins__',\n",
       " '__cached__',\n",
       " '__doc__',\n",
       " '__file__',\n",
       " '__loader__',\n",
       " '__name__',\n",
       " '__package__',\n",
       " '__path__',\n",
       " '__spec__',\n",
       " '__version__',\n",
       " 'element',\n",
       " 'element_from_atomic_number',\n",
       " 'element_from_mass',\n",
       " 'element_from_name',\n",
       " 'element_from_symbol',\n",
       " 'exceptions']"
      ]
     },
     "execution_count": 24,
     "metadata": {},
     "output_type": "execute_result"
    }
   ],
   "source": [
    "dir(ele)"
   ]
  },
  {
   "cell_type": "code",
   "execution_count": 28,
   "metadata": {
    "scrolled": true
   },
   "outputs": [
    {
     "name": "stdout",
     "output_type": "stream",
     "text": [
      "15.999\n",
      "12.011\n",
      "12.011\n",
      "12.011\n",
      "12.011\n",
      "15.999\n",
      "12.011\n",
      "12.011\n",
      "12.011\n",
      "12.011\n",
      "12.011\n",
      "15.999\n",
      "12.011\n",
      "12.011\n",
      "12.011\n",
      "12.011\n",
      "12.011\n",
      "12.011\n",
      "12.011\n",
      "12.011\n",
      "12.011\n",
      "12.011\n",
      "1.008\n",
      "1.008\n",
      "1.008\n",
      "1.008\n",
      "1.008\n",
      "1.008\n",
      "1.008\n",
      "1.008\n",
      "1.008\n",
      "1.008\n",
      "1.008\n",
      "1.008\n",
      "1.008\n"
     ]
    },
    {
     "name": "stderr",
     "output_type": "stream",
     "text": [
      "/home/chris/miniconda3/envs/uli/lib/python3.7/site-packages/ipykernel/ipkernel.py:287: DeprecationWarning: `should_run_async` will not call `transform_cell` automatically in the future. Please pass the result to `transformed_cell` argument and any exception that happen during thetransform in `preprocessing_exc_tuple` in IPython 7.17 and above.\n",
      "  and should_run_async(code)\n"
     ]
    }
   ],
   "source": [
    "for p in poly_string.particles():\n",
    "    element = ele.element_from_symbol(p.name)\n",
    "    print(element.mass)"
   ]
  },
  {
   "cell_type": "code",
   "execution_count": 4,
   "metadata": {},
   "outputs": [
    {
     "name": "stdout",
     "output_type": "stream",
     "text": [
      "occcoccccC=O)ccccoccccoccccC=O)cccoccccoccccC=O)cccoccccoccccC=O)cccocccoccccC=O)ccccocccoccccC=O)ccccoccccoccccC=O)cccoccccoccccC=O)cccoccccoccccC=O)cccoccccoccccC=O)cccccc6)))))))cc6)))))))cc6)))))))ccc6)))))))cc6)))))))cc6)))))))ccc6)))))))cc6)))))))cc6)))))))ccc6)))))))cc6)))))))cc6)))))))cc6)))))))cc6)))))))ccc6)))))))cc6)))))))cc6)))))))ccc6)))))))ccc6)))))))cc6)))))))cc6)))))))ccc6)))))))cc6)))))))cc6)))))))ccc6)))))))cc6)))))))cc6)))))))cc6)))))))cc6)))))))ccc6\n"
     ]
    },
    {
     "name": "stderr",
     "output_type": "stream",
     "text": [
      "/home/chris/miniconda3/envs/uli/lib/python3.7/site-packages/ipykernel/ipkernel.py:287: DeprecationWarning: `should_run_async` will not call `transform_cell` automatically in the future. Please pass the result to `transformed_cell` argument and any exception that happen during thetransform in `preprocessing_exc_tuple` in IPython 7.17 and above.\n",
      "  and should_run_async(code)\n"
     ]
    }
   ],
   "source": [
    "print(smiles_utils.convert_smiles(smiles=poly_string))"
   ]
  },
  {
   "cell_type": "code",
   "execution_count": 5,
   "metadata": {},
   "outputs": [
    {
     "name": "stderr",
     "output_type": "stream",
     "text": [
      "/home/chris/miniconda3/envs/uli/lib/python3.7/site-packages/ipykernel/ipkernel.py:287: DeprecationWarning: `should_run_async` will not call `transform_cell` automatically in the future. Please pass the result to `transformed_cell` argument and any exception that happen during thetransform in `preprocessing_exc_tuple` in IPython 7.17 and above.\n",
      "  and should_run_async(code)\n",
      "/home/chris/miniconda3/envs/uli/lib/python3.7/site-packages/mbuild/conversion.py:687: UserWarning: No unitcell detected for pybel.Molecule O=C1C=C(Oc2ccc(C(=O)c3ccc(Oc4ccc(Oc5ccc(C(=O)c6cc(Oc7ccc(Oc8ccc(C(=O)c9cc(Oc%10ccc(Oc%11ccc(C(=O)c%12cc(Oc%13cc(Oc%14ccc(C(=O)c%15ccc(Oc%16cc(Oc%17ccc(C(=O)c%18ccc(Oc%19ccc(Oc%20ccc(C(=O)c%21cc(Oc%22ccc(Oc%23ccc(C(=O)c%24cc(Oc%25ccc(Oc%26ccc(C(=O)c%27cc(Oc%28ccc(Oc%29ccc(C(=O)c%30ccccc%30)cc%29)cc%28)ccc%27)cc%26)cc%25)ccc%24)cc%23)cc%22)ccc%21)cc%20)cc%19)cc%18)cc%17)ccc%16)cc%15)cc%14)ccc%13)ccc%12)cc%11)cc%10)ccc9)cc8)cc7)ccc6)cc5)cc4)cc3)cc2)C=C[CH]1\t\n",
      "\n",
      "  warn(\"No unitcell detected for pybel.Molecule {}\".format(pybel_mol))\n"
     ]
    },
    {
     "data": {
      "application/3dmoljs_load.v0": "<div id=\"3dmolviewer_16021963382347665\"  style=\"position: relative; width: 640px; height: 480px\">\n        <p id=\"3dmolwarning_16021963382347665\" style=\"background-color:#ffcccc;color:black\">You appear to be running in JupyterLab (or JavaScript failed to load for some other reason).  You need to install the 3dmol extension: <br>\n        <tt>jupyter labextension install jupyterlab_3dmol</tt></p>\n        </div>\n<script>\n\nvar loadScriptAsync = function(uri){\n  return new Promise((resolve, reject) => {\n    var tag = document.createElement('script');\n    tag.src = uri;\n    tag.async = true;\n    tag.onload = () => {\n      resolve();\n    };\n  var firstScriptTag = document.getElementsByTagName('script')[0];\n  firstScriptTag.parentNode.insertBefore(tag, firstScriptTag);\n});\n};\n\nif(typeof $3Dmolpromise === 'undefined') {\n$3Dmolpromise = null;\n  $3Dmolpromise = loadScriptAsync('https://3dmol.csb.pitt.edu/build/3Dmol.js');\n}\n\nvar viewer_16021963382347665 = null;\nvar warn = document.getElementById(\"3dmolwarning_16021963382347665\");\nif(warn) {\n    warn.parentNode.removeChild(warn);\n}\n$3Dmolpromise.then(function() {\nviewer_16021963382347665 = $3Dmol.createViewer($(\"#3dmolviewer_16021963382347665\"),{backgroundColor:\"white\"});\n\tviewer_16021963382347665.addModel(\"@<TRIPOS>MOLECULE\\nRES\\n341 370 1 0 1\\nSMALL\\nNO_CHARGES\\n@<TRIPOS>CRYSIN\\n   47.5726    97.3299    49.9657    90.0000    90.0000    90.0000  1  1\\n@<TRIPOS>ATOM\\n       1 O            0.9046     0.0743    -0.0010 O             1 RES     \\n       2 C            2.1483     0.0855    -0.0225 C             1 RES     \\n       3 C            2.9341    -1.1578     0.0179 C             1 RES     \\n       4 C            4.2782    -1.1123    -0.0248 C             1 RES     \\n       5 O            4.9689    -2.3203    -0.1232 O             1 RES     \\n       6 C            6.3329    -2.3736    -0.0075 C             1 RES     \\n       7 C            7.0389    -3.0511    -1.0000 C             1 RES     \\n       8 C            8.4256    -3.1838    -0.8966 C             1 RES     \\n       9 C            9.1164    -2.5537     0.1479 C             1 RES     \\n      10 C           10.6089    -2.5655     0.1297 C             1 RES     \\n      11 O           11.2208    -3.0904    -0.7983 O             1 RES     \\n      12 C           11.3950    -1.9622     1.2242 C             1 RES     \\n      13 C           12.4174    -1.0439     0.9625 C             1 RES     \\n      14 C           13.2274    -0.5958     2.0162 C             1 RES     \\n      15 C           12.9512    -0.9831     3.3351 C             1 RES     \\n      16 O           13.7112    -0.3873     4.3240 O             1 RES     \\n      17 C           13.5675    -0.8029     5.6295 C             1 RES     \\n      18 C           13.3481     0.1575     6.6190 C             1 RES     \\n      19 C           13.2927    -0.2265     7.9688 C             1 RES     \\n      20 C           13.3514    -1.5809     8.3217 C             1 RES     \\n      21 O           13.1394    -1.8840     9.6551 O             1 RES     \\n      22 C           13.2497    -3.1936    10.0700 C             1 RES     \\n      23 C           12.1780    -3.7823    10.7443 C             1 RES     \\n      24 C           12.2906    -5.0961    11.2275 C             1 RES     \\n      25 C           13.4390    -5.8567    10.9555 C             1 RES     \\n      26 C           13.4684    -7.3077    11.3244 C             1 RES     \\n      27 O           12.4994    -7.8350    11.8661 O             1 RES     \\n      28 C           14.6559    -8.1497    11.0379 C             1 RES     \\n      29 C           14.5391    -9.3278    10.2819 C             1 RES     \\n      30 C           15.6656   -10.1438    10.1082 C             1 RES     \\n      31 O           15.4911   -11.3592     9.4709 O             1 RES     \\n      32 C           16.4726   -12.3253     9.5999 C             1 RES     \\n      33 C           16.8781   -12.9771     8.4366 C             1 RES     \\n      34 C           17.8753   -13.9617     8.4906 C             1 RES     \\n      35 C           18.5404   -14.2342     9.6925 C             1 RES     \\n      36 O           19.6249   -15.0882     9.6064 O             1 RES     \\n      37 C           20.2987   -15.4520    10.7507 C             1 RES     \\n      38 C           21.6833   -15.2748    10.8014 C             1 RES     \\n      39 C           22.4071   -15.7156    11.9212 C             1 RES     \\n      40 C           21.7376   -16.2484    13.0344 C             1 RES     \\n      41 C           22.5091   -16.5560    14.2813 C             1 RES     \\n      42 O           23.7158   -16.3295    14.3384 O             1 RES     \\n      43 C           21.8534   -17.1500    15.4737 C             1 RES     \\n      44 C           21.9965   -16.5741    16.7477 C             1 RES     \\n      45 C           21.4788   -17.2464    17.8652 C             1 RES     \\n      46 O           21.7404   -16.7236    19.1176 O             1 RES     \\n      47 C           21.6575   -17.5437    20.2301 C             1 RES     \\n      48 C           21.1198   -16.9780    21.3863 C             1 RES     \\n      49 C           21.0507   -17.7209    22.5751 C             1 RES     \\n      50 C           21.4228   -19.0700    22.5917 C             1 RES     \\n      51 O           21.1765   -19.7602    23.7656 O             1 RES     \\n      52 C           21.5863   -21.0706    23.8738 C             1 RES     \\n      53 C           20.6493   -22.0476    24.2175 C             1 RES     \\n      54 C           21.0561   -23.3820    24.3820 C             1 RES     \\n      55 C           22.3822   -23.7578    24.1137 C             1 RES     \\n      56 C           22.7557   -25.2091    24.1158 C             1 RES     \\n      57 O           21.9124   -26.0708    24.3541 O             1 RES     \\n      58 C           24.1448   -25.6468    23.8256 C             1 RES     \\n      59 C           24.4190   -26.5694    22.8003 C             1 RES     \\n      60 C           25.7347   -27.0238    22.6196 C             1 RES     \\n      61 O           25.9608   -28.0230    21.6882 O             1 RES     \\n      62 C           27.1534   -28.7294    21.7395 C             1 RES     \\n      63 C           27.8229   -28.9373    20.5295 C             1 RES     \\n      64 C           29.0217   -29.6624    20.5117 C             1 RES     \\n      65 O           29.5730   -29.9418    19.2773 O             1 RES     \\n      66 C           30.5450   -30.9180    19.1862 C             1 RES     \\n      67 C           31.6758   -30.6008    18.4374 C             1 RES     \\n      68 C           32.7055   -31.5363    18.2869 C             1 RES     \\n      69 C           32.6536   -32.7650    18.9605 C             1 RES     \\n      70 C           33.8541   -33.6567    18.9200 C             1 RES     \\n      71 O           34.8674   -33.3175    18.3123 O             1 RES     \\n      72 C           33.8679   -34.9605    19.6163 C             1 RES     \\n      73 C           34.8593   -35.2656    20.5558 C             1 RES     \\n      74 C           34.8841   -36.5377    21.1511 C             1 RES     \\n      75 C           33.8694   -37.4672    20.8782 C             1 RES     \\n      76 O           33.8735   -38.6349    21.6243 O             1 RES     \\n      77 C           32.9432   -39.6169    21.3409 C             1 RES     \\n      78 C           32.1249   -40.1045    22.3708 C             1 RES     \\n      79 C           31.2316   -41.1553    22.1050 C             1 RES     \\n      80 O           30.5347   -41.7029    23.1673 O             1 RES     \\n      81 C           29.9245   -42.9350    23.0042 C             1 RES     \\n      82 C           28.6108   -43.0515    23.4556 C             1 RES     \\n      83 C           27.9272   -44.2686    23.3343 C             1 RES     \\n      84 C           28.5222   -45.3575    22.6810 C             1 RES     \\n      85 C           27.6938   -46.5719    22.4100 C             1 RES     \\n      86 O           26.5215   -46.6282    22.7750 O             1 RES     \\n      87 C           28.2345   -47.7113    21.6408 C             1 RES     \\n      88 C           27.6272   -48.0861    20.4381 C             1 RES     \\n      89 C           28.1289   -49.1772    19.7173 C             1 RES     \\n      90 C           29.2869   -49.8363    20.1496 C             1 RES     \\n      91 O           29.8016   -50.7846    19.2834 O             1 RES     \\n      92 C           30.9082   -51.5101    19.6614 C             1 RES     \\n      93 C           32.0303   -51.5228    18.8298 C             1 RES     \\n      94 C           33.1439   -52.3091    19.1682 C             1 RES     \\n      95 C           33.1743   -53.0030    20.3847 C             1 RES     \\n      96 O           34.3717   -53.6097    20.7226 O             1 RES     \\n      97 C           34.4357   -54.3830    21.8617 C             1 RES     \\n      98 C           35.4275   -54.1170    22.8087 C             1 RES     \\n      99 C           35.5508   -54.9353    23.9443 C             1 RES     \\n     100 C           34.6229   -55.9614    24.1838 C             1 RES     \\n     101 C           34.6647   -56.7130    25.4793 C             1 RES     \\n     102 O           35.5026   -56.4385    26.3356 O             1 RES     \\n     103 C           33.7007   -57.8054    25.7635 C             1 RES     \\n     104 C           32.8938   -57.7853    26.9141 C             1 RES     \\n     105 C           32.0621   -58.8817    27.1847 C             1 RES     \\n     106 O           31.3708   -58.8968    28.3839 O             1 RES     \\n     107 C           30.8790   -60.1029    28.8535 C             1 RES     \\n     108 C           29.5785   -60.1107    29.3566 C             1 RES     \\n     109 C           29.0158   -61.3009    29.8437 C             1 RES     \\n     110 C           29.7144   -62.5104    29.7425 C             1 RES     \\n     111 O           29.0142   -63.6530    30.0874 O             1 RES     \\n     112 C           29.6564   -64.8713    30.0656 C             1 RES     \\n     113 C           29.1067   -65.9132    29.3149 C             1 RES     \\n     114 C           29.7095   -67.1817    29.3287 C             1 RES     \\n     115 C           30.9145   -67.3868    30.0192 C             1 RES     \\n     116 C           31.6343   -68.6926    29.8775 C             1 RES     \\n     117 O           31.1797   -69.5829    29.1625 O             1 RES     \\n     118 C           32.9133   -68.9464    30.5857 C             1 RES     \\n     119 C           34.0640   -69.3406    29.8835 C             1 RES     \\n     120 C           35.2252   -69.6650    30.5995 C             1 RES     \\n     121 O           36.2975   -70.1741    29.8913 O             1 RES     \\n     122 C           37.3061   -70.8271    30.5763 C             1 RES     \\n     123 C           38.6150   -70.4992    30.2287 C             1 RES     \\n     124 C           39.6925   -71.1283    30.8672 C             1 RES     \\n     125 C           39.4715   -72.0193    31.9252 C             1 RES     \\n     126 O           40.6007   -72.4468    32.5954 O             1 RES     \\n     127 C           40.4988   -73.3670    33.6139 C             1 RES     \\n     128 C           41.1268   -73.0797    34.8284 C             1 RES     \\n     129 C           41.1666   -74.0455    35.8459 C             1 RES     \\n     130 C           40.4943   -75.2671    35.6900 C             1 RES     \\n     131 C           40.4205   -76.2188    36.8434 C             1 RES     \\n     132 O           40.9392   -75.9367    37.9213 O             1 RES     \\n     133 C           39.7188   -77.5197    36.7227 C             1 RES     \\n     134 C           38.6884   -77.8688    37.6106 C             1 RES     \\n     135 C           38.1149   -79.1451    37.5252 C             1 RES     \\n     136 O           37.1991   -79.5052    38.4967 O             1 RES     \\n     137 C           36.8710   -80.8405    38.6425 C             1 RES     \\n     138 C           35.5156   -81.1502    38.7384 C             1 RES     \\n     139 C           35.1043   -82.4823    38.8837 C             1 RES     \\n     140 C           36.0401   -83.5225    38.8390 C             1 RES     \\n     141 O           35.5206   -84.8042    38.8108 O             1 RES     \\n     142 C           36.3775   -85.8813    38.8236 C             1 RES     \\n     143 C           36.2687   -86.8431    37.8163 C             1 RES     \\n     144 C           37.0837   -87.9845    37.8482 C             1 RES     \\n     145 C           38.0695   -88.1214    38.8374 C             1 RES     \\n     146 C           39.0391   -89.2539    38.7534 C             1 RES     \\n     147 O           38.9859   -90.0555    37.8229 O             1 RES     \\n     148 C           40.1094   -89.4233    39.7626 C             1 RES     \\n     149 C           41.4473   -89.4757    39.3571 C             1 RES     \\n     150 C           42.4424   -89.7368    40.3023 C             1 RES     \\n     151 C           42.1087   -89.8716    41.6517 C             1 RES     \\n     152 C           40.7768   -89.7910    42.0565 C             1 RES     \\n     153 C           39.7741   -89.5925    41.1101 C             1 RES     \\n     154 C           38.1619   -87.1507    39.8409 C             1 RES     \\n     155 C           37.2881   -86.0670    39.8617 C             1 RES     \\n     156 C           37.3975   -83.2022    38.7560 C             1 RES     \\n     157 C           37.8148   -81.8696    38.7141 C             1 RES     \\n     158 C           38.4836   -79.9922    36.4740 C             1 RES     \\n     159 C           39.5194   -79.6543    35.6133 C             1 RES     \\n     160 C           40.1543   -78.4287    35.7515 C             1 RES     \\n     161 C           39.8590   -75.5351    34.4716 C             1 RES     \\n     162 C           39.9012   -74.6117    33.4274 C             1 RES     \\n     163 C           38.1579   -72.3452    32.2652 C             1 RES     \\n     164 C           37.0832   -71.7969    31.5595 C             1 RES     \\n     165 C           35.2568   -69.4585    31.9830 C             1 RES     \\n     166 C           34.1114   -69.0924    32.6769 C             1 RES     \\n     167 C           32.9332   -68.8594    31.9825 C             1 RES     \\n     168 C           31.4457   -66.3335    30.7727 C             1 RES     \\n     169 C           30.7942   -65.1033    30.8359 C             1 RES     \\n     170 C           31.0194   -62.4904    29.2459 C             1 RES     \\n     171 C           31.6181   -61.2897    28.8592 C             1 RES     \\n     172 C           31.9544   -59.9089    26.2393 C             1 RES     \\n     173 C           32.7721   -59.9389    25.1181 C             1 RES     \\n     174 C           33.6613   -58.8995    24.8907 C             1 RES     \\n     175 C           33.6376   -56.2141    23.2226 C             1 RES     \\n     176 C           33.5789   -55.4661    22.0491 C             1 RES     \\n     177 C           32.0397   -52.9816    21.1997 C             1 RES     \\n     178 C           30.8968   -52.2886    20.8148 C             1 RES     \\n     179 C           29.8744   -49.4530    21.3608 C             1 RES     \\n     180 C           29.3333   -48.4198    22.1225 C             1 RES     \\n     181 C           29.8440   -45.2373    22.2359 C             1 RES     \\n     182 C           30.5563   -44.0506    22.4406 C             1 RES     \\n     183 C           31.0724   -41.5999    20.7892 C             1 RES     \\n     184 C           31.9101   -41.1466    19.7804 C             1 RES     \\n     185 C           32.8722   -40.1869    20.0649 C             1 RES     \\n     186 C           32.8890   -37.1379    19.9372 C             1 RES     \\n     187 C           32.9069   -35.9110    19.2833 C             1 RES     \\n     188 C           31.5089   -33.0805    19.7036 C             1 RES     \\n     189 C           30.4395   -32.1833    19.7742 C             1 RES     \\n     190 C           29.6085   -30.0521    21.7188 C             1 RES     \\n     191 C           28.9288   -29.8899    22.9175 C             1 RES     \\n     192 C           27.6830   -29.2664    22.9242 C             1 RES     \\n     193 C           26.7637   -26.4499    23.3744 C             1 RES     \\n     194 C           26.4871   -25.5593    24.4031 C             1 RES     \\n     195 C           25.1765   -25.1750    24.6455 C             1 RES     \\n     196 C           23.3090   -22.7624    23.7827 C             1 RES     \\n     197 C           22.9246   -21.4248    23.7146 C             1 RES     \\n     198 C           21.9481   -19.6335    21.4271 C             1 RES     \\n     199 C           22.1156   -18.8640    20.2732 C             1 RES     \\n     200 C           20.7142   -18.4023    17.6763 C             1 RES     \\n     201 C           20.5882   -18.9774    16.4193 C             1 RES     \\n     202 C           21.1737   -18.3640    15.3218 C             1 RES     \\n     203 C           20.3502   -16.4207    12.9646 C             1 RES     \\n     204 C           19.6456   -16.0730    11.8133 C             1 RES     \\n     205 C           18.1187   -13.5849    10.8548 C             1 RES     \\n     206 C           17.0553   -12.6800    10.8205 C             1 RES     \\n     207 C           16.9091    -9.7025    10.5754 C             1 RES     \\n     208 C           17.0168    -8.5515    11.3445 C             1 RES     \\n     209 C           15.8873    -7.7863    11.5962 C             1 RES     \\n     210 C           14.5049    -5.2487    10.2825 C             1 RES     \\n     211 C           14.4299    -3.9138     9.8899 C             1 RES     \\n     212 C           13.5560    -2.5289     7.3169 C             1 RES     \\n     213 C           13.7195    -2.1393     5.9914 C             1 RES     \\n     214 C           11.9043    -1.8765     3.5753 C             1 RES     \\n     215 C           11.1582    -2.3941     2.5265 C             1 RES     \\n     216 C            8.3899    -1.8812     1.1401 C             1 RES     \\n     217 C            7.0009    -1.8391     1.0911 C             1 RES     \\n     218 C            4.9850     0.1631    -0.0415 C             1 RES     \\n     219 C            4.3339     1.3306    -0.0573 C             1 RES     \\n     220 C            2.9011     1.3413    -0.1688 C             1 RES     \\n     221 H            2.3816    -2.0884     0.0134 H             1 RES     \\n     222 H            6.5157    -3.4604    -1.8608 H             1 RES     \\n     223 H            8.9653    -3.7629    -1.6443 H             1 RES     \\n     224 H           12.5869    -0.6788    -0.0490 H             1 RES     \\n     225 H           14.0741     0.0547     1.8035 H             1 RES     \\n     226 H           13.2096     1.2010     6.3463 H             1 RES     \\n     227 H           13.1939     0.5357     8.7393 H             1 RES     \\n     228 H           11.2480    -3.2352    10.8815 H             1 RES     \\n     229 H           11.4707    -5.5286    11.8007 H             1 RES     \\n     230 H           13.5824    -9.6049     9.8429 H             1 RES     \\n     231 H           16.4405   -12.6956     7.4826 H             1 RES     \\n     232 H           18.1462   -14.4941     7.5817 H             1 RES     \\n     233 H           22.2043   -14.7832     9.9827 H             1 RES     \\n     234 H           23.4934   -15.6278    11.9256 H             1 RES     \\n     235 H           22.5152   -15.6240    16.8655 H             1 RES     \\n     236 H           20.7360   -15.9616    21.3575 H             1 RES     \\n     237 H           20.6900   -17.2407    23.4818 H             1 RES     \\n     238 H           19.6007   -21.7845    24.3380 H             1 RES     \\n     239 H           20.3286   -24.1287    24.7000 H             1 RES     \\n     240 H           23.6156   -26.9282    22.1593 H             1 RES     \\n     241 H           27.4130   -28.5242    19.6116 H             1 RES     \\n     242 H           31.7694   -29.6124    17.9956 H             1 RES     \\n     243 H           33.5610   -31.2879    17.6612 H             1 RES     \\n     244 H           35.6008   -34.5183    20.8336 H             1 RES     \\n     245 H           35.6934   -36.7927    21.8332 H             1 RES     \\n     246 H           32.1837   -39.6693    23.3659 H             1 RES     \\n     247 H           28.1048   -42.1861    23.8751 H             1 RES     \\n     248 H           26.9153   -44.3522    23.7280 H             1 RES     \\n     249 H           26.7801   -47.5213    20.0541 H             1 RES     \\n     250 H           27.6225   -49.4978    18.8089 H             1 RES     \\n     251 H           32.0518   -50.9127    17.9298 H             1 RES     \\n     252 H           33.9907   -52.3629    18.4865 H             1 RES     \\n     253 H           36.0959   -53.2682    22.6816 H             1 RES     \\n     254 H           36.3637   -54.7575    24.6482 H             1 RES     \\n     255 H           32.9203   -56.9310    27.5882 H             1 RES     \\n     256 H           28.9901   -59.1971    29.3415 H             1 RES     \\n     257 H           28.0192   -61.2794    30.2789 H             1 RES     \\n     258 H           28.2232   -65.7433    28.7035 H             1 RES     \\n     259 H           29.2443   -68.0028    28.7834 H             1 RES     \\n     260 H           34.0501   -69.4001    28.7966 H             1 RES     \\n     261 H           38.7962   -69.7330    29.4799 H             1 RES     \\n     262 H           40.7065   -70.8982    30.5479 H             1 RES     \\n     263 H           41.5826   -72.1056    34.9920 H             1 RES     \\n     264 H           41.7180   -73.8356    36.7622 H             1 RES     \\n     265 H           38.3461   -77.1577    38.3603 H             1 RES     \\n     266 H           34.7776   -80.3559    38.6679 H             1 RES     \\n     267 H           34.0462   -82.7020    39.0055 H             1 RES     \\n     268 H           35.5673   -86.7054    36.9967 H             1 RES     \\n     269 H           36.9593   -88.7565    37.0890 H             1 RES     \\n     270 H           41.7172   -89.3239    38.3143 H             1 RES     \\n     271 H           43.4772   -89.8530    39.9881 H             1 RES     \\n     272 H           42.8877   -90.0510    42.3891 H             1 RES     \\n     273 H           40.5155   -89.9078    43.1049 H             1 RES     \\n     274 H           38.7351   -89.5674    41.4271 H             1 RES     \\n     275 H           38.9104   -87.1993    40.6236 H             1 RES     \\n     276 H           37.3667   -85.3376    40.6628 H             1 RES     \\n     277 H           38.1638   -83.9684    38.7086 H             1 RES     \\n     278 H           38.8809   -81.6648    38.6590 H             1 RES     \\n     279 H           37.9966   -80.9516    36.3281 H             1 RES     \\n     280 H           39.8387   -80.3633    34.8559 H             1 RES     \\n     281 H           40.9772   -78.1816    35.0869 H             1 RES     \\n     282 H           39.3219   -76.4599    34.2935 H             1 RES     \\n     283 H           39.4278   -74.8626    32.4825 H             1 RES     \\n     284 H           37.9302   -73.0178    33.0849 H             1 RES     \\n     285 H           36.0767   -72.0897    31.8471 H             1 RES     \\n     286 H           36.1667   -69.6174    32.5538 H             1 RES     \\n     287 H           34.1427   -69.0157    33.7591 H             1 RES     \\n     288 H           32.0376   -68.5928    32.5362 H             1 RES     \\n     289 H           32.3753   -66.4285    31.3222 H             1 RES     \\n     290 H           31.2197   -64.3084    31.4420 H             1 RES     \\n     291 H           31.6030   -63.3974    29.1328 H             1 RES     \\n     292 H           32.6399   -61.3216    28.4903 H             1 RES     \\n     293 H           31.2581   -60.7301    26.3807 H             1 RES     \\n     294 H           32.7239   -60.7867    24.4421 H             1 RES     \\n     295 H           34.3076   -58.9391    24.0185 H             1 RES     \\n     296 H           32.8880   -56.9862    23.3525 H             1 RES     \\n     297 H           32.8137   -55.6969    21.3131 H             1 RES     \\n     298 H           32.0055   -53.4939    22.1536 H             1 RES     \\n     299 H           30.0243   -52.3104    21.4606 H             1 RES     \\n     300 H           30.7653   -49.9371    21.7450 H             1 RES     \\n     301 H           29.8010   -48.1569    23.0672 H             1 RES     \\n     302 H           30.3467   -46.0430    21.7100 H             1 RES     \\n     303 H           31.5831   -43.9953    22.0865 H             1 RES     \\n     304 H           30.3177   -42.3362    20.5322 H             1 RES     \\n     305 H           31.8143   -41.5572    18.7805 H             1 RES     \\n     306 H           33.5284   -39.8443    19.2705 H             1 RES     \\n     307 H           32.0871   -37.8197    19.6799 H             1 RES     \\n     308 H           32.1458   -35.7004    18.5376 H             1 RES     \\n     309 H           31.4197   -34.0118    20.2540 H             1 RES     \\n     310 H           29.5627   -32.4632    20.3540 H             1 RES     \\n     311 H           30.5885   -30.5190    21.7428 H             1 RES     \\n     312 H           29.3769   -30.2594    23.8358 H             1 RES     \\n     313 H           27.1685   -29.1513    23.8743 H             1 RES     \\n     314 H           27.8017   -26.7160    23.2000 H             1 RES     \\n     315 H           27.2979   -25.1897    25.0228 H             1 RES     \\n     316 H           24.9693   -24.4916    25.4642 H             1 RES     \\n     317 H           24.3449   -22.9899    23.5585 H             1 RES     \\n     318 H           23.6674   -20.6710    23.4687 H             1 RES     \\n     319 H           22.2417   -20.6765    21.3783 H             1 RES     \\n     320 H           22.5549   -19.3437    19.4028 H             1 RES     \\n     321 H           20.2381   -18.9010    18.5149 H             1 RES     \\n     322 H           20.0582   -19.9182    16.3105 H             1 RES     \\n     323 H           21.0891   -18.8367    14.3476 H             1 RES     \\n     324 H           19.7767   -16.8227    13.7920 H             1 RES     \\n     325 H           18.5727   -16.2402    11.7781 H             1 RES     \\n     326 H           18.6054   -13.7484    11.8100 H             1 RES     \\n     327 H           16.7534   -12.2047    11.7503 H             1 RES     \\n     328 H           17.8147   -10.2697    10.3826 H             1 RES     \\n     329 H           17.9803    -8.2746    11.7607 H             1 RES     \\n     330 H           15.9783    -6.8974    12.2136 H             1 RES     \\n     331 H           15.4136    -5.7860    10.0361 H             1 RES     \\n     332 H           15.2776    -3.4632     9.3812 H             1 RES     \\n     333 H           13.6004    -3.5909     7.5263 H             1 RES     \\n     334 H           13.9065    -2.9024     5.2419 H             1 RES     \\n     335 H           11.6460    -2.2123     4.5725 H             1 RES     \\n     336 H           10.3815    -3.1212     2.7448 H             1 RES     \\n     337 H            8.8708    -1.3708     1.9673 H             1 RES     \\n     338 H            6.4552    -1.3300     1.8812 H             1 RES     \\n     339 H            6.0683     0.1948    -0.0519 H             1 RES     \\n     340 H            4.8701     2.2744    -0.0592 H             1 RES     \\n     341 H            2.4300     2.1135    -0.7626 H             1 RES     \\n@<TRIPOS>BOND\\n       1      305      184 1\\n       2      122      123 1\\n       3       59       60 1\\n       4       68       69 1\\n       5        6        7 1\\n       6      131      132 1\\n       7      196      197 1\\n       8      323      202 1\\n       9      111      112 1\\n      10       48       49 1\\n      11      206       32 1\\n      12       98      253 1\\n      13      142      143 1\\n      14      268      143 1\\n      15       24       25 1\\n      16       79       80 1\\n      17       83      248 1\\n      18      304      183 1\\n      19      257      109 1\\n      20      301      180 1\\n      21       38       39 1\\n      22       26       28 1\\n      23      168      169 1\\n      24      135      158 1\\n      25      256      108 1\\n      26      303      182 1\\n      27      124      125 1\\n      28       61       62 1\\n      29       67       66 1\\n      30      300      179 1\\n      31      199       47 1\\n      32      107      171 1\\n      33      186      187 1\\n      34       60       61 1\\n      35       91       92 1\\n      36      154      155 1\\n      37      326      205 1\\n      38      306      185 1\\n      39      225       14 1\\n      40      239       54 1\\n      41       73      244 1\\n      42      181      182 1\\n      43      118      119 1\\n      44       55       56 1\\n      45      159      160 1\\n      46       96       97 1\\n      47       72       73 1\\n      48      135      136 1\\n      49      224       13 1\\n      50      130      161 1\\n      51      229       24 1\\n      52      122      164 1\\n      53      297      176 1\\n      54       10       12 1\\n      55      114      115 1\\n      56      210      211 1\\n      57       21       22 1\\n      58      341      220 1\\n      59      278      157 1\\n      60       41       43 1\\n      61      103      104 1\\n      62      127      128 1\\n      63      296      175 1\\n      64      110      111 1\\n      65       72      187 1\\n      66      335      214 1\\n      67       18       19 1\\n      68      208      209 1\\n      69      205       35 1\\n      70      121      122 1\\n      71      214       15 1\\n      72      240       59 1\\n      73      317      196 1\\n      74       79      183 1\\n      75      116      117 1\\n      76      295      174 1\\n      77       14       15 1\\n      78       92       93 1\\n      79      331      210 1\\n      80       84      181 1\\n      81      209       28 1\\n      82      193      194 1\\n      83        3        4 1\\n      84      271      150 1\\n      85      274      153 1\\n      86       25       26 1\\n      87       80       81 1\\n      88      143      144 1\\n      89      269      144 1\\n      90      230       29 1\\n      91      148      153 1\\n      92      214      215 1\\n      93      109      110 1\\n      94       50       51 1\\n      95      172      173 1\\n      96      113      114 1\\n      97       46       47 1\\n      98        3        2 1\\n      99      183      184 1\\n     100      120      121 1\\n     101      196       55 1\\n     102      140      141 1\\n     103       81       82 1\\n     104      219      220 1\\n     105       30       31 1\\n     106       77       78 1\\n     107      144      145 1\\n     108       78      246 1\\n     109      190       64 1\\n     110      284      163 1\\n     111      106      107 1\\n     112      237       49 1\\n     113       56       57 1\\n     114      195       58 1\\n     115      264      129 1\\n     116      330      209 1\\n     117      150      151 1\\n     118       87       88 1\\n     119      314      193 1\\n     120      200      201 1\\n     121      142      155 1\\n     122       10       11 1\\n     123      327      206 1\\n     124      210       25 1\\n     125       85       87 1\\n     126       75      186 1\\n     127      223        8 1\\n     128      108      109 1\\n     129       69       70 1\\n     130       73       74 1\\n     131      320      199 1\\n     132      324      203 1\\n     133      136      137 1\\n     134      220        2 1\\n     135      266      138 1\\n     136      197       52 1\\n     137       77      185 1\\n     138      198       50 1\\n     139      232       34 1\\n     140      118      167 1\\n     141      235       44 1\\n     142       67      242 1\\n     143      104      255 1\\n     144      279      158 1\\n     145       88      249 1\\n     146      202       43 1\\n     147       70       72 1\\n     148      213       17 1\\n     149      299      178 1\\n     150      233       38 1\\n     151      294      173 1\\n     152      318      197 1\\n     153       98       99 1\\n     154       35       36 1\\n     155      313      192 1\\n     156      161      162 1\\n     157       84       85 1\\n     158      131      133 1\\n     159       32       33 1\\n     160        7        8 1\\n     161      337      216 1\\n     162      312      191 1\\n     163      216        9 1\\n     164      103      174 1\\n     165      221        3 1\\n     166      259      114 1\\n     167      272      151 1\\n     168      100      175 1\\n     169       34       35 1\\n     170      100      101 1\\n     171       37       38 1\\n     172      163      164 1\\n     173      311      190 1\\n     174       22       23 1\\n     175       26       27 1\\n     176       31       32 1\\n     177      141      142 1\\n     178       78       79 1\\n     179       36       37 1\\n     180      110      170 1\\n     181      120      165 1\\n     182      290      169 1\\n     183       93      251 1\\n     184      215       12 1\\n     185      309      188 1\\n     186       39       40 1\\n     187      165      166 1\\n     188      151      152 1\\n     189       88       89 1\\n     190      188      189 1\\n     191       62       63 1\\n     192      204       37 1\\n     193      112      113 1\\n     194       94      252 1\\n     195       93       94 1\\n     196      332      211 1\\n     197      328      207 1\\n     198      156      157 1\\n     199      308      187 1\\n     200       99      254 1\\n     201      203       40 1\\n     202        4        5 1\\n     203      194      195 1\\n     204      133      134 1\\n     205       70       71 1\\n     206      325      204 1\\n     207      338      217 1\\n     208      275      154 1\\n     209      261      123 1\\n     210      241       63 1\\n     211       74       75 1\\n     212      216      217 1\\n     213      280      159 1\\n     214      137      138 1\\n     215       21       20 1\\n     216      105      106 1\\n     217      101      102 1\\n     218      222        7 1\\n     219       97       98 1\\n     220      285      164 1\\n     221      302      181 1\\n     222      234       39 1\\n     223      145      154 1\\n     224      146      148 1\\n     225      123      124 1\\n     226      315      194 1\\n     227      201      202 1\\n     228       89      250 1\\n     229      231       33 1\\n     230       33       34 1\\n     231      321      200 1\\n     232        8        9 1\\n     233      198      199 1\\n     234      217        6 1\\n     235      104      105 1\\n     236      128      129 1\\n     237       65       66 1\\n     238      307      186 1\\n     239      191      192 1\\n     240       41       42 1\\n     241      177      178 1\\n     242       51       52 1\\n     243      276      155 1\\n     244      212      213 1\\n     245       23       24 1\\n     246      339      218 1\\n     247       64       65 1\\n     248       40       41 1\\n     249      166      167 1\\n     250      190      191 1\\n     251      133      160 1\\n     252       56       58 1\\n     253      282      161 1\\n     254      173      174 1\\n     255       47       48 1\\n     256      145      146 1\\n     257       19       20 1\\n     258       82       83 1\\n     259       95      177 1\\n     260      184      185 1\\n     261       54       55 1\\n     262       58       59 1\\n     263      258      113 1\\n     264      127      162 1\\n     265       53       54 1\\n     266      179      180 1\\n     267       89       90 1\\n     268       85       86 1\\n     269      148      149 1\\n     270      152      153 1\\n     271      189       66 1\\n     272       69      188 1\\n     273       97      176 1\\n     274      125      163 1\\n     275      333      212 1\\n     276       94       95 1\\n     277       12       13 1\\n     278      270      149 1\\n     279       52       53 1\\n     280      115      116 1\\n     281       67       68 1\\n     282      130      131 1\\n     283      211       22 1\\n     284      212       20 1\\n     285      140      156 1\\n     286      228       23 1\\n     287       81      182 1\\n     288      281      160 1\\n     289      192       62 1\\n     290      227       19 1\\n     291       68      243 1\\n     292      286      165 1\\n     293       43       44 1\\n     294      289      168 1\\n     295      119      120 1\\n     296       87      180 1\\n     297      205      206 1\\n     298       15       16 1\\n     299      262      124 1\\n     300      288      167 1\\n     301      116      118 1\\n     302       90       91 1\\n     303      263      128 1\\n     304      238       53 1\\n     305       45       46 1\\n     306      287      166 1\\n     307        9       10 1\\n     308        5        6 1\\n     309      265      134 1\\n     310       44       45 1\\n     311      170      171 1\\n     312      107      108 1\\n     313      226       18 1\\n     314      267      139 1\\n     315       28       29 1\\n     316       75       76 1\\n     317      138      139 1\\n     318        2        1 1\\n     319      298      177 1\\n     320      218        4 1\\n     321      293      172 1\\n     322      112      169 1\\n     323       74      245 1\\n     324       82      247 1\\n     325      292      171 1\\n     326      316      195 1\\n     327      149      150 1\\n     328      137      157 1\\n     329       95       96 1\\n     330      158      159 1\\n     331      134      135 1\\n     332      322      201 1\\n     333      105      172 1\\n     334       63       64 1\\n     335      236       48 1\\n     336      126      127 1\\n     337      319      198 1\\n     338      129      130 1\\n     339      207       30 1\\n     340      336      215 1\\n     341      273      152 1\\n     342      101      103 1\\n     343      340      219 1\\n     344      277      156 1\\n     345      200       45 1\\n     346      218      219 1\\n     347       29       30 1\\n     348       76       77 1\\n     349      139      140 1\\n     350       92      178 1\\n     351       99      100 1\\n     352      193       60 1\\n     353      283      162 1\\n     354      334      213 1\\n     355       83       84 1\\n     356      146      147 1\\n     357       90      179 1\\n     358      115      168 1\\n     359      329      208 1\\n     360       16       17 1\\n     361      125      126 1\\n     362      260      119 1\\n     363      175      176 1\\n     364       49       50 1\\n     365      291      170 1\\n     366      203      204 1\\n     367      207      208 1\\n     368       13       14 1\\n     369       17       18 1\\n     370      310      189 1\\n@<TRIPOS>SUBSTRUCTURE\\n       1 RES             1 RESIDUE    0 **** ROOT      0\\n\",\"mol2\");\n\tviewer_16021963382347665.setStyle({\"stick\": {\"radius\": 0.2, \"color\": \"grey\"}, \"sphere\": {\"scale\": 0.3, \"colorscheme\": {}}});\n\tviewer_16021963382347665.zoomTo();\nviewer_16021963382347665.render();\n});\n</script>",
      "text/html": [
       "<div id=\"3dmolviewer_16021963382347665\"  style=\"position: relative; width: 640px; height: 480px\">\n",
       "        <p id=\"3dmolwarning_16021963382347665\" style=\"background-color:#ffcccc;color:black\">You appear to be running in JupyterLab (or JavaScript failed to load for some other reason).  You need to install the 3dmol extension: <br>\n",
       "        <tt>jupyter labextension install jupyterlab_3dmol</tt></p>\n",
       "        </div>\n",
       "<script>\n",
       "\n",
       "var loadScriptAsync = function(uri){\n",
       "  return new Promise((resolve, reject) => {\n",
       "    var tag = document.createElement('script');\n",
       "    tag.src = uri;\n",
       "    tag.async = true;\n",
       "    tag.onload = () => {\n",
       "      resolve();\n",
       "    };\n",
       "  var firstScriptTag = document.getElementsByTagName('script')[0];\n",
       "  firstScriptTag.parentNode.insertBefore(tag, firstScriptTag);\n",
       "});\n",
       "};\n",
       "\n",
       "if(typeof $3Dmolpromise === 'undefined') {\n",
       "$3Dmolpromise = null;\n",
       "  $3Dmolpromise = loadScriptAsync('https://3dmol.csb.pitt.edu/build/3Dmol.js');\n",
       "}\n",
       "\n",
       "var viewer_16021963382347665 = null;\n",
       "var warn = document.getElementById(\"3dmolwarning_16021963382347665\");\n",
       "if(warn) {\n",
       "    warn.parentNode.removeChild(warn);\n",
       "}\n",
       "$3Dmolpromise.then(function() {\n",
       "viewer_16021963382347665 = $3Dmol.createViewer($(\"#3dmolviewer_16021963382347665\"),{backgroundColor:\"white\"});\n",
       "\tviewer_16021963382347665.addModel(\"@<TRIPOS>MOLECULE\\nRES\\n341 370 1 0 1\\nSMALL\\nNO_CHARGES\\n@<TRIPOS>CRYSIN\\n   47.5726    97.3299    49.9657    90.0000    90.0000    90.0000  1  1\\n@<TRIPOS>ATOM\\n       1 O            0.9046     0.0743    -0.0010 O             1 RES     \\n       2 C            2.1483     0.0855    -0.0225 C             1 RES     \\n       3 C            2.9341    -1.1578     0.0179 C             1 RES     \\n       4 C            4.2782    -1.1123    -0.0248 C             1 RES     \\n       5 O            4.9689    -2.3203    -0.1232 O             1 RES     \\n       6 C            6.3329    -2.3736    -0.0075 C             1 RES     \\n       7 C            7.0389    -3.0511    -1.0000 C             1 RES     \\n       8 C            8.4256    -3.1838    -0.8966 C             1 RES     \\n       9 C            9.1164    -2.5537     0.1479 C             1 RES     \\n      10 C           10.6089    -2.5655     0.1297 C             1 RES     \\n      11 O           11.2208    -3.0904    -0.7983 O             1 RES     \\n      12 C           11.3950    -1.9622     1.2242 C             1 RES     \\n      13 C           12.4174    -1.0439     0.9625 C             1 RES     \\n      14 C           13.2274    -0.5958     2.0162 C             1 RES     \\n      15 C           12.9512    -0.9831     3.3351 C             1 RES     \\n      16 O           13.7112    -0.3873     4.3240 O             1 RES     \\n      17 C           13.5675    -0.8029     5.6295 C             1 RES     \\n      18 C           13.3481     0.1575     6.6190 C             1 RES     \\n      19 C           13.2927    -0.2265     7.9688 C             1 RES     \\n      20 C           13.3514    -1.5809     8.3217 C             1 RES     \\n      21 O           13.1394    -1.8840     9.6551 O             1 RES     \\n      22 C           13.2497    -3.1936    10.0700 C             1 RES     \\n      23 C           12.1780    -3.7823    10.7443 C             1 RES     \\n      24 C           12.2906    -5.0961    11.2275 C             1 RES     \\n      25 C           13.4390    -5.8567    10.9555 C             1 RES     \\n      26 C           13.4684    -7.3077    11.3244 C             1 RES     \\n      27 O           12.4994    -7.8350    11.8661 O             1 RES     \\n      28 C           14.6559    -8.1497    11.0379 C             1 RES     \\n      29 C           14.5391    -9.3278    10.2819 C             1 RES     \\n      30 C           15.6656   -10.1438    10.1082 C             1 RES     \\n      31 O           15.4911   -11.3592     9.4709 O             1 RES     \\n      32 C           16.4726   -12.3253     9.5999 C             1 RES     \\n      33 C           16.8781   -12.9771     8.4366 C             1 RES     \\n      34 C           17.8753   -13.9617     8.4906 C             1 RES     \\n      35 C           18.5404   -14.2342     9.6925 C             1 RES     \\n      36 O           19.6249   -15.0882     9.6064 O             1 RES     \\n      37 C           20.2987   -15.4520    10.7507 C             1 RES     \\n      38 C           21.6833   -15.2748    10.8014 C             1 RES     \\n      39 C           22.4071   -15.7156    11.9212 C             1 RES     \\n      40 C           21.7376   -16.2484    13.0344 C             1 RES     \\n      41 C           22.5091   -16.5560    14.2813 C             1 RES     \\n      42 O           23.7158   -16.3295    14.3384 O             1 RES     \\n      43 C           21.8534   -17.1500    15.4737 C             1 RES     \\n      44 C           21.9965   -16.5741    16.7477 C             1 RES     \\n      45 C           21.4788   -17.2464    17.8652 C             1 RES     \\n      46 O           21.7404   -16.7236    19.1176 O             1 RES     \\n      47 C           21.6575   -17.5437    20.2301 C             1 RES     \\n      48 C           21.1198   -16.9780    21.3863 C             1 RES     \\n      49 C           21.0507   -17.7209    22.5751 C             1 RES     \\n      50 C           21.4228   -19.0700    22.5917 C             1 RES     \\n      51 O           21.1765   -19.7602    23.7656 O             1 RES     \\n      52 C           21.5863   -21.0706    23.8738 C             1 RES     \\n      53 C           20.6493   -22.0476    24.2175 C             1 RES     \\n      54 C           21.0561   -23.3820    24.3820 C             1 RES     \\n      55 C           22.3822   -23.7578    24.1137 C             1 RES     \\n      56 C           22.7557   -25.2091    24.1158 C             1 RES     \\n      57 O           21.9124   -26.0708    24.3541 O             1 RES     \\n      58 C           24.1448   -25.6468    23.8256 C             1 RES     \\n      59 C           24.4190   -26.5694    22.8003 C             1 RES     \\n      60 C           25.7347   -27.0238    22.6196 C             1 RES     \\n      61 O           25.9608   -28.0230    21.6882 O             1 RES     \\n      62 C           27.1534   -28.7294    21.7395 C             1 RES     \\n      63 C           27.8229   -28.9373    20.5295 C             1 RES     \\n      64 C           29.0217   -29.6624    20.5117 C             1 RES     \\n      65 O           29.5730   -29.9418    19.2773 O             1 RES     \\n      66 C           30.5450   -30.9180    19.1862 C             1 RES     \\n      67 C           31.6758   -30.6008    18.4374 C             1 RES     \\n      68 C           32.7055   -31.5363    18.2869 C             1 RES     \\n      69 C           32.6536   -32.7650    18.9605 C             1 RES     \\n      70 C           33.8541   -33.6567    18.9200 C             1 RES     \\n      71 O           34.8674   -33.3175    18.3123 O             1 RES     \\n      72 C           33.8679   -34.9605    19.6163 C             1 RES     \\n      73 C           34.8593   -35.2656    20.5558 C             1 RES     \\n      74 C           34.8841   -36.5377    21.1511 C             1 RES     \\n      75 C           33.8694   -37.4672    20.8782 C             1 RES     \\n      76 O           33.8735   -38.6349    21.6243 O             1 RES     \\n      77 C           32.9432   -39.6169    21.3409 C             1 RES     \\n      78 C           32.1249   -40.1045    22.3708 C             1 RES     \\n      79 C           31.2316   -41.1553    22.1050 C             1 RES     \\n      80 O           30.5347   -41.7029    23.1673 O             1 RES     \\n      81 C           29.9245   -42.9350    23.0042 C             1 RES     \\n      82 C           28.6108   -43.0515    23.4556 C             1 RES     \\n      83 C           27.9272   -44.2686    23.3343 C             1 RES     \\n      84 C           28.5222   -45.3575    22.6810 C             1 RES     \\n      85 C           27.6938   -46.5719    22.4100 C             1 RES     \\n      86 O           26.5215   -46.6282    22.7750 O             1 RES     \\n      87 C           28.2345   -47.7113    21.6408 C             1 RES     \\n      88 C           27.6272   -48.0861    20.4381 C             1 RES     \\n      89 C           28.1289   -49.1772    19.7173 C             1 RES     \\n      90 C           29.2869   -49.8363    20.1496 C             1 RES     \\n      91 O           29.8016   -50.7846    19.2834 O             1 RES     \\n      92 C           30.9082   -51.5101    19.6614 C             1 RES     \\n      93 C           32.0303   -51.5228    18.8298 C             1 RES     \\n      94 C           33.1439   -52.3091    19.1682 C             1 RES     \\n      95 C           33.1743   -53.0030    20.3847 C             1 RES     \\n      96 O           34.3717   -53.6097    20.7226 O             1 RES     \\n      97 C           34.4357   -54.3830    21.8617 C             1 RES     \\n      98 C           35.4275   -54.1170    22.8087 C             1 RES     \\n      99 C           35.5508   -54.9353    23.9443 C             1 RES     \\n     100 C           34.6229   -55.9614    24.1838 C             1 RES     \\n     101 C           34.6647   -56.7130    25.4793 C             1 RES     \\n     102 O           35.5026   -56.4385    26.3356 O             1 RES     \\n     103 C           33.7007   -57.8054    25.7635 C             1 RES     \\n     104 C           32.8938   -57.7853    26.9141 C             1 RES     \\n     105 C           32.0621   -58.8817    27.1847 C             1 RES     \\n     106 O           31.3708   -58.8968    28.3839 O             1 RES     \\n     107 C           30.8790   -60.1029    28.8535 C             1 RES     \\n     108 C           29.5785   -60.1107    29.3566 C             1 RES     \\n     109 C           29.0158   -61.3009    29.8437 C             1 RES     \\n     110 C           29.7144   -62.5104    29.7425 C             1 RES     \\n     111 O           29.0142   -63.6530    30.0874 O             1 RES     \\n     112 C           29.6564   -64.8713    30.0656 C             1 RES     \\n     113 C           29.1067   -65.9132    29.3149 C             1 RES     \\n     114 C           29.7095   -67.1817    29.3287 C             1 RES     \\n     115 C           30.9145   -67.3868    30.0192 C             1 RES     \\n     116 C           31.6343   -68.6926    29.8775 C             1 RES     \\n     117 O           31.1797   -69.5829    29.1625 O             1 RES     \\n     118 C           32.9133   -68.9464    30.5857 C             1 RES     \\n     119 C           34.0640   -69.3406    29.8835 C             1 RES     \\n     120 C           35.2252   -69.6650    30.5995 C             1 RES     \\n     121 O           36.2975   -70.1741    29.8913 O             1 RES     \\n     122 C           37.3061   -70.8271    30.5763 C             1 RES     \\n     123 C           38.6150   -70.4992    30.2287 C             1 RES     \\n     124 C           39.6925   -71.1283    30.8672 C             1 RES     \\n     125 C           39.4715   -72.0193    31.9252 C             1 RES     \\n     126 O           40.6007   -72.4468    32.5954 O             1 RES     \\n     127 C           40.4988   -73.3670    33.6139 C             1 RES     \\n     128 C           41.1268   -73.0797    34.8284 C             1 RES     \\n     129 C           41.1666   -74.0455    35.8459 C             1 RES     \\n     130 C           40.4943   -75.2671    35.6900 C             1 RES     \\n     131 C           40.4205   -76.2188    36.8434 C             1 RES     \\n     132 O           40.9392   -75.9367    37.9213 O             1 RES     \\n     133 C           39.7188   -77.5197    36.7227 C             1 RES     \\n     134 C           38.6884   -77.8688    37.6106 C             1 RES     \\n     135 C           38.1149   -79.1451    37.5252 C             1 RES     \\n     136 O           37.1991   -79.5052    38.4967 O             1 RES     \\n     137 C           36.8710   -80.8405    38.6425 C             1 RES     \\n     138 C           35.5156   -81.1502    38.7384 C             1 RES     \\n     139 C           35.1043   -82.4823    38.8837 C             1 RES     \\n     140 C           36.0401   -83.5225    38.8390 C             1 RES     \\n     141 O           35.5206   -84.8042    38.8108 O             1 RES     \\n     142 C           36.3775   -85.8813    38.8236 C             1 RES     \\n     143 C           36.2687   -86.8431    37.8163 C             1 RES     \\n     144 C           37.0837   -87.9845    37.8482 C             1 RES     \\n     145 C           38.0695   -88.1214    38.8374 C             1 RES     \\n     146 C           39.0391   -89.2539    38.7534 C             1 RES     \\n     147 O           38.9859   -90.0555    37.8229 O             1 RES     \\n     148 C           40.1094   -89.4233    39.7626 C             1 RES     \\n     149 C           41.4473   -89.4757    39.3571 C             1 RES     \\n     150 C           42.4424   -89.7368    40.3023 C             1 RES     \\n     151 C           42.1087   -89.8716    41.6517 C             1 RES     \\n     152 C           40.7768   -89.7910    42.0565 C             1 RES     \\n     153 C           39.7741   -89.5925    41.1101 C             1 RES     \\n     154 C           38.1619   -87.1507    39.8409 C             1 RES     \\n     155 C           37.2881   -86.0670    39.8617 C             1 RES     \\n     156 C           37.3975   -83.2022    38.7560 C             1 RES     \\n     157 C           37.8148   -81.8696    38.7141 C             1 RES     \\n     158 C           38.4836   -79.9922    36.4740 C             1 RES     \\n     159 C           39.5194   -79.6543    35.6133 C             1 RES     \\n     160 C           40.1543   -78.4287    35.7515 C             1 RES     \\n     161 C           39.8590   -75.5351    34.4716 C             1 RES     \\n     162 C           39.9012   -74.6117    33.4274 C             1 RES     \\n     163 C           38.1579   -72.3452    32.2652 C             1 RES     \\n     164 C           37.0832   -71.7969    31.5595 C             1 RES     \\n     165 C           35.2568   -69.4585    31.9830 C             1 RES     \\n     166 C           34.1114   -69.0924    32.6769 C             1 RES     \\n     167 C           32.9332   -68.8594    31.9825 C             1 RES     \\n     168 C           31.4457   -66.3335    30.7727 C             1 RES     \\n     169 C           30.7942   -65.1033    30.8359 C             1 RES     \\n     170 C           31.0194   -62.4904    29.2459 C             1 RES     \\n     171 C           31.6181   -61.2897    28.8592 C             1 RES     \\n     172 C           31.9544   -59.9089    26.2393 C             1 RES     \\n     173 C           32.7721   -59.9389    25.1181 C             1 RES     \\n     174 C           33.6613   -58.8995    24.8907 C             1 RES     \\n     175 C           33.6376   -56.2141    23.2226 C             1 RES     \\n     176 C           33.5789   -55.4661    22.0491 C             1 RES     \\n     177 C           32.0397   -52.9816    21.1997 C             1 RES     \\n     178 C           30.8968   -52.2886    20.8148 C             1 RES     \\n     179 C           29.8744   -49.4530    21.3608 C             1 RES     \\n     180 C           29.3333   -48.4198    22.1225 C             1 RES     \\n     181 C           29.8440   -45.2373    22.2359 C             1 RES     \\n     182 C           30.5563   -44.0506    22.4406 C             1 RES     \\n     183 C           31.0724   -41.5999    20.7892 C             1 RES     \\n     184 C           31.9101   -41.1466    19.7804 C             1 RES     \\n     185 C           32.8722   -40.1869    20.0649 C             1 RES     \\n     186 C           32.8890   -37.1379    19.9372 C             1 RES     \\n     187 C           32.9069   -35.9110    19.2833 C             1 RES     \\n     188 C           31.5089   -33.0805    19.7036 C             1 RES     \\n     189 C           30.4395   -32.1833    19.7742 C             1 RES     \\n     190 C           29.6085   -30.0521    21.7188 C             1 RES     \\n     191 C           28.9288   -29.8899    22.9175 C             1 RES     \\n     192 C           27.6830   -29.2664    22.9242 C             1 RES     \\n     193 C           26.7637   -26.4499    23.3744 C             1 RES     \\n     194 C           26.4871   -25.5593    24.4031 C             1 RES     \\n     195 C           25.1765   -25.1750    24.6455 C             1 RES     \\n     196 C           23.3090   -22.7624    23.7827 C             1 RES     \\n     197 C           22.9246   -21.4248    23.7146 C             1 RES     \\n     198 C           21.9481   -19.6335    21.4271 C             1 RES     \\n     199 C           22.1156   -18.8640    20.2732 C             1 RES     \\n     200 C           20.7142   -18.4023    17.6763 C             1 RES     \\n     201 C           20.5882   -18.9774    16.4193 C             1 RES     \\n     202 C           21.1737   -18.3640    15.3218 C             1 RES     \\n     203 C           20.3502   -16.4207    12.9646 C             1 RES     \\n     204 C           19.6456   -16.0730    11.8133 C             1 RES     \\n     205 C           18.1187   -13.5849    10.8548 C             1 RES     \\n     206 C           17.0553   -12.6800    10.8205 C             1 RES     \\n     207 C           16.9091    -9.7025    10.5754 C             1 RES     \\n     208 C           17.0168    -8.5515    11.3445 C             1 RES     \\n     209 C           15.8873    -7.7863    11.5962 C             1 RES     \\n     210 C           14.5049    -5.2487    10.2825 C             1 RES     \\n     211 C           14.4299    -3.9138     9.8899 C             1 RES     \\n     212 C           13.5560    -2.5289     7.3169 C             1 RES     \\n     213 C           13.7195    -2.1393     5.9914 C             1 RES     \\n     214 C           11.9043    -1.8765     3.5753 C             1 RES     \\n     215 C           11.1582    -2.3941     2.5265 C             1 RES     \\n     216 C            8.3899    -1.8812     1.1401 C             1 RES     \\n     217 C            7.0009    -1.8391     1.0911 C             1 RES     \\n     218 C            4.9850     0.1631    -0.0415 C             1 RES     \\n     219 C            4.3339     1.3306    -0.0573 C             1 RES     \\n     220 C            2.9011     1.3413    -0.1688 C             1 RES     \\n     221 H            2.3816    -2.0884     0.0134 H             1 RES     \\n     222 H            6.5157    -3.4604    -1.8608 H             1 RES     \\n     223 H            8.9653    -3.7629    -1.6443 H             1 RES     \\n     224 H           12.5869    -0.6788    -0.0490 H             1 RES     \\n     225 H           14.0741     0.0547     1.8035 H             1 RES     \\n     226 H           13.2096     1.2010     6.3463 H             1 RES     \\n     227 H           13.1939     0.5357     8.7393 H             1 RES     \\n     228 H           11.2480    -3.2352    10.8815 H             1 RES     \\n     229 H           11.4707    -5.5286    11.8007 H             1 RES     \\n     230 H           13.5824    -9.6049     9.8429 H             1 RES     \\n     231 H           16.4405   -12.6956     7.4826 H             1 RES     \\n     232 H           18.1462   -14.4941     7.5817 H             1 RES     \\n     233 H           22.2043   -14.7832     9.9827 H             1 RES     \\n     234 H           23.4934   -15.6278    11.9256 H             1 RES     \\n     235 H           22.5152   -15.6240    16.8655 H             1 RES     \\n     236 H           20.7360   -15.9616    21.3575 H             1 RES     \\n     237 H           20.6900   -17.2407    23.4818 H             1 RES     \\n     238 H           19.6007   -21.7845    24.3380 H             1 RES     \\n     239 H           20.3286   -24.1287    24.7000 H             1 RES     \\n     240 H           23.6156   -26.9282    22.1593 H             1 RES     \\n     241 H           27.4130   -28.5242    19.6116 H             1 RES     \\n     242 H           31.7694   -29.6124    17.9956 H             1 RES     \\n     243 H           33.5610   -31.2879    17.6612 H             1 RES     \\n     244 H           35.6008   -34.5183    20.8336 H             1 RES     \\n     245 H           35.6934   -36.7927    21.8332 H             1 RES     \\n     246 H           32.1837   -39.6693    23.3659 H             1 RES     \\n     247 H           28.1048   -42.1861    23.8751 H             1 RES     \\n     248 H           26.9153   -44.3522    23.7280 H             1 RES     \\n     249 H           26.7801   -47.5213    20.0541 H             1 RES     \\n     250 H           27.6225   -49.4978    18.8089 H             1 RES     \\n     251 H           32.0518   -50.9127    17.9298 H             1 RES     \\n     252 H           33.9907   -52.3629    18.4865 H             1 RES     \\n     253 H           36.0959   -53.2682    22.6816 H             1 RES     \\n     254 H           36.3637   -54.7575    24.6482 H             1 RES     \\n     255 H           32.9203   -56.9310    27.5882 H             1 RES     \\n     256 H           28.9901   -59.1971    29.3415 H             1 RES     \\n     257 H           28.0192   -61.2794    30.2789 H             1 RES     \\n     258 H           28.2232   -65.7433    28.7035 H             1 RES     \\n     259 H           29.2443   -68.0028    28.7834 H             1 RES     \\n     260 H           34.0501   -69.4001    28.7966 H             1 RES     \\n     261 H           38.7962   -69.7330    29.4799 H             1 RES     \\n     262 H           40.7065   -70.8982    30.5479 H             1 RES     \\n     263 H           41.5826   -72.1056    34.9920 H             1 RES     \\n     264 H           41.7180   -73.8356    36.7622 H             1 RES     \\n     265 H           38.3461   -77.1577    38.3603 H             1 RES     \\n     266 H           34.7776   -80.3559    38.6679 H             1 RES     \\n     267 H           34.0462   -82.7020    39.0055 H             1 RES     \\n     268 H           35.5673   -86.7054    36.9967 H             1 RES     \\n     269 H           36.9593   -88.7565    37.0890 H             1 RES     \\n     270 H           41.7172   -89.3239    38.3143 H             1 RES     \\n     271 H           43.4772   -89.8530    39.9881 H             1 RES     \\n     272 H           42.8877   -90.0510    42.3891 H             1 RES     \\n     273 H           40.5155   -89.9078    43.1049 H             1 RES     \\n     274 H           38.7351   -89.5674    41.4271 H             1 RES     \\n     275 H           38.9104   -87.1993    40.6236 H             1 RES     \\n     276 H           37.3667   -85.3376    40.6628 H             1 RES     \\n     277 H           38.1638   -83.9684    38.7086 H             1 RES     \\n     278 H           38.8809   -81.6648    38.6590 H             1 RES     \\n     279 H           37.9966   -80.9516    36.3281 H             1 RES     \\n     280 H           39.8387   -80.3633    34.8559 H             1 RES     \\n     281 H           40.9772   -78.1816    35.0869 H             1 RES     \\n     282 H           39.3219   -76.4599    34.2935 H             1 RES     \\n     283 H           39.4278   -74.8626    32.4825 H             1 RES     \\n     284 H           37.9302   -73.0178    33.0849 H             1 RES     \\n     285 H           36.0767   -72.0897    31.8471 H             1 RES     \\n     286 H           36.1667   -69.6174    32.5538 H             1 RES     \\n     287 H           34.1427   -69.0157    33.7591 H             1 RES     \\n     288 H           32.0376   -68.5928    32.5362 H             1 RES     \\n     289 H           32.3753   -66.4285    31.3222 H             1 RES     \\n     290 H           31.2197   -64.3084    31.4420 H             1 RES     \\n     291 H           31.6030   -63.3974    29.1328 H             1 RES     \\n     292 H           32.6399   -61.3216    28.4903 H             1 RES     \\n     293 H           31.2581   -60.7301    26.3807 H             1 RES     \\n     294 H           32.7239   -60.7867    24.4421 H             1 RES     \\n     295 H           34.3076   -58.9391    24.0185 H             1 RES     \\n     296 H           32.8880   -56.9862    23.3525 H             1 RES     \\n     297 H           32.8137   -55.6969    21.3131 H             1 RES     \\n     298 H           32.0055   -53.4939    22.1536 H             1 RES     \\n     299 H           30.0243   -52.3104    21.4606 H             1 RES     \\n     300 H           30.7653   -49.9371    21.7450 H             1 RES     \\n     301 H           29.8010   -48.1569    23.0672 H             1 RES     \\n     302 H           30.3467   -46.0430    21.7100 H             1 RES     \\n     303 H           31.5831   -43.9953    22.0865 H             1 RES     \\n     304 H           30.3177   -42.3362    20.5322 H             1 RES     \\n     305 H           31.8143   -41.5572    18.7805 H             1 RES     \\n     306 H           33.5284   -39.8443    19.2705 H             1 RES     \\n     307 H           32.0871   -37.8197    19.6799 H             1 RES     \\n     308 H           32.1458   -35.7004    18.5376 H             1 RES     \\n     309 H           31.4197   -34.0118    20.2540 H             1 RES     \\n     310 H           29.5627   -32.4632    20.3540 H             1 RES     \\n     311 H           30.5885   -30.5190    21.7428 H             1 RES     \\n     312 H           29.3769   -30.2594    23.8358 H             1 RES     \\n     313 H           27.1685   -29.1513    23.8743 H             1 RES     \\n     314 H           27.8017   -26.7160    23.2000 H             1 RES     \\n     315 H           27.2979   -25.1897    25.0228 H             1 RES     \\n     316 H           24.9693   -24.4916    25.4642 H             1 RES     \\n     317 H           24.3449   -22.9899    23.5585 H             1 RES     \\n     318 H           23.6674   -20.6710    23.4687 H             1 RES     \\n     319 H           22.2417   -20.6765    21.3783 H             1 RES     \\n     320 H           22.5549   -19.3437    19.4028 H             1 RES     \\n     321 H           20.2381   -18.9010    18.5149 H             1 RES     \\n     322 H           20.0582   -19.9182    16.3105 H             1 RES     \\n     323 H           21.0891   -18.8367    14.3476 H             1 RES     \\n     324 H           19.7767   -16.8227    13.7920 H             1 RES     \\n     325 H           18.5727   -16.2402    11.7781 H             1 RES     \\n     326 H           18.6054   -13.7484    11.8100 H             1 RES     \\n     327 H           16.7534   -12.2047    11.7503 H             1 RES     \\n     328 H           17.8147   -10.2697    10.3826 H             1 RES     \\n     329 H           17.9803    -8.2746    11.7607 H             1 RES     \\n     330 H           15.9783    -6.8974    12.2136 H             1 RES     \\n     331 H           15.4136    -5.7860    10.0361 H             1 RES     \\n     332 H           15.2776    -3.4632     9.3812 H             1 RES     \\n     333 H           13.6004    -3.5909     7.5263 H             1 RES     \\n     334 H           13.9065    -2.9024     5.2419 H             1 RES     \\n     335 H           11.6460    -2.2123     4.5725 H             1 RES     \\n     336 H           10.3815    -3.1212     2.7448 H             1 RES     \\n     337 H            8.8708    -1.3708     1.9673 H             1 RES     \\n     338 H            6.4552    -1.3300     1.8812 H             1 RES     \\n     339 H            6.0683     0.1948    -0.0519 H             1 RES     \\n     340 H            4.8701     2.2744    -0.0592 H             1 RES     \\n     341 H            2.4300     2.1135    -0.7626 H             1 RES     \\n@<TRIPOS>BOND\\n       1      305      184 1\\n       2      122      123 1\\n       3       59       60 1\\n       4       68       69 1\\n       5        6        7 1\\n       6      131      132 1\\n       7      196      197 1\\n       8      323      202 1\\n       9      111      112 1\\n      10       48       49 1\\n      11      206       32 1\\n      12       98      253 1\\n      13      142      143 1\\n      14      268      143 1\\n      15       24       25 1\\n      16       79       80 1\\n      17       83      248 1\\n      18      304      183 1\\n      19      257      109 1\\n      20      301      180 1\\n      21       38       39 1\\n      22       26       28 1\\n      23      168      169 1\\n      24      135      158 1\\n      25      256      108 1\\n      26      303      182 1\\n      27      124      125 1\\n      28       61       62 1\\n      29       67       66 1\\n      30      300      179 1\\n      31      199       47 1\\n      32      107      171 1\\n      33      186      187 1\\n      34       60       61 1\\n      35       91       92 1\\n      36      154      155 1\\n      37      326      205 1\\n      38      306      185 1\\n      39      225       14 1\\n      40      239       54 1\\n      41       73      244 1\\n      42      181      182 1\\n      43      118      119 1\\n      44       55       56 1\\n      45      159      160 1\\n      46       96       97 1\\n      47       72       73 1\\n      48      135      136 1\\n      49      224       13 1\\n      50      130      161 1\\n      51      229       24 1\\n      52      122      164 1\\n      53      297      176 1\\n      54       10       12 1\\n      55      114      115 1\\n      56      210      211 1\\n      57       21       22 1\\n      58      341      220 1\\n      59      278      157 1\\n      60       41       43 1\\n      61      103      104 1\\n      62      127      128 1\\n      63      296      175 1\\n      64      110      111 1\\n      65       72      187 1\\n      66      335      214 1\\n      67       18       19 1\\n      68      208      209 1\\n      69      205       35 1\\n      70      121      122 1\\n      71      214       15 1\\n      72      240       59 1\\n      73      317      196 1\\n      74       79      183 1\\n      75      116      117 1\\n      76      295      174 1\\n      77       14       15 1\\n      78       92       93 1\\n      79      331      210 1\\n      80       84      181 1\\n      81      209       28 1\\n      82      193      194 1\\n      83        3        4 1\\n      84      271      150 1\\n      85      274      153 1\\n      86       25       26 1\\n      87       80       81 1\\n      88      143      144 1\\n      89      269      144 1\\n      90      230       29 1\\n      91      148      153 1\\n      92      214      215 1\\n      93      109      110 1\\n      94       50       51 1\\n      95      172      173 1\\n      96      113      114 1\\n      97       46       47 1\\n      98        3        2 1\\n      99      183      184 1\\n     100      120      121 1\\n     101      196       55 1\\n     102      140      141 1\\n     103       81       82 1\\n     104      219      220 1\\n     105       30       31 1\\n     106       77       78 1\\n     107      144      145 1\\n     108       78      246 1\\n     109      190       64 1\\n     110      284      163 1\\n     111      106      107 1\\n     112      237       49 1\\n     113       56       57 1\\n     114      195       58 1\\n     115      264      129 1\\n     116      330      209 1\\n     117      150      151 1\\n     118       87       88 1\\n     119      314      193 1\\n     120      200      201 1\\n     121      142      155 1\\n     122       10       11 1\\n     123      327      206 1\\n     124      210       25 1\\n     125       85       87 1\\n     126       75      186 1\\n     127      223        8 1\\n     128      108      109 1\\n     129       69       70 1\\n     130       73       74 1\\n     131      320      199 1\\n     132      324      203 1\\n     133      136      137 1\\n     134      220        2 1\\n     135      266      138 1\\n     136      197       52 1\\n     137       77      185 1\\n     138      198       50 1\\n     139      232       34 1\\n     140      118      167 1\\n     141      235       44 1\\n     142       67      242 1\\n     143      104      255 1\\n     144      279      158 1\\n     145       88      249 1\\n     146      202       43 1\\n     147       70       72 1\\n     148      213       17 1\\n     149      299      178 1\\n     150      233       38 1\\n     151      294      173 1\\n     152      318      197 1\\n     153       98       99 1\\n     154       35       36 1\\n     155      313      192 1\\n     156      161      162 1\\n     157       84       85 1\\n     158      131      133 1\\n     159       32       33 1\\n     160        7        8 1\\n     161      337      216 1\\n     162      312      191 1\\n     163      216        9 1\\n     164      103      174 1\\n     165      221        3 1\\n     166      259      114 1\\n     167      272      151 1\\n     168      100      175 1\\n     169       34       35 1\\n     170      100      101 1\\n     171       37       38 1\\n     172      163      164 1\\n     173      311      190 1\\n     174       22       23 1\\n     175       26       27 1\\n     176       31       32 1\\n     177      141      142 1\\n     178       78       79 1\\n     179       36       37 1\\n     180      110      170 1\\n     181      120      165 1\\n     182      290      169 1\\n     183       93      251 1\\n     184      215       12 1\\n     185      309      188 1\\n     186       39       40 1\\n     187      165      166 1\\n     188      151      152 1\\n     189       88       89 1\\n     190      188      189 1\\n     191       62       63 1\\n     192      204       37 1\\n     193      112      113 1\\n     194       94      252 1\\n     195       93       94 1\\n     196      332      211 1\\n     197      328      207 1\\n     198      156      157 1\\n     199      308      187 1\\n     200       99      254 1\\n     201      203       40 1\\n     202        4        5 1\\n     203      194      195 1\\n     204      133      134 1\\n     205       70       71 1\\n     206      325      204 1\\n     207      338      217 1\\n     208      275      154 1\\n     209      261      123 1\\n     210      241       63 1\\n     211       74       75 1\\n     212      216      217 1\\n     213      280      159 1\\n     214      137      138 1\\n     215       21       20 1\\n     216      105      106 1\\n     217      101      102 1\\n     218      222        7 1\\n     219       97       98 1\\n     220      285      164 1\\n     221      302      181 1\\n     222      234       39 1\\n     223      145      154 1\\n     224      146      148 1\\n     225      123      124 1\\n     226      315      194 1\\n     227      201      202 1\\n     228       89      250 1\\n     229      231       33 1\\n     230       33       34 1\\n     231      321      200 1\\n     232        8        9 1\\n     233      198      199 1\\n     234      217        6 1\\n     235      104      105 1\\n     236      128      129 1\\n     237       65       66 1\\n     238      307      186 1\\n     239      191      192 1\\n     240       41       42 1\\n     241      177      178 1\\n     242       51       52 1\\n     243      276      155 1\\n     244      212      213 1\\n     245       23       24 1\\n     246      339      218 1\\n     247       64       65 1\\n     248       40       41 1\\n     249      166      167 1\\n     250      190      191 1\\n     251      133      160 1\\n     252       56       58 1\\n     253      282      161 1\\n     254      173      174 1\\n     255       47       48 1\\n     256      145      146 1\\n     257       19       20 1\\n     258       82       83 1\\n     259       95      177 1\\n     260      184      185 1\\n     261       54       55 1\\n     262       58       59 1\\n     263      258      113 1\\n     264      127      162 1\\n     265       53       54 1\\n     266      179      180 1\\n     267       89       90 1\\n     268       85       86 1\\n     269      148      149 1\\n     270      152      153 1\\n     271      189       66 1\\n     272       69      188 1\\n     273       97      176 1\\n     274      125      163 1\\n     275      333      212 1\\n     276       94       95 1\\n     277       12       13 1\\n     278      270      149 1\\n     279       52       53 1\\n     280      115      116 1\\n     281       67       68 1\\n     282      130      131 1\\n     283      211       22 1\\n     284      212       20 1\\n     285      140      156 1\\n     286      228       23 1\\n     287       81      182 1\\n     288      281      160 1\\n     289      192       62 1\\n     290      227       19 1\\n     291       68      243 1\\n     292      286      165 1\\n     293       43       44 1\\n     294      289      168 1\\n     295      119      120 1\\n     296       87      180 1\\n     297      205      206 1\\n     298       15       16 1\\n     299      262      124 1\\n     300      288      167 1\\n     301      116      118 1\\n     302       90       91 1\\n     303      263      128 1\\n     304      238       53 1\\n     305       45       46 1\\n     306      287      166 1\\n     307        9       10 1\\n     308        5        6 1\\n     309      265      134 1\\n     310       44       45 1\\n     311      170      171 1\\n     312      107      108 1\\n     313      226       18 1\\n     314      267      139 1\\n     315       28       29 1\\n     316       75       76 1\\n     317      138      139 1\\n     318        2        1 1\\n     319      298      177 1\\n     320      218        4 1\\n     321      293      172 1\\n     322      112      169 1\\n     323       74      245 1\\n     324       82      247 1\\n     325      292      171 1\\n     326      316      195 1\\n     327      149      150 1\\n     328      137      157 1\\n     329       95       96 1\\n     330      158      159 1\\n     331      134      135 1\\n     332      322      201 1\\n     333      105      172 1\\n     334       63       64 1\\n     335      236       48 1\\n     336      126      127 1\\n     337      319      198 1\\n     338      129      130 1\\n     339      207       30 1\\n     340      336      215 1\\n     341      273      152 1\\n     342      101      103 1\\n     343      340      219 1\\n     344      277      156 1\\n     345      200       45 1\\n     346      218      219 1\\n     347       29       30 1\\n     348       76       77 1\\n     349      139      140 1\\n     350       92      178 1\\n     351       99      100 1\\n     352      193       60 1\\n     353      283      162 1\\n     354      334      213 1\\n     355       83       84 1\\n     356      146      147 1\\n     357       90      179 1\\n     358      115      168 1\\n     359      329      208 1\\n     360       16       17 1\\n     361      125      126 1\\n     362      260      119 1\\n     363      175      176 1\\n     364       49       50 1\\n     365      291      170 1\\n     366      203      204 1\\n     367      207      208 1\\n     368       13       14 1\\n     369       17       18 1\\n     370      310      189 1\\n@<TRIPOS>SUBSTRUCTURE\\n       1 RES             1 RESIDUE    0 **** ROOT      0\\n\",\"mol2\");\n",
       "\tviewer_16021963382347665.setStyle({\"stick\": {\"radius\": 0.2, \"color\": \"grey\"}, \"sphere\": {\"scale\": 0.3, \"colorscheme\": {}}});\n",
       "\tviewer_16021963382347665.zoomTo();\n",
       "viewer_16021963382347665.render();\n",
       "});\n",
       "</script>"
      ]
     },
     "metadata": {},
     "output_type": "display_data"
    }
   ],
   "source": [
    "smiles_utils.viz(poly_string, deep=False)"
   ]
  },
  {
   "cell_type": "code",
   "execution_count": 102,
   "metadata": {},
   "outputs": [
    {
     "name": "stderr",
     "output_type": "stream",
     "text": [
      "/home/chris/miniconda3/envs/uli/lib/python3.7/site-packages/ipykernel/ipkernel.py:287: DeprecationWarning: `should_run_async` will not call `transform_cell` automatically in the future. Please pass the result to `transformed_cell` argument and any exception that happen during thetransform in `preprocessing_exc_tuple` in IPython 7.17 and above.\n",
      "  and should_run_async(code)\n"
     ]
    }
   ],
   "source": [
    "##############################################"
   ]
  },
  {
   "cell_type": "code",
   "execution_count": 24,
   "metadata": {},
   "outputs": [
    {
     "name": "stderr",
     "output_type": "stream",
     "text": [
      "/home/chris/miniconda3/envs/uli/lib/python3.7/site-packages/ipykernel/ipkernel.py:287: DeprecationWarning: `should_run_async` will not call `transform_cell` automatically in the future. Please pass the result to `transformed_cell` argument and any exception that happen during thetransform in `preprocessing_exc_tuple` in IPython 7.17 and above.\n",
      "  and should_run_async(code)\n"
     ]
    }
   ],
   "source": [
    "def build_system(packing='bcc'):\n",
    "    '''\n",
    "    Generate a simple LJ particle system using hoomd's create_lattice function\n",
    "    packing \n",
    "    '''\n",
    "    hoomd.context.initialize(\"\")\n",
    "    if packing == 'fcc':\n",
    "        system = hoomd.init.create_lattice(unitcell=(hoomd.lattice.fcc(a=1.58)), n=6)\n",
    "    elif packing == 'bcc':\n",
    "        system = hoomd.init.create_lattice(unitcell=(hoomd.lattice.bcc(a=1.29)), n=6)\n",
    "    hoomd.dump.gsd('{}_system.gsd'.format(packing), group = hoomd.group.all(), period=None, overwrite=True)\n",
    "    return system\n",
    "\n",
    "def hoomd_simulation(system, temp, tau):  \n",
    "    nl = hoomd.md.nlist.cell()\n",
    "    lj = hoomd.md.pair.lj(r_cut=2.5, nlist=nl)\n",
    "    lj.pair_coeff.set('A', 'A', alpha=1.0, epsilon=1.0, sigma=1.0)\n",
    "    hoomd.md.integrate.mode_standard(dt=0.001)\n",
    "    _all = hoomd.group.all()\n",
    "    nvt = hoomd.md.integrate.nvt(group=_all, kT=temp, tau=tau)\n",
    "    nvt.randomize_velocities(seed=23)\n",
    "    hoomd.analyze.log(filename='{}-tau_out.log'.format(tau),\n",
    "                      quantities=[\"time\", \"temperature\", \"potential_energy\"],\n",
    "                      period=100,\n",
    "                      overwrite=True\n",
    "                     )\n",
    "    #hoomd.dump.gsd('tau-trajectory.gsd', period=5e3, group=_all, overwrite=True)\n",
    "    hoomd.run(3e5)"
   ]
  },
  {
   "cell_type": "markdown",
   "metadata": {},
   "source": [
    "# --------------------------------------------------------\n",
    "\n",
    "PEEK:  \n",
    "1 amu = 1.66054e-24 g  \n",
    "1.32 g/cm^3  \n",
    "1.32 g/nm^3  \n",
    "C19H12O3  \n",
    "monomer_amu = 288.302  "
   ]
  },
  {
   "cell_type": "code",
   "execution_count": 6,
   "metadata": {},
   "outputs": [],
   "source": [
    "def build_peek_system(num_mols, poly_length, density):\n",
    "    '''\n",
    "    This function uses mBuild's packing functionality to create a very low dense system of molecules\n",
    "    to allow for easier packing. A short simulation is then ran using HoomD to shrink the system to the\n",
    "    desired starting density.\n",
    "    '''\n",
    "    peek_poly_smi = polysmiles.poly_smiles('occccC=O)ccccOcc*c*ccc6)))))))cc6)))))))cc6',\n",
    "                                      length=poly_length)\n",
    "    peek_poly = mb.load(peek_poly_smi, smiles=True)\n",
    "    \n",
    "    mol_amu = poly_length * 288.302\n",
    "    mol_grams = mol_amu * 1.66054e-24\n",
    "    system_mass = mol_grams * num_mols\n",
    "    edge_cm = (system_mass / density)**(1/3)\n",
    "    edge_nm = edge_cm * 1e7\n",
    "\n",
    "    init_box = mb.Box([edge_nm*5]*3)\n",
    "    print(init_box)\n",
    "    system = mb.fill_box(peek_poly, num_mols, init_box)\n",
    "    \n",
    "    gaff = Forcefield(forcefield_files='files/gaff.xml')\n",
    "    system_pmd = gaff.apply(system)\n",
    "    create_hoomd_simulation(system_pmd, r_cut=1.2, auto_scale=True)\n",
    "    forces = [f for f in hoomd.context.current.forces \n",
    "                if not isinstance(f, hoomd.md.charge.pppm)]\n",
    "    \n",
    "    hoomd.context.current.forces = forces\n",
    "    _all = hoomd.group.all()\n",
    "    hoomd.md.integrate.mode_standard(dt=0.0001)\n",
    "    integrator = hoomd.md.integrate.nvt(group=_all, kT=2.0, tau=0.1)\n",
    "    hoomd.dump.gsd(\"trajectories/start-shrink.gsd\", period=None, group=_all, overwrite=True)\n",
    "    hoomd.dump.gsd(\"trajectories/traj-shrink.gsd\", period=1e5, group=_all, phase=0, overwrite=True)\n",
    "    integrator.randomize_velocities(seed=42);\n",
    "\n",
    "    hoomd.update.box_resize(L = hoomd.variant.linear_interp([(0,edge_nm*50), (1e6,edge_nm*10)], zero=0))\n",
    "    hoomd.run(1e6)\n",
    "    gsd_restart = hoomd.dump.gsd(\"trajectories/out-shrink.gsd\", period=None, group=_all, overwrite=True)\n",
    "    gsd_restart.write_restart()"
   ]
  },
  {
   "cell_type": "code",
   "execution_count": 7,
   "metadata": {
    "scrolled": true
   },
   "outputs": [
    {
     "name": "stdout",
     "output_type": "stream",
     "text": [
      "Box(mins=[0. 0. 0.], maxs=[23.18757104 23.18757104 23.18757104], angles=[90. 90. 90.])\n"
     ]
    },
    {
     "name": "stderr",
     "output_type": "stream",
     "text": [
      "/home/chris/cme/forks/foyer/foyer/forcefield.py:449: UserWarning: No force field version number found in force field XML file.\n",
      "  'No force field version number found in force field XML file.'\n",
      "/home/chris/cme/forks/foyer/foyer/forcefield.py:461: UserWarning: No force field name found in force field XML file.\n",
      "  'No force field name found in force field XML file.'\n",
      "/home/chris/cme/forks/foyer/foyer/validator.py:132: ValidationWarning: You have empty smart definition(s)\n",
      "  warn(\"You have empty smart definition(s)\", ValidationWarning)\n"
     ]
    },
    {
     "name": "stdout",
     "output_type": "stream",
     "text": [
      "HOOMD-blue v2.9.0-16-g08515af02 CUDA (10.1) DOUBLE HPMC_MIXED MPI SSE SSE2 SSE3 SSE4_1 SSE4_2 AVX AVX2 \n",
      "Compiled: 05/12/2020\n",
      "Copyright (c) 2009-2019 The Regents of the University of Michigan.\n",
      "-----\n",
      "You are using HOOMD-blue. Please cite the following:\n",
      "* J A Anderson, C D Lorenz, and A Travesset. \"General purpose molecular dynamics\n",
      "  simulations fully implemented on graphics processing units\", Journal of\n",
      "  Computational Physics 227 (2008) 5342--5359\n",
      "* J Glaser, T D Nguyen, J A Anderson, P Lui, F Spiga, J A Millan, D C Morse, and\n",
      "  S C Glotzer. \"Strong scaling of general-purpose molecular dynamics simulations\n",
      "  on GPUs\", Computer Physics Communications 192 (2015) 97--107\n",
      "-----\n",
      "HOOMD-blue is running on the following GPU(s):\n",
      " [0]      GeForce RTX 2070  36 SM_7.5 @ 1.44 GHz, 7982 MiB DRAM, DIS, MNG\n"
     ]
    },
    {
     "name": "stderr",
     "output_type": "stream",
     "text": [
      "/home/chris/cme/forks/foyer/foyer/forcefield.py:267: UserWarning: Parameters have not been assigned to all impropers. Total system impropers: 4750, Parameterized impropers: 3350. Note that if your system contains torsions of Ryckaert-Bellemans functional form, all of these torsions are processed as propers\n",
      "  warnings.warn(msg)\n"
     ]
    },
    {
     "name": "stdout",
     "output_type": "stream",
     "text": [
      "notice(2): Group \"all\" created containing 8550 particles\n",
      "notice(2): -- Neighborlist exclusion statistics -- :\n",
      "notice(2): Particles with 3 exclusions             : 3350\n",
      "notice(2): Particles with 6 exclusions             : 450\n",
      "notice(2): Particles with 7 exclusions             : 3350\n",
      "notice(2): Particles with 8 exclusions             : 900\n",
      "notice(2): Particles with 9 exclusions             : 500\n",
      "notice(2): Neighbors included by diameter          : no\n",
      "notice(2): Neighbors excluded when in the same body: no\n",
      "Processing LJ and QQ\n",
      "notice(2): Group \"charged\" created containing 0 particles\n",
      "No charged groups found, ignoring electrostatics\n",
      "Processing 1-4 interactions, adjusting neighborlist exclusions\n",
      "Processing harmonic bonds\n",
      "Processing harmonic angles\n",
      "Processing periodic torsions\n",
      "HOOMD SimulationContext updated from ParmEd Structure\n",
      "** starting run **\n",
      "Time 00:00:10 | Step 8002 / 1000000 | TPS 800.187 | ETA 00:20:39\n",
      "Time 00:00:20 | Step 16281 / 1000000 | TPS 827.894 | ETA 00:19:48\n",
      "Time 00:00:30 | Step 24502 / 1000000 | TPS 822.042 | ETA 00:19:46\n",
      "Time 00:00:40 | Step 32749 / 1000000 | TPS 824.637 | ETA 00:19:32\n",
      "Time 00:00:50 | Step 40970 / 1000000 | TPS 822.079 | ETA 00:19:26\n",
      "Time 00:01:00 | Step 48703 / 1000000 | TPS 773.292 | ETA 00:20:30\n",
      "Time 00:01:10 | Step 56858 / 1000000 | TPS 815.421 | ETA 00:19:16\n",
      "Time 00:01:20 | Step 65075 / 1000000 | TPS 821.67 | ETA 00:18:57\n",
      "Time 00:01:30 | Step 73259 / 1000000 | TPS 818.339 | ETA 00:18:52\n",
      "Time 00:01:40 | Step 81442 / 1000000 | TPS 818.248 | ETA 00:18:42\n",
      "Time 00:01:50 | Step 89622 / 1000000 | TPS 817.929 | ETA 00:18:33\n",
      "Time 00:02:01 | Step 96745 / 1000000 | TPS 647.332 | ETA 00:23:15\n",
      "Time 00:02:12 | Step 103615 / 1000000 | TPS 625.262 | ETA 00:23:53\n",
      "Time 00:02:22 | Step 111601 / 1000000 | TPS 796.13 | ETA 00:18:35\n",
      "Time 00:02:32 | Step 119489 / 1000000 | TPS 788.737 | ETA 00:18:36\n",
      "Time 00:02:42 | Step 127077 / 1000000 | TPS 758.752 | ETA 00:19:10\n",
      "Time 00:02:52 | Step 134889 / 1000000 | TPS 781.18 | ETA 00:18:27\n",
      "Time 00:03:02 | Step 142955 / 1000000 | TPS 806.548 | ETA 00:17:42\n",
      "Time 00:03:12 | Step 151049 / 1000000 | TPS 809.327 | ETA 00:17:28\n",
      "Time 00:03:22 | Step 159152 / 1000000 | TPS 810.251 | ETA 00:17:17\n",
      "Time 00:03:32 | Step 167285 / 1000000 | TPS 813.275 | ETA 00:17:03\n",
      "Time 00:03:42 | Step 175456 / 1000000 | TPS 817.068 | ETA 00:16:49\n",
      "Time 00:03:52 | Step 183632 / 1000000 | TPS 817.537 | ETA 00:16:38\n",
      "Time 00:04:02 | Step 191841 / 1000000 | TPS 820.813 | ETA 00:16:24\n",
      "Time 00:04:12 | Step 200064 / 1000000 | TPS 822.268 | ETA 00:16:12\n",
      "Time 00:04:22 | Step 208075 / 1000000 | TPS 801.035 | ETA 00:16:28\n",
      "Time 00:04:32 | Step 216198 / 1000000 | TPS 812.289 | ETA 00:16:04\n",
      "Time 00:04:42 | Step 224358 / 1000000 | TPS 815.952 | ETA 00:15:50\n",
      "Time 00:04:52 | Step 232554 / 1000000 | TPS 819.536 | ETA 00:15:36\n",
      "Time 00:05:02 | Step 240901 / 1000000 | TPS 822.037 | ETA 00:15:23\n",
      "Time 00:05:13 | Step 249601 / 1000000 | TPS 827.4 | ETA 00:15:06\n",
      "Time 00:05:23 | Step 258197 / 1000000 | TPS 827.818 | ETA 00:14:56\n",
      "Time 00:05:34 | Step 266875 / 1000000 | TPS 829.587 | ETA 00:14:43\n",
      "Time 00:05:44 | Step 275388 / 1000000 | TPS 825.89 | ETA 00:14:37\n",
      "Time 00:05:54 | Step 284101 / 1000000 | TPS 831.044 | ETA 00:14:21\n",
      "Time 00:06:05 | Step 292634 / 1000000 | TPS 832.318 | ETA 00:14:09\n",
      "Time 00:06:15 | Step 301431 / 1000000 | TPS 853.39 | ETA 00:13:38\n",
      "Time 00:06:25 | Step 311825 / 1000000 | TPS 1039.36 | ETA 00:11:02\n",
      "Time 00:06:35 | Step 322201 / 1000000 | TPS 1037.46 | ETA 00:10:53\n",
      "Time 00:06:45 | Step 332636 / 1000000 | TPS 1043.43 | ETA 00:10:39\n",
      "Time 00:06:55 | Step 343116 / 1000000 | TPS 1047.99 | ETA 00:10:26\n",
      "Time 00:07:05 | Step 353008 / 1000000 | TPS 988.789 | ETA 00:10:54\n",
      "Time 00:07:15 | Step 363498 / 1000000 | TPS 1048.98 | ETA 00:10:06\n",
      "Time 00:07:25 | Step 374031 / 1000000 | TPS 1053.26 | ETA 00:09:54\n",
      "Time 00:07:35 | Step 384594 / 1000000 | TPS 1056.27 | ETA 00:09:42\n",
      "Time 00:07:45 | Step 395174 / 1000000 | TPS 1057.94 | ETA 00:09:31\n",
      "Time 00:07:55 | Step 405246 / 1000000 | TPS 1007.17 | ETA 00:09:50\n",
      "Time 00:08:05 | Step 415868 / 1000000 | TPS 1062.13 | ETA 00:09:09\n",
      "Time 00:08:15 | Step 426509 / 1000000 | TPS 1064.02 | ETA 00:08:58\n",
      "Time 00:08:25 | Step 437170 / 1000000 | TPS 1066.06 | ETA 00:08:47\n",
      "Time 00:08:35 | Step 447804 / 1000000 | TPS 1063.31 | ETA 00:08:39\n",
      "Time 00:08:45 | Step 458078 / 1000000 | TPS 1027.35 | ETA 00:08:47\n",
      "Time 00:08:55 | Step 468785 / 1000000 | TPS 1070.63 | ETA 00:08:16\n",
      "Time 00:09:05 | Step 479498 / 1000000 | TPS 1071.22 | ETA 00:08:05\n",
      "Time 00:09:15 | Step 490227 / 1000000 | TPS 1072.87 | ETA 00:07:55\n",
      "Time 00:09:25 | Step 500216 / 1000000 | TPS 998.834 | ETA 00:08:20\n",
      "Time 00:09:35 | Step 510916 / 1000000 | TPS 1069.93 | ETA 00:07:37\n",
      "Time 00:09:45 | Step 521694 / 1000000 | TPS 1077.74 | ETA 00:07:23\n",
      "Time 00:09:55 | Step 532488 / 1000000 | TPS 1079.33 | ETA 00:07:13\n",
      "Time 00:10:05 | Step 542987 / 1000000 | TPS 1049.82 | ETA 00:07:15\n",
      "Time 00:10:15 | Step 553817 / 1000000 | TPS 1082.95 | ETA 00:06:52\n",
      "Time 00:10:25 | Step 564637 / 1000000 | TPS 1082 | ETA 00:06:42\n",
      "Time 00:10:35 | Step 575465 / 1000000 | TPS 1082.77 | ETA 00:06:32\n",
      "Time 00:10:45 | Step 586039 / 1000000 | TPS 1057.38 | ETA 00:06:31\n",
      "Time 00:10:55 | Step 596876 / 1000000 | TPS 1083.6 | ETA 00:06:12\n",
      "Time 00:11:05 | Step 607704 / 1000000 | TPS 1082.77 | ETA 00:06:02\n",
      "Time 00:11:15 | Step 618554 / 1000000 | TPS 1084.98 | ETA 00:05:51\n",
      "Time 00:11:25 | Step 629244 / 1000000 | TPS 1068.95 | ETA 00:05:46\n",
      "Time 00:11:35 | Step 640130 / 1000000 | TPS 1088.54 | ETA 00:05:30\n",
      "Time 00:11:45 | Step 651030 / 1000000 | TPS 1089.99 | ETA 00:05:20\n",
      "Time 00:11:55 | Step 661945 / 1000000 | TPS 1091.45 | ETA 00:05:09\n",
      "Time 00:12:05 | Step 672706 / 1000000 | TPS 1076.04 | ETA 00:05:04\n",
      "Time 00:12:15 | Step 683643 / 1000000 | TPS 1093.69 | ETA 00:04:49\n",
      "Time 00:12:25 | Step 694588 / 1000000 | TPS 1094.4 | ETA 00:04:39\n",
      "Time 00:12:35 | Step 705494 / 1000000 | TPS 1090.5 | ETA 00:04:30\n",
      "Time 00:12:45 | Step 716345 / 1000000 | TPS 1085.04 | ETA 00:04:21\n",
      "Time 00:12:55 | Step 727339 / 1000000 | TPS 1099.32 | ETA 00:04:08\n",
      "Time 00:13:05 | Step 738340 / 1000000 | TPS 1100.09 | ETA 00:03:57\n",
      "Time 00:13:15 | Step 749345 / 1000000 | TPS 1100.49 | ETA 00:03:47\n",
      "Time 00:13:25 | Step 760246 / 1000000 | TPS 1090.03 | ETA 00:03:39\n",
      "Time 00:13:35 | Step 771252 / 1000000 | TPS 1100.54 | ETA 00:03:27\n",
      "Time 00:13:45 | Step 782201 / 1000000 | TPS 1094.9 | ETA 00:03:18\n",
      "Time 00:13:55 | Step 793119 / 1000000 | TPS 1091.79 | ETA 00:03:09\n",
      "Time 00:14:05 | Step 804122 / 1000000 | TPS 1100.24 | ETA 00:02:58\n",
      "Time 00:14:15 | Step 815154 / 1000000 | TPS 1103.19 | ETA 00:02:47\n",
      "Time 00:14:25 | Step 826184 / 1000000 | TPS 1102.9 | ETA 00:02:37\n",
      "Time 00:14:35 | Step 837151 / 1000000 | TPS 1096.62 | ETA 00:02:28\n",
      "Time 00:14:45 | Step 848195 / 1000000 | TPS 1104.3 | ETA 00:02:17\n",
      "Time 00:14:55 | Step 859241 / 1000000 | TPS 1104.58 | ETA 00:02:07\n",
      "Time 00:15:05 | Step 870296 / 1000000 | TPS 1105.43 | ETA 00:01:57\n",
      "Time 00:15:15 | Step 881300 / 1000000 | TPS 1100.31 | ETA 00:01:47\n",
      "Time 00:15:25 | Step 892359 / 1000000 | TPS 1105.87 | ETA 00:01:37\n",
      "Time 00:15:35 | Step 903412 / 1000000 | TPS 1105.29 | ETA 00:01:27\n",
      "Time 00:15:45 | Step 914451 / 1000000 | TPS 1103.87 | ETA 00:01:17\n",
      "Time 00:15:55 | Step 925524 / 1000000 | TPS 1107.27 | ETA 00:01:07\n",
      "Time 00:16:05 | Step 936600 / 1000000 | TPS 1107.6 | ETA 00:00:57\n",
      "Time 00:16:15 | Step 947661 / 1000000 | TPS 1106.08 | ETA 00:00:47\n",
      "Time 00:16:25 | Step 958701 / 1000000 | TPS 1103.92 | ETA 00:00:37\n",
      "Time 00:16:35 | Step 969753 / 1000000 | TPS 1105.11 | ETA 00:00:27\n",
      "Time 00:16:45 | Step 980809 / 1000000 | TPS 1105.57 | ETA 00:00:17\n",
      "Time 00:16:55 | Step 991871 / 1000000 | TPS 1106.19 | ETA 00:00:07\n",
      "Time 00:17:02 | Step 1000000 / 1000000 | TPS 1107.16 | ETA 00:00:00\n",
      "Average TPS: 978.207\n",
      "---------\n",
      "-- Neighborlist stats:\n",
      "3511 normal updates / 3334 forced updates / 0 dangerous updates\n",
      "n_neigh_min: 5 / n_neigh_max: 37 / n_neigh_avg: 15.5371\n",
      "shortest rebuild period: 4\n",
      "-- Cell list stats:\n",
      "Dimension: 28, 28, 28\n",
      "n_min    : 0 / n_max: 16 / n_avg: 0.389486\n",
      "** run complete **\n"
     ]
    }
   ],
   "source": [
    "build_peek_system(num_mols=50, poly_length=5, density=1.2)"
   ]
  },
  {
   "cell_type": "markdown",
   "metadata": {},
   "source": [
    "# -------------------------------------------------------------------------"
   ]
  },
  {
   "cell_type": "code",
   "execution_count": null,
   "metadata": {},
   "outputs": [],
   "source": [
    "# Smiles Strings\n",
    "'''\n",
    "DEEPSMILES:\n",
    "PEEK-para = \"occccoccccC=O)cccccc6)))))))cc6)))))))cc6\"\n",
    "PEEK-meta = \"occcoccccC=O)cccccc6)))))))cc6)))))))ccc6\"\n",
    "PEKK-para = \"ccccoccccC=o)ccccC=o))cc6)))))))cc6)))))))cc6\"\n",
    "PEKK-meta = \"ccccoccccC=o)cccC=o))ccc6)))))))cc6)))))))cc6\"\n",
    "\n",
    "SMILES:\n",
    "PEEK-para = \"oc3ccc(oc2ccc(C(=O)c1ccccc1)cc2)cc3\"\n",
    "PEEK-meta = \"oc3cc(oc2ccc(C(=O)c1ccccc1)cc2)ccc3\"\n",
    "PEKK-para = \"c3ccc(oc2ccc(C(=o)c1ccc(C=o)cc1)cc2)cc3\"\n",
    "PEKK-meta = \"c3ccc(oc2ccc(C(=o)c1cc(C=o)ccc1)cc2)cc3\"\n",
    "'''\n",
    "\n",
    "\n",
    "# DeepSMILES with bonded atom indicated\n",
    "'''\n",
    "PEEK Para Bonded:\n",
    "\"occccoccccC=O)cc*c*ccc6)))))))cc6)))))))cc6\"\n",
    "\"occccoccccC=O)ccc*c*cc6)))))))cc6)))))))cc6\"\n",
    "\"occccoccccC=O)cccc*c*c6)))))))cc6)))))))cc6\"\n",
    "\n",
    "PEEK Meta Bonded:\n",
    "\"occcoccccC=O)ccc*c*cc6)))))))cc6)))))))ccc6\"\n",
    "\"occcoccccC=O)cc*c*ccc6)))))))cc6)))))))ccc6\"\n",
    "\"occcoccccC=O)cccc*c*c6)))))))cc6)))))))ccc6\"\n",
    "\n",
    "PEKK Para Bonded\n",
    "\"ccccoccccC=o)cccc*C*=o))cc6)))))))cc6)))))))cc6\"\n",
    "PEKK Meta Bonded\n",
    "\"ccccoccccC=o)ccc*C*=o))ccc6)))))))cc6)))))))cc6\"\n",
    "'''\n",
    "\n",
    "\n",
    "# Build up dicts and save to json file\n",
    "'''\n",
    "PEKK_dict = {}\n",
    "\n",
    "PEKK_dict['para_deep_smiles'] = \"ccccoccccC=o)ccccC=o))cc6)))))))cc6)))))))cc6\"\n",
    "PEKK_dict['meta_deep_smiles'] = \"ccccoccccC=o)cccC=o))ccc6)))))))cc6)))))))cc6\"\n",
    "PEKK_dict['para_smiles'] = \"c3ccc(oc2ccc(C(=o)c1ccc(C=o)cc1)cc2)cc3\"\n",
    "PEKK_dict['meta_smiles'] = \"c3ccc(oc2ccc(C(=o)c1cc(C=o)ccc1)cc2)cc3\"\n",
    "PEKK_dict['para_template'] = \"ccccoccccC=o)cccc*C*=o))cc6)))))))cc6)))))))cc6\"\n",
    "PEKK_dict['meta_template'] = \"ccccoccccC=o)ccc*C*=o))ccc6)))))))cc6)))))))cc6\"\n",
    "PEKK_dict['monomer_mass'] = 302.329\n",
    "\n",
    "\n",
    "PEEK_dict = {}\n",
    "\n",
    "PEEK_dict['para_deep_smiles'] = \"occccoccccC=O)cccccc6)))))))cc6)))))))cc6\"\n",
    "PEEK_dict['meta_deep_smiles'] = \"occcoccccC=O)cccccc6)))))))cc6)))))))ccc6\"\n",
    "PEEK_dict['para_smiles'] = \"oc3ccc(oc2ccc(C(=O)c1ccccc1)cc2)cc3\"\n",
    "PEEK_dict['meta_smiles'] = \"oc3cc(oc2ccc(C(=O)c1ccccc1)cc2)ccc3\"\n",
    "PEEK_dict['para_template'] = \"occccoccccC=O)ccc{}{}ccc6)))))))cc6)))))))cc6\"\n",
    "PEEK_dict['meta_template'] = \"occcoccccC=O)cccc{}{}cc6)))))))cc6)))))))ccc6\"\n",
    "PEEK_dict['monomer_mass'] = 288.302\n",
    "\n",
    "\n",
    "\n",
    "file_name = 'compounds/PEKK.json'\n",
    "with open(file_name, 'w') as fp:\n",
    "    json.dump(PEKK_dict, fp)\n",
    "'''"
   ]
  }
 ],
 "metadata": {
  "kernelspec": {
   "display_name": "Python 3",
   "language": "python",
   "name": "python3"
  },
  "language_info": {
   "codemirror_mode": {
    "name": "ipython",
    "version": 3
   },
   "file_extension": ".py",
   "mimetype": "text/x-python",
   "name": "python",
   "nbconvert_exporter": "python",
   "pygments_lexer": "ipython3",
   "version": "3.7.8"
  }
 },
 "nbformat": 4,
 "nbformat_minor": 4
}
