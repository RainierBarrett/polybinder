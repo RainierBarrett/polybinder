{
 "cells": [
  {
   "cell_type": "code",
   "execution_count": 30,
   "metadata": {},
   "outputs": [
    {
     "name": "stderr",
     "output_type": "stream",
     "text": [
      "/home/chris/miniconda3/envs/uli/lib/python3.7/site-packages/ipykernel/ipkernel.py:287: DeprecationWarning: `should_run_async` will not call `transform_cell` automatically in the future. Please pass the result to `transformed_cell` argument and any exception that happen during thetransform in `preprocessing_exc_tuple` in IPython 7.17 and above.\n",
      "  and should_run_async(code)\n"
     ]
    }
   ],
   "source": [
    "import json\n",
    "import os\n",
    "import random\n",
    "from utils import smiles_utils\n",
    "from utils import polysmiles\n",
    "import hoomd\n",
    "import mbuild as mb\n",
    "from mbuild.formats.hoomd_simulation import create_hoomd_simulation\n",
    "import foyer\n",
    "from foyer import Forcefield\n",
    "import py3Dmol"
   ]
  },
  {
   "cell_type": "code",
   "execution_count": 39,
   "metadata": {},
   "outputs": [
    {
     "name": "stderr",
     "output_type": "stream",
     "text": [
      "/home/chris/miniconda3/envs/uli/lib/python3.7/site-packages/ipykernel/ipkernel.py:287: DeprecationWarning: `should_run_async` will not call `transform_cell` automatically in the future. Please pass the result to `transformed_cell` argument and any exception that happen during thetransform in `preprocessing_exc_tuple` in IPython 7.17 and above.\n",
      "  and should_run_async(code)\n"
     ]
    }
   ],
   "source": [
    "def build_molecule(molecule, length, para_weight):\n",
    "    '''\n",
    "    `build_molecule` uses SMILES strings to build up a polymer from monomers.\n",
    "    The configuration of each monomer is determined by para_weight and the\n",
    "    random_sequence() function.  \n",
    "    Uses DeepSMILES behind the scenes to build up SMILES string for a polymer.\n",
    "    \n",
    "    Parameters\n",
    "    ----------\n",
    "    molecule : str\n",
    "        The monomer molecule to be used to build up the polymer.\n",
    "        Available options are limited  to the .json files in the compounds directory\n",
    "        Use the molecule name as seen in the .json file without including .json\n",
    "    length : int\n",
    "        The number of monomer units in the final polymer molecule\n",
    "    para_weight : float, limited to values between 0 and 1\n",
    "        The relative amount of para configurations compared to meta.\n",
    "        Passed into random_sequence() to determine the monomer sequence of the polymer.\n",
    "        A 70/30 para to meta system would require a para_weight = 0.70\n",
    "    \n",
    "    Returns\n",
    "    -------\n",
    "    molecule_string : str\n",
    "        The complete SMILES string of the polymer molecule\n",
    "    '''\n",
    "    f = open('compounds/{}.json'.format(molecule))\n",
    "    mol_dict = json.load(f)    \n",
    "    f.close()\n",
    "    monomer_sequence = random_sequence(para_weight, length)\n",
    "    molecule_string = '{}'\n",
    "\n",
    "    for idx, config in enumerate(monomer_sequence):\n",
    "        if idx == 0: # append template, but no brackets\n",
    "            monomer_string = mol_dict['{}_template'.format(config)]\n",
    "            molecule_string = molecule_string.format(monomer_string)\n",
    "            if len(monomer_sequence) == 1:\n",
    "                molecule_string = molecule_string.replace('{}', '')\n",
    "                continue\n",
    "\n",
    "        elif idx == length-1: #ccccccccccc{}{}ccccccccccccccc # Don't use template for last iteration\n",
    "            brackets = polysmiles.count_brackets(mol_dict['{}_deep_smiles'.format(config)])\n",
    "            monomer_string = mol_dict['{}_deep_smiles'.format(config)]\n",
    "            molecule_string = molecule_string.format(monomer_string, brackets)\n",
    "\n",
    "        else: # Continue using template plus brackets\n",
    "            brackets = polysmiles.count_brackets(mol_dict['{}_deep_smiles'.format(config)])\n",
    "            monomer_string = mol_dict['{}_template'.format(config)]\n",
    "            molecule_string = molecule_string.format(monomer_string, brackets)\n",
    "    \n",
    "    molecule_string_smiles = smiles_utils.convert_smiles(deep = molecule_string)\n",
    "    return molecule_string_smiles\n",
    "\n",
    "def random_sequence(para_weight=0.5, length=10):\n",
    "    meta_weight = 1 - para_weight\n",
    "    options = ['para', 'meta']\n",
    "    probability = [para_weight, meta_weight]\n",
    "    return random.choices(options, weights=probability, k=length)"
   ]
  },
  {
   "cell_type": "code",
   "execution_count": 40,
   "metadata": {},
   "outputs": [
    {
     "name": "stdout",
     "output_type": "stream",
     "text": [
      "c3ccc(oc2ccc(C(=o)c1cc(C=o)ccc1)cc2)cc3\n"
     ]
    },
    {
     "name": "stderr",
     "output_type": "stream",
     "text": [
      "/home/chris/miniconda3/envs/uli/lib/python3.7/site-packages/ipykernel/ipkernel.py:287: DeprecationWarning: `should_run_async` will not call `transform_cell` automatically in the future. Please pass the result to `transformed_cell` argument and any exception that happen during thetransform in `preprocessing_exc_tuple` in IPython 7.17 and above.\n",
      "  and should_run_async(code)\n"
     ]
    }
   ],
   "source": [
    "poly_string = build_molecule(molecule='PEKK', length=1, para_weight=0.70)\n",
    "print(poly_string)"
   ]
  },
  {
   "cell_type": "code",
   "execution_count": 41,
   "metadata": {},
   "outputs": [
    {
     "name": "stderr",
     "output_type": "stream",
     "text": [
      "/home/chris/miniconda3/envs/uli/lib/python3.7/site-packages/ipykernel/ipkernel.py:287: DeprecationWarning: `should_run_async` will not call `transform_cell` automatically in the future. Please pass the result to `transformed_cell` argument and any exception that happen during thetransform in `preprocessing_exc_tuple` in IPython 7.17 and above.\n",
      "  and should_run_async(code)\n",
      "/home/chris/cme/forks/mbuild/mbuild/conversion.py:687: UserWarning: No unitcell detected for pybel.Molecule c1ccc(Oc2ccc(C(=O)c3cc(C=O)ccc3)cc2)cc1\t\n",
      "\n",
      "  warn(\"No unitcell detected for pybel.Molecule {}\".format(pybel_mol))\n"
     ]
    },
    {
     "data": {
      "application/3dmoljs_load.v0": "<div id=\"3dmolviewer_1602015814068128\"  style=\"position: relative; width: 640px; height: 480px\">\n        <p id=\"3dmolwarning_1602015814068128\" style=\"background-color:#ffcccc;color:black\">You appear to be running in JupyterLab (or JavaScript failed to load for some other reason).  You need to install the 3dmol extension: <br>\n        <tt>jupyter labextension install jupyterlab_3dmol</tt></p>\n        </div>\n<script>\n\nvar loadScriptAsync = function(uri){\n  return new Promise((resolve, reject) => {\n    var tag = document.createElement('script');\n    tag.src = uri;\n    tag.async = true;\n    tag.onload = () => {\n      resolve();\n    };\n  var firstScriptTag = document.getElementsByTagName('script')[0];\n  firstScriptTag.parentNode.insertBefore(tag, firstScriptTag);\n});\n};\n\nif(typeof $3Dmolpromise === 'undefined') {\n$3Dmolpromise = null;\n  $3Dmolpromise = loadScriptAsync('https://3dmol.csb.pitt.edu/build/3Dmol.js');\n}\n\nvar viewer_1602015814068128 = null;\nvar warn = document.getElementById(\"3dmolwarning_1602015814068128\");\nif(warn) {\n    warn.parentNode.removeChild(warn);\n}\n$3Dmolpromise.then(function() {\nviewer_1602015814068128 = $3Dmol.createViewer($(\"#3dmolviewer_1602015814068128\"),{backgroundColor:\"white\"});\n\tviewer_1602015814068128.addModel(\"@<TRIPOS>MOLECULE\\nRES\\n37 39 1 0 1\\nSMALL\\nNO_CHARGES\\n@<TRIPOS>CRYSIN\\n   14.7992    16.7666    11.0765    90.0000    90.0000    90.0000  1  1\\n@<TRIPOS>ATOM\\n       1 C            1.3900    -0.2032     0.0185 C             1 RES     \\n       2 C            0.8502     1.0823     0.0065 C             1 RES     \\n       3 C           -0.5369     1.2614     0.0028 C             1 RES     \\n       4 C           -1.3887     0.1550    -0.0806 C             1 RES     \\n       5 O           -2.7319     0.4403    -0.2431 O             1 RES     \\n       6 C           -3.6358    -0.5949    -0.2917 C             1 RES     \\n       7 C           -4.4783    -0.7059    -1.3996 C             1 RES     \\n       8 C           -5.4546    -1.7119    -1.4356 C             1 RES     \\n       9 C           -5.5306    -2.6601    -0.4033 C             1 RES     \\n      10 C           -6.4558    -3.8223    -0.5413 C             1 RES     \\n      11 O           -7.1486    -3.9591    -1.5504 O             1 RES     \\n      12 C           -6.5428    -4.8700     0.5015 C             1 RES     \\n      13 C           -6.3502    -6.2129     0.1525 C             1 RES     \\n      14 C           -6.5855    -7.1981     1.1166 C             1 RES     \\n      15 C           -6.6457    -8.6190     0.7232 C             1 RES     \\n      16 O           -6.9441    -9.4984     1.5318 O             1 RES     \\n      17 C           -6.8849    -6.8461     2.4377 C             1 RES     \\n      18 C           -7.0505    -5.5070     2.7814 C             1 RES     \\n      19 C           -6.9156    -4.5216     1.8062 C             1 RES     \\n      20 C           -4.6799    -2.5316     0.7003 C             1 RES     \\n      21 C           -3.7744    -1.4775     0.7773 C             1 RES     \\n      22 C           -0.8338    -1.1289    -0.0694 C             1 RES     \\n      23 C            0.5464    -1.3083     0.0024 C             1 RES     \\n      24 H            2.4668    -0.3473     0.0359 H             1 RES     \\n      25 H            1.5118     1.9445    -0.0171 H             1 RES     \\n      26 H           -0.9463     2.2681     0.0420 H             1 RES     \\n      27 H           -4.3698    -0.0269    -2.2424 H             1 RES     \\n      28 H           -6.1410    -1.7632    -2.2806 H             1 RES     \\n      29 H           -6.0596    -6.4759    -0.8621 H             1 RES     \\n      30 H           -6.4612    -8.8580    -0.3344 H             1 RES     \\n      31 H           -7.0335    -7.6190     3.1902 H             1 RES     \\n      32 H           -7.3324    -5.2376     3.7960 H             1 RES     \\n      33 H           -7.1082    -3.4840     2.0682 H             1 RES     \\n      34 H           -4.6850    -3.2394     1.5208 H             1 RES     \\n      35 H           -3.1350    -1.3866     1.6508 H             1 RES     \\n      36 H           -1.4489    -2.0193    -0.1266 H             1 RES     \\n      37 H            0.9547    -2.3149     0.0150 H             1 RES     \\n@<TRIPOS>BOND\\n       1       28        8 1\\n       2       10       12 1\\n       3       21        6 1\\n       4        6        7 1\\n       5       20       34 1\\n       6       19       12 1\\n       7       17       31 1\\n       8        1       24 1\\n       9        8        9 1\\n      10       13       14 1\\n      11       16       15 1\\n      12        4        5 1\\n      13        3        2 1\\n      14       18       19 1\\n      15       17       14 1\\n      16       21       35 1\\n      17       37       23 1\\n      18       25        2 1\\n      19       22       36 1\\n      20       21       20 1\\n      21       22       23 1\\n      22       17       18 1\\n      23       11       10 1\\n      24        4        3 1\\n      25        7       27 1\\n      26       26        3 1\\n      27       13       29 1\\n      28        1        2 1\\n      29       10        9 1\\n      30        1       23 1\\n      31       20        9 1\\n      32       15       30 1\\n      33       18       32 1\\n      34        7        8 1\\n      35       13       12 1\\n      36       15       14 1\\n      37       19       33 1\\n      38        6        5 1\\n      39       22        4 1\\n@<TRIPOS>SUBSTRUCTURE\\n       1 RES             1 RESIDUE    0 **** ROOT      0\\n\",\"mol2\");\n\tviewer_1602015814068128.setStyle({\"stick\": {\"radius\": 0.2, \"color\": \"grey\"}, \"sphere\": {\"scale\": 0.3, \"colorscheme\": {}}});\n\tviewer_1602015814068128.zoomTo();\nviewer_1602015814068128.render();\n});\n</script>",
      "text/html": [
       "<div id=\"3dmolviewer_1602015814068128\"  style=\"position: relative; width: 640px; height: 480px\">\n",
       "        <p id=\"3dmolwarning_1602015814068128\" style=\"background-color:#ffcccc;color:black\">You appear to be running in JupyterLab (or JavaScript failed to load for some other reason).  You need to install the 3dmol extension: <br>\n",
       "        <tt>jupyter labextension install jupyterlab_3dmol</tt></p>\n",
       "        </div>\n",
       "<script>\n",
       "\n",
       "var loadScriptAsync = function(uri){\n",
       "  return new Promise((resolve, reject) => {\n",
       "    var tag = document.createElement('script');\n",
       "    tag.src = uri;\n",
       "    tag.async = true;\n",
       "    tag.onload = () => {\n",
       "      resolve();\n",
       "    };\n",
       "  var firstScriptTag = document.getElementsByTagName('script')[0];\n",
       "  firstScriptTag.parentNode.insertBefore(tag, firstScriptTag);\n",
       "});\n",
       "};\n",
       "\n",
       "if(typeof $3Dmolpromise === 'undefined') {\n",
       "$3Dmolpromise = null;\n",
       "  $3Dmolpromise = loadScriptAsync('https://3dmol.csb.pitt.edu/build/3Dmol.js');\n",
       "}\n",
       "\n",
       "var viewer_1602015814068128 = null;\n",
       "var warn = document.getElementById(\"3dmolwarning_1602015814068128\");\n",
       "if(warn) {\n",
       "    warn.parentNode.removeChild(warn);\n",
       "}\n",
       "$3Dmolpromise.then(function() {\n",
       "viewer_1602015814068128 = $3Dmol.createViewer($(\"#3dmolviewer_1602015814068128\"),{backgroundColor:\"white\"});\n",
       "\tviewer_1602015814068128.addModel(\"@<TRIPOS>MOLECULE\\nRES\\n37 39 1 0 1\\nSMALL\\nNO_CHARGES\\n@<TRIPOS>CRYSIN\\n   14.7992    16.7666    11.0765    90.0000    90.0000    90.0000  1  1\\n@<TRIPOS>ATOM\\n       1 C            1.3900    -0.2032     0.0185 C             1 RES     \\n       2 C            0.8502     1.0823     0.0065 C             1 RES     \\n       3 C           -0.5369     1.2614     0.0028 C             1 RES     \\n       4 C           -1.3887     0.1550    -0.0806 C             1 RES     \\n       5 O           -2.7319     0.4403    -0.2431 O             1 RES     \\n       6 C           -3.6358    -0.5949    -0.2917 C             1 RES     \\n       7 C           -4.4783    -0.7059    -1.3996 C             1 RES     \\n       8 C           -5.4546    -1.7119    -1.4356 C             1 RES     \\n       9 C           -5.5306    -2.6601    -0.4033 C             1 RES     \\n      10 C           -6.4558    -3.8223    -0.5413 C             1 RES     \\n      11 O           -7.1486    -3.9591    -1.5504 O             1 RES     \\n      12 C           -6.5428    -4.8700     0.5015 C             1 RES     \\n      13 C           -6.3502    -6.2129     0.1525 C             1 RES     \\n      14 C           -6.5855    -7.1981     1.1166 C             1 RES     \\n      15 C           -6.6457    -8.6190     0.7232 C             1 RES     \\n      16 O           -6.9441    -9.4984     1.5318 O             1 RES     \\n      17 C           -6.8849    -6.8461     2.4377 C             1 RES     \\n      18 C           -7.0505    -5.5070     2.7814 C             1 RES     \\n      19 C           -6.9156    -4.5216     1.8062 C             1 RES     \\n      20 C           -4.6799    -2.5316     0.7003 C             1 RES     \\n      21 C           -3.7744    -1.4775     0.7773 C             1 RES     \\n      22 C           -0.8338    -1.1289    -0.0694 C             1 RES     \\n      23 C            0.5464    -1.3083     0.0024 C             1 RES     \\n      24 H            2.4668    -0.3473     0.0359 H             1 RES     \\n      25 H            1.5118     1.9445    -0.0171 H             1 RES     \\n      26 H           -0.9463     2.2681     0.0420 H             1 RES     \\n      27 H           -4.3698    -0.0269    -2.2424 H             1 RES     \\n      28 H           -6.1410    -1.7632    -2.2806 H             1 RES     \\n      29 H           -6.0596    -6.4759    -0.8621 H             1 RES     \\n      30 H           -6.4612    -8.8580    -0.3344 H             1 RES     \\n      31 H           -7.0335    -7.6190     3.1902 H             1 RES     \\n      32 H           -7.3324    -5.2376     3.7960 H             1 RES     \\n      33 H           -7.1082    -3.4840     2.0682 H             1 RES     \\n      34 H           -4.6850    -3.2394     1.5208 H             1 RES     \\n      35 H           -3.1350    -1.3866     1.6508 H             1 RES     \\n      36 H           -1.4489    -2.0193    -0.1266 H             1 RES     \\n      37 H            0.9547    -2.3149     0.0150 H             1 RES     \\n@<TRIPOS>BOND\\n       1       28        8 1\\n       2       10       12 1\\n       3       21        6 1\\n       4        6        7 1\\n       5       20       34 1\\n       6       19       12 1\\n       7       17       31 1\\n       8        1       24 1\\n       9        8        9 1\\n      10       13       14 1\\n      11       16       15 1\\n      12        4        5 1\\n      13        3        2 1\\n      14       18       19 1\\n      15       17       14 1\\n      16       21       35 1\\n      17       37       23 1\\n      18       25        2 1\\n      19       22       36 1\\n      20       21       20 1\\n      21       22       23 1\\n      22       17       18 1\\n      23       11       10 1\\n      24        4        3 1\\n      25        7       27 1\\n      26       26        3 1\\n      27       13       29 1\\n      28        1        2 1\\n      29       10        9 1\\n      30        1       23 1\\n      31       20        9 1\\n      32       15       30 1\\n      33       18       32 1\\n      34        7        8 1\\n      35       13       12 1\\n      36       15       14 1\\n      37       19       33 1\\n      38        6        5 1\\n      39       22        4 1\\n@<TRIPOS>SUBSTRUCTURE\\n       1 RES             1 RESIDUE    0 **** ROOT      0\\n\",\"mol2\");\n",
       "\tviewer_1602015814068128.setStyle({\"stick\": {\"radius\": 0.2, \"color\": \"grey\"}, \"sphere\": {\"scale\": 0.3, \"colorscheme\": {}}});\n",
       "\tviewer_1602015814068128.zoomTo();\n",
       "viewer_1602015814068128.render();\n",
       "});\n",
       "</script>"
      ]
     },
     "metadata": {},
     "output_type": "display_data"
    }
   ],
   "source": [
    "smiles_utils.viz(poly_string, deep=False)"
   ]
  },
  {
   "cell_type": "code",
   "execution_count": 17,
   "metadata": {},
   "outputs": [
    {
     "name": "stderr",
     "output_type": "stream",
     "text": [
      "/home/chris/miniconda3/envs/uli/lib/python3.7/site-packages/ipykernel/ipkernel.py:287: DeprecationWarning: `should_run_async` will not call `transform_cell` automatically in the future. Please pass the result to `transformed_cell` argument and any exception that happen during thetransform in `preprocessing_exc_tuple` in IPython 7.17 and above.\n",
      "  and should_run_async(code)\n",
      "/home/chris/cme/forks/mbuild/mbuild/conversion.py:687: UserWarning: No unitcell detected for pybel.Molecule c1ccc(Oc2ccc(C(=O)c3cc(C(=O)c4ccc(Oc5ccc(C(=O)c6ccc(C(=O)c7ccc(Oc8ccc(C(=O)c9ccc(C(=O)c%10ccc(Oc%11ccc(C(=O)c%12cc(C(=O)c%13ccc(Oc%14ccc(C(=O)c%15ccc(C=O)cc%15)cc%14)cc%13)ccc%12)cc%11)cc%10)cc9)cc8)cc7)cc6)cc5)cc4)ccc3)cc2)cc1\t\n",
      "\n",
      "  warn(\"No unitcell detected for pybel.Molecule {}\".format(pybel_mol))\n"
     ]
    }
   ],
   "source": [
    "comp = mb.load(poly_string, smiles=True)"
   ]
  },
  {
   "cell_type": "code",
   "execution_count": 19,
   "metadata": {},
   "outputs": [
    {
     "name": "stderr",
     "output_type": "stream",
     "text": [
      "/home/chris/miniconda3/envs/uli/lib/python3.7/site-packages/ipykernel/ipkernel.py:287: DeprecationWarning: `should_run_async` will not call `transform_cell` automatically in the future. Please pass the result to `transformed_cell` argument and any exception that happen during thetransform in `preprocessing_exc_tuple` in IPython 7.17 and above.\n",
      "  and should_run_async(code)\n"
     ]
    }
   ],
   "source": [
    "comp_visual = comp.visualize()"
   ]
  },
  {
   "cell_type": "code",
   "execution_count": 31,
   "metadata": {},
   "outputs": [
    {
     "name": "stderr",
     "output_type": "stream",
     "text": [
      "/home/chris/miniconda3/envs/uli/lib/python3.7/site-packages/ipykernel/ipkernel.py:287: DeprecationWarning: `should_run_async` will not call `transform_cell` automatically in the future. Please pass the result to `transformed_cell` argument and any exception that happen during thetransform in `preprocessing_exc_tuple` in IPython 7.17 and above.\n",
      "  and should_run_async(code)\n"
     ]
    }
   ],
   "source": [
    "xyzview = py3Dmol.view(width=400,height=400)"
   ]
  },
  {
   "cell_type": "code",
   "execution_count": 33,
   "metadata": {},
   "outputs": [
    {
     "name": "stderr",
     "output_type": "stream",
     "text": [
      "/home/chris/miniconda3/envs/uli/lib/python3.7/site-packages/ipykernel/ipkernel.py:287: DeprecationWarning: `should_run_async` will not call `transform_cell` automatically in the future. Please pass the result to `transformed_cell` argument and any exception that happen during thetransform in `preprocessing_exc_tuple` in IPython 7.17 and above.\n",
      "  and should_run_async(code)\n"
     ]
    },
    {
     "ename": "TypeError",
     "evalue": "'view' object is not callable",
     "output_type": "error",
     "traceback": [
      "\u001b[0;31m---------------------------------------------------------------------------\u001b[0m",
      "\u001b[0;31mTypeError\u001b[0m                                 Traceback (most recent call last)",
      "\u001b[0;32m<ipython-input-33-b45184153d9d>\u001b[0m in \u001b[0;36m<module>\u001b[0;34m\u001b[0m\n\u001b[0;32m----> 1\u001b[0;31m \u001b[0mxyzview\u001b[0m\u001b[0;34m(\u001b[0m\u001b[0mcomp_visual\u001b[0m\u001b[0;34m)\u001b[0m\u001b[0;34m\u001b[0m\u001b[0;34m\u001b[0m\u001b[0m\n\u001b[0m",
      "\u001b[0;31mTypeError\u001b[0m: 'view' object is not callable"
     ]
    }
   ],
   "source": [
    "comp_visual"
   ]
  },
  {
   "cell_type": "code",
   "execution_count": 28,
   "metadata": {},
   "outputs": [
    {
     "name": "stderr",
     "output_type": "stream",
     "text": [
      "/home/chris/miniconda3/envs/uli/lib/python3.7/site-packages/ipykernel/ipkernel.py:287: DeprecationWarning: `should_run_async` will not call `transform_cell` automatically in the future. Please pass the result to `transformed_cell` argument and any exception that happen during thetransform in `preprocessing_exc_tuple` in IPython 7.17 and above.\n",
      "  and should_run_async(code)\n"
     ]
    },
    {
     "data": {
      "text/plain": [
       "py3Dmol.view"
      ]
     },
     "execution_count": 28,
     "metadata": {},
     "output_type": "execute_result"
    }
   ],
   "source": [
    "type(comp_visual)"
   ]
  },
  {
   "cell_type": "code",
   "execution_count": 34,
   "metadata": {},
   "outputs": [
    {
     "name": "stderr",
     "output_type": "stream",
     "text": [
      "/home/chris/miniconda3/envs/uli/lib/python3.7/site-packages/ipykernel/ipkernel.py:287: DeprecationWarning: `should_run_async` will not call `transform_cell` automatically in the future. Please pass the result to `transformed_cell` argument and any exception that happen during thetransform in `preprocessing_exc_tuple` in IPython 7.17 and above.\n",
      "  and should_run_async(code)\n"
     ]
    },
    {
     "data": {
      "application/3dmoljs_load.v0": "<div id=\"3dmolviewer_1602015635971483\"  style=\"position: relative; width: 640px; height: 480px\">\n        <p id=\"3dmolwarning_1602015635971483\" style=\"background-color:#ffcccc;color:black\">You appear to be running in JupyterLab (or JavaScript failed to load for some other reason).  You need to install the 3dmol extension: <br>\n        <tt>jupyter labextension install jupyterlab_3dmol</tt></p>\n        </div>\n<script>\n\nvar loadScriptAsync = function(uri){\n  return new Promise((resolve, reject) => {\n    var tag = document.createElement('script');\n    tag.src = uri;\n    tag.async = true;\n    tag.onload = () => {\n      resolve();\n    };\n  var firstScriptTag = document.getElementsByTagName('script')[0];\n  firstScriptTag.parentNode.insertBefore(tag, firstScriptTag);\n});\n};\n\nif(typeof $3Dmolpromise === 'undefined') {\n$3Dmolpromise = null;\n  $3Dmolpromise = loadScriptAsync('https://3dmol.csb.pitt.edu/build/3Dmol.js');\n}\n\nvar viewer_1602015635971483 = null;\nvar warn = document.getElementById(\"3dmolwarning_1602015635971483\");\nif(warn) {\n    warn.parentNode.removeChild(warn);\n}\n$3Dmolpromise.then(function() {\nviewer_1602015635971483 = $3Dmol.createViewer($(\"#3dmolviewer_1602015635971483\"),{backgroundColor:\"white\"});\n\tviewer_1602015635971483.addModel(\"@<TRIPOS>MOLECULE\\nRES\\n177 191 1 0 1\\nSMALL\\nNO_CHARGES\\n@<TRIPOS>CRYSIN\\n   52.9788    40.2692    22.0957    90.0000    90.0000    90.0000  1  1\\n@<TRIPOS>ATOM\\n       1 C            1.3901    -0.2033     0.0188 C             1 RES     \\n       2 C            0.8505     1.0823     0.0068 C             1 RES     \\n       3 C           -0.5365     1.2617     0.0034 C             1 RES     \\n       4 C           -1.3884     0.1554    -0.0801 C             1 RES     \\n       5 O           -2.7314     0.4414    -0.2423 O             1 RES     \\n       6 C           -3.6353    -0.5937    -0.2919 C             1 RES     \\n       7 C           -4.4769    -0.7039    -1.4005 C             1 RES     \\n       8 C           -5.4529    -1.7096    -1.4379 C             1 RES     \\n       9 C           -5.5286    -2.6587    -0.4072 C             1 RES     \\n      10 C           -6.4605    -3.8159    -0.5454 C             1 RES     \\n      11 O           -7.1685    -3.9373    -1.5448 O             1 RES     \\n      12 C           -6.5482    -4.8596     0.5002 C             1 RES     \\n      13 C           -6.3493    -6.2042     0.1661 C             1 RES     \\n      14 C           -6.5623    -7.1902     1.1399 C             1 RES     \\n      15 C           -6.6017    -8.6234     0.7331 C             1 RES     \\n      16 O           -6.2939    -8.9565    -0.4112 O             1 RES     \\n      17 C           -7.1029    -9.6764     1.6466 C             1 RES     \\n      18 C           -6.3881   -10.8683     1.7845 C             1 RES     \\n      19 C           -6.9349   -11.9235     2.5256 C             1 RES     \\n      20 C           -8.1472   -11.7584     3.2088 C             1 RES     \\n      21 O           -8.5459   -12.8177     4.0017 O             1 RES     \\n      22 C           -9.7561   -12.7505     4.6531 C             1 RES     \\n      23 C           -9.7803   -12.9190     6.0385 C             1 RES     \\n      24 C          -11.0046   -12.9221     6.7212 C             1 RES     \\n      25 C          -12.1996   -12.6679     6.0319 C             1 RES     \\n      26 C          -13.4674   -12.5100     6.8062 C             1 RES     \\n      27 O          -13.4723   -12.5982     8.0343 O             1 RES     \\n      28 C          -14.7477   -12.2188     6.1284 C             1 RES     \\n      29 C          -15.4911   -11.0830     6.4697 C             1 RES     \\n      30 C          -16.7292   -10.8507     5.8551 C             1 RES     \\n      31 C          -17.1836   -11.7037     4.8396 C             1 RES     \\n      32 C          -18.4336   -11.3584     4.0921 C             1 RES     \\n      33 O          -19.0577   -10.3219     4.3322 O             1 RES     \\n      34 C          -18.9449   -12.2669     3.0478 C             1 RES     \\n      35 C          -19.0592   -11.8761     1.7096 C             1 RES     \\n      36 C          -19.4966   -12.8101     0.7570 C             1 RES     \\n      37 C          -19.7293   -14.1434     1.1275 C             1 RES     \\n      38 O          -19.9843   -15.0329     0.1002 O             1 RES     \\n      39 C          -20.2824   -16.3446     0.3991 C             1 RES     \\n      40 C          -19.5484   -17.3569    -0.2226 C             1 RES     \\n      41 C          -19.8911   -18.7008    -0.0121 C             1 RES     \\n      42 C          -20.9067   -19.0397     0.8942 C             1 RES     \\n      43 C          -21.1502   -20.4787     1.2124 C             1 RES     \\n      44 O          -20.4634   -21.3620     0.6990 O             1 RES     \\n      45 C          -22.2095   -20.8899     2.1576 C             1 RES     \\n      46 C          -21.9038   -21.6909     3.2633 C             1 RES     \\n      47 C          -22.9341   -22.1404     4.0997 C             1 RES     \\n      48 C          -24.2559   -21.7210     3.8837 C             1 RES     \\n      49 C          -25.3093   -22.0978     4.8736 C             1 RES     \\n      50 O          -25.0254   -22.7503     5.8784 O             1 RES     \\n      51 C          -26.7148   -21.6839     4.6875 C             1 RES     \\n      52 C          -27.3821   -20.9457     5.6707 C             1 RES     \\n      53 C          -28.7331   -20.6146     5.4905 C             1 RES     \\n      54 C          -29.3871   -20.9413     4.2949 C             1 RES     \\n      55 O          -30.6743   -20.4550     4.1453 O             1 RES     \\n      56 C          -31.3800   -20.7890     3.0110 C             1 RES     \\n      57 C          -31.8717   -19.7711     2.1910 C             1 RES     \\n      58 C          -32.6188   -20.0930     1.0476 C             1 RES     \\n      59 C          -32.7973   -21.4334     0.6751 C             1 RES     \\n      60 C          -33.4434   -21.7579    -0.6341 C             1 RES     \\n      61 O          -33.8189   -20.8637    -1.3933 O             1 RES     \\n      62 C          -33.6533   -23.1644    -1.0456 C             1 RES     \\n      63 C          -33.1400   -23.6557    -2.2546 C             1 RES     \\n      64 C          -33.4391   -24.9730    -2.6349 C             1 RES     \\n      65 C          -33.1228   -25.4514    -4.0164 C             1 RES     \\n      66 O          -32.4624   -24.7587    -4.7935 O             1 RES     \\n      67 C          -33.6863   -26.7301    -4.5130 C             1 RES     \\n      68 C          -32.8606   -27.7295    -5.0329 C             1 RES     \\n      69 C          -33.4298   -28.9267    -5.4953 C             1 RES     \\n      70 C          -34.8060   -29.1609    -5.3576 C             1 RES     \\n      71 O          -35.2518   -30.4250    -5.6994 O             1 RES     \\n      72 C          -36.6000   -30.7017    -5.6386 C             1 RES     \\n      73 C          -37.0324   -31.7835    -4.8688 C             1 RES     \\n      74 C          -38.3932   -32.1256    -4.8456 C             1 RES     \\n      75 C          -39.3351   -31.3356    -5.5243 C             1 RES     \\n      76 C          -40.7911   -31.6175    -5.3494 C             1 RES     \\n      77 O          -41.1689   -32.5320    -4.6177 O             1 RES     \\n      78 C          -41.8244   -30.7727    -5.9922 C             1 RES     \\n      79 C          -42.7719   -30.1195    -5.1927 C             1 RES     \\n      80 C          -43.7875   -29.3644    -5.7905 C             1 RES     \\n      81 C          -43.8056   -29.2088    -7.1808 C             1 RES     \\n      82 C          -44.7970   -28.3093    -7.8033 C             1 RES     \\n      83 O          -44.8071   -28.0972    -9.0147 O             1 RES     \\n      84 C          -42.8614   -29.8636    -7.9785 C             1 RES     \\n      85 C          -41.8829   -30.6626    -7.3857 C             1 RES     \\n      86 C          -38.8850   -30.2553    -6.2906 C             1 RES     \\n      87 C          -37.5239   -29.9726    -6.3865 C             1 RES     \\n      88 C          -35.6149   -28.1499    -4.8335 C             1 RES     \\n      89 C          -35.0681   -26.9290    -4.4536 C             1 RES     \\n      90 C          -34.1244   -25.8104    -1.7384 C             1 RES     \\n      91 C          -34.6454   -25.3106    -0.5512 C             1 RES     \\n      92 C          -34.4377   -23.9804    -0.2207 C             1 RES     \\n      93 C          -32.3085   -22.4405     1.5175 C             1 RES     \\n      94 C          -31.6529   -22.1202     2.7026 C             1 RES     \\n      95 C          -28.6973   -21.6712     3.3213 C             1 RES     \\n      96 C          -27.3839   -22.0741     3.5297 C             1 RES     \\n      97 C          -24.5404   -20.9070     2.7786 C             1 RES     \\n      98 C          -23.5302   -20.5217     1.9024 C             1 RES     \\n      99 C          -21.6253   -18.0138     1.5192 C             1 RES     \\n     100 C          -21.3490   -16.6788     1.2330 C             1 RES     \\n     101 C          -19.6183   -14.5035     2.4727 C             1 RES     \\n     102 C          -19.2757   -13.5636     3.4334 C             1 RES     \\n     103 C          -16.4223   -12.8368     4.5106 C             1 RES     \\n     104 C          -15.2299   -13.1115     5.1729 C             1 RES     \\n     105 C          -12.1580   -12.5034     4.6415 C             1 RES     \\n     106 C          -10.9510   -12.5950     3.9522 C             1 RES     \\n     107 C           -8.8328   -10.5465     3.0918 C             1 RES     \\n     108 C           -8.3349    -9.5251     2.2882 C             1 RES     \\n     109 C           -6.8275    -6.8088     2.4631 C             1 RES     \\n     110 C           -7.0319    -5.4718     2.7873 C             1 RES     \\n     111 C           -6.9217    -4.4998     1.8008 C             1 RES     \\n     112 C           -4.6783    -2.5313     0.6974 C             1 RES     \\n     113 C           -3.7738    -1.4769     0.7764 C             1 RES     \\n     114 C           -0.8339    -1.1286    -0.0692 C             1 RES     \\n     115 C            0.5463    -1.3082     0.0026 C             1 RES     \\n     116 H            2.4668    -0.3476     0.0357 H             1 RES     \\n     117 H            1.5122     1.9445    -0.0175 H             1 RES     \\n     118 H           -0.9459     2.2684     0.0421 H             1 RES     \\n     119 H           -4.3681    -0.0253    -2.2434 H             1 RES     \\n     120 H           -6.1393    -1.7614    -2.2828 H             1 RES     \\n     121 H           -6.0651    -6.4809    -0.8491 H             1 RES     \\n     122 H           -5.4150   -10.9783     1.3104 H             1 RES     \\n     123 H           -6.4112   -12.8765     2.5613 H             1 RES     \\n     124 H           -8.8524   -13.0326     6.5941 H             1 RES     \\n     125 H          -11.0203   -13.1055     7.7952 H             1 RES     \\n     126 H          -15.1089   -10.3738     7.2015 H             1 RES     \\n     127 H          -17.3332    -9.9982     6.1647 H             1 RES     \\n     128 H          -18.7870   -10.8688     1.3994 H             1 RES     \\n     129 H          -19.6310   -12.5012    -0.2787 H             1 RES     \\n     130 H          -18.7050   -17.1113    -0.8636 H             1 RES     \\n     131 H          -19.3549   -19.4827    -0.5497 H             1 RES     \\n     132 H          -20.8724   -21.9624     3.4813 H             1 RES     \\n     133 H          -22.7013   -22.8137     4.9247 H             1 RES     \\n     134 H          -26.8563   -20.6209     6.5667 H             1 RES     \\n     135 H          -29.2689   -20.0945     6.2826 H             1 RES     \\n     136 H          -31.6609   -18.7295     2.4215 H             1 RES     \\n     137 H          -33.0420   -19.2945     0.4385 H             1 RES     \\n     138 H          -32.5392   -23.0166    -2.9012 H             1 RES     \\n     139 H          -31.7820   -27.5902    -5.0625 H             1 RES     \\n     140 H          -32.7912   -29.6819    -5.9502 H             1 RES     \\n     141 H          -36.3223   -32.3546    -4.2749 H             1 RES     \\n     142 H          -38.7164   -33.0008    -4.2820 H             1 RES     \\n     143 H          -42.7167   -30.1924    -4.1079 H             1 RES     \\n     144 H          -44.5504   -28.9049    -5.1665 H             1 RES     \\n     145 H          -45.5120   -27.8105    -7.1311 H             1 RES     \\n     146 H          -42.8883   -29.7553    -9.0614 H             1 RES     \\n     147 H          -41.1626   -31.1803    -8.0142 H             1 RES     \\n     148 H          -39.5665   -29.6030    -6.8247 H             1 RES     \\n     149 H          -37.1981   -29.1399    -7.0039 H             1 RES     \\n     150 H          -36.6834   -28.2756    -4.7017 H             1 RES     \\n     151 H          -35.7300   -26.1576    -4.0687 H             1 RES     \\n     152 H          -34.3100   -26.8564    -1.9650 H             1 RES     \\n     153 H          -35.2380   -25.9519     0.0949 H             1 RES     \\n     154 H          -34.8724   -23.5860     0.6940 H             1 RES     \\n     155 H          -32.4095   -23.4933     1.2797 H             1 RES     \\n     156 H          -31.2925   -22.9198     3.3441 H             1 RES     \\n     157 H          -29.1535   -21.9538     2.3798 H             1 RES     \\n     158 H          -26.8858   -22.6651     2.7663 H             1 RES     \\n     159 H          -25.5428   -20.5539     2.5619 H             1 RES     \\n     160 H          -23.7823   -19.9158     1.0358 H             1 RES     \\n     161 H          -22.4122   -18.2130     2.2378 H             1 RES     \\n     162 H          -21.9399   -15.9027     1.7119 H             1 RES     \\n     163 H          -19.7781   -15.5178     2.8172 H             1 RES     \\n     164 H          -19.2046   -13.8690     4.4735 H             1 RES     \\n     165 H          -16.7278   -13.5365     3.7398 H             1 RES     \\n     166 H          -14.6723   -14.0083     4.9145 H             1 RES     \\n     167 H          -13.0466   -12.2945     4.0567 H             1 RES     \\n     168 H          -10.9458   -12.4830     2.8713 H             1 RES     \\n     169 H           -9.7750   -10.3664     3.5972 H             1 RES     \\n     170 H           -8.9224    -8.6170     2.1818 H             1 RES     \\n     171 H           -6.9264    -7.5436     3.2569 H             1 RES     \\n     172 H           -7.3138    -5.1982     3.8005 H             1 RES     \\n     173 H           -7.1204    -3.4616     2.0533 H             1 RES     \\n     174 H           -4.6834    -3.2406     1.5166 H             1 RES     \\n     175 H           -3.1345    -1.3868     1.6500 H             1 RES     \\n     176 H           -1.4490    -2.0190    -0.1274 H             1 RES     \\n     177 H            0.9542    -2.3151     0.0144 H             1 RES     \\n@<TRIPOS>BOND\\n       1      177      115 1\\n       2       20       21 1\\n       3       52      134 1\\n       4       15       16 1\\n       5       91       92 1\\n       6       61       60 1\\n       7       43       45 1\\n       8       12      111 1\\n       9       98       97 1\\n      10       88       89 1\\n      11        9      112 1\\n      12      126       29 1\\n      13       59       60 1\\n      14       31       32 1\\n      15       13       12 1\\n      16      110      111 1\\n      17        8        7 1\\n      18       25       26 1\\n      19       19       20 1\\n      20      105       25 1\\n      21       86       87 1\\n      22      114        4 1\\n      23      136       57 1\\n      24       68       67 1\\n      25       43       44 1\\n      26       13       14 1\\n      27      104       28 1\\n      28      138       63 1\\n      29       92      154 1\\n      30       37       38 1\\n      31       90       64 1\\n      32      146       84 1\\n      33        8      120 1\\n      34       18       19 1\\n      35       76       77 1\\n      36      143       79 1\\n      37       48       49 1\\n      38       52       53 1\\n      39       99      100 1\\n      40       89      151 1\\n      41       10       12 1\\n      42       15       17 1\\n      43      102      101 1\\n      44       23       24 1\\n      45       89       67 1\\n      46      131       41 1\\n      47      107       20 1\\n      48       69       70 1\\n      49      144       80 1\\n      50        6        7 1\\n      51        4        5 1\\n      52       13      121 1\\n      53       57       58 1\\n      54       51       52 1\\n      55      112      174 1\\n      56        2      117 1\\n      57       98      160 1\\n      58      104      166 1\\n      59       54       55 1\\n      60       56       55 1\\n      61       47       48 1\\n      62       81       80 1\\n      63       51       96 1\\n      64       68       69 1\\n      65      102       34 1\\n      66       87      149 1\\n      67       71       72 1\\n      68      105      167 1\\n      69       86       75 1\\n      70       17      108 1\\n      71       86      148 1\\n      72       53      135 1\\n      73       95       54 1\\n      74       99       42 1\\n      75       42       43 1\\n      76      102      164 1\\n      77      141       73 1\\n      78       35       36 1\\n      79       46       47 1\\n      80       65       66 1\\n      81      130       40 1\\n      82       46      132 1\\n      83       78       79 1\\n      84       29       30 1\\n      85       97      159 1\\n      86       19      123 1\\n      87       98       45 1\\n      88       14       15 1\\n      89       53       54 1\\n      90      107      169 1\\n      91       38       39 1\\n      92       71       70 1\\n      93        2        1 1\\n      94      106       22 1\\n      95      114      115 1\\n      96       34       35 1\\n      97       73       74 1\\n      98      101       37 1\\n      99       60       62 1\\n     100      101      163 1\\n     101       63       64 1\\n     102       22       23 1\\n     103      124       23 1\\n     104       81       82 1\\n     105       93       94 1\\n     106       26       28 1\\n     107      104      103 1\\n     108       49       50 1\\n     109       40       41 1\\n     110       39       40 1\\n     111       18      122 1\\n     112       67       65 1\\n     113       99      161 1\\n     114      113      175 1\\n     115       79       80 1\\n     116        3      118 1\\n     117       88       70 1\\n     118        1      116 1\\n     119      114      176 1\\n     120       36       37 1\\n     121      137       58 1\\n     122       59       58 1\\n     123       93       59 1\\n     124       32       33 1\\n     125       81       84 1\\n     126       47      133 1\\n     127      106      105 1\\n     128       45       46 1\\n     129      110      172 1\\n     130       92       62 1\\n     131       94       56 1\\n     132       75       76 1\\n     133       94      156 1\\n     134      127       30 1\\n     135      139       68 1\\n     136      108      107 1\\n     137      110      109 1\\n     138       85       78 1\\n     139       21       22 1\\n     140      109      171 1\\n     141       76       78 1\\n     142      140       69 1\\n     143       30       31 1\\n     144      103       31 1\\n     145       56       57 1\\n     146       91      153 1\\n     147       24       25 1\\n     148       85      147 1\\n     149       10        9 1\\n     150       32       34 1\\n     151      125       24 1\\n     152       49       51 1\\n     153       74       75 1\\n     154       73       72 1\\n     155       28       29 1\\n     156      108      170 1\\n     157       83       82 1\\n     158      112      113 1\\n     159       14      109 1\\n     160        8        9 1\\n     161       87       72 1\\n     162        2        3 1\\n     163      100       39 1\\n     164       91       90 1\\n     165      142       74 1\\n     166       88      150 1\\n     167      129       36 1\\n     168        3        4 1\\n     169       93      155 1\\n     170      128       35 1\\n     171        1      115 1\\n     172       17       18 1\\n     173        7      119 1\\n     174       85       84 1\\n     175       63       62 1\\n     176      103      165 1\\n     177       90      152 1\\n     178       26       27 1\\n     179       95      157 1\\n     180       48       97 1\\n     181      145       82 1\\n     182       10       11 1\\n     183       96       95 1\\n     184      106      168 1\\n     185       96      158 1\\n     186        5        6 1\\n     187       42       41 1\\n     188      111      173 1\\n     189      113        6 1\\n     190       65       64 1\\n     191      100      162 1\\n@<TRIPOS>SUBSTRUCTURE\\n       1 RES             1 RESIDUE    0 **** ROOT      0\\n\",\"mol2\");\n\tviewer_1602015635971483.setStyle({\"stick\": {\"radius\": 0.2, \"color\": \"grey\"}, \"sphere\": {\"scale\": 0.3, \"colorscheme\": {}}});\n\tviewer_1602015635971483.zoomTo();\nviewer_1602015635971483.render();\n});\n</script>",
      "text/html": [
       "<div id=\"3dmolviewer_1602015635971483\"  style=\"position: relative; width: 640px; height: 480px\">\n",
       "        <p id=\"3dmolwarning_1602015635971483\" style=\"background-color:#ffcccc;color:black\">You appear to be running in JupyterLab (or JavaScript failed to load for some other reason).  You need to install the 3dmol extension: <br>\n",
       "        <tt>jupyter labextension install jupyterlab_3dmol</tt></p>\n",
       "        </div>\n",
       "<script>\n",
       "\n",
       "var loadScriptAsync = function(uri){\n",
       "  return new Promise((resolve, reject) => {\n",
       "    var tag = document.createElement('script');\n",
       "    tag.src = uri;\n",
       "    tag.async = true;\n",
       "    tag.onload = () => {\n",
       "      resolve();\n",
       "    };\n",
       "  var firstScriptTag = document.getElementsByTagName('script')[0];\n",
       "  firstScriptTag.parentNode.insertBefore(tag, firstScriptTag);\n",
       "});\n",
       "};\n",
       "\n",
       "if(typeof $3Dmolpromise === 'undefined') {\n",
       "$3Dmolpromise = null;\n",
       "  $3Dmolpromise = loadScriptAsync('https://3dmol.csb.pitt.edu/build/3Dmol.js');\n",
       "}\n",
       "\n",
       "var viewer_1602015635971483 = null;\n",
       "var warn = document.getElementById(\"3dmolwarning_1602015635971483\");\n",
       "if(warn) {\n",
       "    warn.parentNode.removeChild(warn);\n",
       "}\n",
       "$3Dmolpromise.then(function() {\n",
       "viewer_1602015635971483 = $3Dmol.createViewer($(\"#3dmolviewer_1602015635971483\"),{backgroundColor:\"white\"});\n",
       "\tviewer_1602015635971483.addModel(\"@<TRIPOS>MOLECULE\\nRES\\n177 191 1 0 1\\nSMALL\\nNO_CHARGES\\n@<TRIPOS>CRYSIN\\n   52.9788    40.2692    22.0957    90.0000    90.0000    90.0000  1  1\\n@<TRIPOS>ATOM\\n       1 C            1.3901    -0.2033     0.0188 C             1 RES     \\n       2 C            0.8505     1.0823     0.0068 C             1 RES     \\n       3 C           -0.5365     1.2617     0.0034 C             1 RES     \\n       4 C           -1.3884     0.1554    -0.0801 C             1 RES     \\n       5 O           -2.7314     0.4414    -0.2423 O             1 RES     \\n       6 C           -3.6353    -0.5937    -0.2919 C             1 RES     \\n       7 C           -4.4769    -0.7039    -1.4005 C             1 RES     \\n       8 C           -5.4529    -1.7096    -1.4379 C             1 RES     \\n       9 C           -5.5286    -2.6587    -0.4072 C             1 RES     \\n      10 C           -6.4605    -3.8159    -0.5454 C             1 RES     \\n      11 O           -7.1685    -3.9373    -1.5448 O             1 RES     \\n      12 C           -6.5482    -4.8596     0.5002 C             1 RES     \\n      13 C           -6.3493    -6.2042     0.1661 C             1 RES     \\n      14 C           -6.5623    -7.1902     1.1399 C             1 RES     \\n      15 C           -6.6017    -8.6234     0.7331 C             1 RES     \\n      16 O           -6.2939    -8.9565    -0.4112 O             1 RES     \\n      17 C           -7.1029    -9.6764     1.6466 C             1 RES     \\n      18 C           -6.3881   -10.8683     1.7845 C             1 RES     \\n      19 C           -6.9349   -11.9235     2.5256 C             1 RES     \\n      20 C           -8.1472   -11.7584     3.2088 C             1 RES     \\n      21 O           -8.5459   -12.8177     4.0017 O             1 RES     \\n      22 C           -9.7561   -12.7505     4.6531 C             1 RES     \\n      23 C           -9.7803   -12.9190     6.0385 C             1 RES     \\n      24 C          -11.0046   -12.9221     6.7212 C             1 RES     \\n      25 C          -12.1996   -12.6679     6.0319 C             1 RES     \\n      26 C          -13.4674   -12.5100     6.8062 C             1 RES     \\n      27 O          -13.4723   -12.5982     8.0343 O             1 RES     \\n      28 C          -14.7477   -12.2188     6.1284 C             1 RES     \\n      29 C          -15.4911   -11.0830     6.4697 C             1 RES     \\n      30 C          -16.7292   -10.8507     5.8551 C             1 RES     \\n      31 C          -17.1836   -11.7037     4.8396 C             1 RES     \\n      32 C          -18.4336   -11.3584     4.0921 C             1 RES     \\n      33 O          -19.0577   -10.3219     4.3322 O             1 RES     \\n      34 C          -18.9449   -12.2669     3.0478 C             1 RES     \\n      35 C          -19.0592   -11.8761     1.7096 C             1 RES     \\n      36 C          -19.4966   -12.8101     0.7570 C             1 RES     \\n      37 C          -19.7293   -14.1434     1.1275 C             1 RES     \\n      38 O          -19.9843   -15.0329     0.1002 O             1 RES     \\n      39 C          -20.2824   -16.3446     0.3991 C             1 RES     \\n      40 C          -19.5484   -17.3569    -0.2226 C             1 RES     \\n      41 C          -19.8911   -18.7008    -0.0121 C             1 RES     \\n      42 C          -20.9067   -19.0397     0.8942 C             1 RES     \\n      43 C          -21.1502   -20.4787     1.2124 C             1 RES     \\n      44 O          -20.4634   -21.3620     0.6990 O             1 RES     \\n      45 C          -22.2095   -20.8899     2.1576 C             1 RES     \\n      46 C          -21.9038   -21.6909     3.2633 C             1 RES     \\n      47 C          -22.9341   -22.1404     4.0997 C             1 RES     \\n      48 C          -24.2559   -21.7210     3.8837 C             1 RES     \\n      49 C          -25.3093   -22.0978     4.8736 C             1 RES     \\n      50 O          -25.0254   -22.7503     5.8784 O             1 RES     \\n      51 C          -26.7148   -21.6839     4.6875 C             1 RES     \\n      52 C          -27.3821   -20.9457     5.6707 C             1 RES     \\n      53 C          -28.7331   -20.6146     5.4905 C             1 RES     \\n      54 C          -29.3871   -20.9413     4.2949 C             1 RES     \\n      55 O          -30.6743   -20.4550     4.1453 O             1 RES     \\n      56 C          -31.3800   -20.7890     3.0110 C             1 RES     \\n      57 C          -31.8717   -19.7711     2.1910 C             1 RES     \\n      58 C          -32.6188   -20.0930     1.0476 C             1 RES     \\n      59 C          -32.7973   -21.4334     0.6751 C             1 RES     \\n      60 C          -33.4434   -21.7579    -0.6341 C             1 RES     \\n      61 O          -33.8189   -20.8637    -1.3933 O             1 RES     \\n      62 C          -33.6533   -23.1644    -1.0456 C             1 RES     \\n      63 C          -33.1400   -23.6557    -2.2546 C             1 RES     \\n      64 C          -33.4391   -24.9730    -2.6349 C             1 RES     \\n      65 C          -33.1228   -25.4514    -4.0164 C             1 RES     \\n      66 O          -32.4624   -24.7587    -4.7935 O             1 RES     \\n      67 C          -33.6863   -26.7301    -4.5130 C             1 RES     \\n      68 C          -32.8606   -27.7295    -5.0329 C             1 RES     \\n      69 C          -33.4298   -28.9267    -5.4953 C             1 RES     \\n      70 C          -34.8060   -29.1609    -5.3576 C             1 RES     \\n      71 O          -35.2518   -30.4250    -5.6994 O             1 RES     \\n      72 C          -36.6000   -30.7017    -5.6386 C             1 RES     \\n      73 C          -37.0324   -31.7835    -4.8688 C             1 RES     \\n      74 C          -38.3932   -32.1256    -4.8456 C             1 RES     \\n      75 C          -39.3351   -31.3356    -5.5243 C             1 RES     \\n      76 C          -40.7911   -31.6175    -5.3494 C             1 RES     \\n      77 O          -41.1689   -32.5320    -4.6177 O             1 RES     \\n      78 C          -41.8244   -30.7727    -5.9922 C             1 RES     \\n      79 C          -42.7719   -30.1195    -5.1927 C             1 RES     \\n      80 C          -43.7875   -29.3644    -5.7905 C             1 RES     \\n      81 C          -43.8056   -29.2088    -7.1808 C             1 RES     \\n      82 C          -44.7970   -28.3093    -7.8033 C             1 RES     \\n      83 O          -44.8071   -28.0972    -9.0147 O             1 RES     \\n      84 C          -42.8614   -29.8636    -7.9785 C             1 RES     \\n      85 C          -41.8829   -30.6626    -7.3857 C             1 RES     \\n      86 C          -38.8850   -30.2553    -6.2906 C             1 RES     \\n      87 C          -37.5239   -29.9726    -6.3865 C             1 RES     \\n      88 C          -35.6149   -28.1499    -4.8335 C             1 RES     \\n      89 C          -35.0681   -26.9290    -4.4536 C             1 RES     \\n      90 C          -34.1244   -25.8104    -1.7384 C             1 RES     \\n      91 C          -34.6454   -25.3106    -0.5512 C             1 RES     \\n      92 C          -34.4377   -23.9804    -0.2207 C             1 RES     \\n      93 C          -32.3085   -22.4405     1.5175 C             1 RES     \\n      94 C          -31.6529   -22.1202     2.7026 C             1 RES     \\n      95 C          -28.6973   -21.6712     3.3213 C             1 RES     \\n      96 C          -27.3839   -22.0741     3.5297 C             1 RES     \\n      97 C          -24.5404   -20.9070     2.7786 C             1 RES     \\n      98 C          -23.5302   -20.5217     1.9024 C             1 RES     \\n      99 C          -21.6253   -18.0138     1.5192 C             1 RES     \\n     100 C          -21.3490   -16.6788     1.2330 C             1 RES     \\n     101 C          -19.6183   -14.5035     2.4727 C             1 RES     \\n     102 C          -19.2757   -13.5636     3.4334 C             1 RES     \\n     103 C          -16.4223   -12.8368     4.5106 C             1 RES     \\n     104 C          -15.2299   -13.1115     5.1729 C             1 RES     \\n     105 C          -12.1580   -12.5034     4.6415 C             1 RES     \\n     106 C          -10.9510   -12.5950     3.9522 C             1 RES     \\n     107 C           -8.8328   -10.5465     3.0918 C             1 RES     \\n     108 C           -8.3349    -9.5251     2.2882 C             1 RES     \\n     109 C           -6.8275    -6.8088     2.4631 C             1 RES     \\n     110 C           -7.0319    -5.4718     2.7873 C             1 RES     \\n     111 C           -6.9217    -4.4998     1.8008 C             1 RES     \\n     112 C           -4.6783    -2.5313     0.6974 C             1 RES     \\n     113 C           -3.7738    -1.4769     0.7764 C             1 RES     \\n     114 C           -0.8339    -1.1286    -0.0692 C             1 RES     \\n     115 C            0.5463    -1.3082     0.0026 C             1 RES     \\n     116 H            2.4668    -0.3476     0.0357 H             1 RES     \\n     117 H            1.5122     1.9445    -0.0175 H             1 RES     \\n     118 H           -0.9459     2.2684     0.0421 H             1 RES     \\n     119 H           -4.3681    -0.0253    -2.2434 H             1 RES     \\n     120 H           -6.1393    -1.7614    -2.2828 H             1 RES     \\n     121 H           -6.0651    -6.4809    -0.8491 H             1 RES     \\n     122 H           -5.4150   -10.9783     1.3104 H             1 RES     \\n     123 H           -6.4112   -12.8765     2.5613 H             1 RES     \\n     124 H           -8.8524   -13.0326     6.5941 H             1 RES     \\n     125 H          -11.0203   -13.1055     7.7952 H             1 RES     \\n     126 H          -15.1089   -10.3738     7.2015 H             1 RES     \\n     127 H          -17.3332    -9.9982     6.1647 H             1 RES     \\n     128 H          -18.7870   -10.8688     1.3994 H             1 RES     \\n     129 H          -19.6310   -12.5012    -0.2787 H             1 RES     \\n     130 H          -18.7050   -17.1113    -0.8636 H             1 RES     \\n     131 H          -19.3549   -19.4827    -0.5497 H             1 RES     \\n     132 H          -20.8724   -21.9624     3.4813 H             1 RES     \\n     133 H          -22.7013   -22.8137     4.9247 H             1 RES     \\n     134 H          -26.8563   -20.6209     6.5667 H             1 RES     \\n     135 H          -29.2689   -20.0945     6.2826 H             1 RES     \\n     136 H          -31.6609   -18.7295     2.4215 H             1 RES     \\n     137 H          -33.0420   -19.2945     0.4385 H             1 RES     \\n     138 H          -32.5392   -23.0166    -2.9012 H             1 RES     \\n     139 H          -31.7820   -27.5902    -5.0625 H             1 RES     \\n     140 H          -32.7912   -29.6819    -5.9502 H             1 RES     \\n     141 H          -36.3223   -32.3546    -4.2749 H             1 RES     \\n     142 H          -38.7164   -33.0008    -4.2820 H             1 RES     \\n     143 H          -42.7167   -30.1924    -4.1079 H             1 RES     \\n     144 H          -44.5504   -28.9049    -5.1665 H             1 RES     \\n     145 H          -45.5120   -27.8105    -7.1311 H             1 RES     \\n     146 H          -42.8883   -29.7553    -9.0614 H             1 RES     \\n     147 H          -41.1626   -31.1803    -8.0142 H             1 RES     \\n     148 H          -39.5665   -29.6030    -6.8247 H             1 RES     \\n     149 H          -37.1981   -29.1399    -7.0039 H             1 RES     \\n     150 H          -36.6834   -28.2756    -4.7017 H             1 RES     \\n     151 H          -35.7300   -26.1576    -4.0687 H             1 RES     \\n     152 H          -34.3100   -26.8564    -1.9650 H             1 RES     \\n     153 H          -35.2380   -25.9519     0.0949 H             1 RES     \\n     154 H          -34.8724   -23.5860     0.6940 H             1 RES     \\n     155 H          -32.4095   -23.4933     1.2797 H             1 RES     \\n     156 H          -31.2925   -22.9198     3.3441 H             1 RES     \\n     157 H          -29.1535   -21.9538     2.3798 H             1 RES     \\n     158 H          -26.8858   -22.6651     2.7663 H             1 RES     \\n     159 H          -25.5428   -20.5539     2.5619 H             1 RES     \\n     160 H          -23.7823   -19.9158     1.0358 H             1 RES     \\n     161 H          -22.4122   -18.2130     2.2378 H             1 RES     \\n     162 H          -21.9399   -15.9027     1.7119 H             1 RES     \\n     163 H          -19.7781   -15.5178     2.8172 H             1 RES     \\n     164 H          -19.2046   -13.8690     4.4735 H             1 RES     \\n     165 H          -16.7278   -13.5365     3.7398 H             1 RES     \\n     166 H          -14.6723   -14.0083     4.9145 H             1 RES     \\n     167 H          -13.0466   -12.2945     4.0567 H             1 RES     \\n     168 H          -10.9458   -12.4830     2.8713 H             1 RES     \\n     169 H           -9.7750   -10.3664     3.5972 H             1 RES     \\n     170 H           -8.9224    -8.6170     2.1818 H             1 RES     \\n     171 H           -6.9264    -7.5436     3.2569 H             1 RES     \\n     172 H           -7.3138    -5.1982     3.8005 H             1 RES     \\n     173 H           -7.1204    -3.4616     2.0533 H             1 RES     \\n     174 H           -4.6834    -3.2406     1.5166 H             1 RES     \\n     175 H           -3.1345    -1.3868     1.6500 H             1 RES     \\n     176 H           -1.4490    -2.0190    -0.1274 H             1 RES     \\n     177 H            0.9542    -2.3151     0.0144 H             1 RES     \\n@<TRIPOS>BOND\\n       1      177      115 1\\n       2       20       21 1\\n       3       52      134 1\\n       4       15       16 1\\n       5       91       92 1\\n       6       61       60 1\\n       7       43       45 1\\n       8       12      111 1\\n       9       98       97 1\\n      10       88       89 1\\n      11        9      112 1\\n      12      126       29 1\\n      13       59       60 1\\n      14       31       32 1\\n      15       13       12 1\\n      16      110      111 1\\n      17        8        7 1\\n      18       25       26 1\\n      19       19       20 1\\n      20      105       25 1\\n      21       86       87 1\\n      22      114        4 1\\n      23      136       57 1\\n      24       68       67 1\\n      25       43       44 1\\n      26       13       14 1\\n      27      104       28 1\\n      28      138       63 1\\n      29       92      154 1\\n      30       37       38 1\\n      31       90       64 1\\n      32      146       84 1\\n      33        8      120 1\\n      34       18       19 1\\n      35       76       77 1\\n      36      143       79 1\\n      37       48       49 1\\n      38       52       53 1\\n      39       99      100 1\\n      40       89      151 1\\n      41       10       12 1\\n      42       15       17 1\\n      43      102      101 1\\n      44       23       24 1\\n      45       89       67 1\\n      46      131       41 1\\n      47      107       20 1\\n      48       69       70 1\\n      49      144       80 1\\n      50        6        7 1\\n      51        4        5 1\\n      52       13      121 1\\n      53       57       58 1\\n      54       51       52 1\\n      55      112      174 1\\n      56        2      117 1\\n      57       98      160 1\\n      58      104      166 1\\n      59       54       55 1\\n      60       56       55 1\\n      61       47       48 1\\n      62       81       80 1\\n      63       51       96 1\\n      64       68       69 1\\n      65      102       34 1\\n      66       87      149 1\\n      67       71       72 1\\n      68      105      167 1\\n      69       86       75 1\\n      70       17      108 1\\n      71       86      148 1\\n      72       53      135 1\\n      73       95       54 1\\n      74       99       42 1\\n      75       42       43 1\\n      76      102      164 1\\n      77      141       73 1\\n      78       35       36 1\\n      79       46       47 1\\n      80       65       66 1\\n      81      130       40 1\\n      82       46      132 1\\n      83       78       79 1\\n      84       29       30 1\\n      85       97      159 1\\n      86       19      123 1\\n      87       98       45 1\\n      88       14       15 1\\n      89       53       54 1\\n      90      107      169 1\\n      91       38       39 1\\n      92       71       70 1\\n      93        2        1 1\\n      94      106       22 1\\n      95      114      115 1\\n      96       34       35 1\\n      97       73       74 1\\n      98      101       37 1\\n      99       60       62 1\\n     100      101      163 1\\n     101       63       64 1\\n     102       22       23 1\\n     103      124       23 1\\n     104       81       82 1\\n     105       93       94 1\\n     106       26       28 1\\n     107      104      103 1\\n     108       49       50 1\\n     109       40       41 1\\n     110       39       40 1\\n     111       18      122 1\\n     112       67       65 1\\n     113       99      161 1\\n     114      113      175 1\\n     115       79       80 1\\n     116        3      118 1\\n     117       88       70 1\\n     118        1      116 1\\n     119      114      176 1\\n     120       36       37 1\\n     121      137       58 1\\n     122       59       58 1\\n     123       93       59 1\\n     124       32       33 1\\n     125       81       84 1\\n     126       47      133 1\\n     127      106      105 1\\n     128       45       46 1\\n     129      110      172 1\\n     130       92       62 1\\n     131       94       56 1\\n     132       75       76 1\\n     133       94      156 1\\n     134      127       30 1\\n     135      139       68 1\\n     136      108      107 1\\n     137      110      109 1\\n     138       85       78 1\\n     139       21       22 1\\n     140      109      171 1\\n     141       76       78 1\\n     142      140       69 1\\n     143       30       31 1\\n     144      103       31 1\\n     145       56       57 1\\n     146       91      153 1\\n     147       24       25 1\\n     148       85      147 1\\n     149       10        9 1\\n     150       32       34 1\\n     151      125       24 1\\n     152       49       51 1\\n     153       74       75 1\\n     154       73       72 1\\n     155       28       29 1\\n     156      108      170 1\\n     157       83       82 1\\n     158      112      113 1\\n     159       14      109 1\\n     160        8        9 1\\n     161       87       72 1\\n     162        2        3 1\\n     163      100       39 1\\n     164       91       90 1\\n     165      142       74 1\\n     166       88      150 1\\n     167      129       36 1\\n     168        3        4 1\\n     169       93      155 1\\n     170      128       35 1\\n     171        1      115 1\\n     172       17       18 1\\n     173        7      119 1\\n     174       85       84 1\\n     175       63       62 1\\n     176      103      165 1\\n     177       90      152 1\\n     178       26       27 1\\n     179       95      157 1\\n     180       48       97 1\\n     181      145       82 1\\n     182       10       11 1\\n     183       96       95 1\\n     184      106      168 1\\n     185       96      158 1\\n     186        5        6 1\\n     187       42       41 1\\n     188      111      173 1\\n     189      113        6 1\\n     190       65       64 1\\n     191      100      162 1\\n@<TRIPOS>SUBSTRUCTURE\\n       1 RES             1 RESIDUE    0 **** ROOT      0\\n\",\"mol2\");\n",
       "\tviewer_1602015635971483.setStyle({\"stick\": {\"radius\": 0.2, \"color\": \"grey\"}, \"sphere\": {\"scale\": 0.3, \"colorscheme\": {}}});\n",
       "\tviewer_1602015635971483.zoomTo();\n",
       "viewer_1602015635971483.render();\n",
       "});\n",
       "</script>"
      ]
     },
     "metadata": {},
     "output_type": "display_data"
    }
   ],
   "source": [
    "comp_show = comp_visual.show()"
   ]
  },
  {
   "cell_type": "code",
   "execution_count": 36,
   "metadata": {},
   "outputs": [
    {
     "name": "stderr",
     "output_type": "stream",
     "text": [
      "/home/chris/miniconda3/envs/uli/lib/python3.7/site-packages/ipykernel/ipkernel.py:287: DeprecationWarning: `should_run_async` will not call `transform_cell` automatically in the future. Please pass the result to `transformed_cell` argument and any exception that happen during thetransform in `preprocessing_exc_tuple` in IPython 7.17 and above.\n",
      "  and should_run_async(code)\n"
     ]
    },
    {
     "data": {
      "application/3dmoljs_load.v0": "<img id=\"img_1602015635971483\">\n            <script>\n            var png = viewer_1602015635971483.pngURI()\n            $('#img_1602015635971483').attr('src', png)\n            </script>",
      "text/html": [
       "<img id=\"img_1602015635971483\">\n",
       "            <script>\n",
       "            var png = viewer_1602015635971483.pngURI()\n",
       "            $('#img_1602015635971483').attr('src', png)\n",
       "            </script>"
      ]
     },
     "metadata": {},
     "output_type": "display_data"
    }
   ],
   "source": [
    "comp_visual.png()"
   ]
  },
  {
   "cell_type": "code",
   "execution_count": 102,
   "metadata": {},
   "outputs": [
    {
     "name": "stderr",
     "output_type": "stream",
     "text": [
      "/home/chris/miniconda3/envs/uli/lib/python3.7/site-packages/ipykernel/ipkernel.py:287: DeprecationWarning: `should_run_async` will not call `transform_cell` automatically in the future. Please pass the result to `transformed_cell` argument and any exception that happen during thetransform in `preprocessing_exc_tuple` in IPython 7.17 and above.\n",
      "  and should_run_async(code)\n"
     ]
    }
   ],
   "source": [
    "##############################################"
   ]
  },
  {
   "cell_type": "code",
   "execution_count": 24,
   "metadata": {},
   "outputs": [
    {
     "name": "stderr",
     "output_type": "stream",
     "text": [
      "/home/chris/miniconda3/envs/uli/lib/python3.7/site-packages/ipykernel/ipkernel.py:287: DeprecationWarning: `should_run_async` will not call `transform_cell` automatically in the future. Please pass the result to `transformed_cell` argument and any exception that happen during thetransform in `preprocessing_exc_tuple` in IPython 7.17 and above.\n",
      "  and should_run_async(code)\n"
     ]
    }
   ],
   "source": [
    "def build_system(packing='bcc'):\n",
    "    '''\n",
    "    Generate a simple LJ particle system using hoomd's create_lattice function\n",
    "    packing \n",
    "    '''\n",
    "    hoomd.context.initialize(\"\")\n",
    "    if packing == 'fcc':\n",
    "        system = hoomd.init.create_lattice(unitcell=(hoomd.lattice.fcc(a=1.58)), n=6)\n",
    "    elif packing == 'bcc':\n",
    "        system = hoomd.init.create_lattice(unitcell=(hoomd.lattice.bcc(a=1.29)), n=6)\n",
    "    hoomd.dump.gsd('{}_system.gsd'.format(packing), group = hoomd.group.all(), period=None, overwrite=True)\n",
    "    return system\n",
    "\n",
    "def hoomd_simulation(system, temp, tau):  \n",
    "    nl = hoomd.md.nlist.cell()\n",
    "    lj = hoomd.md.pair.lj(r_cut=2.5, nlist=nl)\n",
    "    lj.pair_coeff.set('A', 'A', alpha=1.0, epsilon=1.0, sigma=1.0)\n",
    "    hoomd.md.integrate.mode_standard(dt=0.001)\n",
    "    _all = hoomd.group.all()\n",
    "    nvt = hoomd.md.integrate.nvt(group=_all, kT=temp, tau=tau)\n",
    "    nvt.randomize_velocities(seed=23)\n",
    "    hoomd.analyze.log(filename='{}-tau_out.log'.format(tau),\n",
    "                      quantities=[\"time\", \"temperature\", \"potential_energy\"],\n",
    "                      period=100,\n",
    "                      overwrite=True\n",
    "                     )\n",
    "    #hoomd.dump.gsd('tau-trajectory.gsd', period=5e3, group=_all, overwrite=True)\n",
    "    hoomd.run(3e5)"
   ]
  },
  {
   "cell_type": "markdown",
   "metadata": {},
   "source": [
    "# --------------------------------------------------------\n",
    "\n",
    "PEEK:  \n",
    "1 amu = 1.66054e-24 g  \n",
    "1.32 g/cm^3  \n",
    "1.32 g/nm^3  \n",
    "C19H12O3  \n",
    "monomer_amu = 288.302  "
   ]
  },
  {
   "cell_type": "code",
   "execution_count": 6,
   "metadata": {},
   "outputs": [],
   "source": [
    "def build_peek_system(num_mols, poly_length, density):\n",
    "    '''\n",
    "    This function uses mBuild's packing functionality to create a very low dense system of molecules\n",
    "    to allow for easier packing. A short simulation is then ran using HoomD to shrink the system to the\n",
    "    desired starting density.\n",
    "    '''\n",
    "    peek_poly_smi = polysmiles.poly_smiles('occccC=O)ccccOcc*c*ccc6)))))))cc6)))))))cc6',\n",
    "                                      length=poly_length)\n",
    "    peek_poly = mb.load(peek_poly_smi, smiles=True)\n",
    "    \n",
    "    mol_amu = poly_length * 288.302\n",
    "    mol_grams = mol_amu * 1.66054e-24\n",
    "    system_mass = mol_grams * num_mols\n",
    "    edge_cm = (system_mass / density)**(1/3)\n",
    "    edge_nm = edge_cm * 1e7\n",
    "\n",
    "    init_box = mb.Box([edge_nm*5]*3)\n",
    "    print(init_box)\n",
    "    system = mb.fill_box(peek_poly, num_mols, init_box)\n",
    "    \n",
    "    gaff = Forcefield(forcefield_files='files/gaff.xml')\n",
    "    system_pmd = gaff.apply(system)\n",
    "    create_hoomd_simulation(system_pmd, r_cut=1.2, auto_scale=True)\n",
    "    forces = [f for f in hoomd.context.current.forces \n",
    "                if not isinstance(f, hoomd.md.charge.pppm)]\n",
    "    \n",
    "    hoomd.context.current.forces = forces\n",
    "    _all = hoomd.group.all()\n",
    "    hoomd.md.integrate.mode_standard(dt=0.0001)\n",
    "    integrator = hoomd.md.integrate.nvt(group=_all, kT=2.0, tau=0.1)\n",
    "    hoomd.dump.gsd(\"trajectories/start-shrink.gsd\", period=None, group=_all, overwrite=True)\n",
    "    hoomd.dump.gsd(\"trajectories/traj-shrink.gsd\", period=1e5, group=_all, phase=0, overwrite=True)\n",
    "    integrator.randomize_velocities(seed=42);\n",
    "\n",
    "    hoomd.update.box_resize(L = hoomd.variant.linear_interp([(0,edge_nm*50), (1e6,edge_nm*10)], zero=0))\n",
    "    hoomd.run(1e6)\n",
    "    gsd_restart = hoomd.dump.gsd(\"trajectories/out-shrink.gsd\", period=None, group=_all, overwrite=True)\n",
    "    gsd_restart.write_restart()"
   ]
  },
  {
   "cell_type": "code",
   "execution_count": 7,
   "metadata": {
    "scrolled": true
   },
   "outputs": [
    {
     "name": "stdout",
     "output_type": "stream",
     "text": [
      "Box(mins=[0. 0. 0.], maxs=[23.18757104 23.18757104 23.18757104], angles=[90. 90. 90.])\n"
     ]
    },
    {
     "name": "stderr",
     "output_type": "stream",
     "text": [
      "/home/chris/cme/forks/foyer/foyer/forcefield.py:449: UserWarning: No force field version number found in force field XML file.\n",
      "  'No force field version number found in force field XML file.'\n",
      "/home/chris/cme/forks/foyer/foyer/forcefield.py:461: UserWarning: No force field name found in force field XML file.\n",
      "  'No force field name found in force field XML file.'\n",
      "/home/chris/cme/forks/foyer/foyer/validator.py:132: ValidationWarning: You have empty smart definition(s)\n",
      "  warn(\"You have empty smart definition(s)\", ValidationWarning)\n"
     ]
    },
    {
     "name": "stdout",
     "output_type": "stream",
     "text": [
      "HOOMD-blue v2.9.0-16-g08515af02 CUDA (10.1) DOUBLE HPMC_MIXED MPI SSE SSE2 SSE3 SSE4_1 SSE4_2 AVX AVX2 \n",
      "Compiled: 05/12/2020\n",
      "Copyright (c) 2009-2019 The Regents of the University of Michigan.\n",
      "-----\n",
      "You are using HOOMD-blue. Please cite the following:\n",
      "* J A Anderson, C D Lorenz, and A Travesset. \"General purpose molecular dynamics\n",
      "  simulations fully implemented on graphics processing units\", Journal of\n",
      "  Computational Physics 227 (2008) 5342--5359\n",
      "* J Glaser, T D Nguyen, J A Anderson, P Lui, F Spiga, J A Millan, D C Morse, and\n",
      "  S C Glotzer. \"Strong scaling of general-purpose molecular dynamics simulations\n",
      "  on GPUs\", Computer Physics Communications 192 (2015) 97--107\n",
      "-----\n",
      "HOOMD-blue is running on the following GPU(s):\n",
      " [0]      GeForce RTX 2070  36 SM_7.5 @ 1.44 GHz, 7982 MiB DRAM, DIS, MNG\n"
     ]
    },
    {
     "name": "stderr",
     "output_type": "stream",
     "text": [
      "/home/chris/cme/forks/foyer/foyer/forcefield.py:267: UserWarning: Parameters have not been assigned to all impropers. Total system impropers: 4750, Parameterized impropers: 3350. Note that if your system contains torsions of Ryckaert-Bellemans functional form, all of these torsions are processed as propers\n",
      "  warnings.warn(msg)\n"
     ]
    },
    {
     "name": "stdout",
     "output_type": "stream",
     "text": [
      "notice(2): Group \"all\" created containing 8550 particles\n",
      "notice(2): -- Neighborlist exclusion statistics -- :\n",
      "notice(2): Particles with 3 exclusions             : 3350\n",
      "notice(2): Particles with 6 exclusions             : 450\n",
      "notice(2): Particles with 7 exclusions             : 3350\n",
      "notice(2): Particles with 8 exclusions             : 900\n",
      "notice(2): Particles with 9 exclusions             : 500\n",
      "notice(2): Neighbors included by diameter          : no\n",
      "notice(2): Neighbors excluded when in the same body: no\n",
      "Processing LJ and QQ\n",
      "notice(2): Group \"charged\" created containing 0 particles\n",
      "No charged groups found, ignoring electrostatics\n",
      "Processing 1-4 interactions, adjusting neighborlist exclusions\n",
      "Processing harmonic bonds\n",
      "Processing harmonic angles\n",
      "Processing periodic torsions\n",
      "HOOMD SimulationContext updated from ParmEd Structure\n",
      "** starting run **\n",
      "Time 00:00:10 | Step 8002 / 1000000 | TPS 800.187 | ETA 00:20:39\n",
      "Time 00:00:20 | Step 16281 / 1000000 | TPS 827.894 | ETA 00:19:48\n",
      "Time 00:00:30 | Step 24502 / 1000000 | TPS 822.042 | ETA 00:19:46\n",
      "Time 00:00:40 | Step 32749 / 1000000 | TPS 824.637 | ETA 00:19:32\n",
      "Time 00:00:50 | Step 40970 / 1000000 | TPS 822.079 | ETA 00:19:26\n",
      "Time 00:01:00 | Step 48703 / 1000000 | TPS 773.292 | ETA 00:20:30\n",
      "Time 00:01:10 | Step 56858 / 1000000 | TPS 815.421 | ETA 00:19:16\n",
      "Time 00:01:20 | Step 65075 / 1000000 | TPS 821.67 | ETA 00:18:57\n",
      "Time 00:01:30 | Step 73259 / 1000000 | TPS 818.339 | ETA 00:18:52\n",
      "Time 00:01:40 | Step 81442 / 1000000 | TPS 818.248 | ETA 00:18:42\n",
      "Time 00:01:50 | Step 89622 / 1000000 | TPS 817.929 | ETA 00:18:33\n",
      "Time 00:02:01 | Step 96745 / 1000000 | TPS 647.332 | ETA 00:23:15\n",
      "Time 00:02:12 | Step 103615 / 1000000 | TPS 625.262 | ETA 00:23:53\n",
      "Time 00:02:22 | Step 111601 / 1000000 | TPS 796.13 | ETA 00:18:35\n",
      "Time 00:02:32 | Step 119489 / 1000000 | TPS 788.737 | ETA 00:18:36\n",
      "Time 00:02:42 | Step 127077 / 1000000 | TPS 758.752 | ETA 00:19:10\n",
      "Time 00:02:52 | Step 134889 / 1000000 | TPS 781.18 | ETA 00:18:27\n",
      "Time 00:03:02 | Step 142955 / 1000000 | TPS 806.548 | ETA 00:17:42\n",
      "Time 00:03:12 | Step 151049 / 1000000 | TPS 809.327 | ETA 00:17:28\n",
      "Time 00:03:22 | Step 159152 / 1000000 | TPS 810.251 | ETA 00:17:17\n",
      "Time 00:03:32 | Step 167285 / 1000000 | TPS 813.275 | ETA 00:17:03\n",
      "Time 00:03:42 | Step 175456 / 1000000 | TPS 817.068 | ETA 00:16:49\n",
      "Time 00:03:52 | Step 183632 / 1000000 | TPS 817.537 | ETA 00:16:38\n",
      "Time 00:04:02 | Step 191841 / 1000000 | TPS 820.813 | ETA 00:16:24\n",
      "Time 00:04:12 | Step 200064 / 1000000 | TPS 822.268 | ETA 00:16:12\n",
      "Time 00:04:22 | Step 208075 / 1000000 | TPS 801.035 | ETA 00:16:28\n",
      "Time 00:04:32 | Step 216198 / 1000000 | TPS 812.289 | ETA 00:16:04\n",
      "Time 00:04:42 | Step 224358 / 1000000 | TPS 815.952 | ETA 00:15:50\n",
      "Time 00:04:52 | Step 232554 / 1000000 | TPS 819.536 | ETA 00:15:36\n",
      "Time 00:05:02 | Step 240901 / 1000000 | TPS 822.037 | ETA 00:15:23\n",
      "Time 00:05:13 | Step 249601 / 1000000 | TPS 827.4 | ETA 00:15:06\n",
      "Time 00:05:23 | Step 258197 / 1000000 | TPS 827.818 | ETA 00:14:56\n",
      "Time 00:05:34 | Step 266875 / 1000000 | TPS 829.587 | ETA 00:14:43\n",
      "Time 00:05:44 | Step 275388 / 1000000 | TPS 825.89 | ETA 00:14:37\n",
      "Time 00:05:54 | Step 284101 / 1000000 | TPS 831.044 | ETA 00:14:21\n",
      "Time 00:06:05 | Step 292634 / 1000000 | TPS 832.318 | ETA 00:14:09\n",
      "Time 00:06:15 | Step 301431 / 1000000 | TPS 853.39 | ETA 00:13:38\n",
      "Time 00:06:25 | Step 311825 / 1000000 | TPS 1039.36 | ETA 00:11:02\n",
      "Time 00:06:35 | Step 322201 / 1000000 | TPS 1037.46 | ETA 00:10:53\n",
      "Time 00:06:45 | Step 332636 / 1000000 | TPS 1043.43 | ETA 00:10:39\n",
      "Time 00:06:55 | Step 343116 / 1000000 | TPS 1047.99 | ETA 00:10:26\n",
      "Time 00:07:05 | Step 353008 / 1000000 | TPS 988.789 | ETA 00:10:54\n",
      "Time 00:07:15 | Step 363498 / 1000000 | TPS 1048.98 | ETA 00:10:06\n",
      "Time 00:07:25 | Step 374031 / 1000000 | TPS 1053.26 | ETA 00:09:54\n",
      "Time 00:07:35 | Step 384594 / 1000000 | TPS 1056.27 | ETA 00:09:42\n",
      "Time 00:07:45 | Step 395174 / 1000000 | TPS 1057.94 | ETA 00:09:31\n",
      "Time 00:07:55 | Step 405246 / 1000000 | TPS 1007.17 | ETA 00:09:50\n",
      "Time 00:08:05 | Step 415868 / 1000000 | TPS 1062.13 | ETA 00:09:09\n",
      "Time 00:08:15 | Step 426509 / 1000000 | TPS 1064.02 | ETA 00:08:58\n",
      "Time 00:08:25 | Step 437170 / 1000000 | TPS 1066.06 | ETA 00:08:47\n",
      "Time 00:08:35 | Step 447804 / 1000000 | TPS 1063.31 | ETA 00:08:39\n",
      "Time 00:08:45 | Step 458078 / 1000000 | TPS 1027.35 | ETA 00:08:47\n",
      "Time 00:08:55 | Step 468785 / 1000000 | TPS 1070.63 | ETA 00:08:16\n",
      "Time 00:09:05 | Step 479498 / 1000000 | TPS 1071.22 | ETA 00:08:05\n",
      "Time 00:09:15 | Step 490227 / 1000000 | TPS 1072.87 | ETA 00:07:55\n",
      "Time 00:09:25 | Step 500216 / 1000000 | TPS 998.834 | ETA 00:08:20\n",
      "Time 00:09:35 | Step 510916 / 1000000 | TPS 1069.93 | ETA 00:07:37\n",
      "Time 00:09:45 | Step 521694 / 1000000 | TPS 1077.74 | ETA 00:07:23\n",
      "Time 00:09:55 | Step 532488 / 1000000 | TPS 1079.33 | ETA 00:07:13\n",
      "Time 00:10:05 | Step 542987 / 1000000 | TPS 1049.82 | ETA 00:07:15\n",
      "Time 00:10:15 | Step 553817 / 1000000 | TPS 1082.95 | ETA 00:06:52\n",
      "Time 00:10:25 | Step 564637 / 1000000 | TPS 1082 | ETA 00:06:42\n",
      "Time 00:10:35 | Step 575465 / 1000000 | TPS 1082.77 | ETA 00:06:32\n",
      "Time 00:10:45 | Step 586039 / 1000000 | TPS 1057.38 | ETA 00:06:31\n",
      "Time 00:10:55 | Step 596876 / 1000000 | TPS 1083.6 | ETA 00:06:12\n",
      "Time 00:11:05 | Step 607704 / 1000000 | TPS 1082.77 | ETA 00:06:02\n",
      "Time 00:11:15 | Step 618554 / 1000000 | TPS 1084.98 | ETA 00:05:51\n",
      "Time 00:11:25 | Step 629244 / 1000000 | TPS 1068.95 | ETA 00:05:46\n",
      "Time 00:11:35 | Step 640130 / 1000000 | TPS 1088.54 | ETA 00:05:30\n",
      "Time 00:11:45 | Step 651030 / 1000000 | TPS 1089.99 | ETA 00:05:20\n",
      "Time 00:11:55 | Step 661945 / 1000000 | TPS 1091.45 | ETA 00:05:09\n",
      "Time 00:12:05 | Step 672706 / 1000000 | TPS 1076.04 | ETA 00:05:04\n",
      "Time 00:12:15 | Step 683643 / 1000000 | TPS 1093.69 | ETA 00:04:49\n",
      "Time 00:12:25 | Step 694588 / 1000000 | TPS 1094.4 | ETA 00:04:39\n",
      "Time 00:12:35 | Step 705494 / 1000000 | TPS 1090.5 | ETA 00:04:30\n",
      "Time 00:12:45 | Step 716345 / 1000000 | TPS 1085.04 | ETA 00:04:21\n",
      "Time 00:12:55 | Step 727339 / 1000000 | TPS 1099.32 | ETA 00:04:08\n",
      "Time 00:13:05 | Step 738340 / 1000000 | TPS 1100.09 | ETA 00:03:57\n",
      "Time 00:13:15 | Step 749345 / 1000000 | TPS 1100.49 | ETA 00:03:47\n",
      "Time 00:13:25 | Step 760246 / 1000000 | TPS 1090.03 | ETA 00:03:39\n",
      "Time 00:13:35 | Step 771252 / 1000000 | TPS 1100.54 | ETA 00:03:27\n",
      "Time 00:13:45 | Step 782201 / 1000000 | TPS 1094.9 | ETA 00:03:18\n",
      "Time 00:13:55 | Step 793119 / 1000000 | TPS 1091.79 | ETA 00:03:09\n",
      "Time 00:14:05 | Step 804122 / 1000000 | TPS 1100.24 | ETA 00:02:58\n",
      "Time 00:14:15 | Step 815154 / 1000000 | TPS 1103.19 | ETA 00:02:47\n",
      "Time 00:14:25 | Step 826184 / 1000000 | TPS 1102.9 | ETA 00:02:37\n",
      "Time 00:14:35 | Step 837151 / 1000000 | TPS 1096.62 | ETA 00:02:28\n",
      "Time 00:14:45 | Step 848195 / 1000000 | TPS 1104.3 | ETA 00:02:17\n",
      "Time 00:14:55 | Step 859241 / 1000000 | TPS 1104.58 | ETA 00:02:07\n",
      "Time 00:15:05 | Step 870296 / 1000000 | TPS 1105.43 | ETA 00:01:57\n",
      "Time 00:15:15 | Step 881300 / 1000000 | TPS 1100.31 | ETA 00:01:47\n",
      "Time 00:15:25 | Step 892359 / 1000000 | TPS 1105.87 | ETA 00:01:37\n",
      "Time 00:15:35 | Step 903412 / 1000000 | TPS 1105.29 | ETA 00:01:27\n",
      "Time 00:15:45 | Step 914451 / 1000000 | TPS 1103.87 | ETA 00:01:17\n",
      "Time 00:15:55 | Step 925524 / 1000000 | TPS 1107.27 | ETA 00:01:07\n",
      "Time 00:16:05 | Step 936600 / 1000000 | TPS 1107.6 | ETA 00:00:57\n",
      "Time 00:16:15 | Step 947661 / 1000000 | TPS 1106.08 | ETA 00:00:47\n",
      "Time 00:16:25 | Step 958701 / 1000000 | TPS 1103.92 | ETA 00:00:37\n",
      "Time 00:16:35 | Step 969753 / 1000000 | TPS 1105.11 | ETA 00:00:27\n",
      "Time 00:16:45 | Step 980809 / 1000000 | TPS 1105.57 | ETA 00:00:17\n",
      "Time 00:16:55 | Step 991871 / 1000000 | TPS 1106.19 | ETA 00:00:07\n",
      "Time 00:17:02 | Step 1000000 / 1000000 | TPS 1107.16 | ETA 00:00:00\n",
      "Average TPS: 978.207\n",
      "---------\n",
      "-- Neighborlist stats:\n",
      "3511 normal updates / 3334 forced updates / 0 dangerous updates\n",
      "n_neigh_min: 5 / n_neigh_max: 37 / n_neigh_avg: 15.5371\n",
      "shortest rebuild period: 4\n",
      "-- Cell list stats:\n",
      "Dimension: 28, 28, 28\n",
      "n_min    : 0 / n_max: 16 / n_avg: 0.389486\n",
      "** run complete **\n"
     ]
    }
   ],
   "source": [
    "build_peek_system(num_mols=50, poly_length=5, density=1.2)"
   ]
  },
  {
   "cell_type": "markdown",
   "metadata": {},
   "source": [
    "# -------------------------------------------------------------------------"
   ]
  },
  {
   "cell_type": "code",
   "execution_count": null,
   "metadata": {},
   "outputs": [],
   "source": [
    "# Smiles Strings\n",
    "'''\n",
    "DEEPSMILES:\n",
    "PEEK-para = \"occccoccccC=O)cccccc6)))))))cc6)))))))cc6\"\n",
    "PEEK-meta = \"occcoccccC=O)cccccc6)))))))cc6)))))))ccc6\"\n",
    "PEKK-para = \"ccccoccccC=o)ccccC=o))cc6)))))))cc6)))))))cc6\"\n",
    "PEKK-meta = \"ccccoccccC=o)cccC=o))ccc6)))))))cc6)))))))cc6\"\n",
    "\n",
    "SMILES:\n",
    "PEEK-para = \"oc3ccc(oc2ccc(C(=O)c1ccccc1)cc2)cc3\"\n",
    "PEEK-meta = \"oc3cc(oc2ccc(C(=O)c1ccccc1)cc2)ccc3\"\n",
    "PEKK-para = \"c3ccc(oc2ccc(C(=o)c1ccc(C=o)cc1)cc2)cc3\"\n",
    "PEKK-meta = \"c3ccc(oc2ccc(C(=o)c1cc(C=o)ccc1)cc2)cc3\"\n",
    "'''\n",
    "\n",
    "\n",
    "# DeepSMILES with bonded atom indicated\n",
    "'''\n",
    "PEEK Para Bonded:\n",
    "\"occccoccccC=O)cc*c*ccc6)))))))cc6)))))))cc6\"\n",
    "\"occccoccccC=O)ccc*c*cc6)))))))cc6)))))))cc6\"\n",
    "\"occccoccccC=O)cccc*c*c6)))))))cc6)))))))cc6\"\n",
    "\n",
    "PEEK Meta Bonded:\n",
    "\"occcoccccC=O)ccc*c*cc6)))))))cc6)))))))ccc6\"\n",
    "\"occcoccccC=O)cc*c*ccc6)))))))cc6)))))))ccc6\"\n",
    "\"occcoccccC=O)cccc*c*c6)))))))cc6)))))))ccc6\"\n",
    "\n",
    "PEKK Para Bonded\n",
    "\"ccccoccccC=o)cccc*C*=o))cc6)))))))cc6)))))))cc6\"\n",
    "PEKK Meta Bonded\n",
    "\"ccccoccccC=o)ccc*C*=o))ccc6)))))))cc6)))))))cc6\"\n",
    "'''\n",
    "\n",
    "\n",
    "# Build up dicts and save to json file\n",
    "'''\n",
    "PEKK_dict = {}\n",
    "\n",
    "PEKK_dict['para_deep_smiles'] = \"ccccoccccC=o)ccccC=o))cc6)))))))cc6)))))))cc6\"\n",
    "PEKK_dict['meta_deep_smiles'] = \"ccccoccccC=o)cccC=o))ccc6)))))))cc6)))))))cc6\"\n",
    "PEKK_dict['para_smiles'] = \"c3ccc(oc2ccc(C(=o)c1ccc(C=o)cc1)cc2)cc3\"\n",
    "PEKK_dict['meta_smiles'] = \"c3ccc(oc2ccc(C(=o)c1cc(C=o)ccc1)cc2)cc3\"\n",
    "PEKK_dict['para_template'] = \"ccccoccccC=o)cccc*C*=o))cc6)))))))cc6)))))))cc6\"\n",
    "PEKK_dict['meta_template'] = \"ccccoccccC=o)ccc*C*=o))ccc6)))))))cc6)))))))cc6\"\n",
    "PEKK_dict['monomer_mass'] = 302.329\n",
    "\n",
    "\n",
    "PEEK_dict = {}\n",
    "\n",
    "PEEK_dict['para_deep_smiles'] = \"occccoccccC=O)cccccc6)))))))cc6)))))))cc6\"\n",
    "PEEK_dict['meta_deep_smiles'] = \"occcoccccC=O)cccccc6)))))))cc6)))))))ccc6\"\n",
    "PEEK_dict['para_smiles'] = \"oc3ccc(oc2ccc(C(=O)c1ccccc1)cc2)cc3\"\n",
    "PEEK_dict['meta_smiles'] = \"oc3cc(oc2ccc(C(=O)c1ccccc1)cc2)ccc3\"\n",
    "PEEK_dict['para_template'] = \"occccoccccC=O)ccc{}{}ccc6)))))))cc6)))))))cc6\"\n",
    "PEEK_dict['meta_template'] = \"occcoccccC=O)cccc{}{}cc6)))))))cc6)))))))ccc6\"\n",
    "PEEK_dict['monomer_mass'] = 288.302\n",
    "\n",
    "\n",
    "\n",
    "file_name = 'compounds/PEKK.json'\n",
    "with open(file_name, 'w') as fp:\n",
    "    json.dump(PEKK_dict, fp)\n",
    "'''"
   ]
  }
 ],
 "metadata": {
  "kernelspec": {
   "display_name": "Python 3",
   "language": "python",
   "name": "python3"
  },
  "language_info": {
   "codemirror_mode": {
    "name": "ipython",
    "version": 3
   },
   "file_extension": ".py",
   "mimetype": "text/x-python",
   "name": "python",
   "nbconvert_exporter": "python",
   "pygments_lexer": "ipython3",
   "version": "3.7.8"
  }
 },
 "nbformat": 4,
 "nbformat_minor": 4
}
