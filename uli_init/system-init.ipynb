{
 "cells": [
  {
   "cell_type": "code",
   "execution_count": 25,
   "metadata": {},
   "outputs": [
    {
     "name": "stderr",
     "output_type": "stream",
     "text": [
      "/home/chris/miniconda3/envs/uli/lib/python3.7/site-packages/ipykernel/ipkernel.py:287: DeprecationWarning: `should_run_async` will not call `transform_cell` automatically in the future. Please pass the result to `transformed_cell` argument and any exception that happen during thetransform in `preprocessing_exc_tuple` in IPython 7.17 and above.\n",
      "  and should_run_async(code)\n"
     ]
    }
   ],
   "source": [
    "import hoomd\n",
    "import mbuild as mb\n",
    "from mbuild.formats.hoomd_simulation import create_hoomd_simulation\n",
    "import foyer\n",
    "from foyer import Forcefield\n",
    "#import utils\n",
    "from utils import smiles_utils\n",
    "from utils import polysmiles"
   ]
  },
  {
   "cell_type": "code",
   "execution_count": 50,
   "metadata": {},
   "outputs": [
    {
     "name": "stderr",
     "output_type": "stream",
     "text": [
      "/home/chris/miniconda3/envs/uli/lib/python3.7/site-packages/ipykernel/ipkernel.py:287: DeprecationWarning: `should_run_async` will not call `transform_cell` automatically in the future. Please pass the result to `transformed_cell` argument and any exception that happen during thetransform in `preprocessing_exc_tuple` in IPython 7.17 and above.\n",
      "  and should_run_async(code)\n"
     ]
    },
    {
     "data": {
      "text/plain": [
       "'\\nDEEPSMILES:\\nPEEK-para = \"occccoccccC=O)cccccc6)))))))cc6)))))))cc6\"\\n\\n\\nSMILES:\\nPEEK-para = \\'oc3ccc(oc2ccc(C(=O)c1ccccc1)cc2)cc3\\'\\n\\nPEEK-meta = \\'oc3cc(C(=O)cc2ccc(Oc1ccccc1)cc2)cc3\\'\\nPEKK-para = \\nPEKK-meta = \\n'"
      ]
     },
     "execution_count": 50,
     "metadata": {},
     "output_type": "execute_result"
    }
   ],
   "source": [
    "'''\n",
    "DEEPSMILES:\n",
    "PEEK-para = \"occccoccccC=O)cccccc6)))))))cc6)))))))cc6\"\n",
    "PEEK-meta = \"occcoccccC=O)cccccc6)))))))cc6)))))))ccc6\"\n",
    "PEKK-para = \"ccccoccccC=o)ccccC=o))cc6)))))))cc6)))))))cc6\"\n",
    "PEKK-meta = \"ccccoccccC=o)cccC=o))ccc6)))))))cc6)))))))cc6\"\n",
    "\n",
    "SMILES:\n",
    "PEEK-para = \"oc3ccc(oc2ccc(C(=O)c1ccccc1)cc2)cc3\"\n",
    "PEEK-meta = \"oc3cc(oc2ccc(C(=O)c1ccccc1)cc2)ccc3\"\n",
    "\n",
    "PEKK-para = \"c3ccc(oc2ccc(C(=o)c1ccc(C=o)cc1)cc2)cc3\"\n",
    "PEKK-meta = \"c3ccc(oc2ccc(C(=o)c1cc(C=o)ccc1)cc2)cc3\"\n",
    "'''"
   ]
  },
  {
   "cell_type": "code",
   "execution_count": 67,
   "metadata": {},
   "outputs": [
    {
     "name": "stderr",
     "output_type": "stream",
     "text": [
      "/home/chris/miniconda3/envs/uli/lib/python3.7/site-packages/ipykernel/ipkernel.py:287: DeprecationWarning: `should_run_async` will not call `transform_cell` automatically in the future. Please pass the result to `transformed_cell` argument and any exception that happen during thetransform in `preprocessing_exc_tuple` in IPython 7.17 and above.\n",
      "  and should_run_async(code)\n",
      "/home/chris/cme/forks/mbuild/mbuild/conversion.py:687: UserWarning: No unitcell detected for pybel.Molecule c1ccc(Oc2ccc(C(=O)c3cc(C=O)ccc3)cc2)cc1\t\n",
      "\n",
      "  warn(\"No unitcell detected for pybel.Molecule {}\".format(pybel_mol))\n"
     ]
    },
    {
     "data": {
      "application/3dmoljs_load.v0": "<div id=\"3dmolviewer_16016865678903751\"  style=\"position: relative; width: 640px; height: 480px\">\n        <p id=\"3dmolwarning_16016865678903751\" style=\"background-color:#ffcccc;color:black\">You appear to be running in JupyterLab (or JavaScript failed to load for some other reason).  You need to install the 3dmol extension: <br>\n        <tt>jupyter labextension install jupyterlab_3dmol</tt></p>\n        </div>\n<script>\n\nvar loadScriptAsync = function(uri){\n  return new Promise((resolve, reject) => {\n    var tag = document.createElement('script');\n    tag.src = uri;\n    tag.async = true;\n    tag.onload = () => {\n      resolve();\n    };\n  var firstScriptTag = document.getElementsByTagName('script')[0];\n  firstScriptTag.parentNode.insertBefore(tag, firstScriptTag);\n});\n};\n\nif(typeof $3Dmolpromise === 'undefined') {\n$3Dmolpromise = null;\n  $3Dmolpromise = loadScriptAsync('https://3dmol.csb.pitt.edu/build/3Dmol.js');\n}\n\nvar viewer_16016865678903751 = null;\nvar warn = document.getElementById(\"3dmolwarning_16016865678903751\");\nif(warn) {\n    warn.parentNode.removeChild(warn);\n}\n$3Dmolpromise.then(function() {\nviewer_16016865678903751 = $3Dmol.createViewer($(\"#3dmolviewer_16016865678903751\"),{backgroundColor:\"white\"});\n\tviewer_16016865678903751.addModel(\"@<TRIPOS>MOLECULE\\nRES\\n37 39 1 0 1\\nSMALL\\nNO_CHARGES\\n@<TRIPOS>CRYSIN\\n   14.7992    16.7666    11.0765    90.0000    90.0000    90.0000  1  1\\n@<TRIPOS>ATOM\\n       1 C            1.3900    -0.2032     0.0185 C             1 RES     \\n       2 C            0.8502     1.0823     0.0065 C             1 RES     \\n       3 C           -0.5369     1.2614     0.0028 C             1 RES     \\n       4 C           -1.3887     0.1550    -0.0806 C             1 RES     \\n       5 O           -2.7319     0.4403    -0.2431 O             1 RES     \\n       6 C           -3.6358    -0.5949    -0.2917 C             1 RES     \\n       7 C           -4.4783    -0.7059    -1.3996 C             1 RES     \\n       8 C           -5.4546    -1.7119    -1.4356 C             1 RES     \\n       9 C           -5.5306    -2.6601    -0.4033 C             1 RES     \\n      10 C           -6.4558    -3.8223    -0.5413 C             1 RES     \\n      11 O           -7.1486    -3.9591    -1.5504 O             1 RES     \\n      12 C           -6.5428    -4.8700     0.5015 C             1 RES     \\n      13 C           -6.3502    -6.2129     0.1525 C             1 RES     \\n      14 C           -6.5855    -7.1981     1.1166 C             1 RES     \\n      15 C           -6.6457    -8.6190     0.7232 C             1 RES     \\n      16 O           -6.9441    -9.4984     1.5318 O             1 RES     \\n      17 C           -6.8849    -6.8461     2.4377 C             1 RES     \\n      18 C           -7.0505    -5.5070     2.7814 C             1 RES     \\n      19 C           -6.9156    -4.5216     1.8062 C             1 RES     \\n      20 C           -4.6799    -2.5316     0.7003 C             1 RES     \\n      21 C           -3.7744    -1.4775     0.7773 C             1 RES     \\n      22 C           -0.8338    -1.1289    -0.0694 C             1 RES     \\n      23 C            0.5464    -1.3083     0.0024 C             1 RES     \\n      24 H            2.4668    -0.3473     0.0359 H             1 RES     \\n      25 H            1.5118     1.9445    -0.0171 H             1 RES     \\n      26 H           -0.9463     2.2681     0.0420 H             1 RES     \\n      27 H           -4.3698    -0.0269    -2.2424 H             1 RES     \\n      28 H           -6.1410    -1.7632    -2.2806 H             1 RES     \\n      29 H           -6.0596    -6.4759    -0.8621 H             1 RES     \\n      30 H           -6.4612    -8.8580    -0.3344 H             1 RES     \\n      31 H           -7.0335    -7.6190     3.1902 H             1 RES     \\n      32 H           -7.3324    -5.2376     3.7960 H             1 RES     \\n      33 H           -7.1082    -3.4840     2.0682 H             1 RES     \\n      34 H           -4.6850    -3.2394     1.5208 H             1 RES     \\n      35 H           -3.1350    -1.3866     1.6508 H             1 RES     \\n      36 H           -1.4489    -2.0193    -0.1266 H             1 RES     \\n      37 H            0.9547    -2.3149     0.0150 H             1 RES     \\n@<TRIPOS>BOND\\n       1       17       14 1\\n       2       22       36 1\\n       3       20       34 1\\n       4       22       23 1\\n       5       19       18 1\\n       6        5        6 1\\n       7        3       26 1\\n       8        5        4 1\\n       9       24        1 1\\n      10       15       30 1\\n      11       20        9 1\\n      12       15       16 1\\n      13       18       17 1\\n      14       21        6 1\\n      15       21       35 1\\n      16       19       12 1\\n      17        9       10 1\\n      18        8        7 1\\n      19       18       32 1\\n      20       13       12 1\\n      21       15       14 1\\n      22       23       37 1\\n      23       13       29 1\\n      24       23        1 1\\n      25       11       10 1\\n      26       19       33 1\\n      27       17       31 1\\n      28        2        3 1\\n      29       22        4 1\\n      30        2       25 1\\n      31       21       20 1\\n      32       14       13 1\\n      33        4        3 1\\n      34       12       10 1\\n      35        9        8 1\\n      36        2        1 1\\n      37        6        7 1\\n      38        7       27 1\\n      39        8       28 1\\n@<TRIPOS>SUBSTRUCTURE\\n       1 RES             1 RESIDUE    0 **** ROOT      0\\n\",\"mol2\");\n\tviewer_16016865678903751.setStyle({\"stick\": {\"radius\": 0.2, \"color\": \"grey\"}, \"sphere\": {\"scale\": 0.3, \"colorscheme\": {}}});\n\tviewer_16016865678903751.zoomTo();\nviewer_16016865678903751.render();\n});\n</script>",
      "text/html": [
       "<div id=\"3dmolviewer_16016865678903751\"  style=\"position: relative; width: 640px; height: 480px\">\n",
       "        <p id=\"3dmolwarning_16016865678903751\" style=\"background-color:#ffcccc;color:black\">You appear to be running in JupyterLab (or JavaScript failed to load for some other reason).  You need to install the 3dmol extension: <br>\n",
       "        <tt>jupyter labextension install jupyterlab_3dmol</tt></p>\n",
       "        </div>\n",
       "<script>\n",
       "\n",
       "var loadScriptAsync = function(uri){\n",
       "  return new Promise((resolve, reject) => {\n",
       "    var tag = document.createElement('script');\n",
       "    tag.src = uri;\n",
       "    tag.async = true;\n",
       "    tag.onload = () => {\n",
       "      resolve();\n",
       "    };\n",
       "  var firstScriptTag = document.getElementsByTagName('script')[0];\n",
       "  firstScriptTag.parentNode.insertBefore(tag, firstScriptTag);\n",
       "});\n",
       "};\n",
       "\n",
       "if(typeof $3Dmolpromise === 'undefined') {\n",
       "$3Dmolpromise = null;\n",
       "  $3Dmolpromise = loadScriptAsync('https://3dmol.csb.pitt.edu/build/3Dmol.js');\n",
       "}\n",
       "\n",
       "var viewer_16016865678903751 = null;\n",
       "var warn = document.getElementById(\"3dmolwarning_16016865678903751\");\n",
       "if(warn) {\n",
       "    warn.parentNode.removeChild(warn);\n",
       "}\n",
       "$3Dmolpromise.then(function() {\n",
       "viewer_16016865678903751 = $3Dmol.createViewer($(\"#3dmolviewer_16016865678903751\"),{backgroundColor:\"white\"});\n",
       "\tviewer_16016865678903751.addModel(\"@<TRIPOS>MOLECULE\\nRES\\n37 39 1 0 1\\nSMALL\\nNO_CHARGES\\n@<TRIPOS>CRYSIN\\n   14.7992    16.7666    11.0765    90.0000    90.0000    90.0000  1  1\\n@<TRIPOS>ATOM\\n       1 C            1.3900    -0.2032     0.0185 C             1 RES     \\n       2 C            0.8502     1.0823     0.0065 C             1 RES     \\n       3 C           -0.5369     1.2614     0.0028 C             1 RES     \\n       4 C           -1.3887     0.1550    -0.0806 C             1 RES     \\n       5 O           -2.7319     0.4403    -0.2431 O             1 RES     \\n       6 C           -3.6358    -0.5949    -0.2917 C             1 RES     \\n       7 C           -4.4783    -0.7059    -1.3996 C             1 RES     \\n       8 C           -5.4546    -1.7119    -1.4356 C             1 RES     \\n       9 C           -5.5306    -2.6601    -0.4033 C             1 RES     \\n      10 C           -6.4558    -3.8223    -0.5413 C             1 RES     \\n      11 O           -7.1486    -3.9591    -1.5504 O             1 RES     \\n      12 C           -6.5428    -4.8700     0.5015 C             1 RES     \\n      13 C           -6.3502    -6.2129     0.1525 C             1 RES     \\n      14 C           -6.5855    -7.1981     1.1166 C             1 RES     \\n      15 C           -6.6457    -8.6190     0.7232 C             1 RES     \\n      16 O           -6.9441    -9.4984     1.5318 O             1 RES     \\n      17 C           -6.8849    -6.8461     2.4377 C             1 RES     \\n      18 C           -7.0505    -5.5070     2.7814 C             1 RES     \\n      19 C           -6.9156    -4.5216     1.8062 C             1 RES     \\n      20 C           -4.6799    -2.5316     0.7003 C             1 RES     \\n      21 C           -3.7744    -1.4775     0.7773 C             1 RES     \\n      22 C           -0.8338    -1.1289    -0.0694 C             1 RES     \\n      23 C            0.5464    -1.3083     0.0024 C             1 RES     \\n      24 H            2.4668    -0.3473     0.0359 H             1 RES     \\n      25 H            1.5118     1.9445    -0.0171 H             1 RES     \\n      26 H           -0.9463     2.2681     0.0420 H             1 RES     \\n      27 H           -4.3698    -0.0269    -2.2424 H             1 RES     \\n      28 H           -6.1410    -1.7632    -2.2806 H             1 RES     \\n      29 H           -6.0596    -6.4759    -0.8621 H             1 RES     \\n      30 H           -6.4612    -8.8580    -0.3344 H             1 RES     \\n      31 H           -7.0335    -7.6190     3.1902 H             1 RES     \\n      32 H           -7.3324    -5.2376     3.7960 H             1 RES     \\n      33 H           -7.1082    -3.4840     2.0682 H             1 RES     \\n      34 H           -4.6850    -3.2394     1.5208 H             1 RES     \\n      35 H           -3.1350    -1.3866     1.6508 H             1 RES     \\n      36 H           -1.4489    -2.0193    -0.1266 H             1 RES     \\n      37 H            0.9547    -2.3149     0.0150 H             1 RES     \\n@<TRIPOS>BOND\\n       1       17       14 1\\n       2       22       36 1\\n       3       20       34 1\\n       4       22       23 1\\n       5       19       18 1\\n       6        5        6 1\\n       7        3       26 1\\n       8        5        4 1\\n       9       24        1 1\\n      10       15       30 1\\n      11       20        9 1\\n      12       15       16 1\\n      13       18       17 1\\n      14       21        6 1\\n      15       21       35 1\\n      16       19       12 1\\n      17        9       10 1\\n      18        8        7 1\\n      19       18       32 1\\n      20       13       12 1\\n      21       15       14 1\\n      22       23       37 1\\n      23       13       29 1\\n      24       23        1 1\\n      25       11       10 1\\n      26       19       33 1\\n      27       17       31 1\\n      28        2        3 1\\n      29       22        4 1\\n      30        2       25 1\\n      31       21       20 1\\n      32       14       13 1\\n      33        4        3 1\\n      34       12       10 1\\n      35        9        8 1\\n      36        2        1 1\\n      37        6        7 1\\n      38        7       27 1\\n      39        8       28 1\\n@<TRIPOS>SUBSTRUCTURE\\n       1 RES             1 RESIDUE    0 **** ROOT      0\\n\",\"mol2\");\n",
       "\tviewer_16016865678903751.setStyle({\"stick\": {\"radius\": 0.2, \"color\": \"grey\"}, \"sphere\": {\"scale\": 0.3, \"colorscheme\": {}}});\n",
       "\tviewer_16016865678903751.zoomTo();\n",
       "viewer_16016865678903751.render();\n",
       "});\n",
       "</script>"
      ]
     },
     "metadata": {},
     "output_type": "display_data"
    }
   ],
   "source": [
    "peek_deep_para = \"occccoccccC=O)cccccc6)))))))cc6)))))))cc6\"\n",
    "peek_deep_meta = \"occcoccccC=O)cccccc6)))))))cc6)))))))ccc6\"\n",
    "\n",
    "\n",
    "pekk_deep_meta = \"ccccoccccC=o)cccC=o))ccc6)))))))cc6)))))))cc6\"\n",
    "smiles_utils.viz(smiles_string=pekk_deep_meta, deep=True)"
   ]
  },
  {
   "cell_type": "code",
   "execution_count": 69,
   "metadata": {},
   "outputs": [
    {
     "name": "stderr",
     "output_type": "stream",
     "text": [
      "/home/chris/miniconda3/envs/uli/lib/python3.7/site-packages/ipykernel/ipkernel.py:287: DeprecationWarning: `should_run_async` will not call `transform_cell` automatically in the future. Please pass the result to `transformed_cell` argument and any exception that happen during thetransform in `preprocessing_exc_tuple` in IPython 7.17 and above.\n",
      "  and should_run_async(code)\n"
     ]
    },
    {
     "data": {
      "application/3dmoljs_load.v0": "<div id=\"3dmolviewer_16016866298493218\"  style=\"position: relative; width: 640px; height: 480px\">\n        <p id=\"3dmolwarning_16016866298493218\" style=\"background-color:#ffcccc;color:black\">You appear to be running in JupyterLab (or JavaScript failed to load for some other reason).  You need to install the 3dmol extension: <br>\n        <tt>jupyter labextension install jupyterlab_3dmol</tt></p>\n        </div>\n<script>\n\nvar loadScriptAsync = function(uri){\n  return new Promise((resolve, reject) => {\n    var tag = document.createElement('script');\n    tag.src = uri;\n    tag.async = true;\n    tag.onload = () => {\n      resolve();\n    };\n  var firstScriptTag = document.getElementsByTagName('script')[0];\n  firstScriptTag.parentNode.insertBefore(tag, firstScriptTag);\n});\n};\n\nif(typeof $3Dmolpromise === 'undefined') {\n$3Dmolpromise = null;\n  $3Dmolpromise = loadScriptAsync('https://3dmol.csb.pitt.edu/build/3Dmol.js');\n}\n\nvar viewer_16016866298493218 = null;\nvar warn = document.getElementById(\"3dmolwarning_16016866298493218\");\nif(warn) {\n    warn.parentNode.removeChild(warn);\n}\n$3Dmolpromise.then(function() {\nviewer_16016866298493218 = $3Dmol.createViewer($(\"#3dmolviewer_16016866298493218\"),{backgroundColor:\"white\"});\n\tviewer_16016866298493218.addModel(\"@<TRIPOS>MOLECULE\\nRES\\n37 39 1 0 1\\nSMALL\\nNO_CHARGES\\n@<TRIPOS>CRYSIN\\n   14.7992    16.7666    11.0765    90.0000    90.0000    90.0000  1  1\\n@<TRIPOS>ATOM\\n       1 C            1.3900    -0.2032     0.0185 C             1 RES     \\n       2 C            0.8502     1.0823     0.0065 C             1 RES     \\n       3 C           -0.5369     1.2614     0.0028 C             1 RES     \\n       4 C           -1.3887     0.1550    -0.0806 C             1 RES     \\n       5 O           -2.7319     0.4403    -0.2431 O             1 RES     \\n       6 C           -3.6358    -0.5949    -0.2917 C             1 RES     \\n       7 C           -4.4783    -0.7059    -1.3996 C             1 RES     \\n       8 C           -5.4546    -1.7119    -1.4356 C             1 RES     \\n       9 C           -5.5306    -2.6601    -0.4033 C             1 RES     \\n      10 C           -6.4558    -3.8223    -0.5413 C             1 RES     \\n      11 O           -7.1486    -3.9591    -1.5504 O             1 RES     \\n      12 C           -6.5428    -4.8700     0.5015 C             1 RES     \\n      13 C           -6.3502    -6.2129     0.1525 C             1 RES     \\n      14 C           -6.5855    -7.1981     1.1166 C             1 RES     \\n      15 C           -6.6457    -8.6190     0.7232 C             1 RES     \\n      16 O           -6.9441    -9.4984     1.5318 O             1 RES     \\n      17 C           -6.8849    -6.8461     2.4377 C             1 RES     \\n      18 C           -7.0505    -5.5070     2.7814 C             1 RES     \\n      19 C           -6.9156    -4.5216     1.8062 C             1 RES     \\n      20 C           -4.6799    -2.5316     0.7003 C             1 RES     \\n      21 C           -3.7744    -1.4775     0.7773 C             1 RES     \\n      22 C           -0.8338    -1.1289    -0.0694 C             1 RES     \\n      23 C            0.5464    -1.3083     0.0024 C             1 RES     \\n      24 H            2.4668    -0.3473     0.0359 H             1 RES     \\n      25 H            1.5118     1.9445    -0.0171 H             1 RES     \\n      26 H           -0.9463     2.2681     0.0420 H             1 RES     \\n      27 H           -4.3698    -0.0269    -2.2424 H             1 RES     \\n      28 H           -6.1410    -1.7632    -2.2806 H             1 RES     \\n      29 H           -6.0596    -6.4759    -0.8621 H             1 RES     \\n      30 H           -6.4612    -8.8580    -0.3344 H             1 RES     \\n      31 H           -7.0335    -7.6190     3.1902 H             1 RES     \\n      32 H           -7.3324    -5.2376     3.7960 H             1 RES     \\n      33 H           -7.1082    -3.4840     2.0682 H             1 RES     \\n      34 H           -4.6850    -3.2394     1.5208 H             1 RES     \\n      35 H           -3.1350    -1.3866     1.6508 H             1 RES     \\n      36 H           -1.4489    -2.0193    -0.1266 H             1 RES     \\n      37 H            0.9547    -2.3149     0.0150 H             1 RES     \\n@<TRIPOS>BOND\\n       1        2        3 1\\n       2       17       31 1\\n       3       26        3 1\\n       4        6        7 1\\n       5       15       14 1\\n       6        5        4 1\\n       7       19       12 1\\n       8       21       20 1\\n       9       15       16 1\\n      10        9       10 1\\n      11       34       20 1\\n      12       13       14 1\\n      13        1       23 1\\n      14       23       37 1\\n      15       18       17 1\\n      16        4        3 1\\n      17       15       30 1\\n      18       11       10 1\\n      19        8        7 1\\n      20       23       22 1\\n      21       12       10 1\\n      22       13       12 1\\n      23        2        1 1\\n      24        5        6 1\\n      25        2       25 1\\n      26       18       19 1\\n      27        8        9 1\\n      28       19       33 1\\n      29       17       14 1\\n      30       18       32 1\\n      31       28        8 1\\n      32       22        4 1\\n      33       20        9 1\\n      34        1       24 1\\n      35       13       29 1\\n      36       27        7 1\\n      37       22       36 1\\n      38       21       35 1\\n      39       21        6 1\\n@<TRIPOS>SUBSTRUCTURE\\n       1 RES             1 RESIDUE    0 **** ROOT      0\\n\",\"mol2\");\n\tviewer_16016866298493218.setStyle({\"stick\": {\"radius\": 0.2, \"color\": \"grey\"}, \"sphere\": {\"scale\": 0.3, \"colorscheme\": {}}});\n\tviewer_16016866298493218.zoomTo();\nviewer_16016866298493218.render();\n});\n</script>",
      "text/html": [
       "<div id=\"3dmolviewer_16016866298493218\"  style=\"position: relative; width: 640px; height: 480px\">\n",
       "        <p id=\"3dmolwarning_16016866298493218\" style=\"background-color:#ffcccc;color:black\">You appear to be running in JupyterLab (or JavaScript failed to load for some other reason).  You need to install the 3dmol extension: <br>\n",
       "        <tt>jupyter labextension install jupyterlab_3dmol</tt></p>\n",
       "        </div>\n",
       "<script>\n",
       "\n",
       "var loadScriptAsync = function(uri){\n",
       "  return new Promise((resolve, reject) => {\n",
       "    var tag = document.createElement('script');\n",
       "    tag.src = uri;\n",
       "    tag.async = true;\n",
       "    tag.onload = () => {\n",
       "      resolve();\n",
       "    };\n",
       "  var firstScriptTag = document.getElementsByTagName('script')[0];\n",
       "  firstScriptTag.parentNode.insertBefore(tag, firstScriptTag);\n",
       "});\n",
       "};\n",
       "\n",
       "if(typeof $3Dmolpromise === 'undefined') {\n",
       "$3Dmolpromise = null;\n",
       "  $3Dmolpromise = loadScriptAsync('https://3dmol.csb.pitt.edu/build/3Dmol.js');\n",
       "}\n",
       "\n",
       "var viewer_16016866298493218 = null;\n",
       "var warn = document.getElementById(\"3dmolwarning_16016866298493218\");\n",
       "if(warn) {\n",
       "    warn.parentNode.removeChild(warn);\n",
       "}\n",
       "$3Dmolpromise.then(function() {\n",
       "viewer_16016866298493218 = $3Dmol.createViewer($(\"#3dmolviewer_16016866298493218\"),{backgroundColor:\"white\"});\n",
       "\tviewer_16016866298493218.addModel(\"@<TRIPOS>MOLECULE\\nRES\\n37 39 1 0 1\\nSMALL\\nNO_CHARGES\\n@<TRIPOS>CRYSIN\\n   14.7992    16.7666    11.0765    90.0000    90.0000    90.0000  1  1\\n@<TRIPOS>ATOM\\n       1 C            1.3900    -0.2032     0.0185 C             1 RES     \\n       2 C            0.8502     1.0823     0.0065 C             1 RES     \\n       3 C           -0.5369     1.2614     0.0028 C             1 RES     \\n       4 C           -1.3887     0.1550    -0.0806 C             1 RES     \\n       5 O           -2.7319     0.4403    -0.2431 O             1 RES     \\n       6 C           -3.6358    -0.5949    -0.2917 C             1 RES     \\n       7 C           -4.4783    -0.7059    -1.3996 C             1 RES     \\n       8 C           -5.4546    -1.7119    -1.4356 C             1 RES     \\n       9 C           -5.5306    -2.6601    -0.4033 C             1 RES     \\n      10 C           -6.4558    -3.8223    -0.5413 C             1 RES     \\n      11 O           -7.1486    -3.9591    -1.5504 O             1 RES     \\n      12 C           -6.5428    -4.8700     0.5015 C             1 RES     \\n      13 C           -6.3502    -6.2129     0.1525 C             1 RES     \\n      14 C           -6.5855    -7.1981     1.1166 C             1 RES     \\n      15 C           -6.6457    -8.6190     0.7232 C             1 RES     \\n      16 O           -6.9441    -9.4984     1.5318 O             1 RES     \\n      17 C           -6.8849    -6.8461     2.4377 C             1 RES     \\n      18 C           -7.0505    -5.5070     2.7814 C             1 RES     \\n      19 C           -6.9156    -4.5216     1.8062 C             1 RES     \\n      20 C           -4.6799    -2.5316     0.7003 C             1 RES     \\n      21 C           -3.7744    -1.4775     0.7773 C             1 RES     \\n      22 C           -0.8338    -1.1289    -0.0694 C             1 RES     \\n      23 C            0.5464    -1.3083     0.0024 C             1 RES     \\n      24 H            2.4668    -0.3473     0.0359 H             1 RES     \\n      25 H            1.5118     1.9445    -0.0171 H             1 RES     \\n      26 H           -0.9463     2.2681     0.0420 H             1 RES     \\n      27 H           -4.3698    -0.0269    -2.2424 H             1 RES     \\n      28 H           -6.1410    -1.7632    -2.2806 H             1 RES     \\n      29 H           -6.0596    -6.4759    -0.8621 H             1 RES     \\n      30 H           -6.4612    -8.8580    -0.3344 H             1 RES     \\n      31 H           -7.0335    -7.6190     3.1902 H             1 RES     \\n      32 H           -7.3324    -5.2376     3.7960 H             1 RES     \\n      33 H           -7.1082    -3.4840     2.0682 H             1 RES     \\n      34 H           -4.6850    -3.2394     1.5208 H             1 RES     \\n      35 H           -3.1350    -1.3866     1.6508 H             1 RES     \\n      36 H           -1.4489    -2.0193    -0.1266 H             1 RES     \\n      37 H            0.9547    -2.3149     0.0150 H             1 RES     \\n@<TRIPOS>BOND\\n       1        2        3 1\\n       2       17       31 1\\n       3       26        3 1\\n       4        6        7 1\\n       5       15       14 1\\n       6        5        4 1\\n       7       19       12 1\\n       8       21       20 1\\n       9       15       16 1\\n      10        9       10 1\\n      11       34       20 1\\n      12       13       14 1\\n      13        1       23 1\\n      14       23       37 1\\n      15       18       17 1\\n      16        4        3 1\\n      17       15       30 1\\n      18       11       10 1\\n      19        8        7 1\\n      20       23       22 1\\n      21       12       10 1\\n      22       13       12 1\\n      23        2        1 1\\n      24        5        6 1\\n      25        2       25 1\\n      26       18       19 1\\n      27        8        9 1\\n      28       19       33 1\\n      29       17       14 1\\n      30       18       32 1\\n      31       28        8 1\\n      32       22        4 1\\n      33       20        9 1\\n      34        1       24 1\\n      35       13       29 1\\n      36       27        7 1\\n      37       22       36 1\\n      38       21       35 1\\n      39       21        6 1\\n@<TRIPOS>SUBSTRUCTURE\\n       1 RES             1 RESIDUE    0 **** ROOT      0\\n\",\"mol2\");\n",
       "\tviewer_16016866298493218.setStyle({\"stick\": {\"radius\": 0.2, \"color\": \"grey\"}, \"sphere\": {\"scale\": 0.3, \"colorscheme\": {}}});\n",
       "\tviewer_16016866298493218.zoomTo();\n",
       "viewer_16016866298493218.render();\n",
       "});\n",
       "</script>"
      ]
     },
     "metadata": {},
     "output_type": "display_data"
    },
    {
     "name": "stdout",
     "output_type": "stream",
     "text": [
      "c3ccc(oc2ccc(C(=o)c1cc(C=o)ccc1)cc2)cc3\n"
     ]
    }
   ],
   "source": [
    "pekk_meta_smiles = smiles_utils.convert_smiles(deep = pekk_deep_meta)\n",
    "smiles_utils.viz(smiles_string=pekk_meta_smiles, deep=False)\n",
    "print(pekk_meta_smiles)"
   ]
  },
  {
   "cell_type": "code",
   "execution_count": 48,
   "metadata": {},
   "outputs": [
    {
     "name": "stderr",
     "output_type": "stream",
     "text": [
      "/home/chris/miniconda3/envs/uli/lib/python3.7/site-packages/ipykernel/ipkernel.py:287: DeprecationWarning: `should_run_async` will not call `transform_cell` automatically in the future. Please pass the result to `transformed_cell` argument and any exception that happen during thetransform in `preprocessing_exc_tuple` in IPython 7.17 and above.\n",
      "  and should_run_async(code)\n",
      "/home/chris/cme/forks/mbuild/mbuild/conversion.py:687: UserWarning: No unitcell detected for pybel.Molecule O=C1C=CC(=C[CH]1)C(=O)c1ccc(Oc2ccccc2)cc1\t\n",
      "\n",
      "  warn(\"No unitcell detected for pybel.Molecule {}\".format(pybel_mol))\n"
     ]
    },
    {
     "data": {
      "application/3dmoljs_load.v0": "<div id=\"3dmolviewer_16016786648895066\"  style=\"position: relative; width: 640px; height: 480px\">\n        <p id=\"3dmolwarning_16016786648895066\" style=\"background-color:#ffcccc;color:black\">You appear to be running in JupyterLab (or JavaScript failed to load for some other reason).  You need to install the 3dmol extension: <br>\n        <tt>jupyter labextension install jupyterlab_3dmol</tt></p>\n        </div>\n<script>\n\nvar loadScriptAsync = function(uri){\n  return new Promise((resolve, reject) => {\n    var tag = document.createElement('script');\n    tag.src = uri;\n    tag.async = true;\n    tag.onload = () => {\n      resolve();\n    };\n  var firstScriptTag = document.getElementsByTagName('script')[0];\n  firstScriptTag.parentNode.insertBefore(tag, firstScriptTag);\n});\n};\n\nif(typeof $3Dmolpromise === 'undefined') {\n$3Dmolpromise = null;\n  $3Dmolpromise = loadScriptAsync('https://3dmol.csb.pitt.edu/build/3Dmol.js');\n}\n\nvar viewer_16016786648895066 = null;\nvar warn = document.getElementById(\"3dmolwarning_16016786648895066\");\nif(warn) {\n    warn.parentNode.removeChild(warn);\n}\n$3Dmolpromise.then(function() {\nviewer_16016786648895066 = $3Dmol.createViewer($(\"#3dmolviewer_16016786648895066\"),{backgroundColor:\"white\"});\n\tviewer_16016786648895066.addModel(\"@<TRIPOS>MOLECULE\\nRES\\n35 37 1 0 1\\nSMALL\\nNO_CHARGES\\n@<TRIPOS>CRYSIN\\n   13.9820    16.3064    11.3137    90.0000    90.0000    90.0000  1  1\\n@<TRIPOS>ATOM\\n       1 O            0.8892    -0.0546    -0.0976 O             1 RES     \\n       2 C            2.1175    -0.0533    -0.1222 C             1 RES     \\n       3 C            2.9147    -1.2970    -0.0655 C             1 RES     \\n       4 C            4.2573    -1.2417    -0.0770 C             1 RES     \\n       5 C            4.9986     0.0178    -0.0952 C             1 RES     \\n       6 C            6.5048    -0.0200    -0.1161 C             1 RES     \\n       7 O            7.1255    -1.0767    -0.1760 O             1 RES     \\n       8 C            7.2670     1.2454    -0.0753 C             1 RES     \\n       9 C            8.2014     1.5405    -1.0726 C             1 RES     \\n      10 C            8.9741     2.7047    -0.9692 C             1 RES     \\n      11 C            8.7379     3.6200     0.0667 C             1 RES     \\n      12 O            9.4252     4.8148    -0.0033 O             1 RES     \\n      13 C            9.3349     5.7205     1.0321 C             1 RES     \\n      14 C            9.0521     7.0513     0.7163 C             1 RES     \\n      15 C            9.1168     8.0301     1.7130 C             1 RES     \\n      16 C            9.3714     7.6677     3.0365 C             1 RES     \\n      17 C            9.6160     6.3348     3.3580 C             1 RES     \\n      18 C            9.6374     5.3710     2.3516 C             1 RES     \\n      19 C            7.7861     3.3149     1.0416 C             1 RES     \\n      20 C            7.0824     2.1183     0.9960 C             1 RES     \\n      21 C            4.3211     1.1784    -0.1659 C             1 RES     \\n      22 C            2.8869     1.1916    -0.2798 C             1 RES     \\n      23 H            2.3616    -2.2271    -0.0640 H             1 RES     \\n      24 H            4.8330    -2.1648    -0.0852 H             1 RES     \\n      25 H            8.3220     0.8786    -1.9283 H             1 RES     \\n      26 H            9.7542     2.8969    -1.7039 H             1 RES     \\n      27 H            8.7943     7.3358    -0.3006 H             1 RES     \\n      28 H            8.9877     9.0793     1.4582 H             1 RES     \\n      29 H            9.3912     8.4252     3.8162 H             1 RES     \\n      30 H            9.8201     6.0464     4.3854 H             1 RES     \\n      31 H            9.8711     4.3417     2.6069 H             1 RES     \\n      32 H            7.5684     3.9888     1.8621 H             1 RES     \\n      33 H            6.3683     1.9003     1.7849 H             1 RES     \\n      34 H            4.7907     2.1544    -0.2071 H             1 RES     \\n      35 H            2.4212     1.9690    -0.8711 H             1 RES     \\n@<TRIPOS>BOND\\n       1       10       26 1\\n       2        5        6 1\\n       3       15       28 1\\n       4       18       13 1\\n       5       25        9 1\\n       6       20       33 1\\n       7        5        4 1\\n       8       21       22 1\\n       9       30       17 1\\n      10       19       32 1\\n      11        3        2 1\\n      12       17       16 1\\n      13        3        4 1\\n      14       14       13 1\\n      15        2       22 1\\n      16       11       10 1\\n      17       14       27 1\\n      18       15       16 1\\n      19        1        2 1\\n      20       18       17 1\\n      21       14       15 1\\n      22       11       19 1\\n      23       21        5 1\\n      24        8       20 1\\n      25       29       16 1\\n      26       21       34 1\\n      27       10        9 1\\n      28       31       18 1\\n      29       12       11 1\\n      30       24        4 1\\n      31        7        6 1\\n      32        8        6 1\\n      33       22       35 1\\n      34        8        9 1\\n      35       20       19 1\\n      36       12       13 1\\n      37        3       23 1\\n@<TRIPOS>SUBSTRUCTURE\\n       1 RES             1 RESIDUE    0 **** ROOT      0\\n\",\"mol2\");\n\tviewer_16016786648895066.setStyle({\"stick\": {\"radius\": 0.2, \"color\": \"grey\"}, \"sphere\": {\"scale\": 0.3, \"colorscheme\": {}}});\n\tviewer_16016786648895066.zoomTo();\nviewer_16016786648895066.render();\n});\n</script>",
      "text/html": [
       "<div id=\"3dmolviewer_16016786648895066\"  style=\"position: relative; width: 640px; height: 480px\">\n",
       "        <p id=\"3dmolwarning_16016786648895066\" style=\"background-color:#ffcccc;color:black\">You appear to be running in JupyterLab (or JavaScript failed to load for some other reason).  You need to install the 3dmol extension: <br>\n",
       "        <tt>jupyter labextension install jupyterlab_3dmol</tt></p>\n",
       "        </div>\n",
       "<script>\n",
       "\n",
       "var loadScriptAsync = function(uri){\n",
       "  return new Promise((resolve, reject) => {\n",
       "    var tag = document.createElement('script');\n",
       "    tag.src = uri;\n",
       "    tag.async = true;\n",
       "    tag.onload = () => {\n",
       "      resolve();\n",
       "    };\n",
       "  var firstScriptTag = document.getElementsByTagName('script')[0];\n",
       "  firstScriptTag.parentNode.insertBefore(tag, firstScriptTag);\n",
       "});\n",
       "};\n",
       "\n",
       "if(typeof $3Dmolpromise === 'undefined') {\n",
       "$3Dmolpromise = null;\n",
       "  $3Dmolpromise = loadScriptAsync('https://3dmol.csb.pitt.edu/build/3Dmol.js');\n",
       "}\n",
       "\n",
       "var viewer_16016786648895066 = null;\n",
       "var warn = document.getElementById(\"3dmolwarning_16016786648895066\");\n",
       "if(warn) {\n",
       "    warn.parentNode.removeChild(warn);\n",
       "}\n",
       "$3Dmolpromise.then(function() {\n",
       "viewer_16016786648895066 = $3Dmol.createViewer($(\"#3dmolviewer_16016786648895066\"),{backgroundColor:\"white\"});\n",
       "\tviewer_16016786648895066.addModel(\"@<TRIPOS>MOLECULE\\nRES\\n35 37 1 0 1\\nSMALL\\nNO_CHARGES\\n@<TRIPOS>CRYSIN\\n   13.9820    16.3064    11.3137    90.0000    90.0000    90.0000  1  1\\n@<TRIPOS>ATOM\\n       1 O            0.8892    -0.0546    -0.0976 O             1 RES     \\n       2 C            2.1175    -0.0533    -0.1222 C             1 RES     \\n       3 C            2.9147    -1.2970    -0.0655 C             1 RES     \\n       4 C            4.2573    -1.2417    -0.0770 C             1 RES     \\n       5 C            4.9986     0.0178    -0.0952 C             1 RES     \\n       6 C            6.5048    -0.0200    -0.1161 C             1 RES     \\n       7 O            7.1255    -1.0767    -0.1760 O             1 RES     \\n       8 C            7.2670     1.2454    -0.0753 C             1 RES     \\n       9 C            8.2014     1.5405    -1.0726 C             1 RES     \\n      10 C            8.9741     2.7047    -0.9692 C             1 RES     \\n      11 C            8.7379     3.6200     0.0667 C             1 RES     \\n      12 O            9.4252     4.8148    -0.0033 O             1 RES     \\n      13 C            9.3349     5.7205     1.0321 C             1 RES     \\n      14 C            9.0521     7.0513     0.7163 C             1 RES     \\n      15 C            9.1168     8.0301     1.7130 C             1 RES     \\n      16 C            9.3714     7.6677     3.0365 C             1 RES     \\n      17 C            9.6160     6.3348     3.3580 C             1 RES     \\n      18 C            9.6374     5.3710     2.3516 C             1 RES     \\n      19 C            7.7861     3.3149     1.0416 C             1 RES     \\n      20 C            7.0824     2.1183     0.9960 C             1 RES     \\n      21 C            4.3211     1.1784    -0.1659 C             1 RES     \\n      22 C            2.8869     1.1916    -0.2798 C             1 RES     \\n      23 H            2.3616    -2.2271    -0.0640 H             1 RES     \\n      24 H            4.8330    -2.1648    -0.0852 H             1 RES     \\n      25 H            8.3220     0.8786    -1.9283 H             1 RES     \\n      26 H            9.7542     2.8969    -1.7039 H             1 RES     \\n      27 H            8.7943     7.3358    -0.3006 H             1 RES     \\n      28 H            8.9877     9.0793     1.4582 H             1 RES     \\n      29 H            9.3912     8.4252     3.8162 H             1 RES     \\n      30 H            9.8201     6.0464     4.3854 H             1 RES     \\n      31 H            9.8711     4.3417     2.6069 H             1 RES     \\n      32 H            7.5684     3.9888     1.8621 H             1 RES     \\n      33 H            6.3683     1.9003     1.7849 H             1 RES     \\n      34 H            4.7907     2.1544    -0.2071 H             1 RES     \\n      35 H            2.4212     1.9690    -0.8711 H             1 RES     \\n@<TRIPOS>BOND\\n       1       10       26 1\\n       2        5        6 1\\n       3       15       28 1\\n       4       18       13 1\\n       5       25        9 1\\n       6       20       33 1\\n       7        5        4 1\\n       8       21       22 1\\n       9       30       17 1\\n      10       19       32 1\\n      11        3        2 1\\n      12       17       16 1\\n      13        3        4 1\\n      14       14       13 1\\n      15        2       22 1\\n      16       11       10 1\\n      17       14       27 1\\n      18       15       16 1\\n      19        1        2 1\\n      20       18       17 1\\n      21       14       15 1\\n      22       11       19 1\\n      23       21        5 1\\n      24        8       20 1\\n      25       29       16 1\\n      26       21       34 1\\n      27       10        9 1\\n      28       31       18 1\\n      29       12       11 1\\n      30       24        4 1\\n      31        7        6 1\\n      32        8        6 1\\n      33       22       35 1\\n      34        8        9 1\\n      35       20       19 1\\n      36       12       13 1\\n      37        3       23 1\\n@<TRIPOS>SUBSTRUCTURE\\n       1 RES             1 RESIDUE    0 **** ROOT      0\\n\",\"mol2\");\n",
       "\tviewer_16016786648895066.setStyle({\"stick\": {\"radius\": 0.2, \"color\": \"grey\"}, \"sphere\": {\"scale\": 0.3, \"colorscheme\": {}}});\n",
       "\tviewer_16016786648895066.zoomTo();\n",
       "viewer_16016786648895066.render();\n",
       "});\n",
       "</script>"
      ]
     },
     "metadata": {},
     "output_type": "display_data"
    }
   ],
   "source": [
    "smiles_utils.viz(smiles_string='occccC=O)ccccOcccccc6)))))))cc6)))))))cc6', deep=True)"
   ]
  },
  {
   "cell_type": "code",
   "execution_count": null,
   "metadata": {},
   "outputs": [],
   "source": []
  },
  {
   "cell_type": "code",
   "execution_count": null,
   "metadata": {},
   "outputs": [],
   "source": []
  },
  {
   "cell_type": "code",
   "execution_count": 16,
   "metadata": {},
   "outputs": [
    {
     "name": "stdout",
     "output_type": "stream",
     "text": [
      "oc3ccc(C(=O)c2ccc(Oc1ccccc1)cc2)cc3\n"
     ]
    },
    {
     "name": "stderr",
     "output_type": "stream",
     "text": [
      "/home/chris/miniconda3/envs/uli/lib/python3.7/site-packages/ipykernel/ipkernel.py:287: DeprecationWarning: `should_run_async` will not call `transform_cell` automatically in the future. Please pass the result to `transformed_cell` argument and any exception that happen during thetransform in `preprocessing_exc_tuple` in IPython 7.17 and above.\n",
      "  and should_run_async(code)\n"
     ]
    }
   ],
   "source": [
    "peek_smiles = smiles_utils.convert_smiles(deep='occccC=O)ccccOcccccc6)))))))cc6)))))))cc6')\n",
    "print(peek_smiles)"
   ]
  },
  {
   "cell_type": "code",
   "execution_count": 17,
   "metadata": {},
   "outputs": [
    {
     "name": "stdout",
     "output_type": "stream",
     "text": [
      "oc3ccc(C(=O)c2ccc(Oc1ccccc1)cc2)cc3\n"
     ]
    },
    {
     "name": "stderr",
     "output_type": "stream",
     "text": [
      "/home/chris/miniconda3/envs/uli/lib/python3.7/site-packages/ipykernel/ipkernel.py:287: DeprecationWarning: `should_run_async` will not call `transform_cell` automatically in the future. Please pass the result to `transformed_cell` argument and any exception that happen during thetransform in `preprocessing_exc_tuple` in IPython 7.17 and above.\n",
      "  and should_run_async(code)\n"
     ]
    }
   ],
   "source": [
    "peek_monomer = polysmiles.poly_smiles('occccC=O)ccccOcc*c*ccc6)))))))cc6)))))))cc6',\n",
    "                                       length=1)\n",
    "print(peek_monomer)\n",
    "peek_2mer = polysmiles.poly_smiles('occccC=O)ccccOcc*c*ccc6)))))))cc6)))))))cc6',\n",
    "                                       length=2)"
   ]
  },
  {
   "cell_type": "code",
   "execution_count": 8,
   "metadata": {},
   "outputs": [
    {
     "name": "stderr",
     "output_type": "stream",
     "text": [
      "/home/chris/miniconda3/envs/uli/lib/python3.7/site-packages/ipykernel/ipkernel.py:287: DeprecationWarning: `should_run_async` will not call `transform_cell` automatically in the future. Please pass the result to `transformed_cell` argument and any exception that happen during thetransform in `preprocessing_exc_tuple` in IPython 7.17 and above.\n",
      "  and should_run_async(code)\n",
      "/home/chris/cme/forks/mbuild/mbuild/conversion.py:687: UserWarning: No unitcell detected for pybel.Molecule O=C1C=CC(=C[CH]1)C(=O)c1ccc(Oc2ccccc2)cc1\t\n",
      "\n",
      "  warn(\"No unitcell detected for pybel.Molecule {}\".format(pybel_mol))\n",
      "/home/chris/cme/forks/mbuild/mbuild/conversion.py:687: UserWarning: No unitcell detected for pybel.Molecule O=C1C=CC(=C[CH]1)C(=O)c1ccc(Oc2cc(Oc3ccc(C(=O)c4ccc(Oc5ccccc5)cc4)cc3)ccc2)cc1\t\n",
      "\n",
      "  warn(\"No unitcell detected for pybel.Molecule {}\".format(pybel_mol))\n"
     ]
    }
   ],
   "source": [
    "monomer = mb.load(peek_monomer, smiles=True)\n",
    "twomer = mb.load(peek_2mer, smiles=True)"
   ]
  },
  {
   "cell_type": "code",
   "execution_count": 13,
   "metadata": {},
   "outputs": [
    {
     "name": "stderr",
     "output_type": "stream",
     "text": [
      "/home/chris/miniconda3/envs/uli/lib/python3.7/site-packages/ipykernel/ipkernel.py:287: DeprecationWarning: `should_run_async` will not call `transform_cell` automatically in the future. Please pass the result to `transformed_cell` argument and any exception that happen during thetransform in `preprocessing_exc_tuple` in IPython 7.17 and above.\n",
      "  and should_run_async(code)\n"
     ]
    },
    {
     "data": {
      "application/3dmoljs_load.v0": "<div id=\"3dmolviewer_16016690055163019\"  style=\"position: relative; width: 640px; height: 480px\">\n        <p id=\"3dmolwarning_16016690055163019\" style=\"background-color:#ffcccc;color:black\">You appear to be running in JupyterLab (or JavaScript failed to load for some other reason).  You need to install the 3dmol extension: <br>\n        <tt>jupyter labextension install jupyterlab_3dmol</tt></p>\n        </div>\n<script>\n\nvar loadScriptAsync = function(uri){\n  return new Promise((resolve, reject) => {\n    var tag = document.createElement('script');\n    tag.src = uri;\n    tag.async = true;\n    tag.onload = () => {\n      resolve();\n    };\n  var firstScriptTag = document.getElementsByTagName('script')[0];\n  firstScriptTag.parentNode.insertBefore(tag, firstScriptTag);\n});\n};\n\nif(typeof $3Dmolpromise === 'undefined') {\n$3Dmolpromise = null;\n  $3Dmolpromise = loadScriptAsync('https://3dmol.csb.pitt.edu/build/3Dmol.js');\n}\n\nvar viewer_16016690055163019 = null;\nvar warn = document.getElementById(\"3dmolwarning_16016690055163019\");\nif(warn) {\n    warn.parentNode.removeChild(warn);\n}\n$3Dmolpromise.then(function() {\nviewer_16016690055163019 = $3Dmol.createViewer($(\"#3dmolviewer_16016690055163019\"),{backgroundColor:\"white\"});\n\tviewer_16016690055163019.addModel(\"@<TRIPOS>MOLECULE\\nRES\\n35 37 1 0 1\\nSMALL\\nNO_CHARGES\\n@<TRIPOS>CRYSIN\\n   13.9820    16.3064    11.3137    90.0000    90.0000    90.0000  1  1\\n@<TRIPOS>ATOM\\n       1 O            0.8606    -0.0243    -0.0930 O             1 RES     \\n       2 C            2.0890    -0.0229    -0.1176 C             1 RES     \\n       3 C            2.8861    -1.2667    -0.0610 C             1 RES     \\n       4 C            4.2287    -1.2113    -0.0724 C             1 RES     \\n       5 C            4.9701     0.0481    -0.0907 C             1 RES     \\n       6 C            6.4762     0.0104    -0.1116 C             1 RES     \\n       7 O            7.0970    -1.0464    -0.1714 O             1 RES     \\n       8 C            7.2384     1.2757    -0.0708 C             1 RES     \\n       9 C            8.1728     1.5708    -1.0681 C             1 RES     \\n      10 C            8.9455     2.7350    -0.9647 C             1 RES     \\n      11 C            8.7094     3.6504     0.0713 C             1 RES     \\n      12 O            9.3966     4.8451     0.0012 O             1 RES     \\n      13 C            9.3063     5.7509     1.0367 C             1 RES     \\n      14 C            9.0235     7.0816     0.7209 C             1 RES     \\n      15 C            9.0883     8.0604     1.7176 C             1 RES     \\n      16 C            9.3429     7.6981     3.0411 C             1 RES     \\n      17 C            9.5874     6.3652     3.3626 C             1 RES     \\n      18 C            9.6088     5.4013     2.3561 C             1 RES     \\n      19 C            7.7575     3.3452     1.0462 C             1 RES     \\n      20 C            7.0538     2.1487     1.0006 C             1 RES     \\n      21 C            4.2925     1.2087    -0.1613 C             1 RES     \\n      22 C            2.8583     1.2220    -0.2753 C             1 RES     \\n      23 H            2.3330    -2.1968    -0.0595 H             1 RES     \\n      24 H            4.8044    -2.1345    -0.0807 H             1 RES     \\n      25 H            8.2934     0.9090    -1.9238 H             1 RES     \\n      26 H            9.7256     2.9272    -1.6994 H             1 RES     \\n      27 H            8.7657     7.3661    -0.2960 H             1 RES     \\n      28 H            8.9591     9.1097     1.4628 H             1 RES     \\n      29 H            9.3626     8.4556     3.8207 H             1 RES     \\n      30 H            9.7916     6.0768     4.3899 H             1 RES     \\n      31 H            9.8426     4.3720     2.6114 H             1 RES     \\n      32 H            7.5399     4.0191     1.8667 H             1 RES     \\n      33 H            6.3397     1.9307     1.7894 H             1 RES     \\n      34 H            4.7621     2.1848    -0.2026 H             1 RES     \\n      35 H            2.3927     1.9994    -0.8666 H             1 RES     \\n@<TRIPOS>BOND\\n       1       15       28 1\\n       2       17       30 1\\n       3        5       21 1\\n       4        6        8 1\\n       5       16       17 1\\n       6        1        2 1\\n       7       13       18 1\\n       8        8        9 1\\n       9       10       11 1\\n      10        8       20 1\\n      11       16       29 1\\n      12       20       33 1\\n      13       11       19 1\\n      14       22       35 1\\n      15        3        4 1\\n      16       15       16 1\\n      17       19       20 1\\n      18       11       12 1\\n      19        9       25 1\\n      20        3       23 1\\n      21       21       34 1\\n      22       19       32 1\\n      23        2       22 1\\n      24        4       24 1\\n      25       14       15 1\\n      26        4        5 1\\n      27        6        7 1\\n      28       12       13 1\\n      29        2        3 1\\n      30       21       22 1\\n      31       18       31 1\\n      32       14       27 1\\n      33       10       26 1\\n      34        5        6 1\\n      35       17       18 1\\n      36        9       10 1\\n      37       13       14 1\\n@<TRIPOS>SUBSTRUCTURE\\n       1 RES             1 RESIDUE    0 **** ROOT      0\\n\",\"mol2\");\n\tviewer_16016690055163019.setStyle({\"stick\": {\"radius\": 0.2, \"color\": \"grey\"}, \"sphere\": {\"scale\": 0.3, \"colorscheme\": {}}});\n\tviewer_16016690055163019.zoomTo();\nviewer_16016690055163019.render();\n});\n</script>",
      "text/html": [
       "<div id=\"3dmolviewer_16016690055163019\"  style=\"position: relative; width: 640px; height: 480px\">\n",
       "        <p id=\"3dmolwarning_16016690055163019\" style=\"background-color:#ffcccc;color:black\">You appear to be running in JupyterLab (or JavaScript failed to load for some other reason).  You need to install the 3dmol extension: <br>\n",
       "        <tt>jupyter labextension install jupyterlab_3dmol</tt></p>\n",
       "        </div>\n",
       "<script>\n",
       "\n",
       "var loadScriptAsync = function(uri){\n",
       "  return new Promise((resolve, reject) => {\n",
       "    var tag = document.createElement('script');\n",
       "    tag.src = uri;\n",
       "    tag.async = true;\n",
       "    tag.onload = () => {\n",
       "      resolve();\n",
       "    };\n",
       "  var firstScriptTag = document.getElementsByTagName('script')[0];\n",
       "  firstScriptTag.parentNode.insertBefore(tag, firstScriptTag);\n",
       "});\n",
       "};\n",
       "\n",
       "if(typeof $3Dmolpromise === 'undefined') {\n",
       "$3Dmolpromise = null;\n",
       "  $3Dmolpromise = loadScriptAsync('https://3dmol.csb.pitt.edu/build/3Dmol.js');\n",
       "}\n",
       "\n",
       "var viewer_16016690055163019 = null;\n",
       "var warn = document.getElementById(\"3dmolwarning_16016690055163019\");\n",
       "if(warn) {\n",
       "    warn.parentNode.removeChild(warn);\n",
       "}\n",
       "$3Dmolpromise.then(function() {\n",
       "viewer_16016690055163019 = $3Dmol.createViewer($(\"#3dmolviewer_16016690055163019\"),{backgroundColor:\"white\"});\n",
       "\tviewer_16016690055163019.addModel(\"@<TRIPOS>MOLECULE\\nRES\\n35 37 1 0 1\\nSMALL\\nNO_CHARGES\\n@<TRIPOS>CRYSIN\\n   13.9820    16.3064    11.3137    90.0000    90.0000    90.0000  1  1\\n@<TRIPOS>ATOM\\n       1 O            0.8606    -0.0243    -0.0930 O             1 RES     \\n       2 C            2.0890    -0.0229    -0.1176 C             1 RES     \\n       3 C            2.8861    -1.2667    -0.0610 C             1 RES     \\n       4 C            4.2287    -1.2113    -0.0724 C             1 RES     \\n       5 C            4.9701     0.0481    -0.0907 C             1 RES     \\n       6 C            6.4762     0.0104    -0.1116 C             1 RES     \\n       7 O            7.0970    -1.0464    -0.1714 O             1 RES     \\n       8 C            7.2384     1.2757    -0.0708 C             1 RES     \\n       9 C            8.1728     1.5708    -1.0681 C             1 RES     \\n      10 C            8.9455     2.7350    -0.9647 C             1 RES     \\n      11 C            8.7094     3.6504     0.0713 C             1 RES     \\n      12 O            9.3966     4.8451     0.0012 O             1 RES     \\n      13 C            9.3063     5.7509     1.0367 C             1 RES     \\n      14 C            9.0235     7.0816     0.7209 C             1 RES     \\n      15 C            9.0883     8.0604     1.7176 C             1 RES     \\n      16 C            9.3429     7.6981     3.0411 C             1 RES     \\n      17 C            9.5874     6.3652     3.3626 C             1 RES     \\n      18 C            9.6088     5.4013     2.3561 C             1 RES     \\n      19 C            7.7575     3.3452     1.0462 C             1 RES     \\n      20 C            7.0538     2.1487     1.0006 C             1 RES     \\n      21 C            4.2925     1.2087    -0.1613 C             1 RES     \\n      22 C            2.8583     1.2220    -0.2753 C             1 RES     \\n      23 H            2.3330    -2.1968    -0.0595 H             1 RES     \\n      24 H            4.8044    -2.1345    -0.0807 H             1 RES     \\n      25 H            8.2934     0.9090    -1.9238 H             1 RES     \\n      26 H            9.7256     2.9272    -1.6994 H             1 RES     \\n      27 H            8.7657     7.3661    -0.2960 H             1 RES     \\n      28 H            8.9591     9.1097     1.4628 H             1 RES     \\n      29 H            9.3626     8.4556     3.8207 H             1 RES     \\n      30 H            9.7916     6.0768     4.3899 H             1 RES     \\n      31 H            9.8426     4.3720     2.6114 H             1 RES     \\n      32 H            7.5399     4.0191     1.8667 H             1 RES     \\n      33 H            6.3397     1.9307     1.7894 H             1 RES     \\n      34 H            4.7621     2.1848    -0.2026 H             1 RES     \\n      35 H            2.3927     1.9994    -0.8666 H             1 RES     \\n@<TRIPOS>BOND\\n       1       15       28 1\\n       2       17       30 1\\n       3        5       21 1\\n       4        6        8 1\\n       5       16       17 1\\n       6        1        2 1\\n       7       13       18 1\\n       8        8        9 1\\n       9       10       11 1\\n      10        8       20 1\\n      11       16       29 1\\n      12       20       33 1\\n      13       11       19 1\\n      14       22       35 1\\n      15        3        4 1\\n      16       15       16 1\\n      17       19       20 1\\n      18       11       12 1\\n      19        9       25 1\\n      20        3       23 1\\n      21       21       34 1\\n      22       19       32 1\\n      23        2       22 1\\n      24        4       24 1\\n      25       14       15 1\\n      26        4        5 1\\n      27        6        7 1\\n      28       12       13 1\\n      29        2        3 1\\n      30       21       22 1\\n      31       18       31 1\\n      32       14       27 1\\n      33       10       26 1\\n      34        5        6 1\\n      35       17       18 1\\n      36        9       10 1\\n      37       13       14 1\\n@<TRIPOS>SUBSTRUCTURE\\n       1 RES             1 RESIDUE    0 **** ROOT      0\\n\",\"mol2\");\n",
       "\tviewer_16016690055163019.setStyle({\"stick\": {\"radius\": 0.2, \"color\": \"grey\"}, \"sphere\": {\"scale\": 0.3, \"colorscheme\": {}}});\n",
       "\tviewer_16016690055163019.zoomTo();\n",
       "viewer_16016690055163019.render();\n",
       "});\n",
       "</script>"
      ]
     },
     "metadata": {},
     "output_type": "display_data"
    },
    {
     "data": {
      "application/3dmoljs_load.v0": "<div id=\"3dmolviewer_16016690055238245\"  style=\"position: relative; width: 640px; height: 480px\">\n        <p id=\"3dmolwarning_16016690055238245\" style=\"background-color:#ffcccc;color:black\">You appear to be running in JupyterLab (or JavaScript failed to load for some other reason).  You need to install the 3dmol extension: <br>\n        <tt>jupyter labextension install jupyterlab_3dmol</tt></p>\n        </div>\n<script>\n\nvar loadScriptAsync = function(uri){\n  return new Promise((resolve, reject) => {\n    var tag = document.createElement('script');\n    tag.src = uri;\n    tag.async = true;\n    tag.onload = () => {\n      resolve();\n    };\n  var firstScriptTag = document.getElementsByTagName('script')[0];\n  firstScriptTag.parentNode.insertBefore(tag, firstScriptTag);\n});\n};\n\nif(typeof $3Dmolpromise === 'undefined') {\n$3Dmolpromise = null;\n  $3Dmolpromise = loadScriptAsync('https://3dmol.csb.pitt.edu/build/3Dmol.js');\n}\n\nvar viewer_16016690055238245 = null;\nvar warn = document.getElementById(\"3dmolwarning_16016690055238245\");\nif(warn) {\n    warn.parentNode.removeChild(warn);\n}\n$3Dmolpromise.then(function() {\nviewer_16016690055238245 = $3Dmol.createViewer($(\"#3dmolviewer_16016690055238245\"),{backgroundColor:\"white\"});\n\tviewer_16016690055238245.addModel(\"@<TRIPOS>MOLECULE\\nRES\\n69 74 1 0 1\\nSMALL\\nNO_CHARGES\\n@<TRIPOS>CRYSIN\\n   24.0959    22.4427    16.0396    90.0000    90.0000    90.0000  1  1\\n@<TRIPOS>ATOM\\n       1 O            0.9633    -0.0723     0.0627 O             1 RES     \\n       2 C            2.1946    -0.0705     0.0376 C             1 RES     \\n       3 C            2.9906    -1.3139     0.0948 C             1 RES     \\n       4 C            4.3336    -1.2581     0.0834 C             1 RES     \\n       5 C            5.0749     0.0018     0.0648 C             1 RES     \\n       6 C            6.5819    -0.0347     0.0443 C             1 RES     \\n       7 O            7.2027    -1.0913    -0.0159 O             1 RES     \\n       8 C            7.3447     1.2318     0.0862 C             1 RES     \\n       9 C            8.2802     1.5295    -0.9094 C             1 RES     \\n      10 C            9.0490     2.6992    -0.8084 C             1 RES     \\n      11 C            8.8087     3.6191     0.2237 C             1 RES     \\n      12 O            9.4784     4.8280     0.1475 O             1 RES     \\n      13 C            9.4074     5.7231     1.1982 C             1 RES     \\n      14 C            9.1430     7.0724     0.9197 C             1 RES     \\n      15 C            9.2143     8.0206     1.9543 C             1 RES     \\n      16 O            9.0955     9.3547     1.6198 O             1 RES     \\n      17 C            9.5287    10.3274     2.5044 C             1 RES     \\n      18 C            8.7158    11.4539     2.6212 C             1 RES     \\n      19 C            9.1062    12.5315     3.4263 C             1 RES     \\n      20 C           10.2651    12.4506     4.2093 C             1 RES     \\n      21 C           10.5565    13.5554     5.1754 C             1 RES     \\n      22 O            9.7952    14.5118     5.2848 O             1 RES     \\n      23 C           11.7615    13.5276     6.0301 C             1 RES     \\n      24 C           11.6596    13.6231     7.4224 C             1 RES     \\n      25 C           12.8268    13.6763     8.1990 C             1 RES     \\n      26 C           14.0841    13.5375     7.5939 C             1 RES     \\n      27 O           15.1725    13.4536     8.4415 O             1 RES     \\n      28 C           16.4359    13.3460     7.8997 C             1 RES     \\n      29 C           17.2288    12.2567     8.2660 C             1 RES     \\n      30 C           18.5494    12.1769     7.8122 C             1 RES     \\n      31 C           19.0471    13.1371     6.9297 C             1 RES     \\n      32 C           18.2497    14.2155     6.5524 C             1 RES     \\n      33 C           16.9618    14.3417     7.0707 C             1 RES     \\n      34 C           14.1603    13.4323     6.2029 C             1 RES     \\n      35 C           13.0123    13.4648     5.4221 C             1 RES     \\n      36 C           11.0714    11.3109     4.1031 C             1 RES     \\n      37 C           10.7300    10.2777     3.2224 C             1 RES     \\n      38 C            9.3910     7.5870     3.2694 C             1 RES     \\n      39 C            9.6693     6.2565     3.5436 C             1 RES     \\n      40 C            9.7155     5.3344     2.5061 C             1 RES     \\n      41 C            7.8597     3.3059     1.2004 C             1 RES     \\n      42 C            7.1600     2.1053     1.1567 C             1 RES     \\n      43 C            4.3966     1.1618    -0.0065 C             1 RES     \\n      44 C            2.9621     1.1744    -0.1204 C             1 RES     \\n      45 H            2.4377    -2.2442     0.0967 H             1 RES     \\n      46 H            4.9090    -2.1814     0.0755 H             1 RES     \\n      47 H            8.4026     0.8662    -1.7642 H             1 RES     \\n      48 H            9.8277     2.8898    -1.5450 H             1 RES     \\n      49 H            8.8936     7.3813    -0.0935 H             1 RES     \\n      50 H            7.7650    11.4876     2.0964 H             1 RES     \\n      51 H            8.4906    13.4292     3.4479 H             1 RES     \\n      52 H           10.6832    13.6473     7.9030 H             1 RES     \\n      53 H           12.7498    13.8203     9.2754 H             1 RES     \\n      54 H           16.8292    11.4707     8.9011 H             1 RES     \\n      55 H           19.1970    11.3719     8.1516 H             1 RES     \\n      56 H           20.0593    13.0498     6.5421 H             1 RES     \\n      57 H           18.6335    14.9684     5.8694 H             1 RES     \\n      58 H           16.3538    15.1984     6.7943 H             1 RES     \\n      59 H           15.1065    13.3306     5.6849 H             1 RES     \\n      60 H           13.1097    13.4130     4.3419 H             1 RES     \\n      61 H           11.9761    11.1927     4.6921 H             1 RES     \\n      62 H           11.3959     9.4205     3.1561 H             1 RES     \\n      63 H            9.3552     8.2845     4.0997 H             1 RES     \\n      64 H            9.8753     5.9522     4.5644 H             1 RES     \\n      65 H            9.9569     4.3012     2.7352 H             1 RES     \\n      66 H            7.6380     3.9778     2.0214 H             1 RES     \\n      67 H            6.4464     1.8852     1.9459 H             1 RES     \\n      68 H            4.8658     2.1380    -0.0482 H             1 RES     \\n      69 H            2.4951     1.9533    -0.7088 H             1 RES     \\n@<TRIPOS>BOND\\n       1       20       36 1\\n       2       68       43 1\\n       3       11       41 1\\n       4        8       42 1\\n       5       18       19 1\\n       6       28       33 1\\n       7       26       27 1\\n       8       34       35 1\\n       9        9       10 1\\n      10       44       43 1\\n      11       61       36 1\\n      12       15       38 1\\n      13       60       35 1\\n      14       19       20 1\\n      15       27       28 1\\n      16       31       32 1\\n      17        6        8 1\\n      18        4       46 1\\n      19       39       40 1\\n      20       23       24 1\\n      21       53       25 1\\n      22       15       16 1\\n      23       23       35 1\\n      24        1        2 1\\n      25       13       12 1\\n      26       54       29 1\\n      27       17       37 1\\n      28       69       44 1\\n      29        2        3 1\\n      30        5       43 1\\n      31       10       11 1\\n      32        6        7 1\\n      33       67       42 1\\n      34        2       44 1\\n      35       14       13 1\\n      36       63       38 1\\n      37       55       30 1\\n      38       59       34 1\\n      39       62       37 1\\n      40       30       31 1\\n      41       38       39 1\\n      42       52       24 1\\n      43       14       49 1\\n      44       11       12 1\\n      45        5        6 1\\n      46       56       31 1\\n      47       57       32 1\\n      48       65       40 1\\n      49       64       39 1\\n      50       41       42 1\\n      51       18       50 1\\n      52       21       22 1\\n      53       13       40 1\\n      54        3        4 1\\n      55       10       48 1\\n      56       51       19 1\\n      57       16       17 1\\n      58        3       45 1\\n      59       29       30 1\\n      60       26       34 1\\n      61       20       21 1\\n      62       28       29 1\\n      63       32       33 1\\n      64       36       37 1\\n      65       24       25 1\\n      66        9       47 1\\n      67       25       26 1\\n      68       17       18 1\\n      69        4        5 1\\n      70       21       23 1\\n      71       58       33 1\\n      72       66       41 1\\n      73       15       14 1\\n      74        8        9 1\\n@<TRIPOS>SUBSTRUCTURE\\n       1 RES             1 RESIDUE    0 **** ROOT      0\\n\",\"mol2\");\n\tviewer_16016690055238245.setStyle({\"stick\": {\"radius\": 0.2, \"color\": \"grey\"}, \"sphere\": {\"scale\": 0.3, \"colorscheme\": {}}});\n\tviewer_16016690055238245.zoomTo();\nviewer_16016690055238245.render();\n});\n</script>",
      "text/html": [
       "<div id=\"3dmolviewer_16016690055238245\"  style=\"position: relative; width: 640px; height: 480px\">\n",
       "        <p id=\"3dmolwarning_16016690055238245\" style=\"background-color:#ffcccc;color:black\">You appear to be running in JupyterLab (or JavaScript failed to load for some other reason).  You need to install the 3dmol extension: <br>\n",
       "        <tt>jupyter labextension install jupyterlab_3dmol</tt></p>\n",
       "        </div>\n",
       "<script>\n",
       "\n",
       "var loadScriptAsync = function(uri){\n",
       "  return new Promise((resolve, reject) => {\n",
       "    var tag = document.createElement('script');\n",
       "    tag.src = uri;\n",
       "    tag.async = true;\n",
       "    tag.onload = () => {\n",
       "      resolve();\n",
       "    };\n",
       "  var firstScriptTag = document.getElementsByTagName('script')[0];\n",
       "  firstScriptTag.parentNode.insertBefore(tag, firstScriptTag);\n",
       "});\n",
       "};\n",
       "\n",
       "if(typeof $3Dmolpromise === 'undefined') {\n",
       "$3Dmolpromise = null;\n",
       "  $3Dmolpromise = loadScriptAsync('https://3dmol.csb.pitt.edu/build/3Dmol.js');\n",
       "}\n",
       "\n",
       "var viewer_16016690055238245 = null;\n",
       "var warn = document.getElementById(\"3dmolwarning_16016690055238245\");\n",
       "if(warn) {\n",
       "    warn.parentNode.removeChild(warn);\n",
       "}\n",
       "$3Dmolpromise.then(function() {\n",
       "viewer_16016690055238245 = $3Dmol.createViewer($(\"#3dmolviewer_16016690055238245\"),{backgroundColor:\"white\"});\n",
       "\tviewer_16016690055238245.addModel(\"@<TRIPOS>MOLECULE\\nRES\\n69 74 1 0 1\\nSMALL\\nNO_CHARGES\\n@<TRIPOS>CRYSIN\\n   24.0959    22.4427    16.0396    90.0000    90.0000    90.0000  1  1\\n@<TRIPOS>ATOM\\n       1 O            0.9633    -0.0723     0.0627 O             1 RES     \\n       2 C            2.1946    -0.0705     0.0376 C             1 RES     \\n       3 C            2.9906    -1.3139     0.0948 C             1 RES     \\n       4 C            4.3336    -1.2581     0.0834 C             1 RES     \\n       5 C            5.0749     0.0018     0.0648 C             1 RES     \\n       6 C            6.5819    -0.0347     0.0443 C             1 RES     \\n       7 O            7.2027    -1.0913    -0.0159 O             1 RES     \\n       8 C            7.3447     1.2318     0.0862 C             1 RES     \\n       9 C            8.2802     1.5295    -0.9094 C             1 RES     \\n      10 C            9.0490     2.6992    -0.8084 C             1 RES     \\n      11 C            8.8087     3.6191     0.2237 C             1 RES     \\n      12 O            9.4784     4.8280     0.1475 O             1 RES     \\n      13 C            9.4074     5.7231     1.1982 C             1 RES     \\n      14 C            9.1430     7.0724     0.9197 C             1 RES     \\n      15 C            9.2143     8.0206     1.9543 C             1 RES     \\n      16 O            9.0955     9.3547     1.6198 O             1 RES     \\n      17 C            9.5287    10.3274     2.5044 C             1 RES     \\n      18 C            8.7158    11.4539     2.6212 C             1 RES     \\n      19 C            9.1062    12.5315     3.4263 C             1 RES     \\n      20 C           10.2651    12.4506     4.2093 C             1 RES     \\n      21 C           10.5565    13.5554     5.1754 C             1 RES     \\n      22 O            9.7952    14.5118     5.2848 O             1 RES     \\n      23 C           11.7615    13.5276     6.0301 C             1 RES     \\n      24 C           11.6596    13.6231     7.4224 C             1 RES     \\n      25 C           12.8268    13.6763     8.1990 C             1 RES     \\n      26 C           14.0841    13.5375     7.5939 C             1 RES     \\n      27 O           15.1725    13.4536     8.4415 O             1 RES     \\n      28 C           16.4359    13.3460     7.8997 C             1 RES     \\n      29 C           17.2288    12.2567     8.2660 C             1 RES     \\n      30 C           18.5494    12.1769     7.8122 C             1 RES     \\n      31 C           19.0471    13.1371     6.9297 C             1 RES     \\n      32 C           18.2497    14.2155     6.5524 C             1 RES     \\n      33 C           16.9618    14.3417     7.0707 C             1 RES     \\n      34 C           14.1603    13.4323     6.2029 C             1 RES     \\n      35 C           13.0123    13.4648     5.4221 C             1 RES     \\n      36 C           11.0714    11.3109     4.1031 C             1 RES     \\n      37 C           10.7300    10.2777     3.2224 C             1 RES     \\n      38 C            9.3910     7.5870     3.2694 C             1 RES     \\n      39 C            9.6693     6.2565     3.5436 C             1 RES     \\n      40 C            9.7155     5.3344     2.5061 C             1 RES     \\n      41 C            7.8597     3.3059     1.2004 C             1 RES     \\n      42 C            7.1600     2.1053     1.1567 C             1 RES     \\n      43 C            4.3966     1.1618    -0.0065 C             1 RES     \\n      44 C            2.9621     1.1744    -0.1204 C             1 RES     \\n      45 H            2.4377    -2.2442     0.0967 H             1 RES     \\n      46 H            4.9090    -2.1814     0.0755 H             1 RES     \\n      47 H            8.4026     0.8662    -1.7642 H             1 RES     \\n      48 H            9.8277     2.8898    -1.5450 H             1 RES     \\n      49 H            8.8936     7.3813    -0.0935 H             1 RES     \\n      50 H            7.7650    11.4876     2.0964 H             1 RES     \\n      51 H            8.4906    13.4292     3.4479 H             1 RES     \\n      52 H           10.6832    13.6473     7.9030 H             1 RES     \\n      53 H           12.7498    13.8203     9.2754 H             1 RES     \\n      54 H           16.8292    11.4707     8.9011 H             1 RES     \\n      55 H           19.1970    11.3719     8.1516 H             1 RES     \\n      56 H           20.0593    13.0498     6.5421 H             1 RES     \\n      57 H           18.6335    14.9684     5.8694 H             1 RES     \\n      58 H           16.3538    15.1984     6.7943 H             1 RES     \\n      59 H           15.1065    13.3306     5.6849 H             1 RES     \\n      60 H           13.1097    13.4130     4.3419 H             1 RES     \\n      61 H           11.9761    11.1927     4.6921 H             1 RES     \\n      62 H           11.3959     9.4205     3.1561 H             1 RES     \\n      63 H            9.3552     8.2845     4.0997 H             1 RES     \\n      64 H            9.8753     5.9522     4.5644 H             1 RES     \\n      65 H            9.9569     4.3012     2.7352 H             1 RES     \\n      66 H            7.6380     3.9778     2.0214 H             1 RES     \\n      67 H            6.4464     1.8852     1.9459 H             1 RES     \\n      68 H            4.8658     2.1380    -0.0482 H             1 RES     \\n      69 H            2.4951     1.9533    -0.7088 H             1 RES     \\n@<TRIPOS>BOND\\n       1       20       36 1\\n       2       68       43 1\\n       3       11       41 1\\n       4        8       42 1\\n       5       18       19 1\\n       6       28       33 1\\n       7       26       27 1\\n       8       34       35 1\\n       9        9       10 1\\n      10       44       43 1\\n      11       61       36 1\\n      12       15       38 1\\n      13       60       35 1\\n      14       19       20 1\\n      15       27       28 1\\n      16       31       32 1\\n      17        6        8 1\\n      18        4       46 1\\n      19       39       40 1\\n      20       23       24 1\\n      21       53       25 1\\n      22       15       16 1\\n      23       23       35 1\\n      24        1        2 1\\n      25       13       12 1\\n      26       54       29 1\\n      27       17       37 1\\n      28       69       44 1\\n      29        2        3 1\\n      30        5       43 1\\n      31       10       11 1\\n      32        6        7 1\\n      33       67       42 1\\n      34        2       44 1\\n      35       14       13 1\\n      36       63       38 1\\n      37       55       30 1\\n      38       59       34 1\\n      39       62       37 1\\n      40       30       31 1\\n      41       38       39 1\\n      42       52       24 1\\n      43       14       49 1\\n      44       11       12 1\\n      45        5        6 1\\n      46       56       31 1\\n      47       57       32 1\\n      48       65       40 1\\n      49       64       39 1\\n      50       41       42 1\\n      51       18       50 1\\n      52       21       22 1\\n      53       13       40 1\\n      54        3        4 1\\n      55       10       48 1\\n      56       51       19 1\\n      57       16       17 1\\n      58        3       45 1\\n      59       29       30 1\\n      60       26       34 1\\n      61       20       21 1\\n      62       28       29 1\\n      63       32       33 1\\n      64       36       37 1\\n      65       24       25 1\\n      66        9       47 1\\n      67       25       26 1\\n      68       17       18 1\\n      69        4        5 1\\n      70       21       23 1\\n      71       58       33 1\\n      72       66       41 1\\n      73       15       14 1\\n      74        8        9 1\\n@<TRIPOS>SUBSTRUCTURE\\n       1 RES             1 RESIDUE    0 **** ROOT      0\\n\",\"mol2\");\n",
       "\tviewer_16016690055238245.setStyle({\"stick\": {\"radius\": 0.2, \"color\": \"grey\"}, \"sphere\": {\"scale\": 0.3, \"colorscheme\": {}}});\n",
       "\tviewer_16016690055238245.zoomTo();\n",
       "viewer_16016690055238245.render();\n",
       "});\n",
       "</script>"
      ]
     },
     "metadata": {},
     "output_type": "display_data"
    }
   ],
   "source": [
    "monomer.visualize().show()\n",
    "twomer.visualize().show()"
   ]
  },
  {
   "cell_type": "code",
   "execution_count": 12,
   "metadata": {},
   "outputs": [
    {
     "name": "stderr",
     "output_type": "stream",
     "text": [
      "/home/chris/miniconda3/envs/uli/lib/python3.7/site-packages/ipykernel/ipkernel.py:287: DeprecationWarning: `should_run_async` will not call `transform_cell` automatically in the future. Please pass the result to `transformed_cell` argument and any exception that happen during thetransform in `preprocessing_exc_tuple` in IPython 7.17 and above.\n",
      "  and should_run_async(code)\n"
     ]
    },
    {
     "data": {
      "application/3dmoljs_load.v0": "<div id=\"3dmolviewer_16016689984380622\"  style=\"position: relative; width: 640px; height: 480px\">\n        <p id=\"3dmolwarning_16016689984380622\" style=\"background-color:#ffcccc;color:black\">You appear to be running in JupyterLab (or JavaScript failed to load for some other reason).  You need to install the 3dmol extension: <br>\n        <tt>jupyter labextension install jupyterlab_3dmol</tt></p>\n        </div>\n<script>\n\nvar loadScriptAsync = function(uri){\n  return new Promise((resolve, reject) => {\n    var tag = document.createElement('script');\n    tag.src = uri;\n    tag.async = true;\n    tag.onload = () => {\n      resolve();\n    };\n  var firstScriptTag = document.getElementsByTagName('script')[0];\n  firstScriptTag.parentNode.insertBefore(tag, firstScriptTag);\n});\n};\n\nif(typeof $3Dmolpromise === 'undefined') {\n$3Dmolpromise = null;\n  $3Dmolpromise = loadScriptAsync('https://3dmol.csb.pitt.edu/build/3Dmol.js');\n}\n\nvar viewer_16016689984380622 = null;\nvar warn = document.getElementById(\"3dmolwarning_16016689984380622\");\nif(warn) {\n    warn.parentNode.removeChild(warn);\n}\n$3Dmolpromise.then(function() {\nviewer_16016689984380622 = $3Dmol.createViewer($(\"#3dmolviewer_16016689984380622\"),{backgroundColor:\"white\"});\n\tviewer_16016689984380622.addModel(\"@<TRIPOS>MOLECULE\\nRES\\n69 74 1 0 1\\nSMALL\\nNO_CHARGES\\n@<TRIPOS>CRYSIN\\n   24.0959    22.4427    16.0396    90.0000    90.0000    90.0000  1  1\\n@<TRIPOS>ATOM\\n       1 O            0.9633    -0.0723     0.0627 O             1 RES     \\n       2 C            2.1946    -0.0705     0.0376 C             1 RES     \\n       3 C            2.9906    -1.3139     0.0948 C             1 RES     \\n       4 C            4.3336    -1.2581     0.0834 C             1 RES     \\n       5 C            5.0749     0.0018     0.0648 C             1 RES     \\n       6 C            6.5819    -0.0347     0.0443 C             1 RES     \\n       7 O            7.2027    -1.0913    -0.0159 O             1 RES     \\n       8 C            7.3447     1.2318     0.0862 C             1 RES     \\n       9 C            8.2802     1.5295    -0.9094 C             1 RES     \\n      10 C            9.0490     2.6992    -0.8084 C             1 RES     \\n      11 C            8.8087     3.6191     0.2237 C             1 RES     \\n      12 O            9.4784     4.8280     0.1475 O             1 RES     \\n      13 C            9.4074     5.7231     1.1982 C             1 RES     \\n      14 C            9.1430     7.0724     0.9197 C             1 RES     \\n      15 C            9.2143     8.0206     1.9543 C             1 RES     \\n      16 O            9.0955     9.3547     1.6198 O             1 RES     \\n      17 C            9.5287    10.3274     2.5044 C             1 RES     \\n      18 C            8.7158    11.4539     2.6212 C             1 RES     \\n      19 C            9.1062    12.5315     3.4263 C             1 RES     \\n      20 C           10.2651    12.4506     4.2093 C             1 RES     \\n      21 C           10.5565    13.5554     5.1754 C             1 RES     \\n      22 O            9.7952    14.5118     5.2848 O             1 RES     \\n      23 C           11.7615    13.5276     6.0301 C             1 RES     \\n      24 C           11.6596    13.6231     7.4224 C             1 RES     \\n      25 C           12.8268    13.6763     8.1990 C             1 RES     \\n      26 C           14.0841    13.5375     7.5939 C             1 RES     \\n      27 O           15.1725    13.4536     8.4415 O             1 RES     \\n      28 C           16.4359    13.3460     7.8997 C             1 RES     \\n      29 C           17.2288    12.2567     8.2660 C             1 RES     \\n      30 C           18.5494    12.1769     7.8122 C             1 RES     \\n      31 C           19.0471    13.1371     6.9297 C             1 RES     \\n      32 C           18.2497    14.2155     6.5524 C             1 RES     \\n      33 C           16.9618    14.3417     7.0707 C             1 RES     \\n      34 C           14.1603    13.4323     6.2029 C             1 RES     \\n      35 C           13.0123    13.4648     5.4221 C             1 RES     \\n      36 C           11.0714    11.3109     4.1031 C             1 RES     \\n      37 C           10.7300    10.2777     3.2224 C             1 RES     \\n      38 C            9.3910     7.5870     3.2694 C             1 RES     \\n      39 C            9.6693     6.2565     3.5436 C             1 RES     \\n      40 C            9.7155     5.3344     2.5061 C             1 RES     \\n      41 C            7.8597     3.3059     1.2004 C             1 RES     \\n      42 C            7.1600     2.1053     1.1567 C             1 RES     \\n      43 C            4.3966     1.1618    -0.0065 C             1 RES     \\n      44 C            2.9621     1.1744    -0.1204 C             1 RES     \\n      45 H            2.4377    -2.2442     0.0967 H             1 RES     \\n      46 H            4.9090    -2.1814     0.0755 H             1 RES     \\n      47 H            8.4026     0.8662    -1.7642 H             1 RES     \\n      48 H            9.8277     2.8898    -1.5450 H             1 RES     \\n      49 H            8.8936     7.3813    -0.0935 H             1 RES     \\n      50 H            7.7650    11.4876     2.0964 H             1 RES     \\n      51 H            8.4906    13.4292     3.4479 H             1 RES     \\n      52 H           10.6832    13.6473     7.9030 H             1 RES     \\n      53 H           12.7498    13.8203     9.2754 H             1 RES     \\n      54 H           16.8292    11.4707     8.9011 H             1 RES     \\n      55 H           19.1970    11.3719     8.1516 H             1 RES     \\n      56 H           20.0593    13.0498     6.5421 H             1 RES     \\n      57 H           18.6335    14.9684     5.8694 H             1 RES     \\n      58 H           16.3538    15.1984     6.7943 H             1 RES     \\n      59 H           15.1065    13.3306     5.6849 H             1 RES     \\n      60 H           13.1097    13.4130     4.3419 H             1 RES     \\n      61 H           11.9761    11.1927     4.6921 H             1 RES     \\n      62 H           11.3959     9.4205     3.1561 H             1 RES     \\n      63 H            9.3552     8.2845     4.0997 H             1 RES     \\n      64 H            9.8753     5.9522     4.5644 H             1 RES     \\n      65 H            9.9569     4.3012     2.7352 H             1 RES     \\n      66 H            7.6380     3.9778     2.0214 H             1 RES     \\n      67 H            6.4464     1.8852     1.9459 H             1 RES     \\n      68 H            4.8658     2.1380    -0.0482 H             1 RES     \\n      69 H            2.4951     1.9533    -0.7088 H             1 RES     \\n@<TRIPOS>BOND\\n       1       16       15 1\\n       2       37       62 1\\n       3       23       35 1\\n       4       42        8 1\\n       5       10       11 1\\n       6       43        5 1\\n       7       32       33 1\\n       8       16       17 1\\n       9       24       25 1\\n      10       14       13 1\\n      11        3       45 1\\n      12        8        9 1\\n      13        2       44 1\\n      14        5        6 1\\n      15       41       42 1\\n      16       17       18 1\\n      17       21       22 1\\n      18       14       15 1\\n      19       29       30 1\\n      20       24       52 1\\n      21       25       26 1\\n      22       47        9 1\\n      23       17       37 1\\n      24       11       12 1\\n      25       44       69 1\\n      26       36       61 1\\n      27       38       15 1\\n      28       38       63 1\\n      29       41       11 1\\n      30       21       23 1\\n      31       41       66 1\\n      32       33       58 1\\n      33       26       34 1\\n      34        9       10 1\\n      35        6        7 1\\n      36       30       55 1\\n      37       20       21 1\\n      38       28       29 1\\n      39       36       37 1\\n      40        8        6 1\\n      41       19       51 1\\n      42       40       13 1\\n      43       34       35 1\\n      44       23       24 1\\n      45        2        1 1\\n      46       46        4 1\\n      47       43       44 1\\n      48       19       20 1\\n      49       27       28 1\\n      50       31       32 1\\n      51       18       50 1\\n      52       31       56 1\\n      53       43       68 1\\n      54       39       40 1\\n      55        3        4 1\\n      56       20       36 1\\n      57       39       64 1\\n      58        2        3 1\\n      59       35       60 1\\n      60       29       54 1\\n      61       18       19 1\\n      62       28       33 1\\n      63       26       27 1\\n      64       30       31 1\\n      65       42       67 1\\n      66        4        5 1\\n      67       32       57 1\\n      68       40       65 1\\n      69       48       10 1\\n      70       38       39 1\\n      71       34       59 1\\n      72       25       53 1\\n      73       49       14 1\\n      74       13       12 1\\n@<TRIPOS>SUBSTRUCTURE\\n       1 RES             1 RESIDUE    0 **** ROOT      0\\n\",\"mol2\");\n\tviewer_16016689984380622.setStyle({\"stick\": {\"radius\": 0.2, \"color\": \"grey\"}, \"sphere\": {\"scale\": 0.3, \"colorscheme\": {}}});\n\tviewer_16016689984380622.zoomTo();\nviewer_16016689984380622.render();\n});\n</script>",
      "text/html": [
       "<div id=\"3dmolviewer_16016689984380622\"  style=\"position: relative; width: 640px; height: 480px\">\n",
       "        <p id=\"3dmolwarning_16016689984380622\" style=\"background-color:#ffcccc;color:black\">You appear to be running in JupyterLab (or JavaScript failed to load for some other reason).  You need to install the 3dmol extension: <br>\n",
       "        <tt>jupyter labextension install jupyterlab_3dmol</tt></p>\n",
       "        </div>\n",
       "<script>\n",
       "\n",
       "var loadScriptAsync = function(uri){\n",
       "  return new Promise((resolve, reject) => {\n",
       "    var tag = document.createElement('script');\n",
       "    tag.src = uri;\n",
       "    tag.async = true;\n",
       "    tag.onload = () => {\n",
       "      resolve();\n",
       "    };\n",
       "  var firstScriptTag = document.getElementsByTagName('script')[0];\n",
       "  firstScriptTag.parentNode.insertBefore(tag, firstScriptTag);\n",
       "});\n",
       "};\n",
       "\n",
       "if(typeof $3Dmolpromise === 'undefined') {\n",
       "$3Dmolpromise = null;\n",
       "  $3Dmolpromise = loadScriptAsync('https://3dmol.csb.pitt.edu/build/3Dmol.js');\n",
       "}\n",
       "\n",
       "var viewer_16016689984380622 = null;\n",
       "var warn = document.getElementById(\"3dmolwarning_16016689984380622\");\n",
       "if(warn) {\n",
       "    warn.parentNode.removeChild(warn);\n",
       "}\n",
       "$3Dmolpromise.then(function() {\n",
       "viewer_16016689984380622 = $3Dmol.createViewer($(\"#3dmolviewer_16016689984380622\"),{backgroundColor:\"white\"});\n",
       "\tviewer_16016689984380622.addModel(\"@<TRIPOS>MOLECULE\\nRES\\n69 74 1 0 1\\nSMALL\\nNO_CHARGES\\n@<TRIPOS>CRYSIN\\n   24.0959    22.4427    16.0396    90.0000    90.0000    90.0000  1  1\\n@<TRIPOS>ATOM\\n       1 O            0.9633    -0.0723     0.0627 O             1 RES     \\n       2 C            2.1946    -0.0705     0.0376 C             1 RES     \\n       3 C            2.9906    -1.3139     0.0948 C             1 RES     \\n       4 C            4.3336    -1.2581     0.0834 C             1 RES     \\n       5 C            5.0749     0.0018     0.0648 C             1 RES     \\n       6 C            6.5819    -0.0347     0.0443 C             1 RES     \\n       7 O            7.2027    -1.0913    -0.0159 O             1 RES     \\n       8 C            7.3447     1.2318     0.0862 C             1 RES     \\n       9 C            8.2802     1.5295    -0.9094 C             1 RES     \\n      10 C            9.0490     2.6992    -0.8084 C             1 RES     \\n      11 C            8.8087     3.6191     0.2237 C             1 RES     \\n      12 O            9.4784     4.8280     0.1475 O             1 RES     \\n      13 C            9.4074     5.7231     1.1982 C             1 RES     \\n      14 C            9.1430     7.0724     0.9197 C             1 RES     \\n      15 C            9.2143     8.0206     1.9543 C             1 RES     \\n      16 O            9.0955     9.3547     1.6198 O             1 RES     \\n      17 C            9.5287    10.3274     2.5044 C             1 RES     \\n      18 C            8.7158    11.4539     2.6212 C             1 RES     \\n      19 C            9.1062    12.5315     3.4263 C             1 RES     \\n      20 C           10.2651    12.4506     4.2093 C             1 RES     \\n      21 C           10.5565    13.5554     5.1754 C             1 RES     \\n      22 O            9.7952    14.5118     5.2848 O             1 RES     \\n      23 C           11.7615    13.5276     6.0301 C             1 RES     \\n      24 C           11.6596    13.6231     7.4224 C             1 RES     \\n      25 C           12.8268    13.6763     8.1990 C             1 RES     \\n      26 C           14.0841    13.5375     7.5939 C             1 RES     \\n      27 O           15.1725    13.4536     8.4415 O             1 RES     \\n      28 C           16.4359    13.3460     7.8997 C             1 RES     \\n      29 C           17.2288    12.2567     8.2660 C             1 RES     \\n      30 C           18.5494    12.1769     7.8122 C             1 RES     \\n      31 C           19.0471    13.1371     6.9297 C             1 RES     \\n      32 C           18.2497    14.2155     6.5524 C             1 RES     \\n      33 C           16.9618    14.3417     7.0707 C             1 RES     \\n      34 C           14.1603    13.4323     6.2029 C             1 RES     \\n      35 C           13.0123    13.4648     5.4221 C             1 RES     \\n      36 C           11.0714    11.3109     4.1031 C             1 RES     \\n      37 C           10.7300    10.2777     3.2224 C             1 RES     \\n      38 C            9.3910     7.5870     3.2694 C             1 RES     \\n      39 C            9.6693     6.2565     3.5436 C             1 RES     \\n      40 C            9.7155     5.3344     2.5061 C             1 RES     \\n      41 C            7.8597     3.3059     1.2004 C             1 RES     \\n      42 C            7.1600     2.1053     1.1567 C             1 RES     \\n      43 C            4.3966     1.1618    -0.0065 C             1 RES     \\n      44 C            2.9621     1.1744    -0.1204 C             1 RES     \\n      45 H            2.4377    -2.2442     0.0967 H             1 RES     \\n      46 H            4.9090    -2.1814     0.0755 H             1 RES     \\n      47 H            8.4026     0.8662    -1.7642 H             1 RES     \\n      48 H            9.8277     2.8898    -1.5450 H             1 RES     \\n      49 H            8.8936     7.3813    -0.0935 H             1 RES     \\n      50 H            7.7650    11.4876     2.0964 H             1 RES     \\n      51 H            8.4906    13.4292     3.4479 H             1 RES     \\n      52 H           10.6832    13.6473     7.9030 H             1 RES     \\n      53 H           12.7498    13.8203     9.2754 H             1 RES     \\n      54 H           16.8292    11.4707     8.9011 H             1 RES     \\n      55 H           19.1970    11.3719     8.1516 H             1 RES     \\n      56 H           20.0593    13.0498     6.5421 H             1 RES     \\n      57 H           18.6335    14.9684     5.8694 H             1 RES     \\n      58 H           16.3538    15.1984     6.7943 H             1 RES     \\n      59 H           15.1065    13.3306     5.6849 H             1 RES     \\n      60 H           13.1097    13.4130     4.3419 H             1 RES     \\n      61 H           11.9761    11.1927     4.6921 H             1 RES     \\n      62 H           11.3959     9.4205     3.1561 H             1 RES     \\n      63 H            9.3552     8.2845     4.0997 H             1 RES     \\n      64 H            9.8753     5.9522     4.5644 H             1 RES     \\n      65 H            9.9569     4.3012     2.7352 H             1 RES     \\n      66 H            7.6380     3.9778     2.0214 H             1 RES     \\n      67 H            6.4464     1.8852     1.9459 H             1 RES     \\n      68 H            4.8658     2.1380    -0.0482 H             1 RES     \\n      69 H            2.4951     1.9533    -0.7088 H             1 RES     \\n@<TRIPOS>BOND\\n       1       16       15 1\\n       2       37       62 1\\n       3       23       35 1\\n       4       42        8 1\\n       5       10       11 1\\n       6       43        5 1\\n       7       32       33 1\\n       8       16       17 1\\n       9       24       25 1\\n      10       14       13 1\\n      11        3       45 1\\n      12        8        9 1\\n      13        2       44 1\\n      14        5        6 1\\n      15       41       42 1\\n      16       17       18 1\\n      17       21       22 1\\n      18       14       15 1\\n      19       29       30 1\\n      20       24       52 1\\n      21       25       26 1\\n      22       47        9 1\\n      23       17       37 1\\n      24       11       12 1\\n      25       44       69 1\\n      26       36       61 1\\n      27       38       15 1\\n      28       38       63 1\\n      29       41       11 1\\n      30       21       23 1\\n      31       41       66 1\\n      32       33       58 1\\n      33       26       34 1\\n      34        9       10 1\\n      35        6        7 1\\n      36       30       55 1\\n      37       20       21 1\\n      38       28       29 1\\n      39       36       37 1\\n      40        8        6 1\\n      41       19       51 1\\n      42       40       13 1\\n      43       34       35 1\\n      44       23       24 1\\n      45        2        1 1\\n      46       46        4 1\\n      47       43       44 1\\n      48       19       20 1\\n      49       27       28 1\\n      50       31       32 1\\n      51       18       50 1\\n      52       31       56 1\\n      53       43       68 1\\n      54       39       40 1\\n      55        3        4 1\\n      56       20       36 1\\n      57       39       64 1\\n      58        2        3 1\\n      59       35       60 1\\n      60       29       54 1\\n      61       18       19 1\\n      62       28       33 1\\n      63       26       27 1\\n      64       30       31 1\\n      65       42       67 1\\n      66        4        5 1\\n      67       32       57 1\\n      68       40       65 1\\n      69       48       10 1\\n      70       38       39 1\\n      71       34       59 1\\n      72       25       53 1\\n      73       49       14 1\\n      74       13       12 1\\n@<TRIPOS>SUBSTRUCTURE\\n       1 RES             1 RESIDUE    0 **** ROOT      0\\n\",\"mol2\");\n",
       "\tviewer_16016689984380622.setStyle({\"stick\": {\"radius\": 0.2, \"color\": \"grey\"}, \"sphere\": {\"scale\": 0.3, \"colorscheme\": {}}});\n",
       "\tviewer_16016689984380622.zoomTo();\n",
       "viewer_16016689984380622.render();\n",
       "});\n",
       "</script>"
      ]
     },
     "metadata": {},
     "output_type": "display_data"
    }
   ],
   "source": []
  },
  {
   "cell_type": "code",
   "execution_count": 5,
   "metadata": {},
   "outputs": [],
   "source": [
    "def build_system(packing='bcc'):\n",
    "    '''\n",
    "    Generate a simple LJ particle system using hoomd's create_lattice function\n",
    "    packing \n",
    "    '''\n",
    "    hoomd.context.initialize(\"\")\n",
    "    if packing == 'fcc':\n",
    "        system = hoomd.init.create_lattice(unitcell=(hoomd.lattice.fcc(a=1.58)), n=6)\n",
    "    elif packing == 'bcc':\n",
    "        system = hoomd.init.create_lattice(unitcell=(hoomd.lattice.bcc(a=1.29)), n=6)\n",
    "    hoomd.dump.gsd('{}_system.gsd'.format(packing), group = hoomd.group.all(), period=None, overwrite=True)\n",
    "    return system\n",
    "\n",
    "def hoomd_simulation(system, temp, tau):  \n",
    "    nl = hoomd.md.nlist.cell()\n",
    "    lj = hoomd.md.pair.lj(r_cut=2.5, nlist=nl)\n",
    "    lj.pair_coeff.set('A', 'A', alpha=1.0, epsilon=1.0, sigma=1.0)\n",
    "    hoomd.md.integrate.mode_standard(dt=0.001)\n",
    "    _all = hoomd.group.all()\n",
    "    nvt = hoomd.md.integrate.nvt(group=_all, kT=temp, tau=tau)\n",
    "    nvt.randomize_velocities(seed=23)\n",
    "    hoomd.analyze.log(filename='{}-tau_out.log'.format(tau),\n",
    "                      quantities=[\"time\", \"temperature\", \"potential_energy\"],\n",
    "                      period=100,\n",
    "                      overwrite=True\n",
    "                     )\n",
    "    #hoomd.dump.gsd('tau-trajectory.gsd', period=5e3, group=_all, overwrite=True)\n",
    "    hoomd.run(3e5)"
   ]
  },
  {
   "cell_type": "code",
   "execution_count": null,
   "metadata": {},
   "outputs": [],
   "source": []
  },
  {
   "cell_type": "markdown",
   "metadata": {},
   "source": [
    "# --------------------------------------------------------\n",
    "\n",
    "PEEK:  \n",
    "1 amu = 1.66054e-24 g  \n",
    "1.32 g/cm^3  \n",
    "1.32 g/nm^3  \n",
    "C19H12O3  \n",
    "monomer_amu = 288.302  "
   ]
  },
  {
   "cell_type": "code",
   "execution_count": 6,
   "metadata": {},
   "outputs": [],
   "source": [
    "def build_peek_system(num_mols, poly_length, density):\n",
    "    '''\n",
    "    This function uses mBuild's packing functionality to create a very low dense system of molecules\n",
    "    to allow for easier packing. A short simulation is then ran using HoomD to shrink the system to the\n",
    "    desired starting density.\n",
    "    '''\n",
    "    peek_poly_smi = polysmiles.poly_smiles('occccC=O)ccccOcc*c*ccc6)))))))cc6)))))))cc6',\n",
    "                                      length=poly_length)\n",
    "    peek_poly = mb.load(peek_poly_smi, smiles=True)\n",
    "    \n",
    "    mol_amu = poly_length * 288.302\n",
    "    mol_grams = mol_amu * 1.66054e-24\n",
    "    system_mass = mol_grams * num_mols\n",
    "    edge_cm = (system_mass / density)**(1/3)\n",
    "    edge_nm = edge_cm * 1e7\n",
    "\n",
    "    init_box = mb.Box([edge_nm*5]*3)\n",
    "    print(init_box)\n",
    "    system = mb.fill_box(peek_poly, num_mols, init_box)\n",
    "    \n",
    "    gaff = Forcefield(forcefield_files='files/gaff.xml')\n",
    "    system_pmd = gaff.apply(system)\n",
    "    create_hoomd_simulation(system_pmd, r_cut=1.2, auto_scale=True)\n",
    "    forces = [f for f in hoomd.context.current.forces \n",
    "                if not isinstance(f, hoomd.md.charge.pppm)]\n",
    "    \n",
    "    hoomd.context.current.forces = forces\n",
    "    _all = hoomd.group.all()\n",
    "    hoomd.md.integrate.mode_standard(dt=0.0001)\n",
    "    integrator = hoomd.md.integrate.nvt(group=_all, kT=2.0, tau=0.1)\n",
    "    hoomd.dump.gsd(\"trajectories/start-shrink.gsd\", period=None, group=_all, overwrite=True)\n",
    "    hoomd.dump.gsd(\"trajectories/traj-shrink.gsd\", period=1e5, group=_all, phase=0, overwrite=True)\n",
    "    integrator.randomize_velocities(seed=42);\n",
    "\n",
    "    hoomd.update.box_resize(L = hoomd.variant.linear_interp([(0,edge_nm*50), (1e6,edge_nm*10)], zero=0))\n",
    "    hoomd.run(1e6)\n",
    "    gsd_restart = hoomd.dump.gsd(\"trajectories/out-shrink.gsd\", period=None, group=_all, overwrite=True)\n",
    "    gsd_restart.write_restart()"
   ]
  },
  {
   "cell_type": "code",
   "execution_count": 7,
   "metadata": {},
   "outputs": [
    {
     "name": "stdout",
     "output_type": "stream",
     "text": [
      "Box(mins=[0. 0. 0.], maxs=[23.18757104 23.18757104 23.18757104], angles=[90. 90. 90.])\n"
     ]
    },
    {
     "name": "stderr",
     "output_type": "stream",
     "text": [
      "/home/chris/cme/forks/foyer/foyer/forcefield.py:449: UserWarning: No force field version number found in force field XML file.\n",
      "  'No force field version number found in force field XML file.'\n",
      "/home/chris/cme/forks/foyer/foyer/forcefield.py:461: UserWarning: No force field name found in force field XML file.\n",
      "  'No force field name found in force field XML file.'\n",
      "/home/chris/cme/forks/foyer/foyer/validator.py:132: ValidationWarning: You have empty smart definition(s)\n",
      "  warn(\"You have empty smart definition(s)\", ValidationWarning)\n"
     ]
    },
    {
     "name": "stdout",
     "output_type": "stream",
     "text": [
      "HOOMD-blue v2.9.0-16-g08515af02 CUDA (10.1) DOUBLE HPMC_MIXED MPI SSE SSE2 SSE3 SSE4_1 SSE4_2 AVX AVX2 \n",
      "Compiled: 05/12/2020\n",
      "Copyright (c) 2009-2019 The Regents of the University of Michigan.\n",
      "-----\n",
      "You are using HOOMD-blue. Please cite the following:\n",
      "* J A Anderson, C D Lorenz, and A Travesset. \"General purpose molecular dynamics\n",
      "  simulations fully implemented on graphics processing units\", Journal of\n",
      "  Computational Physics 227 (2008) 5342--5359\n",
      "* J Glaser, T D Nguyen, J A Anderson, P Lui, F Spiga, J A Millan, D C Morse, and\n",
      "  S C Glotzer. \"Strong scaling of general-purpose molecular dynamics simulations\n",
      "  on GPUs\", Computer Physics Communications 192 (2015) 97--107\n",
      "-----\n",
      "HOOMD-blue is running on the following GPU(s):\n",
      " [0]      GeForce RTX 2070  36 SM_7.5 @ 1.44 GHz, 7982 MiB DRAM, DIS, MNG\n"
     ]
    },
    {
     "name": "stderr",
     "output_type": "stream",
     "text": [
      "/home/chris/cme/forks/foyer/foyer/forcefield.py:267: UserWarning: Parameters have not been assigned to all impropers. Total system impropers: 4750, Parameterized impropers: 3350. Note that if your system contains torsions of Ryckaert-Bellemans functional form, all of these torsions are processed as propers\n",
      "  warnings.warn(msg)\n"
     ]
    },
    {
     "name": "stdout",
     "output_type": "stream",
     "text": [
      "notice(2): Group \"all\" created containing 8550 particles\n",
      "notice(2): -- Neighborlist exclusion statistics -- :\n",
      "notice(2): Particles with 3 exclusions             : 3350\n",
      "notice(2): Particles with 6 exclusions             : 450\n",
      "notice(2): Particles with 7 exclusions             : 3350\n",
      "notice(2): Particles with 8 exclusions             : 900\n",
      "notice(2): Particles with 9 exclusions             : 500\n",
      "notice(2): Neighbors included by diameter          : no\n",
      "notice(2): Neighbors excluded when in the same body: no\n",
      "Processing LJ and QQ\n",
      "notice(2): Group \"charged\" created containing 0 particles\n",
      "No charged groups found, ignoring electrostatics\n",
      "Processing 1-4 interactions, adjusting neighborlist exclusions\n",
      "Processing harmonic bonds\n",
      "Processing harmonic angles\n",
      "Processing periodic torsions\n",
      "HOOMD SimulationContext updated from ParmEd Structure\n",
      "** starting run **\n",
      "Time 00:00:10 | Step 8002 / 1000000 | TPS 800.187 | ETA 00:20:39\n",
      "Time 00:00:20 | Step 16281 / 1000000 | TPS 827.894 | ETA 00:19:48\n",
      "Time 00:00:30 | Step 24502 / 1000000 | TPS 822.042 | ETA 00:19:46\n",
      "Time 00:00:40 | Step 32749 / 1000000 | TPS 824.637 | ETA 00:19:32\n",
      "Time 00:00:50 | Step 40970 / 1000000 | TPS 822.079 | ETA 00:19:26\n",
      "Time 00:01:00 | Step 48703 / 1000000 | TPS 773.292 | ETA 00:20:30\n",
      "Time 00:01:10 | Step 56858 / 1000000 | TPS 815.421 | ETA 00:19:16\n",
      "Time 00:01:20 | Step 65075 / 1000000 | TPS 821.67 | ETA 00:18:57\n",
      "Time 00:01:30 | Step 73259 / 1000000 | TPS 818.339 | ETA 00:18:52\n",
      "Time 00:01:40 | Step 81442 / 1000000 | TPS 818.248 | ETA 00:18:42\n",
      "Time 00:01:50 | Step 89622 / 1000000 | TPS 817.929 | ETA 00:18:33\n",
      "Time 00:02:01 | Step 96745 / 1000000 | TPS 647.332 | ETA 00:23:15\n",
      "Time 00:02:12 | Step 103615 / 1000000 | TPS 625.262 | ETA 00:23:53\n",
      "Time 00:02:22 | Step 111601 / 1000000 | TPS 796.13 | ETA 00:18:35\n",
      "Time 00:02:32 | Step 119489 / 1000000 | TPS 788.737 | ETA 00:18:36\n",
      "Time 00:02:42 | Step 127077 / 1000000 | TPS 758.752 | ETA 00:19:10\n",
      "Time 00:02:52 | Step 134889 / 1000000 | TPS 781.18 | ETA 00:18:27\n",
      "Time 00:03:02 | Step 142955 / 1000000 | TPS 806.548 | ETA 00:17:42\n",
      "Time 00:03:12 | Step 151049 / 1000000 | TPS 809.327 | ETA 00:17:28\n",
      "Time 00:03:22 | Step 159152 / 1000000 | TPS 810.251 | ETA 00:17:17\n",
      "Time 00:03:32 | Step 167285 / 1000000 | TPS 813.275 | ETA 00:17:03\n",
      "Time 00:03:42 | Step 175456 / 1000000 | TPS 817.068 | ETA 00:16:49\n",
      "Time 00:03:52 | Step 183632 / 1000000 | TPS 817.537 | ETA 00:16:38\n",
      "Time 00:04:02 | Step 191841 / 1000000 | TPS 820.813 | ETA 00:16:24\n",
      "Time 00:04:12 | Step 200064 / 1000000 | TPS 822.268 | ETA 00:16:12\n",
      "Time 00:04:22 | Step 208075 / 1000000 | TPS 801.035 | ETA 00:16:28\n",
      "Time 00:04:32 | Step 216198 / 1000000 | TPS 812.289 | ETA 00:16:04\n",
      "Time 00:04:42 | Step 224358 / 1000000 | TPS 815.952 | ETA 00:15:50\n",
      "Time 00:04:52 | Step 232554 / 1000000 | TPS 819.536 | ETA 00:15:36\n",
      "Time 00:05:02 | Step 240901 / 1000000 | TPS 822.037 | ETA 00:15:23\n",
      "Time 00:05:13 | Step 249601 / 1000000 | TPS 827.4 | ETA 00:15:06\n",
      "Time 00:05:23 | Step 258197 / 1000000 | TPS 827.818 | ETA 00:14:56\n",
      "Time 00:05:34 | Step 266875 / 1000000 | TPS 829.587 | ETA 00:14:43\n",
      "Time 00:05:44 | Step 275388 / 1000000 | TPS 825.89 | ETA 00:14:37\n",
      "Time 00:05:54 | Step 284101 / 1000000 | TPS 831.044 | ETA 00:14:21\n",
      "Time 00:06:05 | Step 292634 / 1000000 | TPS 832.318 | ETA 00:14:09\n",
      "Time 00:06:15 | Step 301431 / 1000000 | TPS 853.39 | ETA 00:13:38\n",
      "Time 00:06:25 | Step 311825 / 1000000 | TPS 1039.36 | ETA 00:11:02\n",
      "Time 00:06:35 | Step 322201 / 1000000 | TPS 1037.46 | ETA 00:10:53\n",
      "Time 00:06:45 | Step 332636 / 1000000 | TPS 1043.43 | ETA 00:10:39\n",
      "Time 00:06:55 | Step 343116 / 1000000 | TPS 1047.99 | ETA 00:10:26\n",
      "Time 00:07:05 | Step 353008 / 1000000 | TPS 988.789 | ETA 00:10:54\n",
      "Time 00:07:15 | Step 363498 / 1000000 | TPS 1048.98 | ETA 00:10:06\n",
      "Time 00:07:25 | Step 374031 / 1000000 | TPS 1053.26 | ETA 00:09:54\n",
      "Time 00:07:35 | Step 384594 / 1000000 | TPS 1056.27 | ETA 00:09:42\n",
      "Time 00:07:45 | Step 395174 / 1000000 | TPS 1057.94 | ETA 00:09:31\n",
      "Time 00:07:55 | Step 405246 / 1000000 | TPS 1007.17 | ETA 00:09:50\n",
      "Time 00:08:05 | Step 415868 / 1000000 | TPS 1062.13 | ETA 00:09:09\n",
      "Time 00:08:15 | Step 426509 / 1000000 | TPS 1064.02 | ETA 00:08:58\n",
      "Time 00:08:25 | Step 437170 / 1000000 | TPS 1066.06 | ETA 00:08:47\n",
      "Time 00:08:35 | Step 447804 / 1000000 | TPS 1063.31 | ETA 00:08:39\n",
      "Time 00:08:45 | Step 458078 / 1000000 | TPS 1027.35 | ETA 00:08:47\n",
      "Time 00:08:55 | Step 468785 / 1000000 | TPS 1070.63 | ETA 00:08:16\n",
      "Time 00:09:05 | Step 479498 / 1000000 | TPS 1071.22 | ETA 00:08:05\n",
      "Time 00:09:15 | Step 490227 / 1000000 | TPS 1072.87 | ETA 00:07:55\n",
      "Time 00:09:25 | Step 500216 / 1000000 | TPS 998.834 | ETA 00:08:20\n",
      "Time 00:09:35 | Step 510916 / 1000000 | TPS 1069.93 | ETA 00:07:37\n",
      "Time 00:09:45 | Step 521694 / 1000000 | TPS 1077.74 | ETA 00:07:23\n",
      "Time 00:09:55 | Step 532488 / 1000000 | TPS 1079.33 | ETA 00:07:13\n",
      "Time 00:10:05 | Step 542987 / 1000000 | TPS 1049.82 | ETA 00:07:15\n",
      "Time 00:10:15 | Step 553817 / 1000000 | TPS 1082.95 | ETA 00:06:52\n",
      "Time 00:10:25 | Step 564637 / 1000000 | TPS 1082 | ETA 00:06:42\n",
      "Time 00:10:35 | Step 575465 / 1000000 | TPS 1082.77 | ETA 00:06:32\n",
      "Time 00:10:45 | Step 586039 / 1000000 | TPS 1057.38 | ETA 00:06:31\n",
      "Time 00:10:55 | Step 596876 / 1000000 | TPS 1083.6 | ETA 00:06:12\n",
      "Time 00:11:05 | Step 607704 / 1000000 | TPS 1082.77 | ETA 00:06:02\n",
      "Time 00:11:15 | Step 618554 / 1000000 | TPS 1084.98 | ETA 00:05:51\n",
      "Time 00:11:25 | Step 629244 / 1000000 | TPS 1068.95 | ETA 00:05:46\n",
      "Time 00:11:35 | Step 640130 / 1000000 | TPS 1088.54 | ETA 00:05:30\n",
      "Time 00:11:45 | Step 651030 / 1000000 | TPS 1089.99 | ETA 00:05:20\n",
      "Time 00:11:55 | Step 661945 / 1000000 | TPS 1091.45 | ETA 00:05:09\n",
      "Time 00:12:05 | Step 672706 / 1000000 | TPS 1076.04 | ETA 00:05:04\n",
      "Time 00:12:15 | Step 683643 / 1000000 | TPS 1093.69 | ETA 00:04:49\n",
      "Time 00:12:25 | Step 694588 / 1000000 | TPS 1094.4 | ETA 00:04:39\n",
      "Time 00:12:35 | Step 705494 / 1000000 | TPS 1090.5 | ETA 00:04:30\n",
      "Time 00:12:45 | Step 716345 / 1000000 | TPS 1085.04 | ETA 00:04:21\n",
      "Time 00:12:55 | Step 727339 / 1000000 | TPS 1099.32 | ETA 00:04:08\n",
      "Time 00:13:05 | Step 738340 / 1000000 | TPS 1100.09 | ETA 00:03:57\n",
      "Time 00:13:15 | Step 749345 / 1000000 | TPS 1100.49 | ETA 00:03:47\n",
      "Time 00:13:25 | Step 760246 / 1000000 | TPS 1090.03 | ETA 00:03:39\n",
      "Time 00:13:35 | Step 771252 / 1000000 | TPS 1100.54 | ETA 00:03:27\n",
      "Time 00:13:45 | Step 782201 / 1000000 | TPS 1094.9 | ETA 00:03:18\n",
      "Time 00:13:55 | Step 793119 / 1000000 | TPS 1091.79 | ETA 00:03:09\n",
      "Time 00:14:05 | Step 804122 / 1000000 | TPS 1100.24 | ETA 00:02:58\n",
      "Time 00:14:15 | Step 815154 / 1000000 | TPS 1103.19 | ETA 00:02:47\n",
      "Time 00:14:25 | Step 826184 / 1000000 | TPS 1102.9 | ETA 00:02:37\n",
      "Time 00:14:35 | Step 837151 / 1000000 | TPS 1096.62 | ETA 00:02:28\n",
      "Time 00:14:45 | Step 848195 / 1000000 | TPS 1104.3 | ETA 00:02:17\n",
      "Time 00:14:55 | Step 859241 / 1000000 | TPS 1104.58 | ETA 00:02:07\n",
      "Time 00:15:05 | Step 870296 / 1000000 | TPS 1105.43 | ETA 00:01:57\n",
      "Time 00:15:15 | Step 881300 / 1000000 | TPS 1100.31 | ETA 00:01:47\n",
      "Time 00:15:25 | Step 892359 / 1000000 | TPS 1105.87 | ETA 00:01:37\n",
      "Time 00:15:35 | Step 903412 / 1000000 | TPS 1105.29 | ETA 00:01:27\n",
      "Time 00:15:45 | Step 914451 / 1000000 | TPS 1103.87 | ETA 00:01:17\n",
      "Time 00:15:55 | Step 925524 / 1000000 | TPS 1107.27 | ETA 00:01:07\n",
      "Time 00:16:05 | Step 936600 / 1000000 | TPS 1107.6 | ETA 00:00:57\n",
      "Time 00:16:15 | Step 947661 / 1000000 | TPS 1106.08 | ETA 00:00:47\n",
      "Time 00:16:25 | Step 958701 / 1000000 | TPS 1103.92 | ETA 00:00:37\n",
      "Time 00:16:35 | Step 969753 / 1000000 | TPS 1105.11 | ETA 00:00:27\n",
      "Time 00:16:45 | Step 980809 / 1000000 | TPS 1105.57 | ETA 00:00:17\n",
      "Time 00:16:55 | Step 991871 / 1000000 | TPS 1106.19 | ETA 00:00:07\n",
      "Time 00:17:02 | Step 1000000 / 1000000 | TPS 1107.16 | ETA 00:00:00\n",
      "Average TPS: 978.207\n",
      "---------\n",
      "-- Neighborlist stats:\n",
      "3511 normal updates / 3334 forced updates / 0 dangerous updates\n",
      "n_neigh_min: 5 / n_neigh_max: 37 / n_neigh_avg: 15.5371\n",
      "shortest rebuild period: 4\n",
      "-- Cell list stats:\n",
      "Dimension: 28, 28, 28\n",
      "n_min    : 0 / n_max: 16 / n_avg: 0.389486\n",
      "** run complete **\n"
     ]
    }
   ],
   "source": [
    "build_peek_system(num_mols=50, poly_length=5, density=1.2)"
   ]
  },
  {
   "cell_type": "code",
   "execution_count": 10,
   "metadata": {},
   "outputs": [
    {
     "name": "stdout",
     "output_type": "stream",
     "text": [
      "3.0\n"
     ]
    }
   ],
   "source": [
    "a = 27**(1/3)\n",
    "print(a)"
   ]
  },
  {
   "cell_type": "code",
   "execution_count": null,
   "metadata": {},
   "outputs": [],
   "source": []
  },
  {
   "cell_type": "code",
   "execution_count": 3,
   "metadata": {},
   "outputs": [
    {
     "ename": "NameError",
     "evalue": "name 'polysmiles' is not defined",
     "output_type": "error",
     "traceback": [
      "\u001b[0;31m---------------------------------------------------------------------------\u001b[0m",
      "\u001b[0;31mNameError\u001b[0m                                 Traceback (most recent call last)",
      "\u001b[0;32m<ipython-input-3-87d2c7d68a89>\u001b[0m in \u001b[0;36m<module>\u001b[0;34m\u001b[0m\n\u001b[1;32m      1\u001b[0m \u001b[0mpoly_length\u001b[0m \u001b[0;34m=\u001b[0m \u001b[0;36m2\u001b[0m\u001b[0;34m\u001b[0m\u001b[0;34m\u001b[0m\u001b[0m\n\u001b[0;32m----> 2\u001b[0;31m peek_poly_smi = polysmiles.poly_smiles('occccC=O)ccccOcc*c*ccc6)))))))cc6)))))))cc6',\n\u001b[0m\u001b[1;32m      3\u001b[0m                                   length=poly_length)\n\u001b[1;32m      4\u001b[0m \u001b[0mpeek_poly\u001b[0m \u001b[0;34m=\u001b[0m \u001b[0mmb\u001b[0m\u001b[0;34m.\u001b[0m\u001b[0mload\u001b[0m\u001b[0;34m(\u001b[0m\u001b[0mpeek_poly_smi\u001b[0m\u001b[0;34m,\u001b[0m \u001b[0msmiles\u001b[0m\u001b[0;34m=\u001b[0m\u001b[0;32mTrue\u001b[0m\u001b[0;34m)\u001b[0m\u001b[0;34m\u001b[0m\u001b[0;34m\u001b[0m\u001b[0m\n",
      "\u001b[0;31mNameError\u001b[0m: name 'polysmiles' is not defined"
     ]
    }
   ],
   "source": [
    "poly_length = 2\n",
    "peek_poly_smi = polysmiles.poly_smiles('occccC=O)ccccOcc*c*ccc6)))))))cc6)))))))cc6',\n",
    "                                  length=poly_length)\n",
    "peek_poly = mb.load(peek_poly_smi, smiles=True)"
   ]
  },
  {
   "cell_type": "code",
   "execution_count": null,
   "metadata": {},
   "outputs": [],
   "source": []
  },
  {
   "cell_type": "code",
   "execution_count": null,
   "metadata": {},
   "outputs": [],
   "source": []
  },
  {
   "cell_type": "code",
   "execution_count": null,
   "metadata": {},
   "outputs": [],
   "source": []
  },
  {
   "cell_type": "code",
   "execution_count": 3,
   "metadata": {},
   "outputs": [
    {
     "name": "stderr",
     "output_type": "stream",
     "text": [
      "/home/chris/cme/forks/foyer/foyer/forcefield.py:449: UserWarning: No force field version number found in force field XML file.\n",
      "  'No force field version number found in force field XML file.'\n",
      "/home/chris/cme/forks/foyer/foyer/forcefield.py:461: UserWarning: No force field name found in force field XML file.\n",
      "  'No force field name found in force field XML file.'\n",
      "/home/chris/cme/forks/foyer/foyer/validator.py:132: ValidationWarning: You have empty smart definition(s)\n",
      "  warn(\"You have empty smart definition(s)\", ValidationWarning)\n"
     ]
    }
   ],
   "source": [
    "opls = Forcefield(name='oplsaa')\n",
    "gaff = Forcefield(forcefield_files='files/gaff.xml')\n",
    "peek = 'oc1ccc(C(=O)c2ccc(Oc3ccccc3)cc2)cc1'\n",
    "peek_deep = smiles_utils.convert_smiles(smiles=peek)\n",
    "mb.load(peek, smiles=True).visualize()\n",
    "peek_poly_smi = polysmiles.poly_smiles('occccC=O)ccccOcc*c*ccc6)))))))cc6)))))))cc6',\n",
    "                                      length=5)\n",
    "peek_poly = mb.load(peek_poly_smi, smiles=True)\n"
   ]
  }
 ],
 "metadata": {
  "kernelspec": {
   "display_name": "Python 3",
   "language": "python",
   "name": "python3"
  },
  "language_info": {
   "codemirror_mode": {
    "name": "ipython",
    "version": 3
   },
   "file_extension": ".py",
   "mimetype": "text/x-python",
   "name": "python",
   "nbconvert_exporter": "python",
   "pygments_lexer": "ipython3",
   "version": "3.7.8"
  }
 },
 "nbformat": 4,
 "nbformat_minor": 4
}
