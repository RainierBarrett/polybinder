{
 "cells": [
  {
   "cell_type": "code",
   "execution_count": 1,
   "metadata": {},
   "outputs": [],
   "source": [
    "import hoomd\n",
    "import mbuild as mb\n",
    "from mbuild.formats.hoomd_simulation import create_hoomd_simulation\n",
    "import foyer\n",
    "from foyer import Forcefield\n",
    "#import utils\n",
    "from utils import smiles_utils\n",
    "from utils import polysmiles"
   ]
  },
  {
   "cell_type": "code",
   "execution_count": 50,
   "metadata": {},
   "outputs": [
    {
     "name": "stderr",
     "output_type": "stream",
     "text": [
      "/home/chris/miniconda3/envs/uli/lib/python3.7/site-packages/ipykernel/ipkernel.py:287: DeprecationWarning: `should_run_async` will not call `transform_cell` automatically in the future. Please pass the result to `transformed_cell` argument and any exception that happen during thetransform in `preprocessing_exc_tuple` in IPython 7.17 and above.\n",
      "  and should_run_async(code)\n"
     ]
    },
    {
     "data": {
      "text/plain": [
       "'\\nDEEPSMILES:\\nPEEK-para = \"occccoccccC=O)cccccc6)))))))cc6)))))))cc6\"\\n\\n\\nSMILES:\\nPEEK-para = \\'oc3ccc(oc2ccc(C(=O)c1ccccc1)cc2)cc3\\'\\n\\nPEEK-meta = \\'oc3cc(C(=O)cc2ccc(Oc1ccccc1)cc2)cc3\\'\\nPEKK-para = \\nPEKK-meta = \\n'"
      ]
     },
     "execution_count": 50,
     "metadata": {},
     "output_type": "execute_result"
    }
   ],
   "source": [
    "'''\n",
    "DEEPSMILES:\n",
    "PEEK-para = \"occccoccccC=O)cccccc6)))))))cc6)))))))cc6\"\n",
    "PEEK-para-bond = \n",
    "PEEK-meta = \"occcoccccC=O)cccccc6)))))))cc6)))))))ccc6\"\n",
    "PEKK-para = \"ccccoccccC=o)ccccC=o))cc6)))))))cc6)))))))cc6\"\n",
    "PEKK-meta = \"ccccoccccC=o)cccC=o))ccc6)))))))cc6)))))))cc6\"\n",
    "\n",
    "SMILES:\n",
    "PEEK-para = \"oc3ccc(oc2ccc(C(=O)c1ccccc1)cc2)cc3\"\n",
    "PEEK-meta = \"oc3cc(oc2ccc(C(=O)c1ccccc1)cc2)ccc3\"\n",
    "\n",
    "PEKK-para = \"c3ccc(oc2ccc(C(=o)c1ccc(C=o)cc1)cc2)cc3\"\n",
    "PEKK-meta = \"c3ccc(oc2ccc(C(=o)c1cc(C=o)ccc1)cc2)cc3\"\n",
    "'''"
   ]
  },
  {
   "cell_type": "code",
   "execution_count": 3,
   "metadata": {},
   "outputs": [
    {
     "name": "stderr",
     "output_type": "stream",
     "text": [
      "/home/chris/miniconda3/envs/uli/lib/python3.7/site-packages/ipykernel/ipkernel.py:287: DeprecationWarning: `should_run_async` will not call `transform_cell` automatically in the future. Please pass the result to `transformed_cell` argument and any exception that happen during thetransform in `preprocessing_exc_tuple` in IPython 7.17 and above.\n",
      "  and should_run_async(code)\n"
     ]
    },
    {
     "data": {
      "application/3dmoljs_load.v0": "<div id=\"3dmolviewer_1601706166203506\"  style=\"position: relative; width: 640px; height: 480px\">\n        <p id=\"3dmolwarning_1601706166203506\" style=\"background-color:#ffcccc;color:black\">You appear to be running in JupyterLab (or JavaScript failed to load for some other reason).  You need to install the 3dmol extension: <br>\n        <tt>jupyter labextension install jupyterlab_3dmol</tt></p>\n        </div>\n<script>\n\nvar loadScriptAsync = function(uri){\n  return new Promise((resolve, reject) => {\n    var tag = document.createElement('script');\n    tag.src = uri;\n    tag.async = true;\n    tag.onload = () => {\n      resolve();\n    };\n  var firstScriptTag = document.getElementsByTagName('script')[0];\n  firstScriptTag.parentNode.insertBefore(tag, firstScriptTag);\n});\n};\n\nif(typeof $3Dmolpromise === 'undefined') {\n$3Dmolpromise = null;\n  $3Dmolpromise = loadScriptAsync('https://3dmol.csb.pitt.edu/build/3Dmol.js');\n}\n\nvar viewer_1601706166203506 = null;\nvar warn = document.getElementById(\"3dmolwarning_1601706166203506\");\nif(warn) {\n    warn.parentNode.removeChild(warn);\n}\n$3Dmolpromise.then(function() {\nviewer_1601706166203506 = $3Dmol.createViewer($(\"#3dmolviewer_1601706166203506\"),{backgroundColor:\"white\"});\n\tviewer_1601706166203506.addModel(\"@<TRIPOS>MOLECULE\\nRES\\n35 37 1 0 1\\nSMALL\\nNO_CHARGES\\n@<TRIPOS>CRYSIN\\n   14.2448    16.3859    11.4019    90.0000    90.0000    90.0000  1  1\\n@<TRIPOS>ATOM\\n       1 O            0.9476    -0.0036     0.0584 O             1 RES     \\n       2 C            2.1760     0.0267     0.0314 C             1 RES     \\n       3 C            3.0048    -1.1997     0.0867 C             1 RES     \\n       4 C            4.3482    -1.1164     0.0690 C             1 RES     \\n       5 C            5.0473     0.1624     0.0392 C             1 RES     \\n       6 O            6.4361     0.0730    -0.0027 O             1 RES     \\n       7 C            7.1791     1.2322     0.0823 C             1 RES     \\n       8 C            8.1041     1.5158    -0.9218 C             1 RES     \\n       9 C            8.8979     2.6675    -0.8300 C             1 RES     \\n      10 C            8.6930     3.5906     0.2079 C             1 RES     \\n      11 C            9.4327     4.8868     0.1828 C             1 RES     \\n      12 O           10.1924     5.1488    -0.7460 O             1 RES     \\n      13 C            9.2811     5.8916     1.2606 C             1 RES     \\n      14 C            8.9990     7.2246     0.9414 C             1 RES     \\n      15 C            9.0556     8.1967     1.9434 C             1 RES     \\n      16 C            9.3060     7.8262     3.2664 C             1 RES     \\n      17 C            9.5368     6.4900     3.5887 C             1 RES     \\n      18 C            9.5475     5.5267     2.5840 C             1 RES     \\n      19 C            7.7511     3.2984     1.1993 C             1 RES     \\n      20 C            7.0365     2.1039     1.1634 C             1 RES     \\n      21 C            4.3411     1.3054    -0.0259 C             1 RES     \\n      22 C            2.9111     1.2895    -0.1257 C             1 RES     \\n      23 H            2.4646    -2.1378     0.0929 H             1 RES     \\n      24 H            4.9411    -2.0270     0.0640 H             1 RES     \\n      25 H            8.1953     0.8645    -1.7875 H             1 RES     \\n      26 H            9.6645     2.8517    -1.5823 H             1 RES     \\n      27 H            8.7604     7.5141    -0.0800 H             1 RES     \\n      28 H            8.9353     9.2481     1.6918 H             1 RES     \\n      29 H            9.3370     8.5825     4.0469 H             1 RES     \\n      30 H            9.7490     6.2012     4.6144 H             1 RES     \\n      31 H            9.7811     4.4963     2.8367 H             1 RES     \\n      32 H            7.5395     3.9820     2.0142 H             1 RES     \\n      33 H            6.3156     1.8983     1.9500 H             1 RES     \\n      34 H            4.8028     2.2829    -0.0808 H             1 RES     \\n      35 H            2.4380     2.0538    -0.7266 H             1 RES     \\n@<TRIPOS>BOND\\n       1       23        3 1\\n       2       18       31 1\\n       3       13       18 1\\n       4       21       34 1\\n       5        7        8 1\\n       6       16       17 1\\n       7        5        4 1\\n       8        8        9 1\\n       9       22       35 1\\n      10        7       20 1\\n      11       19       20 1\\n      12        3        4 1\\n      13        1        2 1\\n      14       20       33 1\\n      15       19       32 1\\n      16       17       18 1\\n      17       10       11 1\\n      18        3        2 1\\n      19        9       26 1\\n      20       16       29 1\\n      21       13       14 1\\n      22       24        4 1\\n      23       21        5 1\\n      24       12       11 1\\n      25       22        2 1\\n      26       27       14 1\\n      27        8       25 1\\n      28        6        7 1\\n      29       17       30 1\\n      30        9       10 1\\n      31        6        5 1\\n      32       15       16 1\\n      33       13       11 1\\n      34       14       15 1\\n      35       10       19 1\\n      36       22       21 1\\n      37       15       28 1\\n@<TRIPOS>SUBSTRUCTURE\\n       1 RES             1 RESIDUE    0 **** ROOT      0\\n\",\"mol2\");\n\tviewer_1601706166203506.setStyle({\"stick\": {\"radius\": 0.2, \"color\": \"grey\"}, \"sphere\": {\"scale\": 0.3, \"colorscheme\": {}}});\n\tviewer_1601706166203506.zoomTo();\nviewer_1601706166203506.render();\n});\n</script>",
      "text/html": [
       "<div id=\"3dmolviewer_1601706166203506\"  style=\"position: relative; width: 640px; height: 480px\">\n",
       "        <p id=\"3dmolwarning_1601706166203506\" style=\"background-color:#ffcccc;color:black\">You appear to be running in JupyterLab (or JavaScript failed to load for some other reason).  You need to install the 3dmol extension: <br>\n",
       "        <tt>jupyter labextension install jupyterlab_3dmol</tt></p>\n",
       "        </div>\n",
       "<script>\n",
       "\n",
       "var loadScriptAsync = function(uri){\n",
       "  return new Promise((resolve, reject) => {\n",
       "    var tag = document.createElement('script');\n",
       "    tag.src = uri;\n",
       "    tag.async = true;\n",
       "    tag.onload = () => {\n",
       "      resolve();\n",
       "    };\n",
       "  var firstScriptTag = document.getElementsByTagName('script')[0];\n",
       "  firstScriptTag.parentNode.insertBefore(tag, firstScriptTag);\n",
       "});\n",
       "};\n",
       "\n",
       "if(typeof $3Dmolpromise === 'undefined') {\n",
       "$3Dmolpromise = null;\n",
       "  $3Dmolpromise = loadScriptAsync('https://3dmol.csb.pitt.edu/build/3Dmol.js');\n",
       "}\n",
       "\n",
       "var viewer_1601706166203506 = null;\n",
       "var warn = document.getElementById(\"3dmolwarning_1601706166203506\");\n",
       "if(warn) {\n",
       "    warn.parentNode.removeChild(warn);\n",
       "}\n",
       "$3Dmolpromise.then(function() {\n",
       "viewer_1601706166203506 = $3Dmol.createViewer($(\"#3dmolviewer_1601706166203506\"),{backgroundColor:\"white\"});\n",
       "\tviewer_1601706166203506.addModel(\"@<TRIPOS>MOLECULE\\nRES\\n35 37 1 0 1\\nSMALL\\nNO_CHARGES\\n@<TRIPOS>CRYSIN\\n   14.2448    16.3859    11.4019    90.0000    90.0000    90.0000  1  1\\n@<TRIPOS>ATOM\\n       1 O            0.9476    -0.0036     0.0584 O             1 RES     \\n       2 C            2.1760     0.0267     0.0314 C             1 RES     \\n       3 C            3.0048    -1.1997     0.0867 C             1 RES     \\n       4 C            4.3482    -1.1164     0.0690 C             1 RES     \\n       5 C            5.0473     0.1624     0.0392 C             1 RES     \\n       6 O            6.4361     0.0730    -0.0027 O             1 RES     \\n       7 C            7.1791     1.2322     0.0823 C             1 RES     \\n       8 C            8.1041     1.5158    -0.9218 C             1 RES     \\n       9 C            8.8979     2.6675    -0.8300 C             1 RES     \\n      10 C            8.6930     3.5906     0.2079 C             1 RES     \\n      11 C            9.4327     4.8868     0.1828 C             1 RES     \\n      12 O           10.1924     5.1488    -0.7460 O             1 RES     \\n      13 C            9.2811     5.8916     1.2606 C             1 RES     \\n      14 C            8.9990     7.2246     0.9414 C             1 RES     \\n      15 C            9.0556     8.1967     1.9434 C             1 RES     \\n      16 C            9.3060     7.8262     3.2664 C             1 RES     \\n      17 C            9.5368     6.4900     3.5887 C             1 RES     \\n      18 C            9.5475     5.5267     2.5840 C             1 RES     \\n      19 C            7.7511     3.2984     1.1993 C             1 RES     \\n      20 C            7.0365     2.1039     1.1634 C             1 RES     \\n      21 C            4.3411     1.3054    -0.0259 C             1 RES     \\n      22 C            2.9111     1.2895    -0.1257 C             1 RES     \\n      23 H            2.4646    -2.1378     0.0929 H             1 RES     \\n      24 H            4.9411    -2.0270     0.0640 H             1 RES     \\n      25 H            8.1953     0.8645    -1.7875 H             1 RES     \\n      26 H            9.6645     2.8517    -1.5823 H             1 RES     \\n      27 H            8.7604     7.5141    -0.0800 H             1 RES     \\n      28 H            8.9353     9.2481     1.6918 H             1 RES     \\n      29 H            9.3370     8.5825     4.0469 H             1 RES     \\n      30 H            9.7490     6.2012     4.6144 H             1 RES     \\n      31 H            9.7811     4.4963     2.8367 H             1 RES     \\n      32 H            7.5395     3.9820     2.0142 H             1 RES     \\n      33 H            6.3156     1.8983     1.9500 H             1 RES     \\n      34 H            4.8028     2.2829    -0.0808 H             1 RES     \\n      35 H            2.4380     2.0538    -0.7266 H             1 RES     \\n@<TRIPOS>BOND\\n       1       23        3 1\\n       2       18       31 1\\n       3       13       18 1\\n       4       21       34 1\\n       5        7        8 1\\n       6       16       17 1\\n       7        5        4 1\\n       8        8        9 1\\n       9       22       35 1\\n      10        7       20 1\\n      11       19       20 1\\n      12        3        4 1\\n      13        1        2 1\\n      14       20       33 1\\n      15       19       32 1\\n      16       17       18 1\\n      17       10       11 1\\n      18        3        2 1\\n      19        9       26 1\\n      20       16       29 1\\n      21       13       14 1\\n      22       24        4 1\\n      23       21        5 1\\n      24       12       11 1\\n      25       22        2 1\\n      26       27       14 1\\n      27        8       25 1\\n      28        6        7 1\\n      29       17       30 1\\n      30        9       10 1\\n      31        6        5 1\\n      32       15       16 1\\n      33       13       11 1\\n      34       14       15 1\\n      35       10       19 1\\n      36       22       21 1\\n      37       15       28 1\\n@<TRIPOS>SUBSTRUCTURE\\n       1 RES             1 RESIDUE    0 **** ROOT      0\\n\",\"mol2\");\n",
       "\tviewer_1601706166203506.setStyle({\"stick\": {\"radius\": 0.2, \"color\": \"grey\"}, \"sphere\": {\"scale\": 0.3, \"colorscheme\": {}}});\n",
       "\tviewer_1601706166203506.zoomTo();\n",
       "viewer_1601706166203506.render();\n",
       "});\n",
       "</script>"
      ]
     },
     "metadata": {},
     "output_type": "display_data"
    }
   ],
   "source": [
    "comp = \"occccoccccC=O)cccccc6)))))))cc6)))))))cc6\"\n",
    "smiles_utils.viz(smiles_string=comp, deep=True)"
   ]
  },
  {
   "cell_type": "code",
   "execution_count": 9,
   "metadata": {},
   "outputs": [
    {
     "name": "stderr",
     "output_type": "stream",
     "text": [
      "/home/chris/miniconda3/envs/uli/lib/python3.7/site-packages/ipykernel/ipkernel.py:287: DeprecationWarning: `should_run_async` will not call `transform_cell` automatically in the future. Please pass the result to `transformed_cell` argument and any exception that happen during thetransform in `preprocessing_exc_tuple` in IPython 7.17 and above.\n",
      "  and should_run_async(code)\n"
     ]
    },
    {
     "ename": "NameError",
     "evalue": "name 'pekk_deep_meta' is not defined",
     "output_type": "error",
     "traceback": [
      "\u001b[0;31m------------------------------------------------------\u001b[0m",
      "\u001b[0;31mNameError\u001b[0m            Traceback (most recent call last)",
      "\u001b[0;32m<ipython-input-9-cbd1c24a3ed4>\u001b[0m in \u001b[0;36m<module>\u001b[0;34m\u001b[0m\n\u001b[0;32m----> 1\u001b[0;31m \u001b[0mpekk_meta_smiles\u001b[0m \u001b[0;34m=\u001b[0m \u001b[0msmiles_utils\u001b[0m\u001b[0;34m.\u001b[0m\u001b[0mconvert_smiles\u001b[0m\u001b[0;34m(\u001b[0m\u001b[0mdeep\u001b[0m \u001b[0;34m=\u001b[0m \u001b[0mpekk_deep_meta\u001b[0m\u001b[0;34m)\u001b[0m\u001b[0;34m\u001b[0m\u001b[0;34m\u001b[0m\u001b[0m\n\u001b[0m\u001b[1;32m      2\u001b[0m \u001b[0msmiles_utils\u001b[0m\u001b[0;34m.\u001b[0m\u001b[0mviz\u001b[0m\u001b[0;34m(\u001b[0m\u001b[0msmiles_string\u001b[0m\u001b[0;34m=\u001b[0m\u001b[0mpekk_meta_smiles\u001b[0m\u001b[0;34m,\u001b[0m \u001b[0mdeep\u001b[0m\u001b[0;34m=\u001b[0m\u001b[0;32mFalse\u001b[0m\u001b[0;34m)\u001b[0m\u001b[0;34m\u001b[0m\u001b[0;34m\u001b[0m\u001b[0m\n\u001b[1;32m      3\u001b[0m \u001b[0mprint\u001b[0m\u001b[0;34m(\u001b[0m\u001b[0mpekk_meta_smiles\u001b[0m\u001b[0;34m)\u001b[0m\u001b[0;34m\u001b[0m\u001b[0;34m\u001b[0m\u001b[0m\n",
      "\u001b[0;31mNameError\u001b[0m: name 'pekk_deep_meta' is not defined"
     ]
    }
   ],
   "source": [
    "pekk_meta_smiles = smiles_utils.convert_smiles(deep = pekk_deep_meta)\n",
    "smiles_utils.viz(smiles_string=pekk_meta_smiles, deep=False)\n",
    "print(pekk_meta_smiles)"
   ]
  },
  {
   "cell_type": "code",
   "execution_count": 5,
   "metadata": {},
   "outputs": [],
   "source": [
    "def build_system(packing='bcc'):\n",
    "    '''\n",
    "    Generate a simple LJ particle system using hoomd's create_lattice function\n",
    "    packing \n",
    "    '''\n",
    "    hoomd.context.initialize(\"\")\n",
    "    if packing == 'fcc':\n",
    "        system = hoomd.init.create_lattice(unitcell=(hoomd.lattice.fcc(a=1.58)), n=6)\n",
    "    elif packing == 'bcc':\n",
    "        system = hoomd.init.create_lattice(unitcell=(hoomd.lattice.bcc(a=1.29)), n=6)\n",
    "    hoomd.dump.gsd('{}_system.gsd'.format(packing), group = hoomd.group.all(), period=None, overwrite=True)\n",
    "    return system\n",
    "\n",
    "def hoomd_simulation(system, temp, tau):  \n",
    "    nl = hoomd.md.nlist.cell()\n",
    "    lj = hoomd.md.pair.lj(r_cut=2.5, nlist=nl)\n",
    "    lj.pair_coeff.set('A', 'A', alpha=1.0, epsilon=1.0, sigma=1.0)\n",
    "    hoomd.md.integrate.mode_standard(dt=0.001)\n",
    "    _all = hoomd.group.all()\n",
    "    nvt = hoomd.md.integrate.nvt(group=_all, kT=temp, tau=tau)\n",
    "    nvt.randomize_velocities(seed=23)\n",
    "    hoomd.analyze.log(filename='{}-tau_out.log'.format(tau),\n",
    "                      quantities=[\"time\", \"temperature\", \"potential_energy\"],\n",
    "                      period=100,\n",
    "                      overwrite=True\n",
    "                     )\n",
    "    #hoomd.dump.gsd('tau-trajectory.gsd', period=5e3, group=_all, overwrite=True)\n",
    "    hoomd.run(3e5)"
   ]
  },
  {
   "cell_type": "markdown",
   "metadata": {},
   "source": [
    "# --------------------------------------------------------\n",
    "\n",
    "PEEK:  \n",
    "1 amu = 1.66054e-24 g  \n",
    "1.32 g/cm^3  \n",
    "1.32 g/nm^3  \n",
    "C19H12O3  \n",
    "monomer_amu = 288.302  "
   ]
  },
  {
   "cell_type": "code",
   "execution_count": 6,
   "metadata": {},
   "outputs": [],
   "source": [
    "def build_peek_system(num_mols, poly_length, density):\n",
    "    '''\n",
    "    This function uses mBuild's packing functionality to create a very low dense system of molecules\n",
    "    to allow for easier packing. A short simulation is then ran using HoomD to shrink the system to the\n",
    "    desired starting density.\n",
    "    '''\n",
    "    peek_poly_smi = polysmiles.poly_smiles('occccC=O)ccccOcc*c*ccc6)))))))cc6)))))))cc6',\n",
    "                                      length=poly_length)\n",
    "    peek_poly = mb.load(peek_poly_smi, smiles=True)\n",
    "    \n",
    "    mol_amu = poly_length * 288.302\n",
    "    mol_grams = mol_amu * 1.66054e-24\n",
    "    system_mass = mol_grams * num_mols\n",
    "    edge_cm = (system_mass / density)**(1/3)\n",
    "    edge_nm = edge_cm * 1e7\n",
    "\n",
    "    init_box = mb.Box([edge_nm*5]*3)\n",
    "    print(init_box)\n",
    "    system = mb.fill_box(peek_poly, num_mols, init_box)\n",
    "    \n",
    "    gaff = Forcefield(forcefield_files='files/gaff.xml')\n",
    "    system_pmd = gaff.apply(system)\n",
    "    create_hoomd_simulation(system_pmd, r_cut=1.2, auto_scale=True)\n",
    "    forces = [f for f in hoomd.context.current.forces \n",
    "                if not isinstance(f, hoomd.md.charge.pppm)]\n",
    "    \n",
    "    hoomd.context.current.forces = forces\n",
    "    _all = hoomd.group.all()\n",
    "    hoomd.md.integrate.mode_standard(dt=0.0001)\n",
    "    integrator = hoomd.md.integrate.nvt(group=_all, kT=2.0, tau=0.1)\n",
    "    hoomd.dump.gsd(\"trajectories/start-shrink.gsd\", period=None, group=_all, overwrite=True)\n",
    "    hoomd.dump.gsd(\"trajectories/traj-shrink.gsd\", period=1e5, group=_all, phase=0, overwrite=True)\n",
    "    integrator.randomize_velocities(seed=42);\n",
    "\n",
    "    hoomd.update.box_resize(L = hoomd.variant.linear_interp([(0,edge_nm*50), (1e6,edge_nm*10)], zero=0))\n",
    "    hoomd.run(1e6)\n",
    "    gsd_restart = hoomd.dump.gsd(\"trajectories/out-shrink.gsd\", period=None, group=_all, overwrite=True)\n",
    "    gsd_restart.write_restart()"
   ]
  },
  {
   "cell_type": "code",
   "execution_count": 7,
   "metadata": {},
   "outputs": [
    {
     "name": "stdout",
     "output_type": "stream",
     "text": [
      "Box(mins=[0. 0. 0.], maxs=[23.18757104 23.18757104 23.18757104], angles=[90. 90. 90.])\n"
     ]
    },
    {
     "name": "stderr",
     "output_type": "stream",
     "text": [
      "/home/chris/cme/forks/foyer/foyer/forcefield.py:449: UserWarning: No force field version number found in force field XML file.\n",
      "  'No force field version number found in force field XML file.'\n",
      "/home/chris/cme/forks/foyer/foyer/forcefield.py:461: UserWarning: No force field name found in force field XML file.\n",
      "  'No force field name found in force field XML file.'\n",
      "/home/chris/cme/forks/foyer/foyer/validator.py:132: ValidationWarning: You have empty smart definition(s)\n",
      "  warn(\"You have empty smart definition(s)\", ValidationWarning)\n"
     ]
    },
    {
     "name": "stdout",
     "output_type": "stream",
     "text": [
      "HOOMD-blue v2.9.0-16-g08515af02 CUDA (10.1) DOUBLE HPMC_MIXED MPI SSE SSE2 SSE3 SSE4_1 SSE4_2 AVX AVX2 \n",
      "Compiled: 05/12/2020\n",
      "Copyright (c) 2009-2019 The Regents of the University of Michigan.\n",
      "-----\n",
      "You are using HOOMD-blue. Please cite the following:\n",
      "* J A Anderson, C D Lorenz, and A Travesset. \"General purpose molecular dynamics\n",
      "  simulations fully implemented on graphics processing units\", Journal of\n",
      "  Computational Physics 227 (2008) 5342--5359\n",
      "* J Glaser, T D Nguyen, J A Anderson, P Lui, F Spiga, J A Millan, D C Morse, and\n",
      "  S C Glotzer. \"Strong scaling of general-purpose molecular dynamics simulations\n",
      "  on GPUs\", Computer Physics Communications 192 (2015) 97--107\n",
      "-----\n",
      "HOOMD-blue is running on the following GPU(s):\n",
      " [0]      GeForce RTX 2070  36 SM_7.5 @ 1.44 GHz, 7982 MiB DRAM, DIS, MNG\n"
     ]
    },
    {
     "name": "stderr",
     "output_type": "stream",
     "text": [
      "/home/chris/cme/forks/foyer/foyer/forcefield.py:267: UserWarning: Parameters have not been assigned to all impropers. Total system impropers: 4750, Parameterized impropers: 3350. Note that if your system contains torsions of Ryckaert-Bellemans functional form, all of these torsions are processed as propers\n",
      "  warnings.warn(msg)\n"
     ]
    },
    {
     "name": "stdout",
     "output_type": "stream",
     "text": [
      "notice(2): Group \"all\" created containing 8550 particles\n",
      "notice(2): -- Neighborlist exclusion statistics -- :\n",
      "notice(2): Particles with 3 exclusions             : 3350\n",
      "notice(2): Particles with 6 exclusions             : 450\n",
      "notice(2): Particles with 7 exclusions             : 3350\n",
      "notice(2): Particles with 8 exclusions             : 900\n",
      "notice(2): Particles with 9 exclusions             : 500\n",
      "notice(2): Neighbors included by diameter          : no\n",
      "notice(2): Neighbors excluded when in the same body: no\n",
      "Processing LJ and QQ\n",
      "notice(2): Group \"charged\" created containing 0 particles\n",
      "No charged groups found, ignoring electrostatics\n",
      "Processing 1-4 interactions, adjusting neighborlist exclusions\n",
      "Processing harmonic bonds\n",
      "Processing harmonic angles\n",
      "Processing periodic torsions\n",
      "HOOMD SimulationContext updated from ParmEd Structure\n",
      "** starting run **\n",
      "Time 00:00:10 | Step 8002 / 1000000 | TPS 800.187 | ETA 00:20:39\n",
      "Time 00:00:20 | Step 16281 / 1000000 | TPS 827.894 | ETA 00:19:48\n",
      "Time 00:00:30 | Step 24502 / 1000000 | TPS 822.042 | ETA 00:19:46\n",
      "Time 00:00:40 | Step 32749 / 1000000 | TPS 824.637 | ETA 00:19:32\n",
      "Time 00:00:50 | Step 40970 / 1000000 | TPS 822.079 | ETA 00:19:26\n",
      "Time 00:01:00 | Step 48703 / 1000000 | TPS 773.292 | ETA 00:20:30\n",
      "Time 00:01:10 | Step 56858 / 1000000 | TPS 815.421 | ETA 00:19:16\n",
      "Time 00:01:20 | Step 65075 / 1000000 | TPS 821.67 | ETA 00:18:57\n",
      "Time 00:01:30 | Step 73259 / 1000000 | TPS 818.339 | ETA 00:18:52\n",
      "Time 00:01:40 | Step 81442 / 1000000 | TPS 818.248 | ETA 00:18:42\n",
      "Time 00:01:50 | Step 89622 / 1000000 | TPS 817.929 | ETA 00:18:33\n",
      "Time 00:02:01 | Step 96745 / 1000000 | TPS 647.332 | ETA 00:23:15\n",
      "Time 00:02:12 | Step 103615 / 1000000 | TPS 625.262 | ETA 00:23:53\n",
      "Time 00:02:22 | Step 111601 / 1000000 | TPS 796.13 | ETA 00:18:35\n",
      "Time 00:02:32 | Step 119489 / 1000000 | TPS 788.737 | ETA 00:18:36\n",
      "Time 00:02:42 | Step 127077 / 1000000 | TPS 758.752 | ETA 00:19:10\n",
      "Time 00:02:52 | Step 134889 / 1000000 | TPS 781.18 | ETA 00:18:27\n",
      "Time 00:03:02 | Step 142955 / 1000000 | TPS 806.548 | ETA 00:17:42\n",
      "Time 00:03:12 | Step 151049 / 1000000 | TPS 809.327 | ETA 00:17:28\n",
      "Time 00:03:22 | Step 159152 / 1000000 | TPS 810.251 | ETA 00:17:17\n",
      "Time 00:03:32 | Step 167285 / 1000000 | TPS 813.275 | ETA 00:17:03\n",
      "Time 00:03:42 | Step 175456 / 1000000 | TPS 817.068 | ETA 00:16:49\n",
      "Time 00:03:52 | Step 183632 / 1000000 | TPS 817.537 | ETA 00:16:38\n",
      "Time 00:04:02 | Step 191841 / 1000000 | TPS 820.813 | ETA 00:16:24\n",
      "Time 00:04:12 | Step 200064 / 1000000 | TPS 822.268 | ETA 00:16:12\n",
      "Time 00:04:22 | Step 208075 / 1000000 | TPS 801.035 | ETA 00:16:28\n",
      "Time 00:04:32 | Step 216198 / 1000000 | TPS 812.289 | ETA 00:16:04\n",
      "Time 00:04:42 | Step 224358 / 1000000 | TPS 815.952 | ETA 00:15:50\n",
      "Time 00:04:52 | Step 232554 / 1000000 | TPS 819.536 | ETA 00:15:36\n",
      "Time 00:05:02 | Step 240901 / 1000000 | TPS 822.037 | ETA 00:15:23\n",
      "Time 00:05:13 | Step 249601 / 1000000 | TPS 827.4 | ETA 00:15:06\n",
      "Time 00:05:23 | Step 258197 / 1000000 | TPS 827.818 | ETA 00:14:56\n",
      "Time 00:05:34 | Step 266875 / 1000000 | TPS 829.587 | ETA 00:14:43\n",
      "Time 00:05:44 | Step 275388 / 1000000 | TPS 825.89 | ETA 00:14:37\n",
      "Time 00:05:54 | Step 284101 / 1000000 | TPS 831.044 | ETA 00:14:21\n",
      "Time 00:06:05 | Step 292634 / 1000000 | TPS 832.318 | ETA 00:14:09\n",
      "Time 00:06:15 | Step 301431 / 1000000 | TPS 853.39 | ETA 00:13:38\n",
      "Time 00:06:25 | Step 311825 / 1000000 | TPS 1039.36 | ETA 00:11:02\n",
      "Time 00:06:35 | Step 322201 / 1000000 | TPS 1037.46 | ETA 00:10:53\n",
      "Time 00:06:45 | Step 332636 / 1000000 | TPS 1043.43 | ETA 00:10:39\n",
      "Time 00:06:55 | Step 343116 / 1000000 | TPS 1047.99 | ETA 00:10:26\n",
      "Time 00:07:05 | Step 353008 / 1000000 | TPS 988.789 | ETA 00:10:54\n",
      "Time 00:07:15 | Step 363498 / 1000000 | TPS 1048.98 | ETA 00:10:06\n",
      "Time 00:07:25 | Step 374031 / 1000000 | TPS 1053.26 | ETA 00:09:54\n",
      "Time 00:07:35 | Step 384594 / 1000000 | TPS 1056.27 | ETA 00:09:42\n",
      "Time 00:07:45 | Step 395174 / 1000000 | TPS 1057.94 | ETA 00:09:31\n",
      "Time 00:07:55 | Step 405246 / 1000000 | TPS 1007.17 | ETA 00:09:50\n",
      "Time 00:08:05 | Step 415868 / 1000000 | TPS 1062.13 | ETA 00:09:09\n",
      "Time 00:08:15 | Step 426509 / 1000000 | TPS 1064.02 | ETA 00:08:58\n",
      "Time 00:08:25 | Step 437170 / 1000000 | TPS 1066.06 | ETA 00:08:47\n",
      "Time 00:08:35 | Step 447804 / 1000000 | TPS 1063.31 | ETA 00:08:39\n",
      "Time 00:08:45 | Step 458078 / 1000000 | TPS 1027.35 | ETA 00:08:47\n",
      "Time 00:08:55 | Step 468785 / 1000000 | TPS 1070.63 | ETA 00:08:16\n",
      "Time 00:09:05 | Step 479498 / 1000000 | TPS 1071.22 | ETA 00:08:05\n",
      "Time 00:09:15 | Step 490227 / 1000000 | TPS 1072.87 | ETA 00:07:55\n",
      "Time 00:09:25 | Step 500216 / 1000000 | TPS 998.834 | ETA 00:08:20\n",
      "Time 00:09:35 | Step 510916 / 1000000 | TPS 1069.93 | ETA 00:07:37\n",
      "Time 00:09:45 | Step 521694 / 1000000 | TPS 1077.74 | ETA 00:07:23\n",
      "Time 00:09:55 | Step 532488 / 1000000 | TPS 1079.33 | ETA 00:07:13\n",
      "Time 00:10:05 | Step 542987 / 1000000 | TPS 1049.82 | ETA 00:07:15\n",
      "Time 00:10:15 | Step 553817 / 1000000 | TPS 1082.95 | ETA 00:06:52\n",
      "Time 00:10:25 | Step 564637 / 1000000 | TPS 1082 | ETA 00:06:42\n",
      "Time 00:10:35 | Step 575465 / 1000000 | TPS 1082.77 | ETA 00:06:32\n",
      "Time 00:10:45 | Step 586039 / 1000000 | TPS 1057.38 | ETA 00:06:31\n",
      "Time 00:10:55 | Step 596876 / 1000000 | TPS 1083.6 | ETA 00:06:12\n",
      "Time 00:11:05 | Step 607704 / 1000000 | TPS 1082.77 | ETA 00:06:02\n",
      "Time 00:11:15 | Step 618554 / 1000000 | TPS 1084.98 | ETA 00:05:51\n",
      "Time 00:11:25 | Step 629244 / 1000000 | TPS 1068.95 | ETA 00:05:46\n",
      "Time 00:11:35 | Step 640130 / 1000000 | TPS 1088.54 | ETA 00:05:30\n",
      "Time 00:11:45 | Step 651030 / 1000000 | TPS 1089.99 | ETA 00:05:20\n",
      "Time 00:11:55 | Step 661945 / 1000000 | TPS 1091.45 | ETA 00:05:09\n",
      "Time 00:12:05 | Step 672706 / 1000000 | TPS 1076.04 | ETA 00:05:04\n",
      "Time 00:12:15 | Step 683643 / 1000000 | TPS 1093.69 | ETA 00:04:49\n",
      "Time 00:12:25 | Step 694588 / 1000000 | TPS 1094.4 | ETA 00:04:39\n",
      "Time 00:12:35 | Step 705494 / 1000000 | TPS 1090.5 | ETA 00:04:30\n",
      "Time 00:12:45 | Step 716345 / 1000000 | TPS 1085.04 | ETA 00:04:21\n",
      "Time 00:12:55 | Step 727339 / 1000000 | TPS 1099.32 | ETA 00:04:08\n",
      "Time 00:13:05 | Step 738340 / 1000000 | TPS 1100.09 | ETA 00:03:57\n",
      "Time 00:13:15 | Step 749345 / 1000000 | TPS 1100.49 | ETA 00:03:47\n",
      "Time 00:13:25 | Step 760246 / 1000000 | TPS 1090.03 | ETA 00:03:39\n",
      "Time 00:13:35 | Step 771252 / 1000000 | TPS 1100.54 | ETA 00:03:27\n",
      "Time 00:13:45 | Step 782201 / 1000000 | TPS 1094.9 | ETA 00:03:18\n",
      "Time 00:13:55 | Step 793119 / 1000000 | TPS 1091.79 | ETA 00:03:09\n",
      "Time 00:14:05 | Step 804122 / 1000000 | TPS 1100.24 | ETA 00:02:58\n",
      "Time 00:14:15 | Step 815154 / 1000000 | TPS 1103.19 | ETA 00:02:47\n",
      "Time 00:14:25 | Step 826184 / 1000000 | TPS 1102.9 | ETA 00:02:37\n",
      "Time 00:14:35 | Step 837151 / 1000000 | TPS 1096.62 | ETA 00:02:28\n",
      "Time 00:14:45 | Step 848195 / 1000000 | TPS 1104.3 | ETA 00:02:17\n",
      "Time 00:14:55 | Step 859241 / 1000000 | TPS 1104.58 | ETA 00:02:07\n",
      "Time 00:15:05 | Step 870296 / 1000000 | TPS 1105.43 | ETA 00:01:57\n",
      "Time 00:15:15 | Step 881300 / 1000000 | TPS 1100.31 | ETA 00:01:47\n",
      "Time 00:15:25 | Step 892359 / 1000000 | TPS 1105.87 | ETA 00:01:37\n",
      "Time 00:15:35 | Step 903412 / 1000000 | TPS 1105.29 | ETA 00:01:27\n",
      "Time 00:15:45 | Step 914451 / 1000000 | TPS 1103.87 | ETA 00:01:17\n",
      "Time 00:15:55 | Step 925524 / 1000000 | TPS 1107.27 | ETA 00:01:07\n",
      "Time 00:16:05 | Step 936600 / 1000000 | TPS 1107.6 | ETA 00:00:57\n",
      "Time 00:16:15 | Step 947661 / 1000000 | TPS 1106.08 | ETA 00:00:47\n",
      "Time 00:16:25 | Step 958701 / 1000000 | TPS 1103.92 | ETA 00:00:37\n",
      "Time 00:16:35 | Step 969753 / 1000000 | TPS 1105.11 | ETA 00:00:27\n",
      "Time 00:16:45 | Step 980809 / 1000000 | TPS 1105.57 | ETA 00:00:17\n",
      "Time 00:16:55 | Step 991871 / 1000000 | TPS 1106.19 | ETA 00:00:07\n",
      "Time 00:17:02 | Step 1000000 / 1000000 | TPS 1107.16 | ETA 00:00:00\n",
      "Average TPS: 978.207\n",
      "---------\n",
      "-- Neighborlist stats:\n",
      "3511 normal updates / 3334 forced updates / 0 dangerous updates\n",
      "n_neigh_min: 5 / n_neigh_max: 37 / n_neigh_avg: 15.5371\n",
      "shortest rebuild period: 4\n",
      "-- Cell list stats:\n",
      "Dimension: 28, 28, 28\n",
      "n_min    : 0 / n_max: 16 / n_avg: 0.389486\n",
      "** run complete **\n"
     ]
    }
   ],
   "source": [
    "build_peek_system(num_mols=50, poly_length=5, density=1.2)"
   ]
  },
  {
   "cell_type": "code",
   "execution_count": 10,
   "metadata": {},
   "outputs": [
    {
     "name": "stdout",
     "output_type": "stream",
     "text": [
      "3.0\n"
     ]
    }
   ],
   "source": [
    "a = 27**(1/3)\n",
    "print(a)"
   ]
  },
  {
   "cell_type": "code",
   "execution_count": null,
   "metadata": {},
   "outputs": [],
   "source": []
  },
  {
   "cell_type": "code",
   "execution_count": 3,
   "metadata": {},
   "outputs": [
    {
     "ename": "NameError",
     "evalue": "name 'polysmiles' is not defined",
     "output_type": "error",
     "traceback": [
      "\u001b[0;31m---------------------------------------------------------------------------\u001b[0m",
      "\u001b[0;31mNameError\u001b[0m                                 Traceback (most recent call last)",
      "\u001b[0;32m<ipython-input-3-87d2c7d68a89>\u001b[0m in \u001b[0;36m<module>\u001b[0;34m\u001b[0m\n\u001b[1;32m      1\u001b[0m \u001b[0mpoly_length\u001b[0m \u001b[0;34m=\u001b[0m \u001b[0;36m2\u001b[0m\u001b[0;34m\u001b[0m\u001b[0;34m\u001b[0m\u001b[0m\n\u001b[0;32m----> 2\u001b[0;31m peek_poly_smi = polysmiles.poly_smiles('occccC=O)ccccOcc*c*ccc6)))))))cc6)))))))cc6',\n\u001b[0m\u001b[1;32m      3\u001b[0m                                   length=poly_length)\n\u001b[1;32m      4\u001b[0m \u001b[0mpeek_poly\u001b[0m \u001b[0;34m=\u001b[0m \u001b[0mmb\u001b[0m\u001b[0;34m.\u001b[0m\u001b[0mload\u001b[0m\u001b[0;34m(\u001b[0m\u001b[0mpeek_poly_smi\u001b[0m\u001b[0;34m,\u001b[0m \u001b[0msmiles\u001b[0m\u001b[0;34m=\u001b[0m\u001b[0;32mTrue\u001b[0m\u001b[0;34m)\u001b[0m\u001b[0;34m\u001b[0m\u001b[0;34m\u001b[0m\u001b[0m\n",
      "\u001b[0;31mNameError\u001b[0m: name 'polysmiles' is not defined"
     ]
    }
   ],
   "source": [
    "poly_length = 2\n",
    "peek_poly_smi = polysmiles.poly_smiles('occccC=O)ccccOcc*c*ccc6)))))))cc6)))))))cc6',\n",
    "                                  length=poly_length)\n",
    "peek_poly = mb.load(peek_poly_smi, smiles=True)"
   ]
  },
  {
   "cell_type": "code",
   "execution_count": null,
   "metadata": {},
   "outputs": [],
   "source": []
  },
  {
   "cell_type": "code",
   "execution_count": null,
   "metadata": {},
   "outputs": [],
   "source": []
  },
  {
   "cell_type": "code",
   "execution_count": null,
   "metadata": {},
   "outputs": [],
   "source": []
  },
  {
   "cell_type": "code",
   "execution_count": 3,
   "metadata": {},
   "outputs": [
    {
     "name": "stderr",
     "output_type": "stream",
     "text": [
      "/home/chris/cme/forks/foyer/foyer/forcefield.py:449: UserWarning: No force field version number found in force field XML file.\n",
      "  'No force field version number found in force field XML file.'\n",
      "/home/chris/cme/forks/foyer/foyer/forcefield.py:461: UserWarning: No force field name found in force field XML file.\n",
      "  'No force field name found in force field XML file.'\n",
      "/home/chris/cme/forks/foyer/foyer/validator.py:132: ValidationWarning: You have empty smart definition(s)\n",
      "  warn(\"You have empty smart definition(s)\", ValidationWarning)\n"
     ]
    }
   ],
   "source": [
    "opls = Forcefield(name='oplsaa')\n",
    "gaff = Forcefield(forcefield_files='files/gaff.xml')\n",
    "peek = 'oc1ccc(C(=O)c2ccc(Oc3ccccc3)cc2)cc1'\n",
    "peek_deep = smiles_utils.convert_smiles(smiles=peek)\n",
    "mb.load(peek, smiles=True).visualize()\n",
    "peek_poly_smi = polysmiles.poly_smiles('occccC=O)ccccOcc*c*ccc6)))))))cc6)))))))cc6',\n",
    "                                      length=5)\n",
    "peek_poly = mb.load(peek_poly_smi, smiles=True)\n"
   ]
  }
 ],
 "metadata": {
  "kernelspec": {
   "display_name": "Python 3",
   "language": "python",
   "name": "python3"
  },
  "language_info": {
   "codemirror_mode": {
    "name": "ipython",
    "version": 3
   },
   "file_extension": ".py",
   "mimetype": "text/x-python",
   "name": "python",
   "nbconvert_exporter": "python",
   "pygments_lexer": "ipython3",
   "version": "3.7.8"
  }
 },
 "nbformat": 4,
 "nbformat_minor": 4
}
