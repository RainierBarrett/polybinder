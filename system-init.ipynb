{
 "cells": [
  {
   "cell_type": "code",
   "execution_count": 4,
   "metadata": {},
   "outputs": [],
   "source": [
    "import hoomd\n",
    "import mbuild as mb\n",
    "from mbuild.formats.hoomd_simulation import create_hoomd_simulation\n",
    "import foyer\n",
    "from foyer import Forcefield\n",
    "import smiles_utils\n",
    "import polysmiles"
   ]
  },
  {
   "cell_type": "code",
   "execution_count": 5,
   "metadata": {},
   "outputs": [],
   "source": [
    "def build_system(packing='bcc'):\n",
    "    '''\n",
    "    Generate a simple LJ particle system using hoomd's create_lattice function\n",
    "    packing \n",
    "    '''\n",
    "    hoomd.context.initialize(\"\")\n",
    "    if packing == 'fcc':\n",
    "        system = hoomd.init.create_lattice(unitcell=(hoomd.lattice.fcc(a=1.58)), n=6)\n",
    "    elif packing == 'bcc':\n",
    "        system = hoomd.init.create_lattice(unitcell=(hoomd.lattice.bcc(a=1.29)), n=6)\n",
    "    hoomd.dump.gsd('{}_system.gsd'.format(packing), group = hoomd.group.all(), period=None, overwrite=True)\n",
    "    return system\n",
    "\n",
    "def hoomd_simulation(system, temp, tau):  \n",
    "    nl = hoomd.md.nlist.cell()\n",
    "    lj = hoomd.md.pair.lj(r_cut=2.5, nlist=nl)\n",
    "    lj.pair_coeff.set('A', 'A', alpha=1.0, epsilon=1.0, sigma=1.0)\n",
    "    hoomd.md.integrate.mode_standard(dt=0.001)\n",
    "    _all = hoomd.group.all()\n",
    "    nvt = hoomd.md.integrate.nvt(group=_all, kT=temp, tau=tau)\n",
    "    nvt.randomize_velocities(seed=23)\n",
    "    hoomd.analyze.log(filename='{}-tau_out.log'.format(tau),\n",
    "                      quantities=[\"time\", \"temperature\", \"potential_energy\"],\n",
    "                      period=100,\n",
    "                      overwrite=True\n",
    "                     )\n",
    "    #hoomd.dump.gsd('tau-trajectory.gsd', period=5e3, group=_all, overwrite=True)\n",
    "    hoomd.run(3e5)"
   ]
  },
  {
   "cell_type": "code",
   "execution_count": null,
   "metadata": {},
   "outputs": [],
   "source": []
  },
  {
   "cell_type": "markdown",
   "metadata": {},
   "source": [
    "# --------------------------------------------------------\n",
    "\n",
    "PEEK:  \n",
    "1 amu = 1.66054e-24 g  \n",
    "1.32 g/cm^3  \n",
    "1.32 g/nm^3  \n",
    "C19H12O3  \n",
    "monomer_amu = 288.302  "
   ]
  },
  {
   "cell_type": "code",
   "execution_count": 6,
   "metadata": {},
   "outputs": [],
   "source": [
    "def build_peek_system(num_mols, poly_length, density):\n",
    "    peek_poly_smi = polysmiles.poly_smiles('occccC=O)ccccOcc*c*ccc6)))))))cc6)))))))cc6',\n",
    "                                      length=poly_length)\n",
    "    peek_poly = mb.load(peek_poly_smi, smiles=True)\n",
    "    \n",
    "    mol_amu = poly_length * 288.302\n",
    "    mol_grams = mol_amu * 1.66054e-24\n",
    "    system_mass = mol_grams * num_mols\n",
    "    edge_cm = (system_mass / density)**(1/3)\n",
    "    edge_nm = edge_cm * 1e7\n",
    "\n",
    "    init_box = mb.Box([edge_nm*5]*3)\n",
    "    print(init_box)\n",
    "    system = mb.fill_box(peek_poly, num_mols, init_box)\n",
    "    \n",
    "    gaff = Forcefield(forcefield_files='files/gaff.xml')\n",
    "    system_pmd = gaff.apply(system)\n",
    "    create_hoomd_simulation(system_pmd, r_cut=1.2, auto_scale=True)\n",
    "    forces = [f for f in hoomd.context.current.forces \n",
    "                if not isinstance(f, hoomd.md.charge.pppm)]\n",
    "    \n",
    "    hoomd.context.current.forces = forces\n",
    "    _all = hoomd.group.all()\n",
    "    hoomd.md.integrate.mode_standard(dt=0.0001)\n",
    "    integrator = hoomd.md.integrate.nvt(group=_all, kT=2.0, tau=0.1)\n",
    "    hoomd.dump.gsd(\"trajectories/start-shrink.gsd\", period=None, group=_all, overwrite=True)\n",
    "    hoomd.dump.gsd(\"trajectories/traj-shrink.gsd\", period=1e5, group=_all, phase=0, overwrite=True)\n",
    "    integrator.randomize_velocities(seed=42);\n",
    "\n",
    "    hoomd.update.box_resize(L = hoomd.variant.linear_interp([(0,edge_nm*50), (1e6,edge_nm*10)], zero=0))\n",
    "    hoomd.run(1e6)\n",
    "    gsd_restart = hoomd.dump.gsd(\"trajectories/out-shrink.gsd\", period=None, group=_all, overwrite=True)\n",
    "    gsd_restart.write_restart()"
   ]
  },
  {
   "cell_type": "code",
   "execution_count": 7,
   "metadata": {},
   "outputs": [
    {
     "name": "stdout",
     "output_type": "stream",
     "text": [
      "Box(mins=[0. 0. 0.], maxs=[23.18757104 23.18757104 23.18757104], angles=[90. 90. 90.])\n"
     ]
    },
    {
     "name": "stderr",
     "output_type": "stream",
     "text": [
      "/home/chris/cme/forks/foyer/foyer/forcefield.py:449: UserWarning: No force field version number found in force field XML file.\n",
      "  'No force field version number found in force field XML file.'\n",
      "/home/chris/cme/forks/foyer/foyer/forcefield.py:461: UserWarning: No force field name found in force field XML file.\n",
      "  'No force field name found in force field XML file.'\n",
      "/home/chris/cme/forks/foyer/foyer/validator.py:132: ValidationWarning: You have empty smart definition(s)\n",
      "  warn(\"You have empty smart definition(s)\", ValidationWarning)\n"
     ]
    },
    {
     "name": "stdout",
     "output_type": "stream",
     "text": [
      "HOOMD-blue v2.9.0-16-g08515af02 CUDA (10.1) DOUBLE HPMC_MIXED MPI SSE SSE2 SSE3 SSE4_1 SSE4_2 AVX AVX2 \n",
      "Compiled: 05/12/2020\n",
      "Copyright (c) 2009-2019 The Regents of the University of Michigan.\n",
      "-----\n",
      "You are using HOOMD-blue. Please cite the following:\n",
      "* J A Anderson, C D Lorenz, and A Travesset. \"General purpose molecular dynamics\n",
      "  simulations fully implemented on graphics processing units\", Journal of\n",
      "  Computational Physics 227 (2008) 5342--5359\n",
      "* J Glaser, T D Nguyen, J A Anderson, P Lui, F Spiga, J A Millan, D C Morse, and\n",
      "  S C Glotzer. \"Strong scaling of general-purpose molecular dynamics simulations\n",
      "  on GPUs\", Computer Physics Communications 192 (2015) 97--107\n",
      "-----\n",
      "HOOMD-blue is running on the following GPU(s):\n",
      " [0]      GeForce RTX 2070  36 SM_7.5 @ 1.44 GHz, 7982 MiB DRAM, DIS, MNG\n"
     ]
    },
    {
     "name": "stderr",
     "output_type": "stream",
     "text": [
      "/home/chris/cme/forks/foyer/foyer/forcefield.py:267: UserWarning: Parameters have not been assigned to all impropers. Total system impropers: 4750, Parameterized impropers: 3350. Note that if your system contains torsions of Ryckaert-Bellemans functional form, all of these torsions are processed as propers\n",
      "  warnings.warn(msg)\n"
     ]
    },
    {
     "name": "stdout",
     "output_type": "stream",
     "text": [
      "notice(2): Group \"all\" created containing 8550 particles\n",
      "notice(2): -- Neighborlist exclusion statistics -- :\n",
      "notice(2): Particles with 3 exclusions             : 3350\n",
      "notice(2): Particles with 6 exclusions             : 450\n",
      "notice(2): Particles with 7 exclusions             : 3350\n",
      "notice(2): Particles with 8 exclusions             : 900\n",
      "notice(2): Particles with 9 exclusions             : 500\n",
      "notice(2): Neighbors included by diameter          : no\n",
      "notice(2): Neighbors excluded when in the same body: no\n",
      "Processing LJ and QQ\n",
      "notice(2): Group \"charged\" created containing 0 particles\n",
      "No charged groups found, ignoring electrostatics\n",
      "Processing 1-4 interactions, adjusting neighborlist exclusions\n",
      "Processing harmonic bonds\n",
      "Processing harmonic angles\n",
      "Processing periodic torsions\n",
      "HOOMD SimulationContext updated from ParmEd Structure\n",
      "** starting run **\n",
      "Time 00:00:10 | Step 8002 / 1000000 | TPS 800.187 | ETA 00:20:39\n",
      "Time 00:00:20 | Step 16281 / 1000000 | TPS 827.894 | ETA 00:19:48\n",
      "Time 00:00:30 | Step 24502 / 1000000 | TPS 822.042 | ETA 00:19:46\n",
      "Time 00:00:40 | Step 32749 / 1000000 | TPS 824.637 | ETA 00:19:32\n",
      "Time 00:00:50 | Step 40970 / 1000000 | TPS 822.079 | ETA 00:19:26\n",
      "Time 00:01:00 | Step 48703 / 1000000 | TPS 773.292 | ETA 00:20:30\n",
      "Time 00:01:10 | Step 56858 / 1000000 | TPS 815.421 | ETA 00:19:16\n",
      "Time 00:01:20 | Step 65075 / 1000000 | TPS 821.67 | ETA 00:18:57\n",
      "Time 00:01:30 | Step 73259 / 1000000 | TPS 818.339 | ETA 00:18:52\n",
      "Time 00:01:40 | Step 81442 / 1000000 | TPS 818.248 | ETA 00:18:42\n",
      "Time 00:01:50 | Step 89622 / 1000000 | TPS 817.929 | ETA 00:18:33\n",
      "Time 00:02:01 | Step 96745 / 1000000 | TPS 647.332 | ETA 00:23:15\n",
      "Time 00:02:12 | Step 103615 / 1000000 | TPS 625.262 | ETA 00:23:53\n",
      "Time 00:02:22 | Step 111601 / 1000000 | TPS 796.13 | ETA 00:18:35\n",
      "Time 00:02:32 | Step 119489 / 1000000 | TPS 788.737 | ETA 00:18:36\n",
      "Time 00:02:42 | Step 127077 / 1000000 | TPS 758.752 | ETA 00:19:10\n",
      "Time 00:02:52 | Step 134889 / 1000000 | TPS 781.18 | ETA 00:18:27\n",
      "Time 00:03:02 | Step 142955 / 1000000 | TPS 806.548 | ETA 00:17:42\n",
      "Time 00:03:12 | Step 151049 / 1000000 | TPS 809.327 | ETA 00:17:28\n",
      "Time 00:03:22 | Step 159152 / 1000000 | TPS 810.251 | ETA 00:17:17\n",
      "Time 00:03:32 | Step 167285 / 1000000 | TPS 813.275 | ETA 00:17:03\n",
      "Time 00:03:42 | Step 175456 / 1000000 | TPS 817.068 | ETA 00:16:49\n",
      "Time 00:03:52 | Step 183632 / 1000000 | TPS 817.537 | ETA 00:16:38\n",
      "Time 00:04:02 | Step 191841 / 1000000 | TPS 820.813 | ETA 00:16:24\n",
      "Time 00:04:12 | Step 200064 / 1000000 | TPS 822.268 | ETA 00:16:12\n",
      "Time 00:04:22 | Step 208075 / 1000000 | TPS 801.035 | ETA 00:16:28\n",
      "Time 00:04:32 | Step 216198 / 1000000 | TPS 812.289 | ETA 00:16:04\n",
      "Time 00:04:42 | Step 224358 / 1000000 | TPS 815.952 | ETA 00:15:50\n",
      "Time 00:04:52 | Step 232554 / 1000000 | TPS 819.536 | ETA 00:15:36\n",
      "Time 00:05:02 | Step 240901 / 1000000 | TPS 822.037 | ETA 00:15:23\n",
      "Time 00:05:13 | Step 249601 / 1000000 | TPS 827.4 | ETA 00:15:06\n",
      "Time 00:05:23 | Step 258197 / 1000000 | TPS 827.818 | ETA 00:14:56\n",
      "Time 00:05:34 | Step 266875 / 1000000 | TPS 829.587 | ETA 00:14:43\n",
      "Time 00:05:44 | Step 275388 / 1000000 | TPS 825.89 | ETA 00:14:37\n",
      "Time 00:05:54 | Step 284101 / 1000000 | TPS 831.044 | ETA 00:14:21\n",
      "Time 00:06:05 | Step 292634 / 1000000 | TPS 832.318 | ETA 00:14:09\n",
      "Time 00:06:15 | Step 301431 / 1000000 | TPS 853.39 | ETA 00:13:38\n",
      "Time 00:06:25 | Step 311825 / 1000000 | TPS 1039.36 | ETA 00:11:02\n",
      "Time 00:06:35 | Step 322201 / 1000000 | TPS 1037.46 | ETA 00:10:53\n",
      "Time 00:06:45 | Step 332636 / 1000000 | TPS 1043.43 | ETA 00:10:39\n",
      "Time 00:06:55 | Step 343116 / 1000000 | TPS 1047.99 | ETA 00:10:26\n",
      "Time 00:07:05 | Step 353008 / 1000000 | TPS 988.789 | ETA 00:10:54\n",
      "Time 00:07:15 | Step 363498 / 1000000 | TPS 1048.98 | ETA 00:10:06\n",
      "Time 00:07:25 | Step 374031 / 1000000 | TPS 1053.26 | ETA 00:09:54\n",
      "Time 00:07:35 | Step 384594 / 1000000 | TPS 1056.27 | ETA 00:09:42\n",
      "Time 00:07:45 | Step 395174 / 1000000 | TPS 1057.94 | ETA 00:09:31\n",
      "Time 00:07:55 | Step 405246 / 1000000 | TPS 1007.17 | ETA 00:09:50\n",
      "Time 00:08:05 | Step 415868 / 1000000 | TPS 1062.13 | ETA 00:09:09\n",
      "Time 00:08:15 | Step 426509 / 1000000 | TPS 1064.02 | ETA 00:08:58\n",
      "Time 00:08:25 | Step 437170 / 1000000 | TPS 1066.06 | ETA 00:08:47\n",
      "Time 00:08:35 | Step 447804 / 1000000 | TPS 1063.31 | ETA 00:08:39\n",
      "Time 00:08:45 | Step 458078 / 1000000 | TPS 1027.35 | ETA 00:08:47\n",
      "Time 00:08:55 | Step 468785 / 1000000 | TPS 1070.63 | ETA 00:08:16\n",
      "Time 00:09:05 | Step 479498 / 1000000 | TPS 1071.22 | ETA 00:08:05\n",
      "Time 00:09:15 | Step 490227 / 1000000 | TPS 1072.87 | ETA 00:07:55\n",
      "Time 00:09:25 | Step 500216 / 1000000 | TPS 998.834 | ETA 00:08:20\n",
      "Time 00:09:35 | Step 510916 / 1000000 | TPS 1069.93 | ETA 00:07:37\n",
      "Time 00:09:45 | Step 521694 / 1000000 | TPS 1077.74 | ETA 00:07:23\n",
      "Time 00:09:55 | Step 532488 / 1000000 | TPS 1079.33 | ETA 00:07:13\n",
      "Time 00:10:05 | Step 542987 / 1000000 | TPS 1049.82 | ETA 00:07:15\n",
      "Time 00:10:15 | Step 553817 / 1000000 | TPS 1082.95 | ETA 00:06:52\n",
      "Time 00:10:25 | Step 564637 / 1000000 | TPS 1082 | ETA 00:06:42\n",
      "Time 00:10:35 | Step 575465 / 1000000 | TPS 1082.77 | ETA 00:06:32\n",
      "Time 00:10:45 | Step 586039 / 1000000 | TPS 1057.38 | ETA 00:06:31\n",
      "Time 00:10:55 | Step 596876 / 1000000 | TPS 1083.6 | ETA 00:06:12\n",
      "Time 00:11:05 | Step 607704 / 1000000 | TPS 1082.77 | ETA 00:06:02\n",
      "Time 00:11:15 | Step 618554 / 1000000 | TPS 1084.98 | ETA 00:05:51\n",
      "Time 00:11:25 | Step 629244 / 1000000 | TPS 1068.95 | ETA 00:05:46\n",
      "Time 00:11:35 | Step 640130 / 1000000 | TPS 1088.54 | ETA 00:05:30\n",
      "Time 00:11:45 | Step 651030 / 1000000 | TPS 1089.99 | ETA 00:05:20\n",
      "Time 00:11:55 | Step 661945 / 1000000 | TPS 1091.45 | ETA 00:05:09\n",
      "Time 00:12:05 | Step 672706 / 1000000 | TPS 1076.04 | ETA 00:05:04\n",
      "Time 00:12:15 | Step 683643 / 1000000 | TPS 1093.69 | ETA 00:04:49\n",
      "Time 00:12:25 | Step 694588 / 1000000 | TPS 1094.4 | ETA 00:04:39\n",
      "Time 00:12:35 | Step 705494 / 1000000 | TPS 1090.5 | ETA 00:04:30\n",
      "Time 00:12:45 | Step 716345 / 1000000 | TPS 1085.04 | ETA 00:04:21\n",
      "Time 00:12:55 | Step 727339 / 1000000 | TPS 1099.32 | ETA 00:04:08\n",
      "Time 00:13:05 | Step 738340 / 1000000 | TPS 1100.09 | ETA 00:03:57\n",
      "Time 00:13:15 | Step 749345 / 1000000 | TPS 1100.49 | ETA 00:03:47\n",
      "Time 00:13:25 | Step 760246 / 1000000 | TPS 1090.03 | ETA 00:03:39\n",
      "Time 00:13:35 | Step 771252 / 1000000 | TPS 1100.54 | ETA 00:03:27\n",
      "Time 00:13:45 | Step 782201 / 1000000 | TPS 1094.9 | ETA 00:03:18\n",
      "Time 00:13:55 | Step 793119 / 1000000 | TPS 1091.79 | ETA 00:03:09\n",
      "Time 00:14:05 | Step 804122 / 1000000 | TPS 1100.24 | ETA 00:02:58\n",
      "Time 00:14:15 | Step 815154 / 1000000 | TPS 1103.19 | ETA 00:02:47\n",
      "Time 00:14:25 | Step 826184 / 1000000 | TPS 1102.9 | ETA 00:02:37\n",
      "Time 00:14:35 | Step 837151 / 1000000 | TPS 1096.62 | ETA 00:02:28\n",
      "Time 00:14:45 | Step 848195 / 1000000 | TPS 1104.3 | ETA 00:02:17\n",
      "Time 00:14:55 | Step 859241 / 1000000 | TPS 1104.58 | ETA 00:02:07\n",
      "Time 00:15:05 | Step 870296 / 1000000 | TPS 1105.43 | ETA 00:01:57\n",
      "Time 00:15:15 | Step 881300 / 1000000 | TPS 1100.31 | ETA 00:01:47\n",
      "Time 00:15:25 | Step 892359 / 1000000 | TPS 1105.87 | ETA 00:01:37\n",
      "Time 00:15:35 | Step 903412 / 1000000 | TPS 1105.29 | ETA 00:01:27\n",
      "Time 00:15:45 | Step 914451 / 1000000 | TPS 1103.87 | ETA 00:01:17\n",
      "Time 00:15:55 | Step 925524 / 1000000 | TPS 1107.27 | ETA 00:01:07\n",
      "Time 00:16:05 | Step 936600 / 1000000 | TPS 1107.6 | ETA 00:00:57\n",
      "Time 00:16:15 | Step 947661 / 1000000 | TPS 1106.08 | ETA 00:00:47\n",
      "Time 00:16:25 | Step 958701 / 1000000 | TPS 1103.92 | ETA 00:00:37\n",
      "Time 00:16:35 | Step 969753 / 1000000 | TPS 1105.11 | ETA 00:00:27\n",
      "Time 00:16:45 | Step 980809 / 1000000 | TPS 1105.57 | ETA 00:00:17\n",
      "Time 00:16:55 | Step 991871 / 1000000 | TPS 1106.19 | ETA 00:00:07\n",
      "Time 00:17:02 | Step 1000000 / 1000000 | TPS 1107.16 | ETA 00:00:00\n",
      "Average TPS: 978.207\n",
      "---------\n",
      "-- Neighborlist stats:\n",
      "3511 normal updates / 3334 forced updates / 0 dangerous updates\n",
      "n_neigh_min: 5 / n_neigh_max: 37 / n_neigh_avg: 15.5371\n",
      "shortest rebuild period: 4\n",
      "-- Cell list stats:\n",
      "Dimension: 28, 28, 28\n",
      "n_min    : 0 / n_max: 16 / n_avg: 0.389486\n",
      "** run complete **\n"
     ]
    }
   ],
   "source": [
    "build_peek_system(num_mols=50, poly_length=5, density=1.2)"
   ]
  },
  {
   "cell_type": "code",
   "execution_count": 10,
   "metadata": {},
   "outputs": [
    {
     "name": "stdout",
     "output_type": "stream",
     "text": [
      "3.0\n"
     ]
    }
   ],
   "source": [
    "a = 27**(1/3)\n",
    "print(a)"
   ]
  },
  {
   "cell_type": "code",
   "execution_count": 1,
   "metadata": {},
   "outputs": [],
   "source": [
    "C_amu = 12.011\n",
    "H_amu = 1.008\n",
    "O_amu = 15.999"
   ]
  },
  {
   "cell_type": "code",
   "execution_count": 2,
   "metadata": {},
   "outputs": [
    {
     "name": "stdout",
     "output_type": "stream",
     "text": [
      "288.30199999999996\n"
     ]
    }
   ],
   "source": [
    "PEEK_amu = 19*C_amu + 12*H_amu + 3*O_amu\n",
    "print(PEEK_amu)"
   ]
  },
  {
   "cell_type": "code",
   "execution_count": 3,
   "metadata": {},
   "outputs": [
    {
     "name": "stderr",
     "output_type": "stream",
     "text": [
      "/home/chris/cme/forks/foyer/foyer/forcefield.py:449: UserWarning: No force field version number found in force field XML file.\n",
      "  'No force field version number found in force field XML file.'\n",
      "/home/chris/cme/forks/foyer/foyer/forcefield.py:461: UserWarning: No force field name found in force field XML file.\n",
      "  'No force field name found in force field XML file.'\n",
      "/home/chris/cme/forks/foyer/foyer/validator.py:132: ValidationWarning: You have empty smart definition(s)\n",
      "  warn(\"You have empty smart definition(s)\", ValidationWarning)\n"
     ]
    }
   ],
   "source": [
    "opls = Forcefield(name='oplsaa')\n",
    "gaff = Forcefield(forcefield_files='files/gaff.xml')\n",
    "peek = 'oc1ccc(C(=O)c2ccc(Oc3ccccc3)cc2)cc1'\n",
    "peek_deep = smiles_utils.convert_smiles(smiles=peek)\n",
    "mb.load(peek, smiles=True).visualize()\n",
    "peek_poly_smi = polysmiles.poly_smiles('occccC=O)ccccOcc*c*ccc6)))))))cc6)))))))cc6',\n",
    "                                      length=5)\n",
    "peek_poly = mb.load(peek_poly_smi, smiles=True)\n"
   ]
  }
 ],
 "metadata": {
  "kernelspec": {
   "display_name": "Python 3",
   "language": "python",
   "name": "python3"
  },
  "language_info": {
   "codemirror_mode": {
    "name": "ipython",
    "version": 3
   },
   "file_extension": ".py",
   "mimetype": "text/x-python",
   "name": "python",
   "nbconvert_exporter": "python",
   "pygments_lexer": "ipython3",
   "version": "3.7.7"
  }
 },
 "nbformat": 4,
 "nbformat_minor": 4
}
